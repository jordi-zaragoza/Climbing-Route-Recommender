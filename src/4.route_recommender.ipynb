{
 "cells": [
  {
   "cell_type": "code",
   "execution_count": 4,
   "id": "76072b57",
   "metadata": {},
   "outputs": [],
   "source": [
    "import pandas as pd\n",
    "import numpy as np\n",
    "from lib import climb_jor, climber_class, grades_class"
   ]
  },
  {
   "cell_type": "markdown",
   "id": "internal-blackberry",
   "metadata": {},
   "source": [
    "# Route recommender"
   ]
  },
  {
   "cell_type": "markdown",
   "id": "essential-integer",
   "metadata": {},
   "source": [
    "In this notebook will perform the route recommending based on the user features"
   ]
  },
  {
   "cell_type": "markdown",
   "id": "b50c7b1f",
   "metadata": {},
   "source": [
    "### We have 3 types of data:\n",
    "- Independent features (clustered)\n",
    "- How good the route is (the higher the better)\n",
    "- `Grade, Location, heigh (defined by user)` => <b>In this notebook we will work on this one"
   ]
  },
  {
   "cell_type": "markdown",
   "id": "ba6f47c9",
   "metadata": {},
   "source": [
    "### Create the user from climber class"
   ]
  },
  {
   "cell_type": "code",
   "execution_count": 5,
   "id": "52da7585",
   "metadata": {},
   "outputs": [
    {
     "name": "stdout",
     "output_type": "stream",
     "text": [
      "Climber class initialized\n",
      "Climber class initialized\n"
     ]
    },
    {
     "data": {
      "text/html": [
       "<div>\n",
       "<style scoped>\n",
       "    .dataframe tbody tr th:only-of-type {\n",
       "        vertical-align: middle;\n",
       "    }\n",
       "\n",
       "    .dataframe tbody tr th {\n",
       "        vertical-align: top;\n",
       "    }\n",
       "\n",
       "    .dataframe thead th {\n",
       "        text-align: right;\n",
       "    }\n",
       "</style>\n",
       "<table border=\"1\" class=\"dataframe\">\n",
       "  <thead>\n",
       "    <tr style=\"text-align: right;\">\n",
       "      <th></th>\n",
       "      <th>climber_id</th>\n",
       "      <th>name</th>\n",
       "      <th>ascents</th>\n",
       "      <th>grade_fra</th>\n",
       "      <th>grade</th>\n",
       "      <th>grade_range</th>\n",
       "      <th>country</th>\n",
       "      <th>crag</th>\n",
       "      <th>sector</th>\n",
       "      <th>height</th>\n",
       "    </tr>\n",
       "  </thead>\n",
       "  <tbody>\n",
       "    <tr>\n",
       "      <th>0</th>\n",
       "      <td>3</td>\n",
       "      <td>climber3</td>\n",
       "      <td>0</td>\n",
       "      <td>7a+</td>\n",
       "      <td>51</td>\n",
       "      <td>2</td>\n",
       "      <td>esp</td>\n",
       "      <td>montserrat</td>\n",
       "      <td>agulla del senglar</td>\n",
       "      <td>170</td>\n",
       "    </tr>\n",
       "  </tbody>\n",
       "</table>\n",
       "</div>"
      ],
      "text/plain": [
       "   climber_id      name  ascents grade_fra  grade  grade_range country  \\\n",
       "0           3  climber3        0       7a+     51            2     esp   \n",
       "\n",
       "         crag              sector  height  \n",
       "0  montserrat  agulla del senglar     170  "
      ]
     },
     "metadata": {},
     "output_type": "display_data"
    }
   ],
   "source": [
    "climber_1 = climber_class.climber()\n",
    "climber_2 = climber_class.climber(grade = '7a+')\n",
    "climber_2.set_attributes(cluster=[-3,4,11,-1,30,-29,3,2,8])\n",
    "display(climber_2.get_data())"
   ]
  },
  {
   "cell_type": "markdown",
   "id": "93594679",
   "metadata": {},
   "source": [
    "### Retrieve routes table"
   ]
  },
  {
   "cell_type": "code",
   "execution_count": 6,
   "id": "b50050a9",
   "metadata": {},
   "outputs": [
    {
     "data": {
      "text/html": [
       "<div>\n",
       "<style scoped>\n",
       "    .dataframe tbody tr th:only-of-type {\n",
       "        vertical-align: middle;\n",
       "    }\n",
       "\n",
       "    .dataframe tbody tr th {\n",
       "        vertical-align: top;\n",
       "    }\n",
       "\n",
       "    .dataframe thead th {\n",
       "        text-align: right;\n",
       "    }\n",
       "</style>\n",
       "<table border=\"1\" class=\"dataframe\">\n",
       "  <thead>\n",
       "    <tr style=\"text-align: right;\">\n",
       "      <th></th>\n",
       "      <th>name_id</th>\n",
       "      <th>country</th>\n",
       "      <th>crag</th>\n",
       "      <th>sector</th>\n",
       "      <th>name</th>\n",
       "      <th>tall_recommend_sum</th>\n",
       "      <th>grade_mean</th>\n",
       "      <th>cluster</th>\n",
       "      <th>rating_tot</th>\n",
       "    </tr>\n",
       "  </thead>\n",
       "  <tbody>\n",
       "    <tr>\n",
       "      <th>0</th>\n",
       "      <td>0</td>\n",
       "      <td>and</td>\n",
       "      <td>montserrat</td>\n",
       "      <td>prohibitivo</td>\n",
       "      <td>diagonal de la x</td>\n",
       "      <td>-1</td>\n",
       "      <td>49.25</td>\n",
       "      <td>0</td>\n",
       "      <td>-0.045211</td>\n",
       "    </tr>\n",
       "    <tr>\n",
       "      <th>1</th>\n",
       "      <td>1</td>\n",
       "      <td>and</td>\n",
       "      <td>montserrat</td>\n",
       "      <td>prohibitivo</td>\n",
       "      <td>mehir</td>\n",
       "      <td>-1</td>\n",
       "      <td>49.00</td>\n",
       "      <td>0</td>\n",
       "      <td>0.116464</td>\n",
       "    </tr>\n",
       "  </tbody>\n",
       "</table>\n",
       "</div>"
      ],
      "text/plain": [
       "   name_id country        crag       sector              name  \\\n",
       "0        0     and  montserrat  prohibitivo  diagonal de la x   \n",
       "1        1     and  montserrat  prohibitivo             mehir   \n",
       "\n",
       "   tall_recommend_sum  grade_mean  cluster  rating_tot  \n",
       "0                  -1       49.25        0   -0.045211  \n",
       "1                  -1       49.00        0    0.116464  "
      ]
     },
     "execution_count": 6,
     "metadata": {},
     "output_type": "execute_result"
    }
   ],
   "source": [
    "routes = pd.read_csv('../data/routes_rated.csv',low_memory=False, index_col=0)\n",
    "routes.head(2)"
   ]
  },
  {
   "cell_type": "markdown",
   "id": "5289a619",
   "metadata": {},
   "source": [
    "### Cleaning the table"
   ]
  },
  {
   "cell_type": "markdown",
   "id": "f3108b8c",
   "metadata": {},
   "source": [
    "Objective\n",
    "- We will recommend 3 routes per each zone (country, crag, sector)\n",
    "\n",
    "The logical tree will be\n",
    "- Make 3 different filters for: sector, crag, country\n",
    "- Filter tall recommended (if height<-1 and tall or if height>1 and small) tall is mean+5 (>180), short is mean-5 (<170)\n",
    "- Filter by grade range, default +-2 (e.g. for a 7b grade => range[7a+,7b+]), if not routes ask to make the range bigger\n",
    "- Order by overall rating\n",
    "- Filter preferred clusters (If not then show other results)"
   ]
  },
  {
   "cell_type": "markdown",
   "id": "99897500",
   "metadata": {},
   "source": [
    "#### a) make zone tables"
   ]
  },
  {
   "cell_type": "code",
   "execution_count": 7,
   "id": "365d4115",
   "metadata": {},
   "outputs": [
    {
     "data": {
      "text/html": [
       "<div>\n",
       "<style scoped>\n",
       "    .dataframe tbody tr th:only-of-type {\n",
       "        vertical-align: middle;\n",
       "    }\n",
       "\n",
       "    .dataframe tbody tr th {\n",
       "        vertical-align: top;\n",
       "    }\n",
       "\n",
       "    .dataframe thead th {\n",
       "        text-align: right;\n",
       "    }\n",
       "</style>\n",
       "<table border=\"1\" class=\"dataframe\">\n",
       "  <thead>\n",
       "    <tr style=\"text-align: right;\">\n",
       "      <th></th>\n",
       "      <th>climber_id</th>\n",
       "      <th>name</th>\n",
       "      <th>ascents</th>\n",
       "      <th>grade_fra</th>\n",
       "      <th>grade</th>\n",
       "      <th>grade_range</th>\n",
       "      <th>country</th>\n",
       "      <th>crag</th>\n",
       "      <th>sector</th>\n",
       "      <th>height</th>\n",
       "    </tr>\n",
       "  </thead>\n",
       "  <tbody>\n",
       "    <tr>\n",
       "      <th>0</th>\n",
       "      <td>3</td>\n",
       "      <td>climber3</td>\n",
       "      <td>0</td>\n",
       "      <td>7a+</td>\n",
       "      <td>51</td>\n",
       "      <td>2</td>\n",
       "      <td>esp</td>\n",
       "      <td>montserrat</td>\n",
       "      <td>agulla del senglar</td>\n",
       "      <td>170</td>\n",
       "    </tr>\n",
       "  </tbody>\n",
       "</table>\n",
       "</div>"
      ],
      "text/plain": [
       "   climber_id      name  ascents grade_fra  grade  grade_range country  \\\n",
       "0           3  climber3        0       7a+     51            2     esp   \n",
       "\n",
       "         crag              sector  height  \n",
       "0  montserrat  agulla del senglar     170  "
      ]
     },
     "execution_count": 7,
     "metadata": {},
     "output_type": "execute_result"
    }
   ],
   "source": [
    "climber_2.get_data()"
   ]
  },
  {
   "cell_type": "code",
   "execution_count": 8,
   "id": "a31d9c89",
   "metadata": {},
   "outputs": [
    {
     "name": "stdout",
     "output_type": "stream",
     "text": [
      "Country routes:  15293\n",
      "Crag routes:  797\n",
      "Sector routes:  17\n"
     ]
    }
   ],
   "source": [
    "routes_country = routes[routes.country == climber_2.get_data().country[0]]\n",
    "routes_crag = routes[routes.crag == climber_2.get_data().crag[0]]\n",
    "routes_sector = routes[routes.sector == climber_2.get_data().sector[0]]\n",
    "print(\"Country routes: \", routes_country.shape[0])\n",
    "print(\"Crag routes: \", routes_crag.shape[0])\n",
    "print(\"Sector routes: \", routes_sector.shape[0])"
   ]
  },
  {
   "cell_type": "markdown",
   "id": "fb74fbb6",
   "metadata": {},
   "source": [
    "#### b) Filter tall recommend"
   ]
  },
  {
   "cell_type": "code",
   "execution_count": 9,
   "id": "2cd197e0",
   "metadata": {
    "scrolled": true
   },
   "outputs": [],
   "source": [
    "climber_1.set_attributes(height=165)\n",
    "climber_2.set_attributes(height=185)"
   ]
  },
  {
   "cell_type": "markdown",
   "id": "3d1c00f6",
   "metadata": {},
   "source": [
    "Test with short"
   ]
  },
  {
   "cell_type": "code",
   "execution_count": 10,
   "id": "d0359f86",
   "metadata": {},
   "outputs": [
    {
     "name": "stdout",
     "output_type": "stream",
     "text": [
      "df routes:  12521\n",
      "df routes:  646\n",
      "df routes:  16\n"
     ]
    }
   ],
   "source": [
    "routes_country_tall = climb_jor.filter_tall(routes_df = routes_country, climber_usr = climber_1, show = True)\n",
    "routes_crag_tall = climb_jor.filter_tall(routes_df = routes_crag, climber_usr = climber_1, show = True)\n",
    "routes_sector_tall = climb_jor.filter_tall(routes_df = routes_sector, climber_usr = climber_1, show = True)"
   ]
  },
  {
   "cell_type": "markdown",
   "id": "fdc4d07f",
   "metadata": {},
   "source": [
    "Test with tall"
   ]
  },
  {
   "cell_type": "code",
   "execution_count": 11,
   "id": "49e2400b",
   "metadata": {},
   "outputs": [
    {
     "name": "stdout",
     "output_type": "stream",
     "text": [
      "df routes:  12801\n",
      "df routes:  699\n",
      "df routes:  14\n"
     ]
    }
   ],
   "source": [
    "routes_country_tall = climb_jor.filter_tall(routes_df = routes_country, climber_usr = climber_2, show = True)\n",
    "routes_crag_tall = climb_jor.filter_tall(routes_df = routes_crag, climber_usr = climber_2, show = True)\n",
    "routes_sector_tall = climb_jor.filter_tall(routes_df = routes_sector, climber_usr = climber_2, show = True)"
   ]
  },
  {
   "cell_type": "markdown",
   "id": "5bf999c8",
   "metadata": {},
   "source": [
    "#### c) Filter grade range"
   ]
  },
  {
   "cell_type": "code",
   "execution_count": 12,
   "id": "69c55e05",
   "metadata": {},
   "outputs": [
    {
     "name": "stdout",
     "output_type": "stream",
     "text": [
      "df routes:  1754\n",
      "df routes:  113\n",
      "df routes:  1\n"
     ]
    }
   ],
   "source": [
    "routes_country_grade = climb_jor.filter_grade(routes_df = routes_country_tall, climber_usr = climber_2, show = True)\n",
    "routes_crag_grade = climb_jor.filter_grade(routes_df = routes_crag_tall, climber_usr = climber_2, show = True)\n",
    "routes_sector_grade = climb_jor.filter_grade(routes_df = routes_sector_tall, climber_usr = climber_2, show = True)"
   ]
  },
  {
   "cell_type": "markdown",
   "id": "63913ee8",
   "metadata": {},
   "source": [
    "#### d) Order by overall rating"
   ]
  },
  {
   "cell_type": "code",
   "execution_count": 13,
   "id": "37faaccf",
   "metadata": {},
   "outputs": [],
   "source": [
    "routes_country_rating = routes_country_grade.sort_values(by = 'rating_tot',ascending = False)\n",
    "routes_crag_rating = routes_crag_grade.sort_values(by = 'rating_tot',ascending = False)\n",
    "routes_sector_rating = routes_sector_grade.sort_values(by = 'rating_tot',ascending = False)"
   ]
  },
  {
   "cell_type": "markdown",
   "id": "42936d32",
   "metadata": {},
   "source": [
    "#### d) Filter clustering"
   ]
  },
  {
   "cell_type": "code",
   "execution_count": 14,
   "id": "027c91c6",
   "metadata": {},
   "outputs": [
    {
     "name": "stdout",
     "output_type": "stream",
     "text": [
      "df routes:  1754\n",
      "df routes:  113\n",
      "df routes:  1\n"
     ]
    }
   ],
   "source": [
    "routes_country_grade = climb_jor.filter_cluster(routes_df = routes_country_rating, climber_usr = climber_2, show = True)\n",
    "routes_crag_grade = climb_jor.filter_cluster(routes_df = routes_crag_rating, climber_usr = climber_2, show = True)\n",
    "routes_sector_grade = climb_jor.filter_cluster(routes_df = routes_sector_rating, climber_usr = climber_2, show = True)"
   ]
  },
  {
   "cell_type": "code",
   "execution_count": 15,
   "id": "cff9d820",
   "metadata": {},
   "outputs": [
    {
     "data": {
      "text/plain": [
       "[4, 2, 8, 1]"
      ]
     },
     "execution_count": 15,
     "metadata": {},
     "output_type": "execute_result"
    }
   ],
   "source": [
    "climber_2.get_cluster_order()"
   ]
  },
  {
   "cell_type": "markdown",
   "id": "0e21146b",
   "metadata": {},
   "source": [
    "#### f) 3 per zone"
   ]
  },
  {
   "cell_type": "code",
   "execution_count": 16,
   "id": "41ab4c44",
   "metadata": {},
   "outputs": [
    {
     "data": {
      "text/html": [
       "<div>\n",
       "<style scoped>\n",
       "    .dataframe tbody tr th:only-of-type {\n",
       "        vertical-align: middle;\n",
       "    }\n",
       "\n",
       "    .dataframe tbody tr th {\n",
       "        vertical-align: top;\n",
       "    }\n",
       "\n",
       "    .dataframe thead th {\n",
       "        text-align: right;\n",
       "    }\n",
       "</style>\n",
       "<table border=\"1\" class=\"dataframe\">\n",
       "  <thead>\n",
       "    <tr style=\"text-align: right;\">\n",
       "      <th></th>\n",
       "      <th>name_id</th>\n",
       "      <th>country</th>\n",
       "      <th>crag</th>\n",
       "      <th>sector</th>\n",
       "      <th>name</th>\n",
       "      <th>grade_mean</th>\n",
       "      <th>cluster</th>\n",
       "      <th>rating_tot</th>\n",
       "      <th>height_plus</th>\n",
       "    </tr>\n",
       "  </thead>\n",
       "  <tbody>\n",
       "    <tr>\n",
       "      <th>21880</th>\n",
       "      <td>21880</td>\n",
       "      <td>esp</td>\n",
       "      <td>rodellar</td>\n",
       "      <td>palomera</td>\n",
       "      <td>super remedios</td>\n",
       "      <td>51.000000</td>\n",
       "      <td>2</td>\n",
       "      <td>0.480442</td>\n",
       "      <td>0</td>\n",
       "    </tr>\n",
       "    <tr>\n",
       "      <th>20436</th>\n",
       "      <td>20436</td>\n",
       "      <td>esp</td>\n",
       "      <td>pedriza</td>\n",
       "      <td>peseta</td>\n",
       "      <td>libro del fonambulista l</td>\n",
       "      <td>49.333333</td>\n",
       "      <td>2</td>\n",
       "      <td>0.470268</td>\n",
       "      <td>0</td>\n",
       "    </tr>\n",
       "    <tr>\n",
       "      <th>20704</th>\n",
       "      <td>20704</td>\n",
       "      <td>esp</td>\n",
       "      <td>penahorada</td>\n",
       "      <td>pena alta</td>\n",
       "      <td>villachula</td>\n",
       "      <td>50.500000</td>\n",
       "      <td>2</td>\n",
       "      <td>0.456653</td>\n",
       "      <td>0</td>\n",
       "    </tr>\n",
       "  </tbody>\n",
       "</table>\n",
       "</div>"
      ],
      "text/plain": [
       "       name_id country        crag     sector                      name  \\\n",
       "21880    21880     esp    rodellar   palomera            super remedios   \n",
       "20436    20436     esp     pedriza     peseta  libro del fonambulista l   \n",
       "20704    20704     esp  penahorada  pena alta                villachula   \n",
       "\n",
       "       grade_mean  cluster  rating_tot  height_plus  \n",
       "21880   51.000000        2    0.480442            0  \n",
       "20436   49.333333        2    0.470268            0  \n",
       "20704   50.500000        2    0.456653            0  "
      ]
     },
     "metadata": {},
     "output_type": "display_data"
    },
    {
     "data": {
      "text/html": [
       "<div>\n",
       "<style scoped>\n",
       "    .dataframe tbody tr th:only-of-type {\n",
       "        vertical-align: middle;\n",
       "    }\n",
       "\n",
       "    .dataframe tbody tr th {\n",
       "        vertical-align: top;\n",
       "    }\n",
       "\n",
       "    .dataframe thead th {\n",
       "        text-align: right;\n",
       "    }\n",
       "</style>\n",
       "<table border=\"1\" class=\"dataframe\">\n",
       "  <thead>\n",
       "    <tr style=\"text-align: right;\">\n",
       "      <th></th>\n",
       "      <th>name_id</th>\n",
       "      <th>country</th>\n",
       "      <th>crag</th>\n",
       "      <th>sector</th>\n",
       "      <th>name</th>\n",
       "      <th>grade_mean</th>\n",
       "      <th>cluster</th>\n",
       "      <th>rating_tot</th>\n",
       "      <th>height_plus</th>\n",
       "    </tr>\n",
       "  </thead>\n",
       "  <tbody>\n",
       "    <tr>\n",
       "      <th>19015</th>\n",
       "      <td>19015</td>\n",
       "      <td>esp</td>\n",
       "      <td>montserrat</td>\n",
       "      <td>vermell</td>\n",
       "      <td>omaticaia</td>\n",
       "      <td>51.0</td>\n",
       "      <td>2</td>\n",
       "      <td>-0.105057</td>\n",
       "      <td>0</td>\n",
       "    </tr>\n",
       "    <tr>\n",
       "      <th>18593</th>\n",
       "      <td>18593</td>\n",
       "      <td>esp</td>\n",
       "      <td>montserrat</td>\n",
       "      <td>collbato</td>\n",
       "      <td>penya del cargol</td>\n",
       "      <td>51.0</td>\n",
       "      <td>1</td>\n",
       "      <td>0.499660</td>\n",
       "      <td>0</td>\n",
       "    </tr>\n",
       "    <tr>\n",
       "      <th>18770</th>\n",
       "      <td>18770</td>\n",
       "      <td>esp</td>\n",
       "      <td>montserrat</td>\n",
       "      <td>prohibitivo</td>\n",
       "      <td>ladvocat del diable</td>\n",
       "      <td>51.5</td>\n",
       "      <td>1</td>\n",
       "      <td>0.379970</td>\n",
       "      <td>0</td>\n",
       "    </tr>\n",
       "  </tbody>\n",
       "</table>\n",
       "</div>"
      ],
      "text/plain": [
       "       name_id country        crag       sector                 name  \\\n",
       "19015    19015     esp  montserrat      vermell            omaticaia   \n",
       "18593    18593     esp  montserrat     collbato     penya del cargol   \n",
       "18770    18770     esp  montserrat  prohibitivo  ladvocat del diable   \n",
       "\n",
       "       grade_mean  cluster  rating_tot  height_plus  \n",
       "19015        51.0        2   -0.105057            0  \n",
       "18593        51.0        1    0.499660            0  \n",
       "18770        51.5        1    0.379970            0  "
      ]
     },
     "metadata": {},
     "output_type": "display_data"
    },
    {
     "data": {
      "text/html": [
       "<div>\n",
       "<style scoped>\n",
       "    .dataframe tbody tr th:only-of-type {\n",
       "        vertical-align: middle;\n",
       "    }\n",
       "\n",
       "    .dataframe tbody tr th {\n",
       "        vertical-align: top;\n",
       "    }\n",
       "\n",
       "    .dataframe thead th {\n",
       "        text-align: right;\n",
       "    }\n",
       "</style>\n",
       "<table border=\"1\" class=\"dataframe\">\n",
       "  <thead>\n",
       "    <tr style=\"text-align: right;\">\n",
       "      <th></th>\n",
       "      <th>name_id</th>\n",
       "      <th>country</th>\n",
       "      <th>crag</th>\n",
       "      <th>sector</th>\n",
       "      <th>name</th>\n",
       "      <th>grade_mean</th>\n",
       "      <th>cluster</th>\n",
       "      <th>rating_tot</th>\n",
       "      <th>height_plus</th>\n",
       "    </tr>\n",
       "  </thead>\n",
       "  <tbody>\n",
       "  </tbody>\n",
       "</table>\n",
       "</div>"
      ],
      "text/plain": [
       "Empty DataFrame\n",
       "Columns: [name_id, country, crag, sector, name, grade_mean, cluster, rating_tot, height_plus]\n",
       "Index: []"
      ]
     },
     "metadata": {},
     "output_type": "display_data"
    }
   ],
   "source": [
    "display(routes_country_grade.head(3))\n",
    "display(routes_crag_grade.head(3))\n",
    "display(routes_sector_grade.head(3))"
   ]
  },
  {
   "cell_type": "markdown",
   "id": "realistic-alloy",
   "metadata": {},
   "source": [
    "## Create the function"
   ]
  },
  {
   "cell_type": "code",
   "execution_count": 17,
   "id": "toxic-production",
   "metadata": {},
   "outputs": [],
   "source": [
    "def route_recommender(climber, show = False):\n",
    "    '''\n",
    "    This function returns the route recommendations for the user \"climber\"\n",
    "    inputs:\n",
    "    - climber: the user from the climber class\n",
    "    - show: True for showing the log\n",
    "    \n",
    "    output:\n",
    "    df with the recommendations       \n",
    "    '''\n",
    "    \n",
    "    \n",
    "    def recommender_filter(df, climber, show = True):\n",
    "        routes = df.copy()\n",
    "         # Climber Filters    \n",
    "        routes_tall = climb_jor.filter_tall(routes_df = routes, climber_usr = climber, show = show)\n",
    "        routes_grade = climb_jor.filter_grade(routes_df = routes_tall, climber_usr = climber, show = show)\n",
    "\n",
    "        # Rating Order\n",
    "        routes_rating = routes_grade.sort_values(by = 'rating_tot',ascending = False)\n",
    "\n",
    "        # Clustering Order\n",
    "        routes_grade = climb_jor.filter_cluster(routes_df = routes_rating, climber_usr = climber, show = show)\n",
    "\n",
    "        return routes_grade\n",
    "    \n",
    "    \n",
    "    routes = pd.read_csv('../data/routes_rated.csv',low_memory=False, index_col=0)\n",
    "       \n",
    "    # Region\n",
    "    routes_country = routes[routes.country == climber.get_data().country.values[0]]\n",
    "    routes_crag = routes[routes.crag == climber.get_data().crag.values[0]]\n",
    "    routes_sector = routes[routes.sector == climber.get_data().sector.values[0]]\n",
    "    \n",
    "    # Recommen\n",
    "    routes_country_rec = recommender_filter(routes_country, climber, show)\n",
    "    routes_crag_rec = recommender_filter(routes_crag, climber, show)\n",
    "    routes_sector_rec = recommender_filter(routes_sector, climber, show)\n",
    "    \n",
    "    display(routes_country_rec.head(3))\n",
    "    display(routes_crag_rec.head(3))\n",
    "    display(routes_sector_rec.head(3))\n",
    "       "
   ]
  },
  {
   "cell_type": "code",
   "execution_count": 18,
   "id": "immune-johns",
   "metadata": {},
   "outputs": [
    {
     "data": {
      "text/html": [
       "<div>\n",
       "<style scoped>\n",
       "    .dataframe tbody tr th:only-of-type {\n",
       "        vertical-align: middle;\n",
       "    }\n",
       "\n",
       "    .dataframe tbody tr th {\n",
       "        vertical-align: top;\n",
       "    }\n",
       "\n",
       "    .dataframe thead th {\n",
       "        text-align: right;\n",
       "    }\n",
       "</style>\n",
       "<table border=\"1\" class=\"dataframe\">\n",
       "  <thead>\n",
       "    <tr style=\"text-align: right;\">\n",
       "      <th></th>\n",
       "      <th>name_id</th>\n",
       "      <th>country</th>\n",
       "      <th>crag</th>\n",
       "      <th>sector</th>\n",
       "      <th>name</th>\n",
       "      <th>grade_mean</th>\n",
       "      <th>cluster</th>\n",
       "      <th>rating_tot</th>\n",
       "      <th>height_plus</th>\n",
       "    </tr>\n",
       "  </thead>\n",
       "  <tbody>\n",
       "    <tr>\n",
       "      <th>21880</th>\n",
       "      <td>21880</td>\n",
       "      <td>esp</td>\n",
       "      <td>rodellar</td>\n",
       "      <td>palomera</td>\n",
       "      <td>super remedios</td>\n",
       "      <td>51.000000</td>\n",
       "      <td>2</td>\n",
       "      <td>0.480442</td>\n",
       "      <td>0</td>\n",
       "    </tr>\n",
       "    <tr>\n",
       "      <th>20436</th>\n",
       "      <td>20436</td>\n",
       "      <td>esp</td>\n",
       "      <td>pedriza</td>\n",
       "      <td>peseta</td>\n",
       "      <td>libro del fonambulista l</td>\n",
       "      <td>49.333333</td>\n",
       "      <td>2</td>\n",
       "      <td>0.470268</td>\n",
       "      <td>0</td>\n",
       "    </tr>\n",
       "    <tr>\n",
       "      <th>20704</th>\n",
       "      <td>20704</td>\n",
       "      <td>esp</td>\n",
       "      <td>penahorada</td>\n",
       "      <td>pena alta</td>\n",
       "      <td>villachula</td>\n",
       "      <td>50.500000</td>\n",
       "      <td>2</td>\n",
       "      <td>0.456653</td>\n",
       "      <td>0</td>\n",
       "    </tr>\n",
       "  </tbody>\n",
       "</table>\n",
       "</div>"
      ],
      "text/plain": [
       "       name_id country        crag     sector                      name  \\\n",
       "21880    21880     esp    rodellar   palomera            super remedios   \n",
       "20436    20436     esp     pedriza     peseta  libro del fonambulista l   \n",
       "20704    20704     esp  penahorada  pena alta                villachula   \n",
       "\n",
       "       grade_mean  cluster  rating_tot  height_plus  \n",
       "21880   51.000000        2    0.480442            0  \n",
       "20436   49.333333        2    0.470268            0  \n",
       "20704   50.500000        2    0.456653            0  "
      ]
     },
     "metadata": {},
     "output_type": "display_data"
    },
    {
     "data": {
      "text/html": [
       "<div>\n",
       "<style scoped>\n",
       "    .dataframe tbody tr th:only-of-type {\n",
       "        vertical-align: middle;\n",
       "    }\n",
       "\n",
       "    .dataframe tbody tr th {\n",
       "        vertical-align: top;\n",
       "    }\n",
       "\n",
       "    .dataframe thead th {\n",
       "        text-align: right;\n",
       "    }\n",
       "</style>\n",
       "<table border=\"1\" class=\"dataframe\">\n",
       "  <thead>\n",
       "    <tr style=\"text-align: right;\">\n",
       "      <th></th>\n",
       "      <th>name_id</th>\n",
       "      <th>country</th>\n",
       "      <th>crag</th>\n",
       "      <th>sector</th>\n",
       "      <th>name</th>\n",
       "      <th>grade_mean</th>\n",
       "      <th>cluster</th>\n",
       "      <th>rating_tot</th>\n",
       "      <th>height_plus</th>\n",
       "    </tr>\n",
       "  </thead>\n",
       "  <tbody>\n",
       "    <tr>\n",
       "      <th>19015</th>\n",
       "      <td>19015</td>\n",
       "      <td>esp</td>\n",
       "      <td>montserrat</td>\n",
       "      <td>vermell</td>\n",
       "      <td>omaticaia</td>\n",
       "      <td>51.0</td>\n",
       "      <td>2</td>\n",
       "      <td>-0.105057</td>\n",
       "      <td>0</td>\n",
       "    </tr>\n",
       "    <tr>\n",
       "      <th>18593</th>\n",
       "      <td>18593</td>\n",
       "      <td>esp</td>\n",
       "      <td>montserrat</td>\n",
       "      <td>collbato</td>\n",
       "      <td>penya del cargol</td>\n",
       "      <td>51.0</td>\n",
       "      <td>1</td>\n",
       "      <td>0.499660</td>\n",
       "      <td>0</td>\n",
       "    </tr>\n",
       "    <tr>\n",
       "      <th>18770</th>\n",
       "      <td>18770</td>\n",
       "      <td>esp</td>\n",
       "      <td>montserrat</td>\n",
       "      <td>prohibitivo</td>\n",
       "      <td>ladvocat del diable</td>\n",
       "      <td>51.5</td>\n",
       "      <td>1</td>\n",
       "      <td>0.379970</td>\n",
       "      <td>0</td>\n",
       "    </tr>\n",
       "  </tbody>\n",
       "</table>\n",
       "</div>"
      ],
      "text/plain": [
       "       name_id country        crag       sector                 name  \\\n",
       "19015    19015     esp  montserrat      vermell            omaticaia   \n",
       "18593    18593     esp  montserrat     collbato     penya del cargol   \n",
       "18770    18770     esp  montserrat  prohibitivo  ladvocat del diable   \n",
       "\n",
       "       grade_mean  cluster  rating_tot  height_plus  \n",
       "19015        51.0        2   -0.105057            0  \n",
       "18593        51.0        1    0.499660            0  \n",
       "18770        51.5        1    0.379970            0  "
      ]
     },
     "metadata": {},
     "output_type": "display_data"
    },
    {
     "data": {
      "text/html": [
       "<div>\n",
       "<style scoped>\n",
       "    .dataframe tbody tr th:only-of-type {\n",
       "        vertical-align: middle;\n",
       "    }\n",
       "\n",
       "    .dataframe tbody tr th {\n",
       "        vertical-align: top;\n",
       "    }\n",
       "\n",
       "    .dataframe thead th {\n",
       "        text-align: right;\n",
       "    }\n",
       "</style>\n",
       "<table border=\"1\" class=\"dataframe\">\n",
       "  <thead>\n",
       "    <tr style=\"text-align: right;\">\n",
       "      <th></th>\n",
       "      <th>name_id</th>\n",
       "      <th>country</th>\n",
       "      <th>crag</th>\n",
       "      <th>sector</th>\n",
       "      <th>name</th>\n",
       "      <th>grade_mean</th>\n",
       "      <th>cluster</th>\n",
       "      <th>rating_tot</th>\n",
       "      <th>height_plus</th>\n",
       "    </tr>\n",
       "  </thead>\n",
       "  <tbody>\n",
       "  </tbody>\n",
       "</table>\n",
       "</div>"
      ],
      "text/plain": [
       "Empty DataFrame\n",
       "Columns: [name_id, country, crag, sector, name, grade_mean, cluster, rating_tot, height_plus]\n",
       "Index: []"
      ]
     },
     "metadata": {},
     "output_type": "display_data"
    }
   ],
   "source": [
    "route_recommender(climber_2)"
   ]
  },
  {
   "cell_type": "code",
   "execution_count": 19,
   "id": "leading-demonstration",
   "metadata": {},
   "outputs": [
    {
     "name": "stdout",
     "output_type": "stream",
     "text": [
      "Climber class initialized\n"
     ]
    }
   ],
   "source": [
    "country = 'esp'\n",
    "crag = 'montserrat'\n",
    "sector = 'el vermell'\n",
    "\n",
    "climber_3 = climber_class.climber(name = 'Jordi',\n",
    "                                  grade = '7b+',\n",
    "                                  grade_range = 4,\n",
    "                                  cluster = [0,0,2,0,5,6,3,4,0],\n",
    "                                  location = [country, crag, sector])"
   ]
  },
  {
   "cell_type": "code",
   "execution_count": 20,
   "id": "ceramic-begin",
   "metadata": {},
   "outputs": [
    {
     "data": {
      "text/html": [
       "<div>\n",
       "<style scoped>\n",
       "    .dataframe tbody tr th:only-of-type {\n",
       "        vertical-align: middle;\n",
       "    }\n",
       "\n",
       "    .dataframe tbody tr th {\n",
       "        vertical-align: top;\n",
       "    }\n",
       "\n",
       "    .dataframe thead th {\n",
       "        text-align: right;\n",
       "    }\n",
       "</style>\n",
       "<table border=\"1\" class=\"dataframe\">\n",
       "  <thead>\n",
       "    <tr style=\"text-align: right;\">\n",
       "      <th></th>\n",
       "      <th>name_id</th>\n",
       "      <th>country</th>\n",
       "      <th>crag</th>\n",
       "      <th>sector</th>\n",
       "      <th>name</th>\n",
       "      <th>grade_mean</th>\n",
       "      <th>cluster</th>\n",
       "      <th>rating_tot</th>\n",
       "      <th>height_plus</th>\n",
       "    </tr>\n",
       "  </thead>\n",
       "  <tbody>\n",
       "    <tr>\n",
       "      <th>23589</th>\n",
       "      <td>23589</td>\n",
       "      <td>esp</td>\n",
       "      <td>siurana</td>\n",
       "      <td>salt de la reina mora</td>\n",
       "      <td>microcosmos</td>\n",
       "      <td>53.5</td>\n",
       "      <td>0</td>\n",
       "      <td>0.921312</td>\n",
       "      <td>0</td>\n",
       "    </tr>\n",
       "    <tr>\n",
       "      <th>10750</th>\n",
       "      <td>10750</td>\n",
       "      <td>esp</td>\n",
       "      <td>archidona</td>\n",
       "      <td>cueva grande</td>\n",
       "      <td>bujarros</td>\n",
       "      <td>53.5</td>\n",
       "      <td>0</td>\n",
       "      <td>0.882098</td>\n",
       "      <td>0</td>\n",
       "    </tr>\n",
       "    <tr>\n",
       "      <th>13662</th>\n",
       "      <td>13662</td>\n",
       "      <td>esp</td>\n",
       "      <td>collsuspina</td>\n",
       "      <td>parking</td>\n",
       "      <td>sumum</td>\n",
       "      <td>53.0</td>\n",
       "      <td>0</td>\n",
       "      <td>0.864996</td>\n",
       "      <td>0</td>\n",
       "    </tr>\n",
       "  </tbody>\n",
       "</table>\n",
       "</div>"
      ],
      "text/plain": [
       "       name_id country         crag                 sector         name  \\\n",
       "23589    23589     esp      siurana  salt de la reina mora  microcosmos   \n",
       "10750    10750     esp    archidona           cueva grande     bujarros   \n",
       "13662    13662     esp  collsuspina                parking        sumum   \n",
       "\n",
       "       grade_mean  cluster  rating_tot  height_plus  \n",
       "23589        53.5        0    0.921312            0  \n",
       "10750        53.5        0    0.882098            0  \n",
       "13662        53.0        0    0.864996            0  "
      ]
     },
     "metadata": {},
     "output_type": "display_data"
    },
    {
     "data": {
      "text/html": [
       "<div>\n",
       "<style scoped>\n",
       "    .dataframe tbody tr th:only-of-type {\n",
       "        vertical-align: middle;\n",
       "    }\n",
       "\n",
       "    .dataframe tbody tr th {\n",
       "        vertical-align: top;\n",
       "    }\n",
       "\n",
       "    .dataframe thead th {\n",
       "        text-align: right;\n",
       "    }\n",
       "</style>\n",
       "<table border=\"1\" class=\"dataframe\">\n",
       "  <thead>\n",
       "    <tr style=\"text-align: right;\">\n",
       "      <th></th>\n",
       "      <th>name_id</th>\n",
       "      <th>country</th>\n",
       "      <th>crag</th>\n",
       "      <th>sector</th>\n",
       "      <th>name</th>\n",
       "      <th>grade_mean</th>\n",
       "      <th>cluster</th>\n",
       "      <th>rating_tot</th>\n",
       "      <th>height_plus</th>\n",
       "    </tr>\n",
       "  </thead>\n",
       "  <tbody>\n",
       "    <tr>\n",
       "      <th>19088</th>\n",
       "      <td>19088</td>\n",
       "      <td>esp</td>\n",
       "      <td>montserrat</td>\n",
       "      <td>vermell</td>\n",
       "      <td>sin nombre</td>\n",
       "      <td>51.181818</td>\n",
       "      <td>0</td>\n",
       "      <td>0.603697</td>\n",
       "      <td>0</td>\n",
       "    </tr>\n",
       "    <tr>\n",
       "      <th>18606</th>\n",
       "      <td>18606</td>\n",
       "      <td>esp</td>\n",
       "      <td>montserrat</td>\n",
       "      <td>collbato</td>\n",
       "      <td>saltimbanqui</td>\n",
       "      <td>51.500000</td>\n",
       "      <td>0</td>\n",
       "      <td>0.439815</td>\n",
       "      <td>0</td>\n",
       "    </tr>\n",
       "    <tr>\n",
       "      <th>18556</th>\n",
       "      <td>18556</td>\n",
       "      <td>esp</td>\n",
       "      <td>montserrat</td>\n",
       "      <td>clot del boixar</td>\n",
       "      <td>senyor arboc</td>\n",
       "      <td>53.000000</td>\n",
       "      <td>0</td>\n",
       "      <td>0.399253</td>\n",
       "      <td>0</td>\n",
       "    </tr>\n",
       "  </tbody>\n",
       "</table>\n",
       "</div>"
      ],
      "text/plain": [
       "       name_id country        crag           sector          name  grade_mean  \\\n",
       "19088    19088     esp  montserrat          vermell    sin nombre   51.181818   \n",
       "18606    18606     esp  montserrat         collbato  saltimbanqui   51.500000   \n",
       "18556    18556     esp  montserrat  clot del boixar  senyor arboc   53.000000   \n",
       "\n",
       "       cluster  rating_tot  height_plus  \n",
       "19088        0    0.603697            0  \n",
       "18606        0    0.439815            0  \n",
       "18556        0    0.399253            0  "
      ]
     },
     "metadata": {},
     "output_type": "display_data"
    },
    {
     "data": {
      "text/html": [
       "<div>\n",
       "<style scoped>\n",
       "    .dataframe tbody tr th:only-of-type {\n",
       "        vertical-align: middle;\n",
       "    }\n",
       "\n",
       "    .dataframe tbody tr th {\n",
       "        vertical-align: top;\n",
       "    }\n",
       "\n",
       "    .dataframe thead th {\n",
       "        text-align: right;\n",
       "    }\n",
       "</style>\n",
       "<table border=\"1\" class=\"dataframe\">\n",
       "  <thead>\n",
       "    <tr style=\"text-align: right;\">\n",
       "      <th></th>\n",
       "      <th>name_id</th>\n",
       "      <th>country</th>\n",
       "      <th>crag</th>\n",
       "      <th>sector</th>\n",
       "      <th>name</th>\n",
       "      <th>grade_mean</th>\n",
       "      <th>cluster</th>\n",
       "      <th>rating_tot</th>\n",
       "      <th>height_plus</th>\n",
       "    </tr>\n",
       "  </thead>\n",
       "  <tbody>\n",
       "  </tbody>\n",
       "</table>\n",
       "</div>"
      ],
      "text/plain": [
       "Empty DataFrame\n",
       "Columns: [name_id, country, crag, sector, name, grade_mean, cluster, rating_tot, height_plus]\n",
       "Index: []"
      ]
     },
     "metadata": {},
     "output_type": "display_data"
    }
   ],
   "source": [
    "route_recommender(climber_3)"
   ]
  },
  {
   "cell_type": "code",
   "execution_count": 21,
   "id": "assisted-patio",
   "metadata": {},
   "outputs": [],
   "source": [
    "montse = climb_jor.Crag_search(routes, 'montserrat')"
   ]
  },
  {
   "cell_type": "code",
   "execution_count": 22,
   "id": "democratic-effect",
   "metadata": {},
   "outputs": [
    {
     "data": {
      "text/plain": [
       "0    471\n",
       "1    315\n",
       "2      7\n",
       "3      4\n",
       "Name: cluster, dtype: int64"
      ]
     },
     "execution_count": 22,
     "metadata": {},
     "output_type": "execute_result"
    }
   ],
   "source": [
    "montse.cluster.value_counts()"
   ]
  },
  {
   "cell_type": "code",
   "execution_count": 23,
   "id": "distinct-discrimination",
   "metadata": {},
   "outputs": [
    {
     "data": {
      "text/html": [
       "<div>\n",
       "<style scoped>\n",
       "    .dataframe tbody tr th:only-of-type {\n",
       "        vertical-align: middle;\n",
       "    }\n",
       "\n",
       "    .dataframe tbody tr th {\n",
       "        vertical-align: top;\n",
       "    }\n",
       "\n",
       "    .dataframe thead th {\n",
       "        text-align: right;\n",
       "    }\n",
       "</style>\n",
       "<table border=\"1\" class=\"dataframe\">\n",
       "  <thead>\n",
       "    <tr style=\"text-align: right;\">\n",
       "      <th></th>\n",
       "      <th>name_id</th>\n",
       "      <th>country</th>\n",
       "      <th>crag</th>\n",
       "      <th>sector</th>\n",
       "      <th>name</th>\n",
       "      <th>tall_recommend_sum</th>\n",
       "      <th>grade_mean</th>\n",
       "      <th>cluster</th>\n",
       "      <th>rating_tot</th>\n",
       "    </tr>\n",
       "  </thead>\n",
       "  <tbody>\n",
       "    <tr>\n",
       "      <th>18429</th>\n",
       "      <td>18429</td>\n",
       "      <td>esp</td>\n",
       "      <td>montserrat</td>\n",
       "      <td>can jorba</td>\n",
       "      <td>guakamayo</td>\n",
       "      <td>-3</td>\n",
       "      <td>53.600000</td>\n",
       "      <td>0</td>\n",
       "      <td>0.016613</td>\n",
       "    </tr>\n",
       "    <tr>\n",
       "      <th>18627</th>\n",
       "      <td>18627</td>\n",
       "      <td>esp</td>\n",
       "      <td>montserrat</td>\n",
       "      <td>colonia puig</td>\n",
       "      <td>joya de la corona</td>\n",
       "      <td>-3</td>\n",
       "      <td>63.571429</td>\n",
       "      <td>0</td>\n",
       "      <td>0.211878</td>\n",
       "    </tr>\n",
       "    <tr>\n",
       "      <th>18642</th>\n",
       "      <td>18642</td>\n",
       "      <td>esp</td>\n",
       "      <td>montserrat</td>\n",
       "      <td>cova de larcada</td>\n",
       "      <td>good feeling</td>\n",
       "      <td>-3</td>\n",
       "      <td>49.928571</td>\n",
       "      <td>1</td>\n",
       "      <td>0.072921</td>\n",
       "    </tr>\n",
       "    <tr>\n",
       "      <th>18737</th>\n",
       "      <td>18737</td>\n",
       "      <td>esp</td>\n",
       "      <td>montserrat</td>\n",
       "      <td>piula</td>\n",
       "      <td>marc attack</td>\n",
       "      <td>-3</td>\n",
       "      <td>52.928571</td>\n",
       "      <td>1</td>\n",
       "      <td>0.069647</td>\n",
       "    </tr>\n",
       "    <tr>\n",
       "      <th>18769</th>\n",
       "      <td>18769</td>\n",
       "      <td>esp</td>\n",
       "      <td>montserrat</td>\n",
       "      <td>prohibitivo</td>\n",
       "      <td>kill bill</td>\n",
       "      <td>-4</td>\n",
       "      <td>50.555556</td>\n",
       "      <td>1</td>\n",
       "      <td>-0.038214</td>\n",
       "    </tr>\n",
       "    <tr>\n",
       "      <th>18840</th>\n",
       "      <td>18840</td>\n",
       "      <td>esp</td>\n",
       "      <td>montserrat</td>\n",
       "      <td>vermell</td>\n",
       "      <td>aniversari</td>\n",
       "      <td>-3</td>\n",
       "      <td>40.243243</td>\n",
       "      <td>1</td>\n",
       "      <td>-0.021643</td>\n",
       "    </tr>\n",
       "    <tr>\n",
       "      <th>19078</th>\n",
       "      <td>19078</td>\n",
       "      <td>esp</td>\n",
       "      <td>montserrat</td>\n",
       "      <td>vermell</td>\n",
       "      <td>sessio digital</td>\n",
       "      <td>-3</td>\n",
       "      <td>54.515152</td>\n",
       "      <td>0</td>\n",
       "      <td>0.018349</td>\n",
       "    </tr>\n",
       "    <tr>\n",
       "      <th>19082</th>\n",
       "      <td>19082</td>\n",
       "      <td>esp</td>\n",
       "      <td>montserrat</td>\n",
       "      <td>vermell</td>\n",
       "      <td>shin shat</td>\n",
       "      <td>-3</td>\n",
       "      <td>50.821429</td>\n",
       "      <td>1</td>\n",
       "      <td>0.030656</td>\n",
       "    </tr>\n",
       "    <tr>\n",
       "      <th>19129</th>\n",
       "      <td>19129</td>\n",
       "      <td>esp</td>\n",
       "      <td>montserrat</td>\n",
       "      <td>vermell</td>\n",
       "      <td>via  kpujo</td>\n",
       "      <td>-5</td>\n",
       "      <td>38.500000</td>\n",
       "      <td>0</td>\n",
       "      <td>-0.117026</td>\n",
       "    </tr>\n",
       "  </tbody>\n",
       "</table>\n",
       "</div>"
      ],
      "text/plain": [
       "       name_id country        crag           sector               name  \\\n",
       "18429    18429     esp  montserrat        can jorba          guakamayo   \n",
       "18627    18627     esp  montserrat     colonia puig  joya de la corona   \n",
       "18642    18642     esp  montserrat  cova de larcada       good feeling   \n",
       "18737    18737     esp  montserrat            piula        marc attack   \n",
       "18769    18769     esp  montserrat      prohibitivo          kill bill   \n",
       "18840    18840     esp  montserrat          vermell         aniversari   \n",
       "19078    19078     esp  montserrat          vermell     sessio digital   \n",
       "19082    19082     esp  montserrat          vermell          shin shat   \n",
       "19129    19129     esp  montserrat          vermell         via  kpujo   \n",
       "\n",
       "       tall_recommend_sum  grade_mean  cluster  rating_tot  \n",
       "18429                  -3   53.600000        0    0.016613  \n",
       "18627                  -3   63.571429        0    0.211878  \n",
       "18642                  -3   49.928571        1    0.072921  \n",
       "18737                  -3   52.928571        1    0.069647  \n",
       "18769                  -4   50.555556        1   -0.038214  \n",
       "18840                  -3   40.243243        1   -0.021643  \n",
       "19078                  -3   54.515152        0    0.018349  \n",
       "19082                  -3   50.821429        1    0.030656  \n",
       "19129                  -5   38.500000        0   -0.117026  "
      ]
     },
     "execution_count": 23,
     "metadata": {},
     "output_type": "execute_result"
    }
   ],
   "source": [
    "montse[montse.tall_recommend_sum < -2]"
   ]
  },
  {
   "cell_type": "code",
   "execution_count": 24,
   "id": "coordinate-iraqi",
   "metadata": {},
   "outputs": [
    {
     "ename": "FileNotFoundError",
     "evalue": "[Errno 2] No such file or directory: '../../data/routes_rated.csv'",
     "output_type": "error",
     "traceback": [
      "\u001b[0;31m---------------------------------------------------------------------------\u001b[0m",
      "\u001b[0;31mFileNotFoundError\u001b[0m                         Traceback (most recent call last)",
      "\u001b[0;32m<ipython-input-24-8d4b74901748>\u001b[0m in \u001b[0;36m<module>\u001b[0;34m\u001b[0m\n\u001b[0;32m----> 1\u001b[0;31m \u001b[0ma\u001b[0m\u001b[0;34m,\u001b[0m\u001b[0mb\u001b[0m\u001b[0;34m,\u001b[0m\u001b[0mc\u001b[0m \u001b[0;34m=\u001b[0m \u001b[0mclimber_2\u001b[0m\u001b[0;34m.\u001b[0m\u001b[0mroute_recommender\u001b[0m\u001b[0;34m(\u001b[0m\u001b[0mshow\u001b[0m \u001b[0;34m=\u001b[0m \u001b[0;32mTrue\u001b[0m\u001b[0;34m)\u001b[0m\u001b[0;34m\u001b[0m\u001b[0;34m\u001b[0m\u001b[0m\n\u001b[0m",
      "\u001b[0;32m~/IronHack/PROJECT/Climbing-Route-Recomender/src/lib/climber_class.py\u001b[0m in \u001b[0;36mroute_recommender\u001b[0;34m(self, routes, show)\u001b[0m\n\u001b[1;32m    169\u001b[0m \u001b[0;34m\u001b[0m\u001b[0m\n\u001b[1;32m    170\u001b[0m         \u001b[0;32mif\u001b[0m \u001b[0misinstance\u001b[0m\u001b[0;34m(\u001b[0m\u001b[0mroutes\u001b[0m\u001b[0;34m,\u001b[0m \u001b[0mtype\u001b[0m\u001b[0;34m(\u001b[0m\u001b[0;32mNone\u001b[0m\u001b[0;34m)\u001b[0m\u001b[0;34m)\u001b[0m\u001b[0;34m:\u001b[0m\u001b[0;34m\u001b[0m\u001b[0;34m\u001b[0m\u001b[0m\n\u001b[0;32m--> 171\u001b[0;31m             \u001b[0mroutes\u001b[0m \u001b[0;34m=\u001b[0m \u001b[0mpd\u001b[0m\u001b[0;34m.\u001b[0m\u001b[0mread_csv\u001b[0m\u001b[0;34m(\u001b[0m\u001b[0;34m'../../data/routes_rated.csv'\u001b[0m\u001b[0;34m,\u001b[0m\u001b[0mlow_memory\u001b[0m\u001b[0;34m=\u001b[0m\u001b[0;32mFalse\u001b[0m\u001b[0;34m,\u001b[0m \u001b[0mindex_col\u001b[0m\u001b[0;34m=\u001b[0m\u001b[0;36m0\u001b[0m\u001b[0;34m)\u001b[0m\u001b[0;34m\u001b[0m\u001b[0;34m\u001b[0m\u001b[0m\n\u001b[0m\u001b[1;32m    172\u001b[0m \u001b[0;34m\u001b[0m\u001b[0m\n\u001b[1;32m    173\u001b[0m         \u001b[0;31m# Region\u001b[0m\u001b[0;34m\u001b[0m\u001b[0;34m\u001b[0m\u001b[0;34m\u001b[0m\u001b[0m\n",
      "\u001b[0;32m~/.local/lib/python3.9/site-packages/pandas/util/_decorators.py\u001b[0m in \u001b[0;36mwrapper\u001b[0;34m(*args, **kwargs)\u001b[0m\n\u001b[1;32m    309\u001b[0m                     \u001b[0mstacklevel\u001b[0m\u001b[0;34m=\u001b[0m\u001b[0mstacklevel\u001b[0m\u001b[0;34m,\u001b[0m\u001b[0;34m\u001b[0m\u001b[0;34m\u001b[0m\u001b[0m\n\u001b[1;32m    310\u001b[0m                 )\n\u001b[0;32m--> 311\u001b[0;31m             \u001b[0;32mreturn\u001b[0m \u001b[0mfunc\u001b[0m\u001b[0;34m(\u001b[0m\u001b[0;34m*\u001b[0m\u001b[0margs\u001b[0m\u001b[0;34m,\u001b[0m \u001b[0;34m**\u001b[0m\u001b[0mkwargs\u001b[0m\u001b[0;34m)\u001b[0m\u001b[0;34m\u001b[0m\u001b[0;34m\u001b[0m\u001b[0m\n\u001b[0m\u001b[1;32m    312\u001b[0m \u001b[0;34m\u001b[0m\u001b[0m\n\u001b[1;32m    313\u001b[0m         \u001b[0;32mreturn\u001b[0m \u001b[0mwrapper\u001b[0m\u001b[0;34m\u001b[0m\u001b[0;34m\u001b[0m\u001b[0m\n",
      "\u001b[0;32m~/.local/lib/python3.9/site-packages/pandas/io/parsers/readers.py\u001b[0m in \u001b[0;36mread_csv\u001b[0;34m(filepath_or_buffer, sep, delimiter, header, names, index_col, usecols, squeeze, prefix, mangle_dupe_cols, dtype, engine, converters, true_values, false_values, skipinitialspace, skiprows, skipfooter, nrows, na_values, keep_default_na, na_filter, verbose, skip_blank_lines, parse_dates, infer_datetime_format, keep_date_col, date_parser, dayfirst, cache_dates, iterator, chunksize, compression, thousands, decimal, lineterminator, quotechar, quoting, doublequote, escapechar, comment, encoding, encoding_errors, dialect, error_bad_lines, warn_bad_lines, on_bad_lines, delim_whitespace, low_memory, memory_map, float_precision, storage_options)\u001b[0m\n\u001b[1;32m    678\u001b[0m     \u001b[0mkwds\u001b[0m\u001b[0;34m.\u001b[0m\u001b[0mupdate\u001b[0m\u001b[0;34m(\u001b[0m\u001b[0mkwds_defaults\u001b[0m\u001b[0;34m)\u001b[0m\u001b[0;34m\u001b[0m\u001b[0;34m\u001b[0m\u001b[0m\n\u001b[1;32m    679\u001b[0m \u001b[0;34m\u001b[0m\u001b[0m\n\u001b[0;32m--> 680\u001b[0;31m     \u001b[0;32mreturn\u001b[0m \u001b[0m_read\u001b[0m\u001b[0;34m(\u001b[0m\u001b[0mfilepath_or_buffer\u001b[0m\u001b[0;34m,\u001b[0m \u001b[0mkwds\u001b[0m\u001b[0;34m)\u001b[0m\u001b[0;34m\u001b[0m\u001b[0;34m\u001b[0m\u001b[0m\n\u001b[0m\u001b[1;32m    681\u001b[0m \u001b[0;34m\u001b[0m\u001b[0m\n\u001b[1;32m    682\u001b[0m \u001b[0;34m\u001b[0m\u001b[0m\n",
      "\u001b[0;32m~/.local/lib/python3.9/site-packages/pandas/io/parsers/readers.py\u001b[0m in \u001b[0;36m_read\u001b[0;34m(filepath_or_buffer, kwds)\u001b[0m\n\u001b[1;32m    573\u001b[0m \u001b[0;34m\u001b[0m\u001b[0m\n\u001b[1;32m    574\u001b[0m     \u001b[0;31m# Create the parser.\u001b[0m\u001b[0;34m\u001b[0m\u001b[0;34m\u001b[0m\u001b[0;34m\u001b[0m\u001b[0m\n\u001b[0;32m--> 575\u001b[0;31m     \u001b[0mparser\u001b[0m \u001b[0;34m=\u001b[0m \u001b[0mTextFileReader\u001b[0m\u001b[0;34m(\u001b[0m\u001b[0mfilepath_or_buffer\u001b[0m\u001b[0;34m,\u001b[0m \u001b[0;34m**\u001b[0m\u001b[0mkwds\u001b[0m\u001b[0;34m)\u001b[0m\u001b[0;34m\u001b[0m\u001b[0;34m\u001b[0m\u001b[0m\n\u001b[0m\u001b[1;32m    576\u001b[0m \u001b[0;34m\u001b[0m\u001b[0m\n\u001b[1;32m    577\u001b[0m     \u001b[0;32mif\u001b[0m \u001b[0mchunksize\u001b[0m \u001b[0;32mor\u001b[0m \u001b[0miterator\u001b[0m\u001b[0;34m:\u001b[0m\u001b[0;34m\u001b[0m\u001b[0;34m\u001b[0m\u001b[0m\n",
      "\u001b[0;32m~/.local/lib/python3.9/site-packages/pandas/io/parsers/readers.py\u001b[0m in \u001b[0;36m__init__\u001b[0;34m(self, f, engine, **kwds)\u001b[0m\n\u001b[1;32m    931\u001b[0m \u001b[0;34m\u001b[0m\u001b[0m\n\u001b[1;32m    932\u001b[0m         \u001b[0mself\u001b[0m\u001b[0;34m.\u001b[0m\u001b[0mhandles\u001b[0m\u001b[0;34m:\u001b[0m \u001b[0mIOHandles\u001b[0m \u001b[0;34m|\u001b[0m \u001b[0;32mNone\u001b[0m \u001b[0;34m=\u001b[0m \u001b[0;32mNone\u001b[0m\u001b[0;34m\u001b[0m\u001b[0;34m\u001b[0m\u001b[0m\n\u001b[0;32m--> 933\u001b[0;31m         \u001b[0mself\u001b[0m\u001b[0;34m.\u001b[0m\u001b[0m_engine\u001b[0m \u001b[0;34m=\u001b[0m \u001b[0mself\u001b[0m\u001b[0;34m.\u001b[0m\u001b[0m_make_engine\u001b[0m\u001b[0;34m(\u001b[0m\u001b[0mf\u001b[0m\u001b[0;34m,\u001b[0m \u001b[0mself\u001b[0m\u001b[0;34m.\u001b[0m\u001b[0mengine\u001b[0m\u001b[0;34m)\u001b[0m\u001b[0;34m\u001b[0m\u001b[0;34m\u001b[0m\u001b[0m\n\u001b[0m\u001b[1;32m    934\u001b[0m \u001b[0;34m\u001b[0m\u001b[0m\n\u001b[1;32m    935\u001b[0m     \u001b[0;32mdef\u001b[0m \u001b[0mclose\u001b[0m\u001b[0;34m(\u001b[0m\u001b[0mself\u001b[0m\u001b[0;34m)\u001b[0m\u001b[0;34m:\u001b[0m\u001b[0;34m\u001b[0m\u001b[0;34m\u001b[0m\u001b[0m\n",
      "\u001b[0;32m~/.local/lib/python3.9/site-packages/pandas/io/parsers/readers.py\u001b[0m in \u001b[0;36m_make_engine\u001b[0;34m(self, f, engine)\u001b[0m\n\u001b[1;32m   1215\u001b[0m             \u001b[0;31m# \"Union[str, PathLike[str], ReadCsvBuffer[bytes], ReadCsvBuffer[str]]\"\u001b[0m\u001b[0;34m\u001b[0m\u001b[0;34m\u001b[0m\u001b[0;34m\u001b[0m\u001b[0m\n\u001b[1;32m   1216\u001b[0m             \u001b[0;31m# , \"str\", \"bool\", \"Any\", \"Any\", \"Any\", \"Any\", \"Any\"\u001b[0m\u001b[0;34m\u001b[0m\u001b[0;34m\u001b[0m\u001b[0;34m\u001b[0m\u001b[0m\n\u001b[0;32m-> 1217\u001b[0;31m             self.handles = get_handle(  # type: ignore[call-overload]\n\u001b[0m\u001b[1;32m   1218\u001b[0m                 \u001b[0mf\u001b[0m\u001b[0;34m,\u001b[0m\u001b[0;34m\u001b[0m\u001b[0;34m\u001b[0m\u001b[0m\n\u001b[1;32m   1219\u001b[0m                 \u001b[0mmode\u001b[0m\u001b[0;34m,\u001b[0m\u001b[0;34m\u001b[0m\u001b[0;34m\u001b[0m\u001b[0m\n",
      "\u001b[0;32m~/.local/lib/python3.9/site-packages/pandas/io/common.py\u001b[0m in \u001b[0;36mget_handle\u001b[0;34m(path_or_buf, mode, encoding, compression, memory_map, is_text, errors, storage_options)\u001b[0m\n\u001b[1;32m    787\u001b[0m         \u001b[0;32mif\u001b[0m \u001b[0mioargs\u001b[0m\u001b[0;34m.\u001b[0m\u001b[0mencoding\u001b[0m \u001b[0;32mand\u001b[0m \u001b[0;34m\"b\"\u001b[0m \u001b[0;32mnot\u001b[0m \u001b[0;32min\u001b[0m \u001b[0mioargs\u001b[0m\u001b[0;34m.\u001b[0m\u001b[0mmode\u001b[0m\u001b[0;34m:\u001b[0m\u001b[0;34m\u001b[0m\u001b[0;34m\u001b[0m\u001b[0m\n\u001b[1;32m    788\u001b[0m             \u001b[0;31m# Encoding\u001b[0m\u001b[0;34m\u001b[0m\u001b[0;34m\u001b[0m\u001b[0;34m\u001b[0m\u001b[0m\n\u001b[0;32m--> 789\u001b[0;31m             handle = open(\n\u001b[0m\u001b[1;32m    790\u001b[0m                 \u001b[0mhandle\u001b[0m\u001b[0;34m,\u001b[0m\u001b[0;34m\u001b[0m\u001b[0;34m\u001b[0m\u001b[0m\n\u001b[1;32m    791\u001b[0m                 \u001b[0mioargs\u001b[0m\u001b[0;34m.\u001b[0m\u001b[0mmode\u001b[0m\u001b[0;34m,\u001b[0m\u001b[0;34m\u001b[0m\u001b[0;34m\u001b[0m\u001b[0m\n",
      "\u001b[0;31mFileNotFoundError\u001b[0m: [Errno 2] No such file or directory: '../../data/routes_rated.csv'"
     ]
    }
   ],
   "source": [
    "a,b,c = climber_2.route_recommender(show = True)"
   ]
  },
  {
   "cell_type": "code",
   "execution_count": null,
   "id": "constitutional-there",
   "metadata": {},
   "outputs": [],
   "source": [
    "cl = climber_class.climber()\n",
    "\n",
    "a,b,c = cl.route_recommender(show = True)"
   ]
  }
 ],
 "metadata": {
  "kernelspec": {
   "display_name": "Python 3 (ipykernel)",
   "language": "python",
   "name": "python3"
  },
  "language_info": {
   "codemirror_mode": {
    "name": "ipython",
    "version": 3
   },
   "file_extension": ".py",
   "mimetype": "text/x-python",
   "name": "python",
   "nbconvert_exporter": "python",
   "pygments_lexer": "ipython3",
   "version": "3.9.5"
  }
 },
 "nbformat": 4,
 "nbformat_minor": 5
}
