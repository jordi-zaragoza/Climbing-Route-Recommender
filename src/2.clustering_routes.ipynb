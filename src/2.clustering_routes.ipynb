{
 "cells": [
  {
   "cell_type": "code",
   "execution_count": 3,
   "id": "wooden-official",
   "metadata": {},
   "outputs": [],
   "source": [
    "import pandas as pd\n",
    "import numpy as np\n",
    "import pickle\n",
    "from sklearn.preprocessing import StandardScaler\n",
    "from sklearn.metrics import silhouette_score\n",
    "from sklearn.mixture import GaussianMixture\n",
    "from sklearn.cluster import AgglomerativeClustering, KMeans\n",
    "from scipy.cluster.hierarchy import dendrogram\n",
    "from sklearn.decomposition import PCA\n",
    "import matplotlib.pyplot as plt\n",
    "import seaborn as sns\n",
    "from lib import cluster_jzar, climb_jor"
   ]
  },
  {
   "cell_type": "code",
   "execution_count": 4,
   "id": "complete-salem",
   "metadata": {},
   "outputs": [],
   "source": [
    "pd.set_option(\"display.max_columns\",None)\n",
    "pd.set_option('display.max_rows', 10)"
   ]
  },
  {
   "cell_type": "markdown",
   "id": "641a5fe4",
   "metadata": {},
   "source": [
    "### We have 3 types of data:\n",
    "- `Independent features (clustered)` => <b>In this notebook we will work on this one\n",
    "- How good the route is (the higher the better)\n",
    "- Grade, Location, sex, heigh (defined by user)\n"
   ]
  },
  {
   "cell_type": "markdown",
   "id": "clean-knowing",
   "metadata": {},
   "source": [
    "# Clustering Routes"
   ]
  },
  {
   "cell_type": "markdown",
   "id": "incredible-batman",
   "metadata": {},
   "source": [
    "First we retrieve the features dataframe"
   ]
  },
  {
   "cell_type": "code",
   "execution_count": 6,
   "id": "disciplinary-causing",
   "metadata": {},
   "outputs": [],
   "source": [
    "routes_features = pd.read_csv('../data/routes_features.csv',low_memory=False, index_col=0)"
   ]
  },
  {
   "cell_type": "code",
   "execution_count": 6,
   "id": "impaired-depression",
   "metadata": {},
   "outputs": [
    {
     "name": "stdout",
     "output_type": "stream",
     "text": [
      "(55858, 19)\n"
     ]
    },
    {
     "data": {
      "text/html": [
       "<div>\n",
       "<style scoped>\n",
       "    .dataframe tbody tr th:only-of-type {\n",
       "        vertical-align: middle;\n",
       "    }\n",
       "\n",
       "    .dataframe tbody tr th {\n",
       "        vertical-align: top;\n",
       "    }\n",
       "\n",
       "    .dataframe thead th {\n",
       "        text-align: right;\n",
       "    }\n",
       "</style>\n",
       "<table border=\"1\" class=\"dataframe\">\n",
       "  <thead>\n",
       "    <tr style=\"text-align: right;\">\n",
       "      <th></th>\n",
       "      <th>name_id</th>\n",
       "      <th>country</th>\n",
       "      <th>crag</th>\n",
       "      <th>sector</th>\n",
       "      <th>name</th>\n",
       "      <th>ascents_count</th>\n",
       "      <th>repeat_sum</th>\n",
       "      <th>recommend_sum</th>\n",
       "      <th>chiped_sum</th>\n",
       "      <th>soft_sum</th>\n",
       "      <th>hard_sum</th>\n",
       "      <th>traditional_sum</th>\n",
       "      <th>tall_recommend_sum</th>\n",
       "      <th>grade_mean</th>\n",
       "      <th>sentiment_mean</th>\n",
       "      <th>rating_mean</th>\n",
       "      <th>sex_ratio</th>\n",
       "      <th>yellow_id_mean</th>\n",
       "      <th>first_ascent_mean</th>\n",
       "    </tr>\n",
       "  </thead>\n",
       "  <tbody>\n",
       "    <tr>\n",
       "      <th>55853</th>\n",
       "      <td>55853</td>\n",
       "      <td>zaf</td>\n",
       "      <td>van stadens</td>\n",
       "      <td>cleopatra wall</td>\n",
       "      <td>steel sunday</td>\n",
       "      <td>3</td>\n",
       "      <td>0.0</td>\n",
       "      <td>2.0</td>\n",
       "      <td>1.0</td>\n",
       "      <td>0</td>\n",
       "      <td>0</td>\n",
       "      <td>0</td>\n",
       "      <td>0</td>\n",
       "      <td>40.0</td>\n",
       "      <td>0.4753</td>\n",
       "      <td>NaN</td>\n",
       "      <td>0.0</td>\n",
       "      <td>255.0</td>\n",
       "      <td>0.0</td>\n",
       "    </tr>\n",
       "    <tr>\n",
       "      <th>55854</th>\n",
       "      <td>55854</td>\n",
       "      <td>zaf</td>\n",
       "      <td>van stadens</td>\n",
       "      <td>cleopatra wall</td>\n",
       "      <td>suck it up princess</td>\n",
       "      <td>2</td>\n",
       "      <td>0.0</td>\n",
       "      <td>0.0</td>\n",
       "      <td>0.0</td>\n",
       "      <td>0</td>\n",
       "      <td>0</td>\n",
       "      <td>0</td>\n",
       "      <td>0</td>\n",
       "      <td>44.0</td>\n",
       "      <td>0.7074</td>\n",
       "      <td>NaN</td>\n",
       "      <td>0.0</td>\n",
       "      <td>127.5</td>\n",
       "      <td>0.0</td>\n",
       "    </tr>\n",
       "    <tr>\n",
       "      <th>55855</th>\n",
       "      <td>55855</td>\n",
       "      <td>zaf</td>\n",
       "      <td>van stadens</td>\n",
       "      <td>cleopatra wall</td>\n",
       "      <td>sunset sonata</td>\n",
       "      <td>2</td>\n",
       "      <td>0.0</td>\n",
       "      <td>0.0</td>\n",
       "      <td>0.0</td>\n",
       "      <td>1</td>\n",
       "      <td>0</td>\n",
       "      <td>0</td>\n",
       "      <td>1</td>\n",
       "      <td>54.5</td>\n",
       "      <td>0.8636</td>\n",
       "      <td>3.0</td>\n",
       "      <td>0.0</td>\n",
       "      <td>255.0</td>\n",
       "      <td>0.5</td>\n",
       "    </tr>\n",
       "    <tr>\n",
       "      <th>55856</th>\n",
       "      <td>55856</td>\n",
       "      <td>zaf</td>\n",
       "      <td>van stadens</td>\n",
       "      <td>cleopatra wall</td>\n",
       "      <td>tekel</td>\n",
       "      <td>2</td>\n",
       "      <td>0.0</td>\n",
       "      <td>1.0</td>\n",
       "      <td>0.0</td>\n",
       "      <td>0</td>\n",
       "      <td>0</td>\n",
       "      <td>0</td>\n",
       "      <td>0</td>\n",
       "      <td>44.0</td>\n",
       "      <td>NaN</td>\n",
       "      <td>2.0</td>\n",
       "      <td>0.0</td>\n",
       "      <td>0.0</td>\n",
       "      <td>0.0</td>\n",
       "    </tr>\n",
       "    <tr>\n",
       "      <th>55857</th>\n",
       "      <td>55857</td>\n",
       "      <td>zaf</td>\n",
       "      <td>waterval boven</td>\n",
       "      <td>baboon buttress</td>\n",
       "      <td>pretenders</td>\n",
       "      <td>2</td>\n",
       "      <td>0.0</td>\n",
       "      <td>1.0</td>\n",
       "      <td>0.0</td>\n",
       "      <td>0</td>\n",
       "      <td>0</td>\n",
       "      <td>0</td>\n",
       "      <td>0</td>\n",
       "      <td>49.0</td>\n",
       "      <td>0.8020</td>\n",
       "      <td>NaN</td>\n",
       "      <td>0.0</td>\n",
       "      <td>255.0</td>\n",
       "      <td>0.0</td>\n",
       "    </tr>\n",
       "  </tbody>\n",
       "</table>\n",
       "</div>"
      ],
      "text/plain": [
       "       name_id country            crag           sector                 name  \\\n",
       "55853    55853     zaf     van stadens   cleopatra wall         steel sunday   \n",
       "55854    55854     zaf     van stadens   cleopatra wall  suck it up princess   \n",
       "55855    55855     zaf     van stadens   cleopatra wall        sunset sonata   \n",
       "55856    55856     zaf     van stadens   cleopatra wall                tekel   \n",
       "55857    55857     zaf  waterval boven  baboon buttress           pretenders   \n",
       "\n",
       "       ascents_count  repeat_sum  recommend_sum  chiped_sum  soft_sum  \\\n",
       "55853              3         0.0            2.0         1.0         0   \n",
       "55854              2         0.0            0.0         0.0         0   \n",
       "55855              2         0.0            0.0         0.0         1   \n",
       "55856              2         0.0            1.0         0.0         0   \n",
       "55857              2         0.0            1.0         0.0         0   \n",
       "\n",
       "       hard_sum  traditional_sum  tall_recommend_sum  grade_mean  \\\n",
       "55853         0                0                   0        40.0   \n",
       "55854         0                0                   0        44.0   \n",
       "55855         0                0                   1        54.5   \n",
       "55856         0                0                   0        44.0   \n",
       "55857         0                0                   0        49.0   \n",
       "\n",
       "       sentiment_mean  rating_mean  sex_ratio  yellow_id_mean  \\\n",
       "55853          0.4753          NaN        0.0           255.0   \n",
       "55854          0.7074          NaN        0.0           127.5   \n",
       "55855          0.8636          3.0        0.0           255.0   \n",
       "55856             NaN          2.0        0.0             0.0   \n",
       "55857          0.8020          NaN        0.0           255.0   \n",
       "\n",
       "       first_ascent_mean  \n",
       "55853                0.0  \n",
       "55854                0.0  \n",
       "55855                0.5  \n",
       "55856                0.0  \n",
       "55857                0.0  "
      ]
     },
     "execution_count": 6,
     "metadata": {},
     "output_type": "execute_result"
    }
   ],
   "source": [
    "print(routes_features.shape)\n",
    "routes_features.tail(5)"
   ]
  },
  {
   "cell_type": "markdown",
   "id": "positive-season",
   "metadata": {},
   "source": [
    "## Prepare the dataframe for clustering"
   ]
  },
  {
   "cell_type": "code",
   "execution_count": 61,
   "id": "accompanied-northern",
   "metadata": {},
   "outputs": [
    {
     "data": {
      "text/html": [
       "<div>\n",
       "<style scoped>\n",
       "    .dataframe tbody tr th:only-of-type {\n",
       "        vertical-align: middle;\n",
       "    }\n",
       "\n",
       "    .dataframe tbody tr th {\n",
       "        vertical-align: top;\n",
       "    }\n",
       "\n",
       "    .dataframe thead th {\n",
       "        text-align: right;\n",
       "    }\n",
       "</style>\n",
       "<table border=\"1\" class=\"dataframe\">\n",
       "  <thead>\n",
       "    <tr style=\"text-align: right;\">\n",
       "      <th></th>\n",
       "      <th>ascents_count</th>\n",
       "      <th>repeat_sum</th>\n",
       "      <th>chiped_sum</th>\n",
       "      <th>soft_sum</th>\n",
       "      <th>hard_sum</th>\n",
       "      <th>traditional_sum</th>\n",
       "      <th>tall_recommend_sum</th>\n",
       "      <th>sex_ratio</th>\n",
       "      <th>first_ascent_mean</th>\n",
       "    </tr>\n",
       "  </thead>\n",
       "  <tbody>\n",
       "    <tr>\n",
       "      <th>0</th>\n",
       "      <td>4</td>\n",
       "      <td>0.0</td>\n",
       "      <td>0.0</td>\n",
       "      <td>0</td>\n",
       "      <td>1</td>\n",
       "      <td>0</td>\n",
       "      <td>-1</td>\n",
       "      <td>0.0</td>\n",
       "      <td>0.0</td>\n",
       "    </tr>\n",
       "    <tr>\n",
       "      <th>1</th>\n",
       "      <td>6</td>\n",
       "      <td>0.0</td>\n",
       "      <td>0.0</td>\n",
       "      <td>1</td>\n",
       "      <td>1</td>\n",
       "      <td>0</td>\n",
       "      <td>-1</td>\n",
       "      <td>0.0</td>\n",
       "      <td>0.0</td>\n",
       "    </tr>\n",
       "    <tr>\n",
       "      <th>2</th>\n",
       "      <td>5</td>\n",
       "      <td>0.0</td>\n",
       "      <td>0.0</td>\n",
       "      <td>0</td>\n",
       "      <td>0</td>\n",
       "      <td>0</td>\n",
       "      <td>0</td>\n",
       "      <td>0.0</td>\n",
       "      <td>0.0</td>\n",
       "    </tr>\n",
       "    <tr>\n",
       "      <th>3</th>\n",
       "      <td>3</td>\n",
       "      <td>0.0</td>\n",
       "      <td>0.0</td>\n",
       "      <td>0</td>\n",
       "      <td>1</td>\n",
       "      <td>0</td>\n",
       "      <td>0</td>\n",
       "      <td>0.0</td>\n",
       "      <td>0.0</td>\n",
       "    </tr>\n",
       "    <tr>\n",
       "      <th>4</th>\n",
       "      <td>2</td>\n",
       "      <td>0.0</td>\n",
       "      <td>0.0</td>\n",
       "      <td>1</td>\n",
       "      <td>0</td>\n",
       "      <td>0</td>\n",
       "      <td>1</td>\n",
       "      <td>0.0</td>\n",
       "      <td>0.0</td>\n",
       "    </tr>\n",
       "  </tbody>\n",
       "</table>\n",
       "</div>"
      ],
      "text/plain": [
       "   ascents_count  repeat_sum  chiped_sum  soft_sum  hard_sum  traditional_sum  \\\n",
       "0              4         0.0         0.0         0         1                0   \n",
       "1              6         0.0         0.0         1         1                0   \n",
       "2              5         0.0         0.0         0         0                0   \n",
       "3              3         0.0         0.0         0         1                0   \n",
       "4              2         0.0         0.0         1         0                0   \n",
       "\n",
       "   tall_recommend_sum  sex_ratio  first_ascent_mean  \n",
       "0                  -1        0.0                0.0  \n",
       "1                  -1        0.0                0.0  \n",
       "2                   0        0.0                0.0  \n",
       "3                   0        0.0                0.0  \n",
       "4                   1        0.0                0.0  "
      ]
     },
     "execution_count": 61,
     "metadata": {},
     "output_type": "execute_result"
    }
   ],
   "source": [
    "# Drop not interesting features\n",
    "X = routes_features[['ascents_count','repeat_sum','chiped_sum','soft_sum','hard_sum','traditional_sum','tall_recommend_sum','sex_ratio','first_ascent_mean']]\n",
    "X.head()"
   ]
  },
  {
   "cell_type": "markdown",
   "id": "under-dress",
   "metadata": {},
   "source": [
    "Transform sum to rates"
   ]
  },
  {
   "cell_type": "code",
   "execution_count": 64,
   "id": "discrete-attack",
   "metadata": {},
   "outputs": [
    {
     "data": {
      "text/html": [
       "<div>\n",
       "<style scoped>\n",
       "    .dataframe tbody tr th:only-of-type {\n",
       "        vertical-align: middle;\n",
       "    }\n",
       "\n",
       "    .dataframe tbody tr th {\n",
       "        vertical-align: top;\n",
       "    }\n",
       "\n",
       "    .dataframe thead th {\n",
       "        text-align: right;\n",
       "    }\n",
       "</style>\n",
       "<table border=\"1\" class=\"dataframe\">\n",
       "  <thead>\n",
       "    <tr style=\"text-align: right;\">\n",
       "      <th></th>\n",
       "      <th>ascents_count</th>\n",
       "      <th>repeat_rate</th>\n",
       "      <th>chiped_rate</th>\n",
       "      <th>soft_rate</th>\n",
       "      <th>hard_rate</th>\n",
       "      <th>traditional_rate</th>\n",
       "      <th>tall_recommend_rate</th>\n",
       "      <th>sex_ratio</th>\n",
       "      <th>first_ascent_mean</th>\n",
       "    </tr>\n",
       "  </thead>\n",
       "  <tbody>\n",
       "    <tr>\n",
       "      <th>0</th>\n",
       "      <td>4</td>\n",
       "      <td>0.0</td>\n",
       "      <td>0.0</td>\n",
       "      <td>0.000000</td>\n",
       "      <td>0.250000</td>\n",
       "      <td>0.0</td>\n",
       "      <td>-0.250000</td>\n",
       "      <td>0.0</td>\n",
       "      <td>0.0</td>\n",
       "    </tr>\n",
       "    <tr>\n",
       "      <th>1</th>\n",
       "      <td>6</td>\n",
       "      <td>0.0</td>\n",
       "      <td>0.0</td>\n",
       "      <td>0.166667</td>\n",
       "      <td>0.166667</td>\n",
       "      <td>0.0</td>\n",
       "      <td>-0.166667</td>\n",
       "      <td>0.0</td>\n",
       "      <td>0.0</td>\n",
       "    </tr>\n",
       "    <tr>\n",
       "      <th>2</th>\n",
       "      <td>5</td>\n",
       "      <td>0.0</td>\n",
       "      <td>0.0</td>\n",
       "      <td>0.000000</td>\n",
       "      <td>0.000000</td>\n",
       "      <td>0.0</td>\n",
       "      <td>0.000000</td>\n",
       "      <td>0.0</td>\n",
       "      <td>0.0</td>\n",
       "    </tr>\n",
       "    <tr>\n",
       "      <th>3</th>\n",
       "      <td>3</td>\n",
       "      <td>0.0</td>\n",
       "      <td>0.0</td>\n",
       "      <td>0.000000</td>\n",
       "      <td>0.333333</td>\n",
       "      <td>0.0</td>\n",
       "      <td>0.000000</td>\n",
       "      <td>0.0</td>\n",
       "      <td>0.0</td>\n",
       "    </tr>\n",
       "    <tr>\n",
       "      <th>4</th>\n",
       "      <td>2</td>\n",
       "      <td>0.0</td>\n",
       "      <td>0.0</td>\n",
       "      <td>0.500000</td>\n",
       "      <td>0.000000</td>\n",
       "      <td>0.0</td>\n",
       "      <td>0.500000</td>\n",
       "      <td>0.0</td>\n",
       "      <td>0.0</td>\n",
       "    </tr>\n",
       "  </tbody>\n",
       "</table>\n",
       "</div>"
      ],
      "text/plain": [
       "   ascents_count  repeat_rate  chiped_rate  soft_rate  hard_rate  \\\n",
       "0              4          0.0          0.0   0.000000   0.250000   \n",
       "1              6          0.0          0.0   0.166667   0.166667   \n",
       "2              5          0.0          0.0   0.000000   0.000000   \n",
       "3              3          0.0          0.0   0.000000   0.333333   \n",
       "4              2          0.0          0.0   0.500000   0.000000   \n",
       "\n",
       "   traditional_rate  tall_recommend_rate  sex_ratio  first_ascent_mean  \n",
       "0               0.0            -0.250000        0.0                0.0  \n",
       "1               0.0            -0.166667        0.0                0.0  \n",
       "2               0.0             0.000000        0.0                0.0  \n",
       "3               0.0             0.000000        0.0                0.0  \n",
       "4               0.0             0.500000        0.0                0.0  "
      ]
     },
     "execution_count": 64,
     "metadata": {},
     "output_type": "execute_result"
    }
   ],
   "source": [
    "X_new = X.copy()\n",
    "X_new['repeat_rate'] = X_new.repeat_sum/X.ascents_count\n",
    "X_new['chiped_rate'] = X_new.chiped_sum/X.ascents_count\n",
    "X_new['soft_rate'] = X_new.soft_sum/X.ascents_count\n",
    "X_new['hard_rate'] = X_new.hard_sum/X.ascents_count\n",
    "X_new['traditional_rate'] = X_new.traditional_sum/X.ascents_count\n",
    "X_new['tall_recommend_rate'] = X_new.tall_recommend_sum/X.ascents_count\n",
    "X = X_new[['ascents_count','repeat_rate','chiped_rate','soft_rate','hard_rate','traditional_rate','tall_recommend_rate','sex_ratio','first_ascent_mean']]\n",
    "X.head()"
   ]
  },
  {
   "cell_type": "code",
   "execution_count": 65,
   "id": "aggressive-taylor",
   "metadata": {},
   "outputs": [
    {
     "data": {
      "text/html": [
       "<div>\n",
       "<style scoped>\n",
       "    .dataframe tbody tr th:only-of-type {\n",
       "        vertical-align: middle;\n",
       "    }\n",
       "\n",
       "    .dataframe tbody tr th {\n",
       "        vertical-align: top;\n",
       "    }\n",
       "\n",
       "    .dataframe thead th {\n",
       "        text-align: right;\n",
       "    }\n",
       "</style>\n",
       "<table border=\"1\" class=\"dataframe\">\n",
       "  <thead>\n",
       "    <tr style=\"text-align: right;\">\n",
       "      <th></th>\n",
       "      <th>ascents_count</th>\n",
       "      <th>repeat_rate</th>\n",
       "      <th>chiped_rate</th>\n",
       "      <th>soft_rate</th>\n",
       "      <th>hard_rate</th>\n",
       "      <th>traditional_rate</th>\n",
       "      <th>tall_recommend_rate</th>\n",
       "      <th>sex_ratio</th>\n",
       "      <th>first_ascent_mean</th>\n",
       "    </tr>\n",
       "  </thead>\n",
       "  <tbody>\n",
       "    <tr>\n",
       "      <th>ascents_count</th>\n",
       "      <td>1.000000</td>\n",
       "      <td>-0.011173</td>\n",
       "      <td>-0.021113</td>\n",
       "      <td>0.007422</td>\n",
       "      <td>-0.047636</td>\n",
       "      <td>-0.039778</td>\n",
       "      <td>0.005870</td>\n",
       "      <td>0.044584</td>\n",
       "      <td>-0.058248</td>\n",
       "    </tr>\n",
       "    <tr>\n",
       "      <th>repeat_rate</th>\n",
       "      <td>-0.011173</td>\n",
       "      <td>1.000000</td>\n",
       "      <td>-0.012113</td>\n",
       "      <td>-0.005719</td>\n",
       "      <td>-0.001229</td>\n",
       "      <td>0.037641</td>\n",
       "      <td>0.006325</td>\n",
       "      <td>-0.025627</td>\n",
       "      <td>0.025907</td>\n",
       "    </tr>\n",
       "    <tr>\n",
       "      <th>chiped_rate</th>\n",
       "      <td>-0.021113</td>\n",
       "      <td>-0.012113</td>\n",
       "      <td>1.000000</td>\n",
       "      <td>0.039773</td>\n",
       "      <td>0.011554</td>\n",
       "      <td>-0.016925</td>\n",
       "      <td>-0.005703</td>\n",
       "      <td>-0.037049</td>\n",
       "      <td>0.038292</td>\n",
       "    </tr>\n",
       "    <tr>\n",
       "      <th>soft_rate</th>\n",
       "      <td>0.007422</td>\n",
       "      <td>-0.005719</td>\n",
       "      <td>0.039773</td>\n",
       "      <td>1.000000</td>\n",
       "      <td>-0.139273</td>\n",
       "      <td>-0.044010</td>\n",
       "      <td>0.046628</td>\n",
       "      <td>-0.063966</td>\n",
       "      <td>0.027025</td>\n",
       "    </tr>\n",
       "    <tr>\n",
       "      <th>hard_rate</th>\n",
       "      <td>-0.047636</td>\n",
       "      <td>-0.001229</td>\n",
       "      <td>0.011554</td>\n",
       "      <td>-0.139273</td>\n",
       "      <td>1.000000</td>\n",
       "      <td>-0.002058</td>\n",
       "      <td>-0.048318</td>\n",
       "      <td>-0.060214</td>\n",
       "      <td>0.009883</td>\n",
       "    </tr>\n",
       "    <tr>\n",
       "      <th>traditional_rate</th>\n",
       "      <td>-0.039778</td>\n",
       "      <td>0.037641</td>\n",
       "      <td>-0.016925</td>\n",
       "      <td>-0.044010</td>\n",
       "      <td>-0.002058</td>\n",
       "      <td>1.000000</td>\n",
       "      <td>-0.006288</td>\n",
       "      <td>-0.005910</td>\n",
       "      <td>-0.012846</td>\n",
       "    </tr>\n",
       "    <tr>\n",
       "      <th>tall_recommend_rate</th>\n",
       "      <td>0.005870</td>\n",
       "      <td>0.006325</td>\n",
       "      <td>-0.005703</td>\n",
       "      <td>0.046628</td>\n",
       "      <td>-0.048318</td>\n",
       "      <td>-0.006288</td>\n",
       "      <td>1.000000</td>\n",
       "      <td>0.014150</td>\n",
       "      <td>0.004899</td>\n",
       "    </tr>\n",
       "    <tr>\n",
       "      <th>sex_ratio</th>\n",
       "      <td>0.044584</td>\n",
       "      <td>-0.025627</td>\n",
       "      <td>-0.037049</td>\n",
       "      <td>-0.063966</td>\n",
       "      <td>-0.060214</td>\n",
       "      <td>-0.005910</td>\n",
       "      <td>0.014150</td>\n",
       "      <td>1.000000</td>\n",
       "      <td>-0.049881</td>\n",
       "    </tr>\n",
       "    <tr>\n",
       "      <th>first_ascent_mean</th>\n",
       "      <td>-0.058248</td>\n",
       "      <td>0.025907</td>\n",
       "      <td>0.038292</td>\n",
       "      <td>0.027025</td>\n",
       "      <td>0.009883</td>\n",
       "      <td>-0.012846</td>\n",
       "      <td>0.004899</td>\n",
       "      <td>-0.049881</td>\n",
       "      <td>1.000000</td>\n",
       "    </tr>\n",
       "  </tbody>\n",
       "</table>\n",
       "</div>"
      ],
      "text/plain": [
       "                     ascents_count  repeat_rate  chiped_rate  soft_rate  \\\n",
       "ascents_count             1.000000    -0.011173    -0.021113   0.007422   \n",
       "repeat_rate              -0.011173     1.000000    -0.012113  -0.005719   \n",
       "chiped_rate              -0.021113    -0.012113     1.000000   0.039773   \n",
       "soft_rate                 0.007422    -0.005719     0.039773   1.000000   \n",
       "hard_rate                -0.047636    -0.001229     0.011554  -0.139273   \n",
       "traditional_rate         -0.039778     0.037641    -0.016925  -0.044010   \n",
       "tall_recommend_rate       0.005870     0.006325    -0.005703   0.046628   \n",
       "sex_ratio                 0.044584    -0.025627    -0.037049  -0.063966   \n",
       "first_ascent_mean        -0.058248     0.025907     0.038292   0.027025   \n",
       "\n",
       "                     hard_rate  traditional_rate  tall_recommend_rate  \\\n",
       "ascents_count        -0.047636         -0.039778             0.005870   \n",
       "repeat_rate          -0.001229          0.037641             0.006325   \n",
       "chiped_rate           0.011554         -0.016925            -0.005703   \n",
       "soft_rate            -0.139273         -0.044010             0.046628   \n",
       "hard_rate             1.000000         -0.002058            -0.048318   \n",
       "traditional_rate     -0.002058          1.000000            -0.006288   \n",
       "tall_recommend_rate  -0.048318         -0.006288             1.000000   \n",
       "sex_ratio            -0.060214         -0.005910             0.014150   \n",
       "first_ascent_mean     0.009883         -0.012846             0.004899   \n",
       "\n",
       "                     sex_ratio  first_ascent_mean  \n",
       "ascents_count         0.044584          -0.058248  \n",
       "repeat_rate          -0.025627           0.025907  \n",
       "chiped_rate          -0.037049           0.038292  \n",
       "soft_rate            -0.063966           0.027025  \n",
       "hard_rate            -0.060214           0.009883  \n",
       "traditional_rate     -0.005910          -0.012846  \n",
       "tall_recommend_rate   0.014150           0.004899  \n",
       "sex_ratio             1.000000          -0.049881  \n",
       "first_ascent_mean    -0.049881           1.000000  "
      ]
     },
     "execution_count": 65,
     "metadata": {},
     "output_type": "execute_result"
    }
   ],
   "source": [
    "X.corr()"
   ]
  },
  {
   "cell_type": "code",
   "execution_count": 66,
   "id": "absent-turkish",
   "metadata": {},
   "outputs": [
    {
     "data": {
      "text/plain": [
       "<AxesSubplot:>"
      ]
     },
     "execution_count": 66,
     "metadata": {},
     "output_type": "execute_result"
    },
    {
     "data": {
      "image/png": "[encoded data removed]",
      "text/plain": [
       "<Figure size 432x288 with 2 Axes>"
      ]
     },
     "metadata": {
      "needs_background": "light"
     },
     "output_type": "display_data"
    }
   ],
   "source": [
    "sns.heatmap(X.corr())"
   ]
  },
  {
   "cell_type": "markdown",
   "id": "accepted-exploration",
   "metadata": {},
   "source": [
    "Not a big correlation between features"
   ]
  },
  {
   "cell_type": "code",
   "execution_count": 69,
   "id": "complete-portsmouth",
   "metadata": {},
   "outputs": [
    {
     "name": "stdout",
     "output_type": "stream",
     "text": [
      "(55858, 9)\n"
     ]
    },
    {
     "data": {
      "text/html": [
       "<div>\n",
       "<style scoped>\n",
       "    .dataframe tbody tr th:only-of-type {\n",
       "        vertical-align: middle;\n",
       "    }\n",
       "\n",
       "    .dataframe tbody tr th {\n",
       "        vertical-align: top;\n",
       "    }\n",
       "\n",
       "    .dataframe thead th {\n",
       "        text-align: right;\n",
       "    }\n",
       "</style>\n",
       "<table border=\"1\" class=\"dataframe\">\n",
       "  <thead>\n",
       "    <tr style=\"text-align: right;\">\n",
       "      <th></th>\n",
       "      <th>ascents_count</th>\n",
       "      <th>repeat_rate</th>\n",
       "      <th>chiped_rate</th>\n",
       "      <th>soft_rate</th>\n",
       "      <th>hard_rate</th>\n",
       "      <th>traditional_rate</th>\n",
       "      <th>tall_recommend_rate</th>\n",
       "      <th>sex_ratio</th>\n",
       "      <th>first_ascent_mean</th>\n",
       "    </tr>\n",
       "  </thead>\n",
       "  <tbody>\n",
       "    <tr>\n",
       "      <th>0</th>\n",
       "      <td>-0.326844</td>\n",
       "      <td>-0.213352</td>\n",
       "      <td>-0.108895</td>\n",
       "      <td>-0.506343</td>\n",
       "      <td>1.125318</td>\n",
       "      <td>-0.158027</td>\n",
       "      <td>-1.761691</td>\n",
       "      <td>-0.611235</td>\n",
       "      <td>-0.198984</td>\n",
       "    </tr>\n",
       "    <tr>\n",
       "      <th>1</th>\n",
       "      <td>-0.237211</td>\n",
       "      <td>-0.213352</td>\n",
       "      <td>-0.108895</td>\n",
       "      <td>0.578574</td>\n",
       "      <td>0.584765</td>\n",
       "      <td>-0.158027</td>\n",
       "      <td>-1.175380</td>\n",
       "      <td>-0.611235</td>\n",
       "      <td>-0.198984</td>\n",
       "    </tr>\n",
       "    <tr>\n",
       "      <th>2</th>\n",
       "      <td>-0.282028</td>\n",
       "      <td>-0.213352</td>\n",
       "      <td>-0.108895</td>\n",
       "      <td>-0.506343</td>\n",
       "      <td>-0.496339</td>\n",
       "      <td>-0.158027</td>\n",
       "      <td>-0.002757</td>\n",
       "      <td>-0.611235</td>\n",
       "      <td>-0.198984</td>\n",
       "    </tr>\n",
       "  </tbody>\n",
       "</table>\n",
       "</div>"
      ],
      "text/plain": [
       "   ascents_count  repeat_rate  chiped_rate  soft_rate  hard_rate  \\\n",
       "0      -0.326844    -0.213352    -0.108895  -0.506343   1.125318   \n",
       "1      -0.237211    -0.213352    -0.108895   0.578574   0.584765   \n",
       "2      -0.282028    -0.213352    -0.108895  -0.506343  -0.496339   \n",
       "\n",
       "   traditional_rate  tall_recommend_rate  sex_ratio  first_ascent_mean  \n",
       "0         -0.158027            -1.761691  -0.611235          -0.198984  \n",
       "1         -0.158027            -1.175380  -0.611235          -0.198984  \n",
       "2         -0.158027            -0.002757  -0.611235          -0.198984  "
      ]
     },
     "metadata": {},
     "output_type": "display_data"
    }
   ],
   "source": [
    "scaler = StandardScaler()\n",
    "scaler.fit(X)\n",
    "X_scaled = scaler.transform(X)\n",
    "filename = \"../transformer/scaler.pickle\" # Path with filename\n",
    "with open(filename, \"wb\") as file:\n",
    "        pickle.dump(scaler,file)\n",
    "X_scaled_df = pd.DataFrame(X_scaled, columns = X.columns)\n",
    "print(X_scaled_df.shape)\n",
    "display(X_scaled_df.head(3))"
   ]
  },
  {
   "cell_type": "markdown",
   "id": "seeing-wrong",
   "metadata": {},
   "source": [
    "### Check the PCA"
   ]
  },
  {
   "cell_type": "code",
   "execution_count": 70,
   "id": "harmful-coordination",
   "metadata": {},
   "outputs": [
    {
     "data": {
      "text/plain": [
       "array([0.13180752, 0.12862985, 0.11703265, 0.10941848, 0.10868076,\n",
       "       0.10672275, 0.10620676, 0.10147798, 0.09002325])"
      ]
     },
     "execution_count": 70,
     "metadata": {},
     "output_type": "execute_result"
    }
   ],
   "source": [
    "pca = PCA(n_components=None)\n",
    "principalComponents = pca.fit_transform(X_scaled_df)\n",
    "principalDf = pd.DataFrame(data = principalComponents)\n",
    "pca.explained_variance_ratio_"
   ]
  },
  {
   "cell_type": "markdown",
   "id": "unknown-declaration",
   "metadata": {},
   "source": [
    "All pcas have more or less the same variance ratio"
   ]
  },
  {
   "cell_type": "markdown",
   "id": "legendary-covering",
   "metadata": {},
   "source": [
    "# Clustering model - K-Means"
   ]
  },
  {
   "cell_type": "code",
   "execution_count": 71,
   "id": "portable-truck",
   "metadata": {
    "scrolled": true
   },
   "outputs": [
    {
     "name": "stdout",
     "output_type": "stream",
     "text": [
      "Training a K-Means model with 2 neighbours! \n",
      "\n",
      "Training a K-Means model with 3 neighbours! \n",
      "\n",
      "Training a K-Means model with 4 neighbours! \n",
      "\n",
      "Training a K-Means model with 5 neighbours! \n",
      "\n",
      "Training a K-Means model with 6 neighbours! \n",
      "\n",
      "Training a K-Means model with 7 neighbours! \n",
      "\n",
      "Training a K-Means model with 8 neighbours! \n",
      "\n",
      "Training a K-Means model with 9 neighbours! \n",
      "\n",
      "Training a K-Means model with 10 neighbours! \n",
      "\n",
      "Training a K-Means model with 11 neighbours! \n",
      "\n",
      "Training a K-Means model with 12 neighbours! \n",
      "\n",
      "Training a K-Means model with 13 neighbours! \n",
      "\n",
      "Training a K-Means model with 14 neighbours! \n",
      "\n",
      "Training a K-Means model with 15 neighbours! \n",
      "\n",
      "Training a K-Means model with 16 neighbours! \n",
      "\n",
      "Training a K-Means model with 17 neighbours! \n",
      "\n",
      "Training a K-Means model with 18 neighbours! \n",
      "\n",
      "Training a K-Means model with 19 neighbours! \n",
      "\n",
      "Training a K-Means model with 20 neighbours! \n",
      "\n"
     ]
    }
   ],
   "source": [
    "K = range(2, 21)\n",
    "inertia = []\n",
    "silhouette = []\n",
    "\n",
    "for k in K:\n",
    "    print(\"Training a K-Means model with {} neighbours! \".format(k))\n",
    "    print()\n",
    "    kmeans = KMeans(n_clusters=k,\n",
    "                    random_state=1234)\n",
    "    kmeans.fit(X_scaled_df)\n",
    "    filename = \"../model/kmeans_\" + str(k) + \".pickle\" # Path with filename\n",
    "    with open(filename, \"wb\") as file:\n",
    "        pickle.dump(kmeans,file)\n",
    "    inertia.append(kmeans.inertia_)\n",
    "    silhouette.append(silhouette_score(X_scaled_df, kmeans.predict(X_scaled_df)))"
   ]
  },
  {
   "cell_type": "markdown",
   "id": "official-output",
   "metadata": {},
   "source": [
    "I will 3D plot in 2 groups\n"
   ]
  },
  {
   "cell_type": "code",
   "execution_count": 37,
   "id": "wrong-phoenix",
   "metadata": {},
   "outputs": [
    {
     "data": {
      "text/plain": [
       "Text(0.5, 1.0, 'Silhouette Method showing the optimal k')"
      ]
     },
     "execution_count": 37,
     "metadata": {},
     "output_type": "execute_result"
    },
    {
     "data": {
      "image/png": "[encoded data removed]",
      "text/plain": [
       "<Figure size 1152x576 with 2 Axes>"
      ]
     },
     "metadata": {
      "needs_background": "light"
     },
     "output_type": "display_data"
    }
   ],
   "source": [
    "fig, ax = plt.subplots(1,2,figsize=(16,8))\n",
    "ax[0].plot(K, inertia, 'bx-')\n",
    "ax[0].set_xlabel('k')\n",
    "ax[0].set_ylabel('inertia')\n",
    "ax[0].set_xticks(np.arange(min(K), max(K)+1, 1.0))\n",
    "ax[0].set_title('Elbow Method showing the optimal k')\n",
    "ax[1].plot(K, silhouette, 'bx-')\n",
    "ax[1].set_xlabel('k')\n",
    "ax[1].set_ylabel('silhouette score')\n",
    "ax[1].set_xticks(np.arange(min(K), max(K)+1, 1.0))\n",
    "ax[1].set_title('Silhouette Method showing the optimal k')"
   ]
  },
  {
   "cell_type": "markdown",
   "id": "homeless-equality",
   "metadata": {},
   "source": [
    "We will take 6"
   ]
  },
  {
   "cell_type": "code",
   "execution_count": 73,
   "id": "lucky-seven",
   "metadata": {},
   "outputs": [
    {
     "data": {
      "text/plain": [
       "0     6561\n",
       "1     7048\n",
       "2    30500\n",
       "3     5601\n",
       "4     1333\n",
       "5      506\n",
       "6     1176\n",
       "7     1354\n",
       "8     1779\n",
       "dtype: int64"
      ]
     },
     "execution_count": 73,
     "metadata": {},
     "output_type": "execute_result"
    }
   ],
   "source": [
    "k = 9\n",
    "filename = \"../model/kmeans_\" + str(k) + \".pickle\" # Path with filename\n",
    "with open(filename, \"rb\") as file:\n",
    "    kmeans = pickle.load(file)\n",
    "clusters = kmeans.predict(X_scaled_df)\n",
    "#clusters\n",
    "pd.Series(clusters).value_counts().sort_index() # Number of songs in each cluster"
   ]
  },
  {
   "cell_type": "code",
   "execution_count": 74,
   "id": "biological-winner",
   "metadata": {},
   "outputs": [
    {
     "data": {
      "text/plain": [
       "array([3, 2, 2, ..., 7, 2, 2], dtype=int32)"
      ]
     },
     "execution_count": 74,
     "metadata": {},
     "output_type": "execute_result"
    }
   ],
   "source": [
    "clusters"
   ]
  },
  {
   "cell_type": "markdown",
   "id": "dress-consortium",
   "metadata": {},
   "source": [
    "#### Find the centroids"
   ]
  },
  {
   "cell_type": "code",
   "execution_count": 76,
   "id": "associate-thread",
   "metadata": {
    "scrolled": false
   },
   "outputs": [
    {
     "data": {
      "text/html": [
       "<div>\n",
       "<style scoped>\n",
       "    .dataframe tbody tr th:only-of-type {\n",
       "        vertical-align: middle;\n",
       "    }\n",
       "\n",
       "    .dataframe tbody tr th {\n",
       "        vertical-align: top;\n",
       "    }\n",
       "\n",
       "    .dataframe thead th {\n",
       "        text-align: right;\n",
       "    }\n",
       "</style>\n",
       "<table border=\"1\" class=\"dataframe\">\n",
       "  <thead>\n",
       "    <tr style=\"text-align: right;\">\n",
       "      <th></th>\n",
       "      <th>ascents_count</th>\n",
       "      <th>repeat_rate</th>\n",
       "      <th>chiped_rate</th>\n",
       "      <th>soft_rate</th>\n",
       "      <th>hard_rate</th>\n",
       "      <th>traditional_rate</th>\n",
       "      <th>tall_recommend_rate</th>\n",
       "      <th>sex_ratio</th>\n",
       "      <th>first_ascent_mean</th>\n",
       "    </tr>\n",
       "  </thead>\n",
       "  <tbody>\n",
       "    <tr>\n",
       "      <th>0</th>\n",
       "      <td>6.451303</td>\n",
       "      <td>0.004422</td>\n",
       "      <td>1.522094e-03</td>\n",
       "      <td>0.412846</td>\n",
       "      <td>0.023076</td>\n",
       "      <td>0.001589</td>\n",
       "      <td>0.022216</td>\n",
       "      <td>0.066835</td>\n",
       "      <td>0.004079</td>\n",
       "    </tr>\n",
       "    <tr>\n",
       "      <th>1</th>\n",
       "      <td>6.606925</td>\n",
       "      <td>0.004441</td>\n",
       "      <td>3.183036e-04</td>\n",
       "      <td>0.019408</td>\n",
       "      <td>0.049282</td>\n",
       "      <td>0.001691</td>\n",
       "      <td>0.014918</td>\n",
       "      <td>0.399231</td>\n",
       "      <td>0.002944</td>\n",
       "    </tr>\n",
       "    <tr>\n",
       "      <th>2</th>\n",
       "      <td>10.035569</td>\n",
       "      <td>0.005642</td>\n",
       "      <td>1.183196e-03</td>\n",
       "      <td>0.031354</td>\n",
       "      <td>0.031472</td>\n",
       "      <td>0.002027</td>\n",
       "      <td>0.002015</td>\n",
       "      <td>0.044014</td>\n",
       "      <td>0.004055</td>\n",
       "    </tr>\n",
       "    <tr>\n",
       "      <th>3</th>\n",
       "      <td>5.107659</td>\n",
       "      <td>0.003352</td>\n",
       "      <td>7.745633e-04</td>\n",
       "      <td>0.014545</td>\n",
       "      <td>0.426598</td>\n",
       "      <td>0.002939</td>\n",
       "      <td>-0.053599</td>\n",
       "      <td>0.034000</td>\n",
       "      <td>0.003000</td>\n",
       "    </tr>\n",
       "    <tr>\n",
       "      <th>4</th>\n",
       "      <td>5.552888</td>\n",
       "      <td>0.419707</td>\n",
       "      <td>5.312340e-04</td>\n",
       "      <td>0.064521</td>\n",
       "      <td>0.074348</td>\n",
       "      <td>0.013215</td>\n",
       "      <td>0.003697</td>\n",
       "      <td>0.064177</td>\n",
       "      <td>0.019161</td>\n",
       "    </tr>\n",
       "    <tr>\n",
       "      <th>5</th>\n",
       "      <td>4.509881</td>\n",
       "      <td>0.004832</td>\n",
       "      <td>3.838689e-01</td>\n",
       "      <td>0.132314</td>\n",
       "      <td>0.087135</td>\n",
       "      <td>0.000395</td>\n",
       "      <td>-0.004966</td>\n",
       "      <td>0.038027</td>\n",
       "      <td>0.046364</td>\n",
       "    </tr>\n",
       "    <tr>\n",
       "      <th>6</th>\n",
       "      <td>5.137755</td>\n",
       "      <td>0.025156</td>\n",
       "      <td>-1.734723e-18</td>\n",
       "      <td>0.030327</td>\n",
       "      <td>0.069355</td>\n",
       "      <td>0.811276</td>\n",
       "      <td>-0.002322</td>\n",
       "      <td>0.088107</td>\n",
       "      <td>0.003540</td>\n",
       "    </tr>\n",
       "    <tr>\n",
       "      <th>7</th>\n",
       "      <td>2.800591</td>\n",
       "      <td>0.005805</td>\n",
       "      <td>3.528639e-04</td>\n",
       "      <td>0.093299</td>\n",
       "      <td>0.086938</td>\n",
       "      <td>0.006656</td>\n",
       "      <td>0.003002</td>\n",
       "      <td>0.043179</td>\n",
       "      <td>0.423063</td>\n",
       "    </tr>\n",
       "    <tr>\n",
       "      <th>8</th>\n",
       "      <td>105.665541</td>\n",
       "      <td>0.010446</td>\n",
       "      <td>1.185369e-03</td>\n",
       "      <td>0.082567</td>\n",
       "      <td>0.047037</td>\n",
       "      <td>0.001384</td>\n",
       "      <td>0.003380</td>\n",
       "      <td>0.118824</td>\n",
       "      <td>0.001807</td>\n",
       "    </tr>\n",
       "  </tbody>\n",
       "</table>\n",
       "</div>"
      ],
      "text/plain": [
       "   ascents_count  repeat_rate   chiped_rate  soft_rate  hard_rate  \\\n",
       "0       6.451303     0.004422  1.522094e-03   0.412846   0.023076   \n",
       "1       6.606925     0.004441  3.183036e-04   0.019408   0.049282   \n",
       "2      10.035569     0.005642  1.183196e-03   0.031354   0.031472   \n",
       "3       5.107659     0.003352  7.745633e-04   0.014545   0.426598   \n",
       "4       5.552888     0.419707  5.312340e-04   0.064521   0.074348   \n",
       "5       4.509881     0.004832  3.838689e-01   0.132314   0.087135   \n",
       "6       5.137755     0.025156 -1.734723e-18   0.030327   0.069355   \n",
       "7       2.800591     0.005805  3.528639e-04   0.093299   0.086938   \n",
       "8     105.665541     0.010446  1.185369e-03   0.082567   0.047037   \n",
       "\n",
       "   traditional_rate  tall_recommend_rate  sex_ratio  first_ascent_mean  \n",
       "0          0.001589             0.022216   0.066835           0.004079  \n",
       "1          0.001691             0.014918   0.399231           0.002944  \n",
       "2          0.002027             0.002015   0.044014           0.004055  \n",
       "3          0.002939            -0.053599   0.034000           0.003000  \n",
       "4          0.013215             0.003697   0.064177           0.019161  \n",
       "5          0.000395            -0.004966   0.038027           0.046364  \n",
       "6          0.811276            -0.002322   0.088107           0.003540  \n",
       "7          0.006656             0.003002   0.043179           0.423063  \n",
       "8          0.001384             0.003380   0.118824           0.001807  "
      ]
     },
     "execution_count": 76,
     "metadata": {},
     "output_type": "execute_result"
    }
   ],
   "source": [
    "centroids = pd.DataFrame(kmeans.cluster_centers_)\n",
    "pd.DataFrame(scaler.inverse_transform(centroids), columns = X.columns)"
   ]
  },
  {
   "cell_type": "markdown",
   "id": "german-shade",
   "metadata": {},
   "source": [
    "Clusters more or less explanation\n",
    "- 0 - Soft routes\n",
    "- 1 - Routes for some reason preferred by women\n",
    "- 2 - Famouse routes \n",
    "- 3 - Very hard routes\n",
    "- 4 - Very repeated routes\n",
    "- 5 - Chipped routes, with soft rate\n",
    "- 6 - Traditiona, not chipped routes\n",
    "- 7 - Easy to On-sight routes, not very repeated\n",
    "- 8 - Very famouse routes but not so repeated and not so traditional"
   ]
  },
  {
   "cell_type": "markdown",
   "id": "cathedral-defensive",
   "metadata": {},
   "source": [
    "### Check the PCA"
   ]
  },
  {
   "cell_type": "code",
   "execution_count": 77,
   "id": "timely-horizontal",
   "metadata": {},
   "outputs": [
    {
     "data": {
      "text/plain": [
       "array([0.13180752, 0.12862985, 0.11703265, 0.10941848, 0.10868076,\n",
       "       0.10672275, 0.10620676, 0.10147798, 0.09002325])"
      ]
     },
     "execution_count": 77,
     "metadata": {},
     "output_type": "execute_result"
    }
   ],
   "source": [
    "pca = PCA(n_components=None)\n",
    "principalComponents = pca.fit_transform(X_scaled_df)\n",
    "principalDf = pd.DataFrame(data = principalComponents)\n",
    "pca.explained_variance_ratio_"
   ]
  },
  {
   "cell_type": "markdown",
   "id": "killing-wilson",
   "metadata": {},
   "source": [
    "Just for fun I will 3D plot but we have 8 groups... impossible to visualize with the limited human brain.."
   ]
  },
  {
   "cell_type": "code",
   "execution_count": 79,
   "id": "ahead-houston",
   "metadata": {
    "scrolled": false
   },
   "outputs": [
    {
     "data": {
      "image/png": "[encoded data removed]",
      "text/plain": [
       "<Figure size 432x432 with 1 Axes>"
      ]
     },
     "metadata": {},
     "output_type": "display_data"
    }
   ],
   "source": [
    "from lib.plot_jzar import *\n",
    "# %matplotlib notebook\n",
    "plot3D(x = principalDf[0],y = principalDf[1],z = principalDf[2],color = clusters, fraction = 0.2)"
   ]
  },
  {
   "cell_type": "code",
   "execution_count": 80,
   "id": "sixth-transcript",
   "metadata": {
    "scrolled": false
   },
   "outputs": [
    {
     "data": {
      "image/png": "[encoded data removed]",
      "text/plain": [
       "<Figure size 432x432 with 1 Axes>"
      ]
     },
     "metadata": {},
     "output_type": "display_data"
    }
   ],
   "source": [
    "# %matplotlib notebook\n",
    "plot3D(x = principalDf[0],y = principalDf[2],z = principalDf[3],color = clusters, fraction = 0.2)"
   ]
  },
  {
   "cell_type": "markdown",
   "id": "focused-influence",
   "metadata": {},
   "source": [
    "And we see that the assigned clusters are not so bad"
   ]
  },
  {
   "cell_type": "markdown",
   "id": "thorough-appendix",
   "metadata": {},
   "source": [
    "### Assing each route to a cluster"
   ]
  },
  {
   "cell_type": "code",
   "execution_count": 81,
   "id": "minor-channels",
   "metadata": {},
   "outputs": [],
   "source": [
    "X_cl = routes_features.copy()\n",
    "X_cl[\"cluster\"] = pd.Series(clusters)"
   ]
  },
  {
   "cell_type": "code",
   "execution_count": 82,
   "id": "extra-greece",
   "metadata": {},
   "outputs": [
    {
     "name": "stdout",
     "output_type": "stream",
     "text": [
      "(55858, 15)\n"
     ]
    },
    {
     "data": {
      "text/html": [
       "<div>\n",
       "<style scoped>\n",
       "    .dataframe tbody tr th:only-of-type {\n",
       "        vertical-align: middle;\n",
       "    }\n",
       "\n",
       "    .dataframe tbody tr th {\n",
       "        vertical-align: top;\n",
       "    }\n",
       "\n",
       "    .dataframe thead th {\n",
       "        text-align: right;\n",
       "    }\n",
       "</style>\n",
       "<table border=\"1\" class=\"dataframe\">\n",
       "  <thead>\n",
       "    <tr style=\"text-align: right;\">\n",
       "      <th></th>\n",
       "      <th>name_id</th>\n",
       "      <th>country</th>\n",
       "      <th>crag</th>\n",
       "      <th>sector</th>\n",
       "      <th>name</th>\n",
       "      <th>ascents_count</th>\n",
       "      <th>repeat_sum</th>\n",
       "      <th>recommend_sum</th>\n",
       "      <th>tall_recommend_sum</th>\n",
       "      <th>grade_mean</th>\n",
       "      <th>sentiment_mean</th>\n",
       "      <th>rating_mean</th>\n",
       "      <th>yellow_id_mean</th>\n",
       "      <th>first_ascent_mean</th>\n",
       "      <th>cluster</th>\n",
       "    </tr>\n",
       "  </thead>\n",
       "  <tbody>\n",
       "    <tr>\n",
       "      <th>0</th>\n",
       "      <td>0</td>\n",
       "      <td>and</td>\n",
       "      <td>montserrat</td>\n",
       "      <td>prohibitivo</td>\n",
       "      <td>diagonal de la x</td>\n",
       "      <td>4</td>\n",
       "      <td>0.0</td>\n",
       "      <td>0.0</td>\n",
       "      <td>-1</td>\n",
       "      <td>49.250000</td>\n",
       "      <td>0.0000</td>\n",
       "      <td>2.00</td>\n",
       "      <td>0.0</td>\n",
       "      <td>0.0</td>\n",
       "      <td>3</td>\n",
       "    </tr>\n",
       "    <tr>\n",
       "      <th>1</th>\n",
       "      <td>1</td>\n",
       "      <td>and</td>\n",
       "      <td>montserrat</td>\n",
       "      <td>prohibitivo</td>\n",
       "      <td>mehir</td>\n",
       "      <td>6</td>\n",
       "      <td>0.0</td>\n",
       "      <td>1.0</td>\n",
       "      <td>-1</td>\n",
       "      <td>49.000000</td>\n",
       "      <td>0.0000</td>\n",
       "      <td>2.00</td>\n",
       "      <td>0.0</td>\n",
       "      <td>0.0</td>\n",
       "      <td>2</td>\n",
       "    </tr>\n",
       "    <tr>\n",
       "      <th>2</th>\n",
       "      <td>2</td>\n",
       "      <td>and</td>\n",
       "      <td>montserrat</td>\n",
       "      <td>prohibitivo</td>\n",
       "      <td>pas de la discordia</td>\n",
       "      <td>5</td>\n",
       "      <td>0.0</td>\n",
       "      <td>1.0</td>\n",
       "      <td>0</td>\n",
       "      <td>49.000000</td>\n",
       "      <td>0.0000</td>\n",
       "      <td>1.75</td>\n",
       "      <td>0.0</td>\n",
       "      <td>0.0</td>\n",
       "      <td>2</td>\n",
       "    </tr>\n",
       "    <tr>\n",
       "      <th>3</th>\n",
       "      <td>3</td>\n",
       "      <td>and</td>\n",
       "      <td>tartareu</td>\n",
       "      <td>bombo suis</td>\n",
       "      <td>tenedor libre</td>\n",
       "      <td>3</td>\n",
       "      <td>0.0</td>\n",
       "      <td>1.0</td>\n",
       "      <td>0</td>\n",
       "      <td>44.333333</td>\n",
       "      <td>0.0000</td>\n",
       "      <td>3.00</td>\n",
       "      <td>0.0</td>\n",
       "      <td>0.0</td>\n",
       "      <td>3</td>\n",
       "    </tr>\n",
       "    <tr>\n",
       "      <th>4</th>\n",
       "      <td>4</td>\n",
       "      <td>arg</td>\n",
       "      <td>bandurrias</td>\n",
       "      <td>rincon</td>\n",
       "      <td>tendinitis</td>\n",
       "      <td>2</td>\n",
       "      <td>0.0</td>\n",
       "      <td>0.0</td>\n",
       "      <td>1</td>\n",
       "      <td>48.500000</td>\n",
       "      <td>0.0762</td>\n",
       "      <td>1.00</td>\n",
       "      <td>0.0</td>\n",
       "      <td>0.0</td>\n",
       "      <td>0</td>\n",
       "    </tr>\n",
       "  </tbody>\n",
       "</table>\n",
       "</div>"
      ],
      "text/plain": [
       "   name_id country        crag       sector                 name  \\\n",
       "0        0     and  montserrat  prohibitivo     diagonal de la x   \n",
       "1        1     and  montserrat  prohibitivo                mehir   \n",
       "2        2     and  montserrat  prohibitivo  pas de la discordia   \n",
       "3        3     and    tartareu   bombo suis        tenedor libre   \n",
       "4        4     arg  bandurrias       rincon           tendinitis   \n",
       "\n",
       "   ascents_count  repeat_sum  recommend_sum  tall_recommend_sum  grade_mean  \\\n",
       "0              4         0.0            0.0                  -1   49.250000   \n",
       "1              6         0.0            1.0                  -1   49.000000   \n",
       "2              5         0.0            1.0                   0   49.000000   \n",
       "3              3         0.0            1.0                   0   44.333333   \n",
       "4              2         0.0            0.0                   1   48.500000   \n",
       "\n",
       "   sentiment_mean  rating_mean  yellow_id_mean  first_ascent_mean  cluster  \n",
       "0          0.0000         2.00             0.0                0.0        3  \n",
       "1          0.0000         2.00             0.0                0.0        2  \n",
       "2          0.0000         1.75             0.0                0.0        2  \n",
       "3          0.0000         3.00             0.0                0.0        3  \n",
       "4          0.0762         1.00             0.0                0.0        0  "
      ]
     },
     "execution_count": 82,
     "metadata": {},
     "output_type": "execute_result"
    }
   ],
   "source": [
    "routes_clustered = X_cl.drop(columns = ['chiped_sum','soft_sum','hard_sum','traditional_sum','sex_ratio'])\n",
    "print(routes_clustered.shape)\n",
    "routes_clustered.head()"
   ]
  },
  {
   "cell_type": "code",
   "execution_count": 83,
   "id": "adjusted-default",
   "metadata": {},
   "outputs": [],
   "source": [
    "clust_0 = routes_clustered[routes_clustered.cluster == 0]"
   ]
  },
  {
   "cell_type": "code",
   "execution_count": 84,
   "id": "built-triangle",
   "metadata": {},
   "outputs": [
    {
     "data": {
      "text/plain": [
       "2    30500\n",
       "1     7048\n",
       "0     6561\n",
       "3     5601\n",
       "8     1779\n",
       "7     1354\n",
       "4     1333\n",
       "6     1176\n",
       "5      506\n",
       "Name: cluster, dtype: int64"
      ]
     },
     "execution_count": 84,
     "metadata": {},
     "output_type": "execute_result"
    }
   ],
   "source": [
    "routes_clustered.cluster.value_counts()"
   ]
  },
  {
   "cell_type": "code",
   "execution_count": 85,
   "id": "confident-rainbow",
   "metadata": {},
   "outputs": [],
   "source": [
    "routes_clustered.to_csv('../data/routes_clustered.csv')"
   ]
  }
 ],
 "metadata": {
  "kernelspec": {
   "display_name": "Python 3 (ipykernel)",
   "language": "python",
   "name": "python3"
  },
  "language_info": {
   "codemirror_mode": {
    "name": "ipython",
    "version": 3
   },
   "file_extension": ".py",
   "mimetype": "text/x-python",
   "name": "python",
   "nbconvert_exporter": "python",
   "pygments_lexer": "ipython3",
   "version": "3.9.5"
  }
 },
 "nbformat": 4,
 "nbformat_minor": 5
}
