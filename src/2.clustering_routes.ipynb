{
 "cells": [
  {
   "cell_type": "code",
   "execution_count": 4,
   "id": "wooden-official",
   "metadata": {},
   "outputs": [],
   "source": [
    "import pandas as pd\n",
    "import numpy as np\n",
    "import pickle\n",
    "from sklearn.preprocessing import StandardScaler\n",
    "from sklearn.metrics import silhouette_score\n",
    "from sklearn.mixture import GaussianMixture\n",
    "from sklearn.cluster import AgglomerativeClustering, KMeans\n",
    "from scipy.cluster.hierarchy import dendrogram\n",
    "from sklearn.decomposition import PCA\n",
    "import matplotlib.pyplot as plt\n",
    "import seaborn as sns\n",
    "from lib import cluster_jzar, climb_jor"
   ]
  },
  {
   "cell_type": "code",
   "execution_count": 5,
   "id": "complete-salem",
   "metadata": {},
   "outputs": [],
   "source": [
    "pd.set_option(\"display.max_columns\",None)\n",
    "pd.set_option('display.max_rows', 10)"
   ]
  },
  {
   "cell_type": "markdown",
   "id": "641a5fe4",
   "metadata": {},
   "source": [
    "### We have 3 types of data:\n",
    "- `Independent features (clustered)` => <b>In this notebook we will work on this one\n",
    "- How good the route is (the higher the better)\n",
    "- Grade, Location, sex, heigh (defined by user)\n"
   ]
  },
  {
   "cell_type": "markdown",
   "id": "clean-knowing",
   "metadata": {},
   "source": [
    "# Clustering Routes"
   ]
  },
  {
   "cell_type": "markdown",
   "id": "incredible-batman",
   "metadata": {},
   "source": [
    "First we retrieve the features dataframe"
   ]
  },
  {
   "cell_type": "code",
   "execution_count": 6,
   "id": "disciplinary-causing",
   "metadata": {},
   "outputs": [],
   "source": [
    "routes_features = pd.read_csv('../data/routes_features.csv',low_memory=False, index_col=0)"
   ]
  },
  {
   "cell_type": "code",
   "execution_count": 7,
   "id": "impaired-depression",
   "metadata": {},
   "outputs": [
    {
     "name": "stdout",
     "output_type": "stream",
     "text": [
      "(55858, 19)\n"
     ]
    },
    {
     "data": {
      "text/html": [
       "<div>\n",
       "<style scoped>\n",
       "    .dataframe tbody tr th:only-of-type {\n",
       "        vertical-align: middle;\n",
       "    }\n",
       "\n",
       "    .dataframe tbody tr th {\n",
       "        vertical-align: top;\n",
       "    }\n",
       "\n",
       "    .dataframe thead th {\n",
       "        text-align: right;\n",
       "    }\n",
       "</style>\n",
       "<table border=\"1\" class=\"dataframe\">\n",
       "  <thead>\n",
       "    <tr style=\"text-align: right;\">\n",
       "      <th></th>\n",
       "      <th>name_id</th>\n",
       "      <th>country</th>\n",
       "      <th>crag</th>\n",
       "      <th>sector</th>\n",
       "      <th>name</th>\n",
       "      <th>ascents_count</th>\n",
       "      <th>repeat_sum</th>\n",
       "      <th>recommend_sum</th>\n",
       "      <th>chiped_sum</th>\n",
       "      <th>soft_sum</th>\n",
       "      <th>hard_sum</th>\n",
       "      <th>traditional_sum</th>\n",
       "      <th>tall_recommend_sum</th>\n",
       "      <th>grade_mean</th>\n",
       "      <th>sentiment_mean</th>\n",
       "      <th>rating_mean</th>\n",
       "      <th>sex_ratio</th>\n",
       "      <th>yellow_id_mean</th>\n",
       "      <th>first_ascent_mean</th>\n",
       "    </tr>\n",
       "  </thead>\n",
       "  <tbody>\n",
       "    <tr>\n",
       "      <th>55853</th>\n",
       "      <td>55853</td>\n",
       "      <td>zaf</td>\n",
       "      <td>van stadens</td>\n",
       "      <td>cleopatra wall</td>\n",
       "      <td>steel sunday</td>\n",
       "      <td>3</td>\n",
       "      <td>0.0</td>\n",
       "      <td>2.0</td>\n",
       "      <td>1.0</td>\n",
       "      <td>0</td>\n",
       "      <td>0</td>\n",
       "      <td>0</td>\n",
       "      <td>0</td>\n",
       "      <td>40.0</td>\n",
       "      <td>0.4753</td>\n",
       "      <td>NaN</td>\n",
       "      <td>0.0</td>\n",
       "      <td>255.0</td>\n",
       "      <td>0.0</td>\n",
       "    </tr>\n",
       "    <tr>\n",
       "      <th>55854</th>\n",
       "      <td>55854</td>\n",
       "      <td>zaf</td>\n",
       "      <td>van stadens</td>\n",
       "      <td>cleopatra wall</td>\n",
       "      <td>suck it up princess</td>\n",
       "      <td>2</td>\n",
       "      <td>0.0</td>\n",
       "      <td>0.0</td>\n",
       "      <td>0.0</td>\n",
       "      <td>0</td>\n",
       "      <td>0</td>\n",
       "      <td>0</td>\n",
       "      <td>0</td>\n",
       "      <td>44.0</td>\n",
       "      <td>0.7074</td>\n",
       "      <td>NaN</td>\n",
       "      <td>0.0</td>\n",
       "      <td>127.5</td>\n",
       "      <td>0.0</td>\n",
       "    </tr>\n",
       "    <tr>\n",
       "      <th>55855</th>\n",
       "      <td>55855</td>\n",
       "      <td>zaf</td>\n",
       "      <td>van stadens</td>\n",
       "      <td>cleopatra wall</td>\n",
       "      <td>sunset sonata</td>\n",
       "      <td>2</td>\n",
       "      <td>0.0</td>\n",
       "      <td>0.0</td>\n",
       "      <td>0.0</td>\n",
       "      <td>1</td>\n",
       "      <td>0</td>\n",
       "      <td>0</td>\n",
       "      <td>1</td>\n",
       "      <td>54.5</td>\n",
       "      <td>0.8636</td>\n",
       "      <td>3.0</td>\n",
       "      <td>0.0</td>\n",
       "      <td>255.0</td>\n",
       "      <td>0.5</td>\n",
       "    </tr>\n",
       "    <tr>\n",
       "      <th>55856</th>\n",
       "      <td>55856</td>\n",
       "      <td>zaf</td>\n",
       "      <td>van stadens</td>\n",
       "      <td>cleopatra wall</td>\n",
       "      <td>tekel</td>\n",
       "      <td>2</td>\n",
       "      <td>0.0</td>\n",
       "      <td>1.0</td>\n",
       "      <td>0.0</td>\n",
       "      <td>0</td>\n",
       "      <td>0</td>\n",
       "      <td>0</td>\n",
       "      <td>0</td>\n",
       "      <td>44.0</td>\n",
       "      <td>NaN</td>\n",
       "      <td>2.0</td>\n",
       "      <td>0.0</td>\n",
       "      <td>0.0</td>\n",
       "      <td>0.0</td>\n",
       "    </tr>\n",
       "    <tr>\n",
       "      <th>55857</th>\n",
       "      <td>55857</td>\n",
       "      <td>zaf</td>\n",
       "      <td>waterval boven</td>\n",
       "      <td>baboon buttress</td>\n",
       "      <td>pretenders</td>\n",
       "      <td>2</td>\n",
       "      <td>0.0</td>\n",
       "      <td>1.0</td>\n",
       "      <td>0.0</td>\n",
       "      <td>0</td>\n",
       "      <td>0</td>\n",
       "      <td>0</td>\n",
       "      <td>0</td>\n",
       "      <td>49.0</td>\n",
       "      <td>0.8020</td>\n",
       "      <td>NaN</td>\n",
       "      <td>0.0</td>\n",
       "      <td>255.0</td>\n",
       "      <td>0.0</td>\n",
       "    </tr>\n",
       "  </tbody>\n",
       "</table>\n",
       "</div>"
      ],
      "text/plain": [
       "       name_id country            crag           sector                 name  \\\n",
       "55853    55853     zaf     van stadens   cleopatra wall         steel sunday   \n",
       "55854    55854     zaf     van stadens   cleopatra wall  suck it up princess   \n",
       "55855    55855     zaf     van stadens   cleopatra wall        sunset sonata   \n",
       "55856    55856     zaf     van stadens   cleopatra wall                tekel   \n",
       "55857    55857     zaf  waterval boven  baboon buttress           pretenders   \n",
       "\n",
       "       ascents_count  repeat_sum  recommend_sum  chiped_sum  soft_sum  \\\n",
       "55853              3         0.0            2.0         1.0         0   \n",
       "55854              2         0.0            0.0         0.0         0   \n",
       "55855              2         0.0            0.0         0.0         1   \n",
       "55856              2         0.0            1.0         0.0         0   \n",
       "55857              2         0.0            1.0         0.0         0   \n",
       "\n",
       "       hard_sum  traditional_sum  tall_recommend_sum  grade_mean  \\\n",
       "55853         0                0                   0        40.0   \n",
       "55854         0                0                   0        44.0   \n",
       "55855         0                0                   1        54.5   \n",
       "55856         0                0                   0        44.0   \n",
       "55857         0                0                   0        49.0   \n",
       "\n",
       "       sentiment_mean  rating_mean  sex_ratio  yellow_id_mean  \\\n",
       "55853          0.4753          NaN        0.0           255.0   \n",
       "55854          0.7074          NaN        0.0           127.5   \n",
       "55855          0.8636          3.0        0.0           255.0   \n",
       "55856             NaN          2.0        0.0             0.0   \n",
       "55857          0.8020          NaN        0.0           255.0   \n",
       "\n",
       "       first_ascent_mean  \n",
       "55853                0.0  \n",
       "55854                0.0  \n",
       "55855                0.5  \n",
       "55856                0.0  \n",
       "55857                0.0  "
      ]
     },
     "execution_count": 7,
     "metadata": {},
     "output_type": "execute_result"
    }
   ],
   "source": [
    "print(routes_features.shape)\n",
    "routes_features.tail(5)"
   ]
  },
  {
   "cell_type": "markdown",
   "id": "positive-season",
   "metadata": {},
   "source": [
    "## Prepare the dataframe for clustering"
   ]
  },
  {
   "cell_type": "code",
   "execution_count": 8,
   "id": "accompanied-northern",
   "metadata": {},
   "outputs": [],
   "source": [
    "# Drop not interesting features\n",
    "X = routes_features[['ascents_count','repeat_sum','chiped_sum','soft_sum','hard_sum','traditional_sum','tall_recommend_sum','sex_ratio','yellow_id_mean','first_ascent_mean']]"
   ]
  },
  {
   "cell_type": "code",
   "execution_count": 9,
   "id": "aggressive-taylor",
   "metadata": {},
   "outputs": [
    {
     "data": {
      "text/html": [
       "<div>\n",
       "<style scoped>\n",
       "    .dataframe tbody tr th:only-of-type {\n",
       "        vertical-align: middle;\n",
       "    }\n",
       "\n",
       "    .dataframe tbody tr th {\n",
       "        vertical-align: top;\n",
       "    }\n",
       "\n",
       "    .dataframe thead th {\n",
       "        text-align: right;\n",
       "    }\n",
       "</style>\n",
       "<table border=\"1\" class=\"dataframe\">\n",
       "  <thead>\n",
       "    <tr style=\"text-align: right;\">\n",
       "      <th></th>\n",
       "      <th>ascents_count</th>\n",
       "      <th>repeat_sum</th>\n",
       "      <th>chiped_sum</th>\n",
       "      <th>soft_sum</th>\n",
       "      <th>hard_sum</th>\n",
       "      <th>traditional_sum</th>\n",
       "      <th>tall_recommend_sum</th>\n",
       "      <th>sex_ratio</th>\n",
       "      <th>yellow_id_mean</th>\n",
       "      <th>first_ascent_mean</th>\n",
       "    </tr>\n",
       "  </thead>\n",
       "  <tbody>\n",
       "    <tr>\n",
       "      <th>ascents_count</th>\n",
       "      <td>1.000000</td>\n",
       "      <td>0.315688</td>\n",
       "      <td>0.083742</td>\n",
       "      <td>0.726498</td>\n",
       "      <td>0.571449</td>\n",
       "      <td>0.045345</td>\n",
       "      <td>0.071629</td>\n",
       "      <td>0.044584</td>\n",
       "      <td>0.212546</td>\n",
       "      <td>-0.058248</td>\n",
       "    </tr>\n",
       "    <tr>\n",
       "      <th>repeat_sum</th>\n",
       "      <td>0.315688</td>\n",
       "      <td>1.000000</td>\n",
       "      <td>0.014805</td>\n",
       "      <td>0.195030</td>\n",
       "      <td>0.157301</td>\n",
       "      <td>0.090234</td>\n",
       "      <td>0.044551</td>\n",
       "      <td>0.002862</td>\n",
       "      <td>0.074844</td>\n",
       "      <td>-0.009543</td>\n",
       "    </tr>\n",
       "    <tr>\n",
       "      <th>chiped_sum</th>\n",
       "      <td>0.083742</td>\n",
       "      <td>0.014805</td>\n",
       "      <td>1.000000</td>\n",
       "      <td>0.086912</td>\n",
       "      <td>0.071868</td>\n",
       "      <td>-0.005966</td>\n",
       "      <td>0.013689</td>\n",
       "      <td>-0.024766</td>\n",
       "      <td>0.021863</td>\n",
       "      <td>0.007426</td>\n",
       "    </tr>\n",
       "    <tr>\n",
       "      <th>soft_sum</th>\n",
       "      <td>0.726498</td>\n",
       "      <td>0.195030</td>\n",
       "      <td>0.086912</td>\n",
       "      <td>1.000000</td>\n",
       "      <td>0.213342</td>\n",
       "      <td>0.003225</td>\n",
       "      <td>0.127405</td>\n",
       "      <td>0.002530</td>\n",
       "      <td>0.167114</td>\n",
       "      <td>-0.033857</td>\n",
       "    </tr>\n",
       "    <tr>\n",
       "      <th>hard_sum</th>\n",
       "      <td>0.571449</td>\n",
       "      <td>0.157301</td>\n",
       "      <td>0.071868</td>\n",
       "      <td>0.213342</td>\n",
       "      <td>1.000000</td>\n",
       "      <td>0.023404</td>\n",
       "      <td>-0.035391</td>\n",
       "      <td>-0.002364</td>\n",
       "      <td>0.152365</td>\n",
       "      <td>-0.042649</td>\n",
       "    </tr>\n",
       "    <tr>\n",
       "      <th>traditional_sum</th>\n",
       "      <td>0.045345</td>\n",
       "      <td>0.090234</td>\n",
       "      <td>-0.005966</td>\n",
       "      <td>0.003225</td>\n",
       "      <td>0.023404</td>\n",
       "      <td>1.000000</td>\n",
       "      <td>-0.003125</td>\n",
       "      <td>-0.006528</td>\n",
       "      <td>0.040668</td>\n",
       "      <td>-0.011586</td>\n",
       "    </tr>\n",
       "    <tr>\n",
       "      <th>tall_recommend_sum</th>\n",
       "      <td>0.071629</td>\n",
       "      <td>0.044551</td>\n",
       "      <td>0.013689</td>\n",
       "      <td>0.127405</td>\n",
       "      <td>-0.035391</td>\n",
       "      <td>-0.003125</td>\n",
       "      <td>1.000000</td>\n",
       "      <td>0.005641</td>\n",
       "      <td>0.008285</td>\n",
       "      <td>-0.002380</td>\n",
       "    </tr>\n",
       "    <tr>\n",
       "      <th>sex_ratio</th>\n",
       "      <td>0.044584</td>\n",
       "      <td>0.002862</td>\n",
       "      <td>-0.024766</td>\n",
       "      <td>0.002530</td>\n",
       "      <td>-0.002364</td>\n",
       "      <td>-0.006528</td>\n",
       "      <td>0.005641</td>\n",
       "      <td>1.000000</td>\n",
       "      <td>0.039665</td>\n",
       "      <td>-0.049881</td>\n",
       "    </tr>\n",
       "    <tr>\n",
       "      <th>yellow_id_mean</th>\n",
       "      <td>0.212546</td>\n",
       "      <td>0.074844</td>\n",
       "      <td>0.021863</td>\n",
       "      <td>0.167114</td>\n",
       "      <td>0.152365</td>\n",
       "      <td>0.040668</td>\n",
       "      <td>0.008285</td>\n",
       "      <td>0.039665</td>\n",
       "      <td>1.000000</td>\n",
       "      <td>-0.037680</td>\n",
       "    </tr>\n",
       "    <tr>\n",
       "      <th>first_ascent_mean</th>\n",
       "      <td>-0.058248</td>\n",
       "      <td>-0.009543</td>\n",
       "      <td>0.007426</td>\n",
       "      <td>-0.033857</td>\n",
       "      <td>-0.042649</td>\n",
       "      <td>-0.011586</td>\n",
       "      <td>-0.002380</td>\n",
       "      <td>-0.049881</td>\n",
       "      <td>-0.037680</td>\n",
       "      <td>1.000000</td>\n",
       "    </tr>\n",
       "  </tbody>\n",
       "</table>\n",
       "</div>"
      ],
      "text/plain": [
       "                    ascents_count  repeat_sum  chiped_sum  soft_sum  hard_sum  \\\n",
       "ascents_count            1.000000    0.315688    0.083742  0.726498  0.571449   \n",
       "repeat_sum               0.315688    1.000000    0.014805  0.195030  0.157301   \n",
       "chiped_sum               0.083742    0.014805    1.000000  0.086912  0.071868   \n",
       "soft_sum                 0.726498    0.195030    0.086912  1.000000  0.213342   \n",
       "hard_sum                 0.571449    0.157301    0.071868  0.213342  1.000000   \n",
       "traditional_sum          0.045345    0.090234   -0.005966  0.003225  0.023404   \n",
       "tall_recommend_sum       0.071629    0.044551    0.013689  0.127405 -0.035391   \n",
       "sex_ratio                0.044584    0.002862   -0.024766  0.002530 -0.002364   \n",
       "yellow_id_mean           0.212546    0.074844    0.021863  0.167114  0.152365   \n",
       "first_ascent_mean       -0.058248   -0.009543    0.007426 -0.033857 -0.042649   \n",
       "\n",
       "                    traditional_sum  tall_recommend_sum  sex_ratio  \\\n",
       "ascents_count              0.045345            0.071629   0.044584   \n",
       "repeat_sum                 0.090234            0.044551   0.002862   \n",
       "chiped_sum                -0.005966            0.013689  -0.024766   \n",
       "soft_sum                   0.003225            0.127405   0.002530   \n",
       "hard_sum                   0.023404           -0.035391  -0.002364   \n",
       "traditional_sum            1.000000           -0.003125  -0.006528   \n",
       "tall_recommend_sum        -0.003125            1.000000   0.005641   \n",
       "sex_ratio                 -0.006528            0.005641   1.000000   \n",
       "yellow_id_mean             0.040668            0.008285   0.039665   \n",
       "first_ascent_mean         -0.011586           -0.002380  -0.049881   \n",
       "\n",
       "                    yellow_id_mean  first_ascent_mean  \n",
       "ascents_count             0.212546          -0.058248  \n",
       "repeat_sum                0.074844          -0.009543  \n",
       "chiped_sum                0.021863           0.007426  \n",
       "soft_sum                  0.167114          -0.033857  \n",
       "hard_sum                  0.152365          -0.042649  \n",
       "traditional_sum           0.040668          -0.011586  \n",
       "tall_recommend_sum        0.008285          -0.002380  \n",
       "sex_ratio                 0.039665          -0.049881  \n",
       "yellow_id_mean            1.000000          -0.037680  \n",
       "first_ascent_mean        -0.037680           1.000000  "
      ]
     },
     "execution_count": 9,
     "metadata": {},
     "output_type": "execute_result"
    }
   ],
   "source": [
    "X.corr()"
   ]
  },
  {
   "cell_type": "code",
   "execution_count": 10,
   "id": "absent-turkish",
   "metadata": {},
   "outputs": [
    {
     "data": {
      "text/plain": [
       "<AxesSubplot:>"
      ]
     },
     "execution_count": 10,
     "metadata": {},
     "output_type": "execute_result"
    },
    {
     "data": {
      "image/png": "[encoded data removed]",
      "text/plain": [
       "<Figure size 432x288 with 2 Axes>"
      ]
     },
     "metadata": {
      "needs_background": "light"
     },
     "output_type": "display_data"
    }
   ],
   "source": [
    "sns.heatmap(X.corr())"
   ]
  },
  {
   "cell_type": "markdown",
   "id": "accepted-exploration",
   "metadata": {},
   "source": [
    "Not a big correlation between features"
   ]
  },
  {
   "cell_type": "code",
   "execution_count": 11,
   "id": "resident-thumb",
   "metadata": {},
   "outputs": [
    {
     "data": {
      "text/html": [
       "<div>\n",
       "<style scoped>\n",
       "    .dataframe tbody tr th:only-of-type {\n",
       "        vertical-align: middle;\n",
       "    }\n",
       "\n",
       "    .dataframe tbody tr th {\n",
       "        vertical-align: top;\n",
       "    }\n",
       "\n",
       "    .dataframe thead th {\n",
       "        text-align: right;\n",
       "    }\n",
       "</style>\n",
       "<table border=\"1\" class=\"dataframe\">\n",
       "  <thead>\n",
       "    <tr style=\"text-align: right;\">\n",
       "      <th></th>\n",
       "      <th>ascents_count</th>\n",
       "      <th>repeat_sum</th>\n",
       "      <th>chiped_sum</th>\n",
       "      <th>soft_sum</th>\n",
       "      <th>hard_sum</th>\n",
       "      <th>traditional_sum</th>\n",
       "      <th>tall_recommend_sum</th>\n",
       "      <th>sex_ratio</th>\n",
       "      <th>yellow_id_mean</th>\n",
       "      <th>first_ascent_mean</th>\n",
       "    </tr>\n",
       "  </thead>\n",
       "  <tbody>\n",
       "    <tr>\n",
       "      <th>0</th>\n",
       "      <td>4</td>\n",
       "      <td>0.0</td>\n",
       "      <td>0.0</td>\n",
       "      <td>0</td>\n",
       "      <td>1</td>\n",
       "      <td>0</td>\n",
       "      <td>-1</td>\n",
       "      <td>0.0</td>\n",
       "      <td>0.0</td>\n",
       "      <td>0.0</td>\n",
       "    </tr>\n",
       "    <tr>\n",
       "      <th>1</th>\n",
       "      <td>6</td>\n",
       "      <td>0.0</td>\n",
       "      <td>0.0</td>\n",
       "      <td>1</td>\n",
       "      <td>1</td>\n",
       "      <td>0</td>\n",
       "      <td>-1</td>\n",
       "      <td>0.0</td>\n",
       "      <td>0.0</td>\n",
       "      <td>0.0</td>\n",
       "    </tr>\n",
       "    <tr>\n",
       "      <th>2</th>\n",
       "      <td>5</td>\n",
       "      <td>0.0</td>\n",
       "      <td>0.0</td>\n",
       "      <td>0</td>\n",
       "      <td>0</td>\n",
       "      <td>0</td>\n",
       "      <td>0</td>\n",
       "      <td>0.0</td>\n",
       "      <td>0.0</td>\n",
       "      <td>0.0</td>\n",
       "    </tr>\n",
       "    <tr>\n",
       "      <th>3</th>\n",
       "      <td>3</td>\n",
       "      <td>0.0</td>\n",
       "      <td>0.0</td>\n",
       "      <td>0</td>\n",
       "      <td>1</td>\n",
       "      <td>0</td>\n",
       "      <td>0</td>\n",
       "      <td>0.0</td>\n",
       "      <td>0.0</td>\n",
       "      <td>0.0</td>\n",
       "    </tr>\n",
       "    <tr>\n",
       "      <th>4</th>\n",
       "      <td>2</td>\n",
       "      <td>0.0</td>\n",
       "      <td>0.0</td>\n",
       "      <td>1</td>\n",
       "      <td>0</td>\n",
       "      <td>0</td>\n",
       "      <td>1</td>\n",
       "      <td>0.0</td>\n",
       "      <td>0.0</td>\n",
       "      <td>0.0</td>\n",
       "    </tr>\n",
       "    <tr>\n",
       "      <th>...</th>\n",
       "      <td>...</td>\n",
       "      <td>...</td>\n",
       "      <td>...</td>\n",
       "      <td>...</td>\n",
       "      <td>...</td>\n",
       "      <td>...</td>\n",
       "      <td>...</td>\n",
       "      <td>...</td>\n",
       "      <td>...</td>\n",
       "      <td>...</td>\n",
       "    </tr>\n",
       "    <tr>\n",
       "      <th>55853</th>\n",
       "      <td>3</td>\n",
       "      <td>0.0</td>\n",
       "      <td>1.0</td>\n",
       "      <td>0</td>\n",
       "      <td>0</td>\n",
       "      <td>0</td>\n",
       "      <td>0</td>\n",
       "      <td>0.0</td>\n",
       "      <td>255.0</td>\n",
       "      <td>0.0</td>\n",
       "    </tr>\n",
       "    <tr>\n",
       "      <th>55854</th>\n",
       "      <td>2</td>\n",
       "      <td>0.0</td>\n",
       "      <td>0.0</td>\n",
       "      <td>0</td>\n",
       "      <td>0</td>\n",
       "      <td>0</td>\n",
       "      <td>0</td>\n",
       "      <td>0.0</td>\n",
       "      <td>127.5</td>\n",
       "      <td>0.0</td>\n",
       "    </tr>\n",
       "    <tr>\n",
       "      <th>55855</th>\n",
       "      <td>2</td>\n",
       "      <td>0.0</td>\n",
       "      <td>0.0</td>\n",
       "      <td>1</td>\n",
       "      <td>0</td>\n",
       "      <td>0</td>\n",
       "      <td>1</td>\n",
       "      <td>0.0</td>\n",
       "      <td>255.0</td>\n",
       "      <td>0.5</td>\n",
       "    </tr>\n",
       "    <tr>\n",
       "      <th>55856</th>\n",
       "      <td>2</td>\n",
       "      <td>0.0</td>\n",
       "      <td>0.0</td>\n",
       "      <td>0</td>\n",
       "      <td>0</td>\n",
       "      <td>0</td>\n",
       "      <td>0</td>\n",
       "      <td>0.0</td>\n",
       "      <td>0.0</td>\n",
       "      <td>0.0</td>\n",
       "    </tr>\n",
       "    <tr>\n",
       "      <th>55857</th>\n",
       "      <td>2</td>\n",
       "      <td>0.0</td>\n",
       "      <td>0.0</td>\n",
       "      <td>0</td>\n",
       "      <td>0</td>\n",
       "      <td>0</td>\n",
       "      <td>0</td>\n",
       "      <td>0.0</td>\n",
       "      <td>255.0</td>\n",
       "      <td>0.0</td>\n",
       "    </tr>\n",
       "  </tbody>\n",
       "</table>\n",
       "<p>55858 rows × 10 columns</p>\n",
       "</div>"
      ],
      "text/plain": [
       "       ascents_count  repeat_sum  chiped_sum  soft_sum  hard_sum  \\\n",
       "0                  4         0.0         0.0         0         1   \n",
       "1                  6         0.0         0.0         1         1   \n",
       "2                  5         0.0         0.0         0         0   \n",
       "3                  3         0.0         0.0         0         1   \n",
       "4                  2         0.0         0.0         1         0   \n",
       "...              ...         ...         ...       ...       ...   \n",
       "55853              3         0.0         1.0         0         0   \n",
       "55854              2         0.0         0.0         0         0   \n",
       "55855              2         0.0         0.0         1         0   \n",
       "55856              2         0.0         0.0         0         0   \n",
       "55857              2         0.0         0.0         0         0   \n",
       "\n",
       "       traditional_sum  tall_recommend_sum  sex_ratio  yellow_id_mean  \\\n",
       "0                    0                  -1        0.0             0.0   \n",
       "1                    0                  -1        0.0             0.0   \n",
       "2                    0                   0        0.0             0.0   \n",
       "3                    0                   0        0.0             0.0   \n",
       "4                    0                   1        0.0             0.0   \n",
       "...                ...                 ...        ...             ...   \n",
       "55853                0                   0        0.0           255.0   \n",
       "55854                0                   0        0.0           127.5   \n",
       "55855                0                   1        0.0           255.0   \n",
       "55856                0                   0        0.0             0.0   \n",
       "55857                0                   0        0.0           255.0   \n",
       "\n",
       "       first_ascent_mean  \n",
       "0                    0.0  \n",
       "1                    0.0  \n",
       "2                    0.0  \n",
       "3                    0.0  \n",
       "4                    0.0  \n",
       "...                  ...  \n",
       "55853                0.0  \n",
       "55854                0.0  \n",
       "55855                0.5  \n",
       "55856                0.0  \n",
       "55857                0.0  \n",
       "\n",
       "[55858 rows x 10 columns]"
      ]
     },
     "execution_count": 11,
     "metadata": {},
     "output_type": "execute_result"
    }
   ],
   "source": [
    "X"
   ]
  },
  {
   "cell_type": "code",
   "execution_count": 12,
   "id": "complete-portsmouth",
   "metadata": {},
   "outputs": [
    {
     "name": "stdout",
     "output_type": "stream",
     "text": [
      "(55858, 10)\n"
     ]
    },
    {
     "data": {
      "text/html": [
       "<div>\n",
       "<style scoped>\n",
       "    .dataframe tbody tr th:only-of-type {\n",
       "        vertical-align: middle;\n",
       "    }\n",
       "\n",
       "    .dataframe tbody tr th {\n",
       "        vertical-align: top;\n",
       "    }\n",
       "\n",
       "    .dataframe thead th {\n",
       "        text-align: right;\n",
       "    }\n",
       "</style>\n",
       "<table border=\"1\" class=\"dataframe\">\n",
       "  <thead>\n",
       "    <tr style=\"text-align: right;\">\n",
       "      <th></th>\n",
       "      <th>ascents_count</th>\n",
       "      <th>repeat_sum</th>\n",
       "      <th>chiped_sum</th>\n",
       "      <th>soft_sum</th>\n",
       "      <th>hard_sum</th>\n",
       "      <th>traditional_sum</th>\n",
       "      <th>tall_recommend_sum</th>\n",
       "      <th>sex_ratio</th>\n",
       "      <th>yellow_id_mean</th>\n",
       "      <th>first_ascent_mean</th>\n",
       "    </tr>\n",
       "  </thead>\n",
       "  <tbody>\n",
       "    <tr>\n",
       "      <th>0</th>\n",
       "      <td>-0.326844</td>\n",
       "      <td>-0.218995</td>\n",
       "      <td>-0.113572</td>\n",
       "      <td>-0.342544</td>\n",
       "      <td>0.182314</td>\n",
       "      <td>-0.098883</td>\n",
       "      <td>-1.059586</td>\n",
       "      <td>-0.611235</td>\n",
       "      <td>-1.074365</td>\n",
       "      <td>-0.198984</td>\n",
       "    </tr>\n",
       "    <tr>\n",
       "      <th>1</th>\n",
       "      <td>-0.237211</td>\n",
       "      <td>-0.218995</td>\n",
       "      <td>-0.113572</td>\n",
       "      <td>0.036434</td>\n",
       "      <td>0.182314</td>\n",
       "      <td>-0.098883</td>\n",
       "      <td>-1.059586</td>\n",
       "      <td>-0.611235</td>\n",
       "      <td>-1.074365</td>\n",
       "      <td>-0.198984</td>\n",
       "    </tr>\n",
       "    <tr>\n",
       "      <th>2</th>\n",
       "      <td>-0.282028</td>\n",
       "      <td>-0.218995</td>\n",
       "      <td>-0.113572</td>\n",
       "      <td>-0.342544</td>\n",
       "      <td>-0.425887</td>\n",
       "      <td>-0.098883</td>\n",
       "      <td>-0.023864</td>\n",
       "      <td>-0.611235</td>\n",
       "      <td>-1.074365</td>\n",
       "      <td>-0.198984</td>\n",
       "    </tr>\n",
       "  </tbody>\n",
       "</table>\n",
       "</div>"
      ],
      "text/plain": [
       "   ascents_count  repeat_sum  chiped_sum  soft_sum  hard_sum  traditional_sum  \\\n",
       "0      -0.326844   -0.218995   -0.113572 -0.342544  0.182314        -0.098883   \n",
       "1      -0.237211   -0.218995   -0.113572  0.036434  0.182314        -0.098883   \n",
       "2      -0.282028   -0.218995   -0.113572 -0.342544 -0.425887        -0.098883   \n",
       "\n",
       "   tall_recommend_sum  sex_ratio  yellow_id_mean  first_ascent_mean  \n",
       "0           -1.059586  -0.611235       -1.074365          -0.198984  \n",
       "1           -1.059586  -0.611235       -1.074365          -0.198984  \n",
       "2           -0.023864  -0.611235       -1.074365          -0.198984  "
      ]
     },
     "metadata": {},
     "output_type": "display_data"
    }
   ],
   "source": [
    "scaler = StandardScaler()\n",
    "scaler.fit(X)\n",
    "X_scaled = scaler.transform(X)\n",
    "filename = \"../transformer/scaler.pickle\" # Path with filename\n",
    "with open(filename, \"wb\") as file:\n",
    "        pickle.dump(scaler,file)\n",
    "X_scaled_df = pd.DataFrame(X_scaled, columns = X.columns)\n",
    "print(X_scaled_df.shape)\n",
    "display(X_scaled_df.head(3))"
   ]
  },
  {
   "cell_type": "markdown",
   "id": "seeing-wrong",
   "metadata": {},
   "source": [
    "### Check the PCA"
   ]
  },
  {
   "cell_type": "code",
   "execution_count": 13,
   "id": "harmful-coordination",
   "metadata": {},
   "outputs": [
    {
     "data": {
      "text/plain": [
       "array([0.22867544, 0.10739323, 0.10466672, 0.10353983, 0.09697261,\n",
       "       0.09472296, 0.09134568, 0.0819937 , 0.07431831, 0.01637153])"
      ]
     },
     "execution_count": 13,
     "metadata": {},
     "output_type": "execute_result"
    }
   ],
   "source": [
    "pca = PCA(n_components=None)\n",
    "principalComponents = pca.fit_transform(X_scaled_df)\n",
    "principalDf = pd.DataFrame(data = principalComponents)\n",
    "pca.explained_variance_ratio_"
   ]
  },
  {
   "cell_type": "markdown",
   "id": "unknown-declaration",
   "metadata": {},
   "source": [
    "All pcas have more or less hte same variance ratio"
   ]
  },
  {
   "cell_type": "markdown",
   "id": "legendary-covering",
   "metadata": {},
   "source": [
    "# Clustering model - K-Means"
   ]
  },
  {
   "cell_type": "code",
   "execution_count": 11,
   "id": "portable-truck",
   "metadata": {
    "scrolled": true
   },
   "outputs": [
    {
     "name": "stdout",
     "output_type": "stream",
     "text": [
      "Training a K-Means model with 2 neighbours! \n",
      "\n",
      "Training a K-Means model with 3 neighbours! \n",
      "\n",
      "Training a K-Means model with 4 neighbours! \n",
      "\n",
      "Training a K-Means model with 5 neighbours! \n",
      "\n",
      "Training a K-Means model with 6 neighbours! \n",
      "\n",
      "Training a K-Means model with 7 neighbours! \n",
      "\n",
      "Training a K-Means model with 8 neighbours! \n",
      "\n",
      "Training a K-Means model with 9 neighbours! \n",
      "\n",
      "Training a K-Means model with 10 neighbours! \n",
      "\n",
      "Training a K-Means model with 11 neighbours! \n",
      "\n",
      "Training a K-Means model with 12 neighbours! \n",
      "\n",
      "Training a K-Means model with 13 neighbours! \n",
      "\n",
      "Training a K-Means model with 14 neighbours! \n",
      "\n",
      "Training a K-Means model with 15 neighbours! \n",
      "\n",
      "Training a K-Means model with 16 neighbours! \n",
      "\n",
      "Training a K-Means model with 17 neighbours! \n",
      "\n",
      "Training a K-Means model with 18 neighbours! \n",
      "\n",
      "Training a K-Means model with 19 neighbours! \n",
      "\n",
      "Training a K-Means model with 20 neighbours! \n",
      "\n"
     ]
    }
   ],
   "source": [
    "# K = range(2, 21)\n",
    "# inertia = []\n",
    "# silhouette = []\n",
    "\n",
    "# for k in K:\n",
    "#     print(\"Training a K-Means model with {} neighbours! \".format(k))\n",
    "#     print()\n",
    "#     kmeans = KMeans(n_clusters=k,\n",
    "#                     random_state=1234)\n",
    "#     kmeans.fit(X_scaled_df)\n",
    "#     filename = \"../model/kmeans_\" + str(k) + \".pickle\" # Path with filename\n",
    "#     with open(filename, \"wb\") as file:\n",
    "#         pickle.dump(kmeans,file)\n",
    "#     inertia.append(kmeans.inertia_)\n",
    "#     silhouette.append(silhouette_score(X_scaled_df, kmeans.predict(X_scaled_df)))"
   ]
  },
  {
   "cell_type": "markdown",
   "id": "official-output",
   "metadata": {},
   "source": [
    "I will 3D plot in 2 groups\n"
   ]
  },
  {
   "cell_type": "code",
   "execution_count": 12,
   "id": "wrong-phoenix",
   "metadata": {},
   "outputs": [
    {
     "data": {
      "text/plain": [
       "Text(0.5, 1.0, 'Silhouette Method showing the optimal k')"
      ]
     },
     "execution_count": 12,
     "metadata": {},
     "output_type": "execute_result"
    },
    {
     "data": {
      "image/png": "[encoded data removed]",
      "text/plain": [
       "<Figure size 1152x576 with 2 Axes>"
      ]
     },
     "metadata": {
      "needs_background": "light"
     },
     "output_type": "display_data"
    }
   ],
   "source": [
    "# fig, ax = plt.subplots(1,2,figsize=(16,8))\n",
    "# ax[0].plot(K, inertia, 'bx-')\n",
    "# ax[0].set_xlabel('k')\n",
    "# ax[0].set_ylabel('inertia')\n",
    "# ax[0].set_xticks(np.arange(min(K), max(K)+1, 1.0))\n",
    "# ax[0].set_title('Elbow Method showing the optimal k')\n",
    "# ax[1].plot(K, silhouette, 'bx-')\n",
    "# ax[1].set_xlabel('k')\n",
    "# ax[1].set_ylabel('silhouette score')\n",
    "# ax[1].set_xticks(np.arange(min(K), max(K)+1, 1.0))\n",
    "# ax[1].set_title('Silhouette Method showing the optimal k')"
   ]
  },
  {
   "cell_type": "markdown",
   "id": "homeless-equality",
   "metadata": {},
   "source": [
    "We will take 4"
   ]
  },
  {
   "cell_type": "code",
   "execution_count": 14,
   "id": "lucky-seven",
   "metadata": {},
   "outputs": [
    {
     "data": {
      "text/plain": [
       "0    27067\n",
       "1    25417\n",
       "2     1520\n",
       "3     1854\n",
       "dtype: int64"
      ]
     },
     "execution_count": 14,
     "metadata": {},
     "output_type": "execute_result"
    }
   ],
   "source": [
    "k = 4\n",
    "filename = \"../model/kmeans_\" + str(k) + \".pickle\" # Path with filename\n",
    "with open(filename, \"rb\") as file:\n",
    "    kmeans = pickle.load(file)\n",
    "clusters = kmeans.predict(X_scaled_df)\n",
    "#clusters\n",
    "pd.Series(clusters).value_counts().sort_index() # Number of songs in each cluster"
   ]
  },
  {
   "cell_type": "code",
   "execution_count": 15,
   "id": "biological-winner",
   "metadata": {},
   "outputs": [
    {
     "data": {
      "text/plain": [
       "array([0, 0, 0, ..., 2, 0, 1], dtype=int32)"
      ]
     },
     "execution_count": 15,
     "metadata": {},
     "output_type": "execute_result"
    }
   ],
   "source": [
    "clusters"
   ]
  },
  {
   "cell_type": "markdown",
   "id": "cathedral-defensive",
   "metadata": {},
   "source": [
    "### Check the PCA"
   ]
  },
  {
   "cell_type": "code",
   "execution_count": 16,
   "id": "timely-horizontal",
   "metadata": {},
   "outputs": [
    {
     "data": {
      "text/plain": [
       "array([0.22867544, 0.10739323, 0.10466672, 0.10353983, 0.09697261,\n",
       "       0.09472296, 0.09134568, 0.0819937 , 0.07431831, 0.01637153])"
      ]
     },
     "execution_count": 16,
     "metadata": {},
     "output_type": "execute_result"
    }
   ],
   "source": [
    "pca = PCA(n_components=None)\n",
    "principalComponents = pca.fit_transform(X_scaled_df)\n",
    "principalDf = pd.DataFrame(data = principalComponents)\n",
    "pca.explained_variance_ratio_"
   ]
  },
  {
   "cell_type": "markdown",
   "id": "killing-wilson",
   "metadata": {},
   "source": [
    "Just for fun I will 3D plot but we have 8 groups... impossible to visualize with the limited human brain.."
   ]
  },
  {
   "cell_type": "code",
   "execution_count": 17,
   "id": "ahead-houston",
   "metadata": {
    "scrolled": false
   },
   "outputs": [
    {
     "data": {
      "image/png": "[encoded data removed]",
      "text/plain": [
       "<Figure size 432x432 with 1 Axes>"
      ]
     },
     "metadata": {},
     "output_type": "display_data"
    }
   ],
   "source": [
    "from lib.plot_jzar import *\n",
    "# %matplotlib notebook\n",
    "plot3D(x = principalDf[0],y = principalDf[1],z = principalDf[2],color = clusters, fraction = 0.2)"
   ]
  },
  {
   "cell_type": "code",
   "execution_count": 18,
   "id": "sixth-transcript",
   "metadata": {
    "scrolled": false
   },
   "outputs": [
    {
     "data": {
      "image/png": "[encoded data removed]",
      "text/plain": [
       "<Figure size 432x432 with 1 Axes>"
      ]
     },
     "metadata": {},
     "output_type": "display_data"
    }
   ],
   "source": [
    "# %matplotlib notebook\n",
    "plot3D(x = principalDf[0],y = principalDf[2],z = principalDf[3],color = clusters, fraction = 0.2)"
   ]
  },
  {
   "cell_type": "markdown",
   "id": "focused-influence",
   "metadata": {},
   "source": [
    "And we see that the assigned clusters are not so bad"
   ]
  },
  {
   "cell_type": "markdown",
   "id": "thorough-appendix",
   "metadata": {},
   "source": [
    "### Assing each route to a cluster"
   ]
  },
  {
   "cell_type": "code",
   "execution_count": 19,
   "id": "minor-channels",
   "metadata": {},
   "outputs": [],
   "source": [
    "X_cl = routes_features.copy()\n",
    "X_cl[\"cluster\"] = pd.Series(clusters)"
   ]
  },
  {
   "cell_type": "code",
   "execution_count": 20,
   "id": "extra-greece",
   "metadata": {},
   "outputs": [
    {
     "name": "stdout",
     "output_type": "stream",
     "text": [
      "(55858, 15)\n"
     ]
    },
    {
     "data": {
      "text/html": [
       "<div>\n",
       "<style scoped>\n",
       "    .dataframe tbody tr th:only-of-type {\n",
       "        vertical-align: middle;\n",
       "    }\n",
       "\n",
       "    .dataframe tbody tr th {\n",
       "        vertical-align: top;\n",
       "    }\n",
       "\n",
       "    .dataframe thead th {\n",
       "        text-align: right;\n",
       "    }\n",
       "</style>\n",
       "<table border=\"1\" class=\"dataframe\">\n",
       "  <thead>\n",
       "    <tr style=\"text-align: right;\">\n",
       "      <th></th>\n",
       "      <th>name_id</th>\n",
       "      <th>country</th>\n",
       "      <th>crag</th>\n",
       "      <th>sector</th>\n",
       "      <th>name</th>\n",
       "      <th>ascents_count</th>\n",
       "      <th>repeat_sum</th>\n",
       "      <th>recommend_sum</th>\n",
       "      <th>tall_recommend_sum</th>\n",
       "      <th>grade_mean</th>\n",
       "      <th>sentiment_mean</th>\n",
       "      <th>rating_mean</th>\n",
       "      <th>yellow_id_mean</th>\n",
       "      <th>first_ascent_mean</th>\n",
       "      <th>cluster</th>\n",
       "    </tr>\n",
       "  </thead>\n",
       "  <tbody>\n",
       "    <tr>\n",
       "      <th>0</th>\n",
       "      <td>0</td>\n",
       "      <td>and</td>\n",
       "      <td>montserrat</td>\n",
       "      <td>prohibitivo</td>\n",
       "      <td>diagonal de la x</td>\n",
       "      <td>4</td>\n",
       "      <td>0.0</td>\n",
       "      <td>0.0</td>\n",
       "      <td>-1</td>\n",
       "      <td>49.250000</td>\n",
       "      <td>0.0000</td>\n",
       "      <td>2.00</td>\n",
       "      <td>0.0</td>\n",
       "      <td>0.0</td>\n",
       "      <td>0</td>\n",
       "    </tr>\n",
       "    <tr>\n",
       "      <th>1</th>\n",
       "      <td>1</td>\n",
       "      <td>and</td>\n",
       "      <td>montserrat</td>\n",
       "      <td>prohibitivo</td>\n",
       "      <td>mehir</td>\n",
       "      <td>6</td>\n",
       "      <td>0.0</td>\n",
       "      <td>1.0</td>\n",
       "      <td>-1</td>\n",
       "      <td>49.000000</td>\n",
       "      <td>0.0000</td>\n",
       "      <td>2.00</td>\n",
       "      <td>0.0</td>\n",
       "      <td>0.0</td>\n",
       "      <td>0</td>\n",
       "    </tr>\n",
       "    <tr>\n",
       "      <th>2</th>\n",
       "      <td>2</td>\n",
       "      <td>and</td>\n",
       "      <td>montserrat</td>\n",
       "      <td>prohibitivo</td>\n",
       "      <td>pas de la discordia</td>\n",
       "      <td>5</td>\n",
       "      <td>0.0</td>\n",
       "      <td>1.0</td>\n",
       "      <td>0</td>\n",
       "      <td>49.000000</td>\n",
       "      <td>0.0000</td>\n",
       "      <td>1.75</td>\n",
       "      <td>0.0</td>\n",
       "      <td>0.0</td>\n",
       "      <td>0</td>\n",
       "    </tr>\n",
       "    <tr>\n",
       "      <th>3</th>\n",
       "      <td>3</td>\n",
       "      <td>and</td>\n",
       "      <td>tartareu</td>\n",
       "      <td>bombo suis</td>\n",
       "      <td>tenedor libre</td>\n",
       "      <td>3</td>\n",
       "      <td>0.0</td>\n",
       "      <td>1.0</td>\n",
       "      <td>0</td>\n",
       "      <td>44.333333</td>\n",
       "      <td>0.0000</td>\n",
       "      <td>3.00</td>\n",
       "      <td>0.0</td>\n",
       "      <td>0.0</td>\n",
       "      <td>0</td>\n",
       "    </tr>\n",
       "    <tr>\n",
       "      <th>4</th>\n",
       "      <td>4</td>\n",
       "      <td>arg</td>\n",
       "      <td>bandurrias</td>\n",
       "      <td>rincon</td>\n",
       "      <td>tendinitis</td>\n",
       "      <td>2</td>\n",
       "      <td>0.0</td>\n",
       "      <td>0.0</td>\n",
       "      <td>1</td>\n",
       "      <td>48.500000</td>\n",
       "      <td>0.0762</td>\n",
       "      <td>1.00</td>\n",
       "      <td>0.0</td>\n",
       "      <td>0.0</td>\n",
       "      <td>0</td>\n",
       "    </tr>\n",
       "  </tbody>\n",
       "</table>\n",
       "</div>"
      ],
      "text/plain": [
       "   name_id country        crag       sector                 name  \\\n",
       "0        0     and  montserrat  prohibitivo     diagonal de la x   \n",
       "1        1     and  montserrat  prohibitivo                mehir   \n",
       "2        2     and  montserrat  prohibitivo  pas de la discordia   \n",
       "3        3     and    tartareu   bombo suis        tenedor libre   \n",
       "4        4     arg  bandurrias       rincon           tendinitis   \n",
       "\n",
       "   ascents_count  repeat_sum  recommend_sum  tall_recommend_sum  grade_mean  \\\n",
       "0              4         0.0            0.0                  -1   49.250000   \n",
       "1              6         0.0            1.0                  -1   49.000000   \n",
       "2              5         0.0            1.0                   0   49.000000   \n",
       "3              3         0.0            1.0                   0   44.333333   \n",
       "4              2         0.0            0.0                   1   48.500000   \n",
       "\n",
       "   sentiment_mean  rating_mean  yellow_id_mean  first_ascent_mean  cluster  \n",
       "0          0.0000         2.00             0.0                0.0        0  \n",
       "1          0.0000         2.00             0.0                0.0        0  \n",
       "2          0.0000         1.75             0.0                0.0        0  \n",
       "3          0.0000         3.00             0.0                0.0        0  \n",
       "4          0.0762         1.00             0.0                0.0        0  "
      ]
     },
     "execution_count": 20,
     "metadata": {},
     "output_type": "execute_result"
    }
   ],
   "source": [
    "routes_clustered = X_cl.drop(columns = ['chiped_sum','soft_sum','hard_sum','traditional_sum','sex_ratio'])\n",
    "print(routes_clustered.shape)\n",
    "routes_clustered.head()"
   ]
  },
  {
   "cell_type": "code",
   "execution_count": 21,
   "id": "adjusted-default",
   "metadata": {},
   "outputs": [],
   "source": [
    "clust_0 = routes_clustered[routes_clustered.cluster == 0]"
   ]
  },
  {
   "cell_type": "code",
   "execution_count": 22,
   "id": "built-triangle",
   "metadata": {},
   "outputs": [
    {
     "data": {
      "text/plain": [
       "0    27067\n",
       "1    25417\n",
       "3     1854\n",
       "2     1520\n",
       "Name: cluster, dtype: int64"
      ]
     },
     "execution_count": 22,
     "metadata": {},
     "output_type": "execute_result"
    }
   ],
   "source": [
    "routes_clustered.cluster.value_counts()"
   ]
  },
  {
   "cell_type": "code",
   "execution_count": 69,
   "id": "confident-rainbow",
   "metadata": {},
   "outputs": [],
   "source": [
    "routes_clustered.to_csv('../data/routes_clustered.csv')"
   ]
  }
 ],
 "metadata": {
  "kernelspec": {
   "display_name": "Python 3 (ipykernel)",
   "language": "python",
   "name": "python3"
  },
  "language_info": {
   "codemirror_mode": {
    "name": "ipython",
    "version": 3
   },
   "file_extension": ".py",
   "mimetype": "text/x-python",
   "name": "python",
   "nbconvert_exporter": "python",
   "pygments_lexer": "ipython3",
   "version": "3.9.5"
  }
 },
 "nbformat": 4,
 "nbformat_minor": 5
}
