{
 "cells": [
  {
   "cell_type": "code",
   "execution_count": 1,
   "id": "wooden-official",
   "metadata": {},
   "outputs": [],
   "source": [
    "import pandas as pd\n",
    "import numpy as np\n",
    "import pickle\n",
    "from sklearn.preprocessing import StandardScaler\n",
    "from sklearn.metrics import silhouette_score\n",
    "from sklearn.mixture import GaussianMixture\n",
    "from sklearn.cluster import AgglomerativeClustering, KMeans\n",
    "from scipy.cluster.hierarchy import dendrogram\n",
    "from sklearn.decomposition import PCA\n",
    "import matplotlib.pyplot as plt\n",
    "import seaborn as sns\n",
    "import cluster_jzar\n",
    "import climb_jor"
   ]
  },
  {
   "cell_type": "code",
   "execution_count": 2,
   "id": "complete-salem",
   "metadata": {},
   "outputs": [],
   "source": [
    "pd.set_option(\"display.max_columns\",None)\n",
    "pd.set_option('display.max_rows', 10)"
   ]
  },
  {
   "cell_type": "markdown",
   "id": "641a5fe4",
   "metadata": {},
   "source": [
    "### We have 3 types of data:\n",
    "- `Independent features (clustered)` => <b>In this notebook we will work on this one\n",
    "- How good the route is (the higher the better)\n",
    "- Grade, Location, sex, heigh (defined by user)\n"
   ]
  },
  {
   "cell_type": "markdown",
   "id": "clean-knowing",
   "metadata": {},
   "source": [
    "# Clustering Routes"
   ]
  },
  {
   "cell_type": "markdown",
   "id": "incredible-batman",
   "metadata": {},
   "source": [
    "First we retrieve the features dataframe"
   ]
  },
  {
   "cell_type": "code",
   "execution_count": 3,
   "id": "disciplinary-causing",
   "metadata": {},
   "outputs": [],
   "source": [
    "routes_features = pd.read_csv('../data/routes_features.csv',low_memory=False, index_col=0)"
   ]
  },
  {
   "cell_type": "code",
   "execution_count": 4,
   "id": "impaired-depression",
   "metadata": {},
   "outputs": [
    {
     "name": "stdout",
     "output_type": "stream",
     "text": [
      "(55087, 19)\n"
     ]
    },
    {
     "data": {
      "text/html": [
       "<div>\n",
       "<style scoped>\n",
       "    .dataframe tbody tr th:only-of-type {\n",
       "        vertical-align: middle;\n",
       "    }\n",
       "\n",
       "    .dataframe tbody tr th {\n",
       "        vertical-align: top;\n",
       "    }\n",
       "\n",
       "    .dataframe thead th {\n",
       "        text-align: right;\n",
       "    }\n",
       "</style>\n",
       "<table border=\"1\" class=\"dataframe\">\n",
       "  <thead>\n",
       "    <tr style=\"text-align: right;\">\n",
       "      <th></th>\n",
       "      <th>name_id</th>\n",
       "      <th>country</th>\n",
       "      <th>crag</th>\n",
       "      <th>sector</th>\n",
       "      <th>name</th>\n",
       "      <th>ascents_count</th>\n",
       "      <th>repeat_sum</th>\n",
       "      <th>recommend_sum</th>\n",
       "      <th>chiped_sum</th>\n",
       "      <th>soft_sum</th>\n",
       "      <th>hard_sum</th>\n",
       "      <th>traditional_sum</th>\n",
       "      <th>tall_recommend_sum</th>\n",
       "      <th>grade_mean</th>\n",
       "      <th>sentiment_mean</th>\n",
       "      <th>rating_mean</th>\n",
       "      <th>sex_ratio</th>\n",
       "      <th>yellow_id_mean</th>\n",
       "      <th>first_ascent_mean</th>\n",
       "    </tr>\n",
       "  </thead>\n",
       "  <tbody>\n",
       "    <tr>\n",
       "      <th>55082</th>\n",
       "      <td>55082</td>\n",
       "      <td>zaf</td>\n",
       "      <td>van stadens</td>\n",
       "      <td>the beach</td>\n",
       "      <td>bush biscuit</td>\n",
       "      <td>2</td>\n",
       "      <td>0.0</td>\n",
       "      <td>1.0</td>\n",
       "      <td>0.0</td>\n",
       "      <td>0</td>\n",
       "      <td>0</td>\n",
       "      <td>0</td>\n",
       "      <td>0</td>\n",
       "      <td>44.0</td>\n",
       "      <td>NaN</td>\n",
       "      <td>NaN</td>\n",
       "      <td>0.0</td>\n",
       "      <td>0.0</td>\n",
       "      <td>0.0</td>\n",
       "    </tr>\n",
       "    <tr>\n",
       "      <th>55083</th>\n",
       "      <td>55083</td>\n",
       "      <td>zaf</td>\n",
       "      <td>van stadens</td>\n",
       "      <td>the beach</td>\n",
       "      <td>funky chicken</td>\n",
       "      <td>2</td>\n",
       "      <td>0.0</td>\n",
       "      <td>0.0</td>\n",
       "      <td>0.0</td>\n",
       "      <td>0</td>\n",
       "      <td>0</td>\n",
       "      <td>0</td>\n",
       "      <td>0</td>\n",
       "      <td>38.0</td>\n",
       "      <td>0.0</td>\n",
       "      <td>1.0</td>\n",
       "      <td>0.0</td>\n",
       "      <td>0.0</td>\n",
       "      <td>0.0</td>\n",
       "    </tr>\n",
       "    <tr>\n",
       "      <th>55084</th>\n",
       "      <td>55084</td>\n",
       "      <td>zaf</td>\n",
       "      <td>van stadens</td>\n",
       "      <td>the beach</td>\n",
       "      <td>out of control</td>\n",
       "      <td>2</td>\n",
       "      <td>0.0</td>\n",
       "      <td>0.0</td>\n",
       "      <td>0.0</td>\n",
       "      <td>0</td>\n",
       "      <td>0</td>\n",
       "      <td>0</td>\n",
       "      <td>0</td>\n",
       "      <td>36.0</td>\n",
       "      <td>NaN</td>\n",
       "      <td>NaN</td>\n",
       "      <td>0.0</td>\n",
       "      <td>0.0</td>\n",
       "      <td>0.0</td>\n",
       "    </tr>\n",
       "    <tr>\n",
       "      <th>55085</th>\n",
       "      <td>55085</td>\n",
       "      <td>zaf</td>\n",
       "      <td>van stadens</td>\n",
       "      <td>the beach</td>\n",
       "      <td>sheathless</td>\n",
       "      <td>2</td>\n",
       "      <td>0.0</td>\n",
       "      <td>0.0</td>\n",
       "      <td>0.0</td>\n",
       "      <td>0</td>\n",
       "      <td>1</td>\n",
       "      <td>0</td>\n",
       "      <td>-1</td>\n",
       "      <td>39.5</td>\n",
       "      <td>0.0</td>\n",
       "      <td>2.0</td>\n",
       "      <td>0.0</td>\n",
       "      <td>255.0</td>\n",
       "      <td>0.0</td>\n",
       "    </tr>\n",
       "    <tr>\n",
       "      <th>55086</th>\n",
       "      <td>55086</td>\n",
       "      <td>zaf</td>\n",
       "      <td>waterval boven</td>\n",
       "      <td>baboon buttress</td>\n",
       "      <td>pretenders</td>\n",
       "      <td>2</td>\n",
       "      <td>0.0</td>\n",
       "      <td>1.0</td>\n",
       "      <td>0.0</td>\n",
       "      <td>0</td>\n",
       "      <td>0</td>\n",
       "      <td>0</td>\n",
       "      <td>0</td>\n",
       "      <td>49.0</td>\n",
       "      <td>0.0</td>\n",
       "      <td>NaN</td>\n",
       "      <td>0.0</td>\n",
       "      <td>255.0</td>\n",
       "      <td>0.0</td>\n",
       "    </tr>\n",
       "  </tbody>\n",
       "</table>\n",
       "</div>"
      ],
      "text/plain": [
       "       name_id country            crag           sector            name  \\\n",
       "55082    55082     zaf     van stadens        the beach    bush biscuit   \n",
       "55083    55083     zaf     van stadens        the beach   funky chicken   \n",
       "55084    55084     zaf     van stadens        the beach  out of control   \n",
       "55085    55085     zaf     van stadens        the beach      sheathless   \n",
       "55086    55086     zaf  waterval boven  baboon buttress      pretenders   \n",
       "\n",
       "       ascents_count  repeat_sum  recommend_sum  chiped_sum  soft_sum  \\\n",
       "55082              2         0.0            1.0         0.0         0   \n",
       "55083              2         0.0            0.0         0.0         0   \n",
       "55084              2         0.0            0.0         0.0         0   \n",
       "55085              2         0.0            0.0         0.0         0   \n",
       "55086              2         0.0            1.0         0.0         0   \n",
       "\n",
       "       hard_sum  traditional_sum  tall_recommend_sum  grade_mean  \\\n",
       "55082         0                0                   0        44.0   \n",
       "55083         0                0                   0        38.0   \n",
       "55084         0                0                   0        36.0   \n",
       "55085         1                0                  -1        39.5   \n",
       "55086         0                0                   0        49.0   \n",
       "\n",
       "       sentiment_mean  rating_mean  sex_ratio  yellow_id_mean  \\\n",
       "55082             NaN          NaN        0.0             0.0   \n",
       "55083             0.0          1.0        0.0             0.0   \n",
       "55084             NaN          NaN        0.0             0.0   \n",
       "55085             0.0          2.0        0.0           255.0   \n",
       "55086             0.0          NaN        0.0           255.0   \n",
       "\n",
       "       first_ascent_mean  \n",
       "55082                0.0  \n",
       "55083                0.0  \n",
       "55084                0.0  \n",
       "55085                0.0  \n",
       "55086                0.0  "
      ]
     },
     "execution_count": 4,
     "metadata": {},
     "output_type": "execute_result"
    }
   ],
   "source": [
    "print(routes_features.shape)\n",
    "routes_features.tail(5)"
   ]
  },
  {
   "cell_type": "markdown",
   "id": "positive-season",
   "metadata": {},
   "source": [
    "## Prepare the dataframe for clustering"
   ]
  },
  {
   "cell_type": "code",
   "execution_count": 5,
   "id": "accompanied-northern",
   "metadata": {},
   "outputs": [],
   "source": [
    "# Drop not interesting features\n",
    "X = routes_features[['ascents_count','repeat_sum','chiped_sum','soft_sum','hard_sum','traditional_sum','tall_recommend_sum','sex_ratio','yellow_id_mean','first_ascent_mean']]"
   ]
  },
  {
   "cell_type": "code",
   "execution_count": 6,
   "id": "aggressive-taylor",
   "metadata": {},
   "outputs": [
    {
     "data": {
      "text/html": [
       "<div>\n",
       "<style scoped>\n",
       "    .dataframe tbody tr th:only-of-type {\n",
       "        vertical-align: middle;\n",
       "    }\n",
       "\n",
       "    .dataframe tbody tr th {\n",
       "        vertical-align: top;\n",
       "    }\n",
       "\n",
       "    .dataframe thead th {\n",
       "        text-align: right;\n",
       "    }\n",
       "</style>\n",
       "<table border=\"1\" class=\"dataframe\">\n",
       "  <thead>\n",
       "    <tr style=\"text-align: right;\">\n",
       "      <th></th>\n",
       "      <th>ascents_count</th>\n",
       "      <th>repeat_sum</th>\n",
       "      <th>chiped_sum</th>\n",
       "      <th>soft_sum</th>\n",
       "      <th>hard_sum</th>\n",
       "      <th>traditional_sum</th>\n",
       "      <th>tall_recommend_sum</th>\n",
       "      <th>sex_ratio</th>\n",
       "      <th>yellow_id_mean</th>\n",
       "      <th>first_ascent_mean</th>\n",
       "    </tr>\n",
       "  </thead>\n",
       "  <tbody>\n",
       "    <tr>\n",
       "      <th>ascents_count</th>\n",
       "      <td>1.000000</td>\n",
       "      <td>0.316998</td>\n",
       "      <td>0.083650</td>\n",
       "      <td>0.726797</td>\n",
       "      <td>0.571624</td>\n",
       "      <td>0.045267</td>\n",
       "      <td>0.072232</td>\n",
       "      <td>0.043329</td>\n",
       "      <td>0.211865</td>\n",
       "      <td>-0.057708</td>\n",
       "    </tr>\n",
       "    <tr>\n",
       "      <th>repeat_sum</th>\n",
       "      <td>0.316998</td>\n",
       "      <td>1.000000</td>\n",
       "      <td>0.015068</td>\n",
       "      <td>0.196296</td>\n",
       "      <td>0.157400</td>\n",
       "      <td>0.090747</td>\n",
       "      <td>0.043418</td>\n",
       "      <td>-0.000462</td>\n",
       "      <td>0.075402</td>\n",
       "      <td>-0.009995</td>\n",
       "    </tr>\n",
       "    <tr>\n",
       "      <th>chiped_sum</th>\n",
       "      <td>0.083650</td>\n",
       "      <td>0.015068</td>\n",
       "      <td>1.000000</td>\n",
       "      <td>0.087191</td>\n",
       "      <td>0.072029</td>\n",
       "      <td>-0.005889</td>\n",
       "      <td>0.014043</td>\n",
       "      <td>-0.024995</td>\n",
       "      <td>0.021241</td>\n",
       "      <td>0.008091</td>\n",
       "    </tr>\n",
       "    <tr>\n",
       "      <th>soft_sum</th>\n",
       "      <td>0.726797</td>\n",
       "      <td>0.196296</td>\n",
       "      <td>0.087191</td>\n",
       "      <td>1.000000</td>\n",
       "      <td>0.213373</td>\n",
       "      <td>0.003320</td>\n",
       "      <td>0.129814</td>\n",
       "      <td>0.001822</td>\n",
       "      <td>0.166405</td>\n",
       "      <td>-0.033409</td>\n",
       "    </tr>\n",
       "    <tr>\n",
       "      <th>hard_sum</th>\n",
       "      <td>0.571624</td>\n",
       "      <td>0.157400</td>\n",
       "      <td>0.072029</td>\n",
       "      <td>0.213373</td>\n",
       "      <td>1.000000</td>\n",
       "      <td>0.023702</td>\n",
       "      <td>-0.037180</td>\n",
       "      <td>-0.003030</td>\n",
       "      <td>0.152198</td>\n",
       "      <td>-0.041778</td>\n",
       "    </tr>\n",
       "    <tr>\n",
       "      <th>traditional_sum</th>\n",
       "      <td>0.045267</td>\n",
       "      <td>0.090747</td>\n",
       "      <td>-0.005889</td>\n",
       "      <td>0.003320</td>\n",
       "      <td>0.023702</td>\n",
       "      <td>1.000000</td>\n",
       "      <td>-0.002960</td>\n",
       "      <td>-0.006420</td>\n",
       "      <td>0.040114</td>\n",
       "      <td>-0.011163</td>\n",
       "    </tr>\n",
       "    <tr>\n",
       "      <th>tall_recommend_sum</th>\n",
       "      <td>0.072232</td>\n",
       "      <td>0.043418</td>\n",
       "      <td>0.014043</td>\n",
       "      <td>0.129814</td>\n",
       "      <td>-0.037180</td>\n",
       "      <td>-0.002960</td>\n",
       "      <td>1.000000</td>\n",
       "      <td>0.004718</td>\n",
       "      <td>0.008244</td>\n",
       "      <td>-0.002112</td>\n",
       "    </tr>\n",
       "    <tr>\n",
       "      <th>sex_ratio</th>\n",
       "      <td>0.043329</td>\n",
       "      <td>-0.000462</td>\n",
       "      <td>-0.024995</td>\n",
       "      <td>0.001822</td>\n",
       "      <td>-0.003030</td>\n",
       "      <td>-0.006420</td>\n",
       "      <td>0.004718</td>\n",
       "      <td>1.000000</td>\n",
       "      <td>0.039341</td>\n",
       "      <td>-0.049543</td>\n",
       "    </tr>\n",
       "    <tr>\n",
       "      <th>yellow_id_mean</th>\n",
       "      <td>0.211865</td>\n",
       "      <td>0.075402</td>\n",
       "      <td>0.021241</td>\n",
       "      <td>0.166405</td>\n",
       "      <td>0.152198</td>\n",
       "      <td>0.040114</td>\n",
       "      <td>0.008244</td>\n",
       "      <td>0.039341</td>\n",
       "      <td>1.000000</td>\n",
       "      <td>-0.037276</td>\n",
       "    </tr>\n",
       "    <tr>\n",
       "      <th>first_ascent_mean</th>\n",
       "      <td>-0.057708</td>\n",
       "      <td>-0.009995</td>\n",
       "      <td>0.008091</td>\n",
       "      <td>-0.033409</td>\n",
       "      <td>-0.041778</td>\n",
       "      <td>-0.011163</td>\n",
       "      <td>-0.002112</td>\n",
       "      <td>-0.049543</td>\n",
       "      <td>-0.037276</td>\n",
       "      <td>1.000000</td>\n",
       "    </tr>\n",
       "  </tbody>\n",
       "</table>\n",
       "</div>"
      ],
      "text/plain": [
       "                    ascents_count  repeat_sum  chiped_sum  soft_sum  hard_sum  \\\n",
       "ascents_count            1.000000    0.316998    0.083650  0.726797  0.571624   \n",
       "repeat_sum               0.316998    1.000000    0.015068  0.196296  0.157400   \n",
       "chiped_sum               0.083650    0.015068    1.000000  0.087191  0.072029   \n",
       "soft_sum                 0.726797    0.196296    0.087191  1.000000  0.213373   \n",
       "hard_sum                 0.571624    0.157400    0.072029  0.213373  1.000000   \n",
       "traditional_sum          0.045267    0.090747   -0.005889  0.003320  0.023702   \n",
       "tall_recommend_sum       0.072232    0.043418    0.014043  0.129814 -0.037180   \n",
       "sex_ratio                0.043329   -0.000462   -0.024995  0.001822 -0.003030   \n",
       "yellow_id_mean           0.211865    0.075402    0.021241  0.166405  0.152198   \n",
       "first_ascent_mean       -0.057708   -0.009995    0.008091 -0.033409 -0.041778   \n",
       "\n",
       "                    traditional_sum  tall_recommend_sum  sex_ratio  \\\n",
       "ascents_count              0.045267            0.072232   0.043329   \n",
       "repeat_sum                 0.090747            0.043418  -0.000462   \n",
       "chiped_sum                -0.005889            0.014043  -0.024995   \n",
       "soft_sum                   0.003320            0.129814   0.001822   \n",
       "hard_sum                   0.023702           -0.037180  -0.003030   \n",
       "traditional_sum            1.000000           -0.002960  -0.006420   \n",
       "tall_recommend_sum        -0.002960            1.000000   0.004718   \n",
       "sex_ratio                 -0.006420            0.004718   1.000000   \n",
       "yellow_id_mean             0.040114            0.008244   0.039341   \n",
       "first_ascent_mean         -0.011163           -0.002112  -0.049543   \n",
       "\n",
       "                    yellow_id_mean  first_ascent_mean  \n",
       "ascents_count             0.211865          -0.057708  \n",
       "repeat_sum                0.075402          -0.009995  \n",
       "chiped_sum                0.021241           0.008091  \n",
       "soft_sum                  0.166405          -0.033409  \n",
       "hard_sum                  0.152198          -0.041778  \n",
       "traditional_sum           0.040114          -0.011163  \n",
       "tall_recommend_sum        0.008244          -0.002112  \n",
       "sex_ratio                 0.039341          -0.049543  \n",
       "yellow_id_mean            1.000000          -0.037276  \n",
       "first_ascent_mean        -0.037276           1.000000  "
      ]
     },
     "execution_count": 6,
     "metadata": {},
     "output_type": "execute_result"
    }
   ],
   "source": [
    "X.corr()"
   ]
  },
  {
   "cell_type": "code",
   "execution_count": 7,
   "id": "absent-turkish",
   "metadata": {},
   "outputs": [
    {
     "data": {
      "text/plain": [
       "<AxesSubplot:>"
      ]
     },
     "execution_count": 7,
     "metadata": {},
     "output_type": "execute_result"
    },
    {
     "data": {
      "image/png": "[encoded data removed]",
      "text/plain": [
       "<Figure size 432x288 with 2 Axes>"
      ]
     },
     "metadata": {
      "needs_background": "light"
     },
     "output_type": "display_data"
    }
   ],
   "source": [
    "sns.heatmap(X.corr())"
   ]
  },
  {
   "cell_type": "markdown",
   "id": "accepted-exploration",
   "metadata": {},
   "source": [
    "Not a big correlation between features"
   ]
  },
  {
   "cell_type": "code",
   "execution_count": 8,
   "id": "resident-thumb",
   "metadata": {},
   "outputs": [
    {
     "data": {
      "text/html": [
       "<div>\n",
       "<style scoped>\n",
       "    .dataframe tbody tr th:only-of-type {\n",
       "        vertical-align: middle;\n",
       "    }\n",
       "\n",
       "    .dataframe tbody tr th {\n",
       "        vertical-align: top;\n",
       "    }\n",
       "\n",
       "    .dataframe thead th {\n",
       "        text-align: right;\n",
       "    }\n",
       "</style>\n",
       "<table border=\"1\" class=\"dataframe\">\n",
       "  <thead>\n",
       "    <tr style=\"text-align: right;\">\n",
       "      <th></th>\n",
       "      <th>ascents_count</th>\n",
       "      <th>repeat_sum</th>\n",
       "      <th>chiped_sum</th>\n",
       "      <th>soft_sum</th>\n",
       "      <th>hard_sum</th>\n",
       "      <th>traditional_sum</th>\n",
       "      <th>tall_recommend_sum</th>\n",
       "      <th>sex_ratio</th>\n",
       "      <th>yellow_id_mean</th>\n",
       "      <th>first_ascent_mean</th>\n",
       "    </tr>\n",
       "  </thead>\n",
       "  <tbody>\n",
       "    <tr>\n",
       "      <th>0</th>\n",
       "      <td>6</td>\n",
       "      <td>0.0</td>\n",
       "      <td>0.0</td>\n",
       "      <td>1</td>\n",
       "      <td>1</td>\n",
       "      <td>0</td>\n",
       "      <td>-1</td>\n",
       "      <td>0.0</td>\n",
       "      <td>0.0</td>\n",
       "      <td>0.0</td>\n",
       "    </tr>\n",
       "    <tr>\n",
       "      <th>1</th>\n",
       "      <td>5</td>\n",
       "      <td>0.0</td>\n",
       "      <td>0.0</td>\n",
       "      <td>0</td>\n",
       "      <td>0</td>\n",
       "      <td>0</td>\n",
       "      <td>0</td>\n",
       "      <td>0.0</td>\n",
       "      <td>0.0</td>\n",
       "      <td>0.0</td>\n",
       "    </tr>\n",
       "    <tr>\n",
       "      <th>2</th>\n",
       "      <td>4</td>\n",
       "      <td>0.0</td>\n",
       "      <td>0.0</td>\n",
       "      <td>0</td>\n",
       "      <td>1</td>\n",
       "      <td>0</td>\n",
       "      <td>-1</td>\n",
       "      <td>0.0</td>\n",
       "      <td>0.0</td>\n",
       "      <td>0.0</td>\n",
       "    </tr>\n",
       "    <tr>\n",
       "      <th>3</th>\n",
       "      <td>3</td>\n",
       "      <td>0.0</td>\n",
       "      <td>0.0</td>\n",
       "      <td>0</td>\n",
       "      <td>1</td>\n",
       "      <td>0</td>\n",
       "      <td>0</td>\n",
       "      <td>0.0</td>\n",
       "      <td>0.0</td>\n",
       "      <td>0.0</td>\n",
       "    </tr>\n",
       "    <tr>\n",
       "      <th>4</th>\n",
       "      <td>2</td>\n",
       "      <td>0.0</td>\n",
       "      <td>0.0</td>\n",
       "      <td>1</td>\n",
       "      <td>0</td>\n",
       "      <td>0</td>\n",
       "      <td>1</td>\n",
       "      <td>0.0</td>\n",
       "      <td>0.0</td>\n",
       "      <td>0.0</td>\n",
       "    </tr>\n",
       "    <tr>\n",
       "      <th>...</th>\n",
       "      <td>...</td>\n",
       "      <td>...</td>\n",
       "      <td>...</td>\n",
       "      <td>...</td>\n",
       "      <td>...</td>\n",
       "      <td>...</td>\n",
       "      <td>...</td>\n",
       "      <td>...</td>\n",
       "      <td>...</td>\n",
       "      <td>...</td>\n",
       "    </tr>\n",
       "    <tr>\n",
       "      <th>55082</th>\n",
       "      <td>2</td>\n",
       "      <td>0.0</td>\n",
       "      <td>0.0</td>\n",
       "      <td>0</td>\n",
       "      <td>0</td>\n",
       "      <td>0</td>\n",
       "      <td>0</td>\n",
       "      <td>0.0</td>\n",
       "      <td>0.0</td>\n",
       "      <td>0.0</td>\n",
       "    </tr>\n",
       "    <tr>\n",
       "      <th>55083</th>\n",
       "      <td>2</td>\n",
       "      <td>0.0</td>\n",
       "      <td>0.0</td>\n",
       "      <td>0</td>\n",
       "      <td>0</td>\n",
       "      <td>0</td>\n",
       "      <td>0</td>\n",
       "      <td>0.0</td>\n",
       "      <td>0.0</td>\n",
       "      <td>0.0</td>\n",
       "    </tr>\n",
       "    <tr>\n",
       "      <th>55084</th>\n",
       "      <td>2</td>\n",
       "      <td>0.0</td>\n",
       "      <td>0.0</td>\n",
       "      <td>0</td>\n",
       "      <td>0</td>\n",
       "      <td>0</td>\n",
       "      <td>0</td>\n",
       "      <td>0.0</td>\n",
       "      <td>0.0</td>\n",
       "      <td>0.0</td>\n",
       "    </tr>\n",
       "    <tr>\n",
       "      <th>55085</th>\n",
       "      <td>2</td>\n",
       "      <td>0.0</td>\n",
       "      <td>0.0</td>\n",
       "      <td>0</td>\n",
       "      <td>1</td>\n",
       "      <td>0</td>\n",
       "      <td>-1</td>\n",
       "      <td>0.0</td>\n",
       "      <td>255.0</td>\n",
       "      <td>0.0</td>\n",
       "    </tr>\n",
       "    <tr>\n",
       "      <th>55086</th>\n",
       "      <td>2</td>\n",
       "      <td>0.0</td>\n",
       "      <td>0.0</td>\n",
       "      <td>0</td>\n",
       "      <td>0</td>\n",
       "      <td>0</td>\n",
       "      <td>0</td>\n",
       "      <td>0.0</td>\n",
       "      <td>255.0</td>\n",
       "      <td>0.0</td>\n",
       "    </tr>\n",
       "  </tbody>\n",
       "</table>\n",
       "<p>55087 rows × 10 columns</p>\n",
       "</div>"
      ],
      "text/plain": [
       "       ascents_count  repeat_sum  chiped_sum  soft_sum  hard_sum  \\\n",
       "0                  6         0.0         0.0         1         1   \n",
       "1                  5         0.0         0.0         0         0   \n",
       "2                  4         0.0         0.0         0         1   \n",
       "3                  3         0.0         0.0         0         1   \n",
       "4                  2         0.0         0.0         1         0   \n",
       "...              ...         ...         ...       ...       ...   \n",
       "55082              2         0.0         0.0         0         0   \n",
       "55083              2         0.0         0.0         0         0   \n",
       "55084              2         0.0         0.0         0         0   \n",
       "55085              2         0.0         0.0         0         1   \n",
       "55086              2         0.0         0.0         0         0   \n",
       "\n",
       "       traditional_sum  tall_recommend_sum  sex_ratio  yellow_id_mean  \\\n",
       "0                    0                  -1        0.0             0.0   \n",
       "1                    0                   0        0.0             0.0   \n",
       "2                    0                  -1        0.0             0.0   \n",
       "3                    0                   0        0.0             0.0   \n",
       "4                    0                   1        0.0             0.0   \n",
       "...                ...                 ...        ...             ...   \n",
       "55082                0                   0        0.0             0.0   \n",
       "55083                0                   0        0.0             0.0   \n",
       "55084                0                   0        0.0             0.0   \n",
       "55085                0                  -1        0.0           255.0   \n",
       "55086                0                   0        0.0           255.0   \n",
       "\n",
       "       first_ascent_mean  \n",
       "0                    0.0  \n",
       "1                    0.0  \n",
       "2                    0.0  \n",
       "3                    0.0  \n",
       "4                    0.0  \n",
       "...                  ...  \n",
       "55082                0.0  \n",
       "55083                0.0  \n",
       "55084                0.0  \n",
       "55085                0.0  \n",
       "55086                0.0  \n",
       "\n",
       "[55087 rows x 10 columns]"
      ]
     },
     "execution_count": 8,
     "metadata": {},
     "output_type": "execute_result"
    }
   ],
   "source": [
    "X"
   ]
  },
  {
   "cell_type": "code",
   "execution_count": 9,
   "id": "complete-portsmouth",
   "metadata": {},
   "outputs": [
    {
     "name": "stdout",
     "output_type": "stream",
     "text": [
      "(55087, 10)\n"
     ]
    },
    {
     "data": {
      "text/html": [
       "<div>\n",
       "<style scoped>\n",
       "    .dataframe tbody tr th:only-of-type {\n",
       "        vertical-align: middle;\n",
       "    }\n",
       "\n",
       "    .dataframe tbody tr th {\n",
       "        vertical-align: top;\n",
       "    }\n",
       "\n",
       "    .dataframe thead th {\n",
       "        text-align: right;\n",
       "    }\n",
       "</style>\n",
       "<table border=\"1\" class=\"dataframe\">\n",
       "  <thead>\n",
       "    <tr style=\"text-align: right;\">\n",
       "      <th></th>\n",
       "      <th>ascents_count</th>\n",
       "      <th>repeat_sum</th>\n",
       "      <th>chiped_sum</th>\n",
       "      <th>soft_sum</th>\n",
       "      <th>hard_sum</th>\n",
       "      <th>traditional_sum</th>\n",
       "      <th>tall_recommend_sum</th>\n",
       "      <th>sex_ratio</th>\n",
       "      <th>yellow_id_mean</th>\n",
       "      <th>first_ascent_mean</th>\n",
       "    </tr>\n",
       "  </thead>\n",
       "  <tbody>\n",
       "    <tr>\n",
       "      <th>0</th>\n",
       "      <td>-0.238698</td>\n",
       "      <td>-0.219455</td>\n",
       "      <td>-0.114004</td>\n",
       "      <td>0.035441</td>\n",
       "      <td>0.181671</td>\n",
       "      <td>-0.098003</td>\n",
       "      <td>-1.058704</td>\n",
       "      <td>-0.613149</td>\n",
       "      <td>-1.077842</td>\n",
       "      <td>-0.19821</td>\n",
       "    </tr>\n",
       "    <tr>\n",
       "      <th>1</th>\n",
       "      <td>-0.283301</td>\n",
       "      <td>-0.219455</td>\n",
       "      <td>-0.114004</td>\n",
       "      <td>-0.342408</td>\n",
       "      <td>-0.425042</td>\n",
       "      <td>-0.098003</td>\n",
       "      <td>-0.024555</td>\n",
       "      <td>-0.613149</td>\n",
       "      <td>-1.077842</td>\n",
       "      <td>-0.19821</td>\n",
       "    </tr>\n",
       "    <tr>\n",
       "      <th>2</th>\n",
       "      <td>-0.327905</td>\n",
       "      <td>-0.219455</td>\n",
       "      <td>-0.114004</td>\n",
       "      <td>-0.342408</td>\n",
       "      <td>0.181671</td>\n",
       "      <td>-0.098003</td>\n",
       "      <td>-1.058704</td>\n",
       "      <td>-0.613149</td>\n",
       "      <td>-1.077842</td>\n",
       "      <td>-0.19821</td>\n",
       "    </tr>\n",
       "  </tbody>\n",
       "</table>\n",
       "</div>"
      ],
      "text/plain": [
       "   ascents_count  repeat_sum  chiped_sum  soft_sum  hard_sum  traditional_sum  \\\n",
       "0      -0.238698   -0.219455   -0.114004  0.035441  0.181671        -0.098003   \n",
       "1      -0.283301   -0.219455   -0.114004 -0.342408 -0.425042        -0.098003   \n",
       "2      -0.327905   -0.219455   -0.114004 -0.342408  0.181671        -0.098003   \n",
       "\n",
       "   tall_recommend_sum  sex_ratio  yellow_id_mean  first_ascent_mean  \n",
       "0           -1.058704  -0.613149       -1.077842           -0.19821  \n",
       "1           -0.024555  -0.613149       -1.077842           -0.19821  \n",
       "2           -1.058704  -0.613149       -1.077842           -0.19821  "
      ]
     },
     "metadata": {},
     "output_type": "display_data"
    }
   ],
   "source": [
    "scaler = StandardScaler()\n",
    "scaler.fit(X)\n",
    "X_scaled = scaler.transform(X)\n",
    "filename = \"../transformer/scaler.pickle\" # Path with filename\n",
    "with open(filename, \"wb\") as file:\n",
    "        pickle.dump(scaler,file)\n",
    "X_scaled_df = pd.DataFrame(X_scaled, columns = X.columns)\n",
    "print(X_scaled_df.shape)\n",
    "display(X_scaled_df.head(3))"
   ]
  },
  {
   "cell_type": "markdown",
   "id": "seeing-wrong",
   "metadata": {},
   "source": [
    "### Check the PCA"
   ]
  },
  {
   "cell_type": "code",
   "execution_count": 10,
   "id": "harmful-coordination",
   "metadata": {},
   "outputs": [
    {
     "data": {
      "text/plain": [
       "array([0.22874663, 0.1074876 , 0.10479388, 0.10355133, 0.09691813,\n",
       "       0.09478599, 0.09129738, 0.08200777, 0.07407682, 0.01633447])"
      ]
     },
     "execution_count": 10,
     "metadata": {},
     "output_type": "execute_result"
    }
   ],
   "source": [
    "pca = PCA(n_components=None)\n",
    "principalComponents = pca.fit_transform(X_scaled_df)\n",
    "principalDf = pd.DataFrame(data = principalComponents)\n",
    "pca.explained_variance_ratio_"
   ]
  },
  {
   "cell_type": "markdown",
   "id": "unknown-declaration",
   "metadata": {},
   "source": [
    "All pcas have more or less hte same variance ratio"
   ]
  },
  {
   "cell_type": "markdown",
   "id": "legendary-covering",
   "metadata": {},
   "source": [
    "# Clustering model - K-Means"
   ]
  },
  {
   "cell_type": "code",
   "execution_count": 20,
   "id": "portable-truck",
   "metadata": {},
   "outputs": [
    {
     "name": "stdout",
     "output_type": "stream",
     "text": [
      "Training a K-Means model with 2 neighbours! \n",
      "\n",
      "Training a K-Means model with 3 neighbours! \n",
      "\n",
      "Training a K-Means model with 4 neighbours! \n",
      "\n",
      "Training a K-Means model with 5 neighbours! \n",
      "\n",
      "Training a K-Means model with 6 neighbours! \n",
      "\n",
      "Training a K-Means model with 7 neighbours! \n",
      "\n",
      "Training a K-Means model with 8 neighbours! \n",
      "\n",
      "Training a K-Means model with 9 neighbours! \n",
      "\n",
      "Training a K-Means model with 10 neighbours! \n",
      "\n",
      "Training a K-Means model with 11 neighbours! \n",
      "\n",
      "Training a K-Means model with 12 neighbours! \n",
      "\n",
      "Training a K-Means model with 13 neighbours! \n",
      "\n",
      "Training a K-Means model with 14 neighbours! \n",
      "\n",
      "Training a K-Means model with 15 neighbours! \n",
      "\n",
      "Training a K-Means model with 16 neighbours! \n",
      "\n",
      "Training a K-Means model with 17 neighbours! \n",
      "\n",
      "Training a K-Means model with 18 neighbours! \n",
      "\n",
      "Training a K-Means model with 19 neighbours! \n",
      "\n",
      "Training a K-Means model with 20 neighbours! \n",
      "\n"
     ]
    }
   ],
   "source": [
    "# K = range(2, 21)\n",
    "# inertia = []\n",
    "# silhouette = []\n",
    "\n",
    "# for k in K:\n",
    "#     print(\"Training a K-Means model with {} neighbours! \".format(k))\n",
    "#     print()\n",
    "#     kmeans = KMeans(n_clusters=k,\n",
    "#                     random_state=1234)\n",
    "#     kmeans.fit(X_scaled_df)\n",
    "#     filename = \"../model/kmeans_\" + str(k) + \".pickle\" # Path with filename\n",
    "#     with open(filename, \"wb\") as file:\n",
    "#         pickle.dump(kmeans,file)\n",
    "#     inertia.append(kmeans.inertia_)\n",
    "#     silhouette.append(silhouette_score(X_scaled_df, kmeans.predict(X_scaled_df)))"
   ]
  },
  {
   "cell_type": "markdown",
   "id": "official-output",
   "metadata": {},
   "source": [
    "I will 3D plot in 2 groups\n"
   ]
  },
  {
   "cell_type": "code",
   "execution_count": 21,
   "id": "wrong-phoenix",
   "metadata": {},
   "outputs": [
    {
     "data": {
      "text/plain": [
       "Text(0.5, 1.0, 'Silhouette Method showing the optimal k')"
      ]
     },
     "execution_count": 21,
     "metadata": {},
     "output_type": "execute_result"
    },
    {
     "data": {
      "image/png": "[encoded data removed]",
      "text/plain": [
       "<Figure size 1152x576 with 2 Axes>"
      ]
     },
     "metadata": {
      "needs_background": "light"
     },
     "output_type": "display_data"
    }
   ],
   "source": [
    "# fig, ax = plt.subplots(1,2,figsize=(16,8))\n",
    "# ax[0].plot(K, inertia, 'bx-')\n",
    "# ax[0].set_xlabel('k')\n",
    "# ax[0].set_ylabel('inertia')\n",
    "# ax[0].set_xticks(np.arange(min(K), max(K)+1, 1.0))\n",
    "# ax[0].set_title('Elbow Method showing the optimal k')\n",
    "# ax[1].plot(K, silhouette, 'bx-')\n",
    "# ax[1].set_xlabel('k')\n",
    "# ax[1].set_ylabel('silhouette score')\n",
    "# ax[1].set_xticks(np.arange(min(K), max(K)+1, 1.0))\n",
    "# ax[1].set_title('Silhouette Method showing the optimal k')"
   ]
  },
  {
   "cell_type": "markdown",
   "id": "homeless-equality",
   "metadata": {},
   "source": [
    "We see a relatively good score for 5"
   ]
  },
  {
   "cell_type": "code",
   "execution_count": 13,
   "id": "lucky-seven",
   "metadata": {},
   "outputs": [
    {
     "data": {
      "text/plain": [
       "0    22565\n",
       "1    22295\n",
       "2     1760\n",
       "3     7006\n",
       "4     1461\n",
       "dtype: int64"
      ]
     },
     "execution_count": 13,
     "metadata": {},
     "output_type": "execute_result"
    }
   ],
   "source": [
    "k = 5\n",
    "filename = \"../model/kmeans_\" + str(k) + \".pickle\" # Path with filename\n",
    "with open(filename, \"rb\") as file:\n",
    "    kmeans = pickle.load(file)\n",
    "clusters = kmeans.predict(X_scaled_df)\n",
    "#clusters\n",
    "pd.Series(clusters).value_counts().sort_index() # Number of songs in each cluster"
   ]
  },
  {
   "cell_type": "code",
   "execution_count": 14,
   "id": "biological-winner",
   "metadata": {},
   "outputs": [
    {
     "data": {
      "text/plain": [
       "array([0, 0, 0, ..., 0, 1, 1], dtype=int32)"
      ]
     },
     "execution_count": 14,
     "metadata": {},
     "output_type": "execute_result"
    }
   ],
   "source": [
    "clusters"
   ]
  },
  {
   "cell_type": "markdown",
   "id": "cathedral-defensive",
   "metadata": {},
   "source": [
    "### Check the PCA"
   ]
  },
  {
   "cell_type": "code",
   "execution_count": 15,
   "id": "timely-horizontal",
   "metadata": {},
   "outputs": [
    {
     "data": {
      "text/plain": [
       "array([0.22874663, 0.1074876 , 0.10479388, 0.10355133, 0.09691813,\n",
       "       0.09478599, 0.09129738, 0.08200777, 0.07407682, 0.01633447])"
      ]
     },
     "execution_count": 15,
     "metadata": {},
     "output_type": "execute_result"
    }
   ],
   "source": [
    "pca = PCA(n_components=None)\n",
    "principalComponents = pca.fit_transform(X_scaled_df)\n",
    "principalDf = pd.DataFrame(data = principalComponents)\n",
    "pca.explained_variance_ratio_"
   ]
  },
  {
   "cell_type": "markdown",
   "id": "killing-wilson",
   "metadata": {},
   "source": [
    "Just for fun I will 3D plot but we have 8 groups... the limited human brain.."
   ]
  },
  {
   "cell_type": "code",
   "execution_count": 16,
   "id": "ahead-houston",
   "metadata": {
    "scrolled": false
   },
   "outputs": [
    {
     "data": {
      "image/png": "[encoded data removed]",
      "text/plain": [
       "<Figure size 432x432 with 1 Axes>"
      ]
     },
     "metadata": {},
     "output_type": "display_data"
    }
   ],
   "source": [
    "from plot_jzar import *\n",
    "# %matplotlib notebook\n",
    "plot3D(x = principalDf[0],y = principalDf[1],z = principalDf[2],color = clusters, fraction = 0.2)"
   ]
  },
  {
   "cell_type": "code",
   "execution_count": 17,
   "id": "sixth-transcript",
   "metadata": {
    "scrolled": false
   },
   "outputs": [
    {
     "data": {
      "image/png": "[encoded data removed]",
      "text/plain": [
       "<Figure size 432x432 with 1 Axes>"
      ]
     },
     "metadata": {},
     "output_type": "display_data"
    }
   ],
   "source": [
    "# %matplotlib notebook\n",
    "plot3D(x = principalDf[0],y = principalDf[1],z = principalDf[3],color = clusters, fraction = 0.2)"
   ]
  },
  {
   "cell_type": "markdown",
   "id": "focused-influence",
   "metadata": {},
   "source": [
    "And we see that the assigned clusters are not so bad"
   ]
  },
  {
   "cell_type": "markdown",
   "id": "thorough-appendix",
   "metadata": {},
   "source": [
    "### Assing each route to a cluster"
   ]
  },
  {
   "cell_type": "code",
   "execution_count": 18,
   "id": "minor-channels",
   "metadata": {},
   "outputs": [],
   "source": [
    "X_cl = routes_features.copy()\n",
    "X_cl[\"cluster\"] = pd.Series(clusters)"
   ]
  },
  {
   "cell_type": "code",
   "execution_count": 19,
   "id": "extra-greece",
   "metadata": {},
   "outputs": [
    {
     "name": "stdout",
     "output_type": "stream",
     "text": [
      "(55087, 15)\n"
     ]
    },
    {
     "data": {
      "text/html": [
       "<div>\n",
       "<style scoped>\n",
       "    .dataframe tbody tr th:only-of-type {\n",
       "        vertical-align: middle;\n",
       "    }\n",
       "\n",
       "    .dataframe tbody tr th {\n",
       "        vertical-align: top;\n",
       "    }\n",
       "\n",
       "    .dataframe thead th {\n",
       "        text-align: right;\n",
       "    }\n",
       "</style>\n",
       "<table border=\"1\" class=\"dataframe\">\n",
       "  <thead>\n",
       "    <tr style=\"text-align: right;\">\n",
       "      <th></th>\n",
       "      <th>name_id</th>\n",
       "      <th>country</th>\n",
       "      <th>crag</th>\n",
       "      <th>sector</th>\n",
       "      <th>name</th>\n",
       "      <th>ascents_count</th>\n",
       "      <th>repeat_sum</th>\n",
       "      <th>recommend_sum</th>\n",
       "      <th>tall_recommend_sum</th>\n",
       "      <th>grade_mean</th>\n",
       "      <th>sentiment_mean</th>\n",
       "      <th>rating_mean</th>\n",
       "      <th>yellow_id_mean</th>\n",
       "      <th>first_ascent_mean</th>\n",
       "      <th>cluster</th>\n",
       "    </tr>\n",
       "  </thead>\n",
       "  <tbody>\n",
       "    <tr>\n",
       "      <th>0</th>\n",
       "      <td>0</td>\n",
       "      <td>and</td>\n",
       "      <td>montserrat</td>\n",
       "      <td>prohibitivo</td>\n",
       "      <td>el mehir</td>\n",
       "      <td>6</td>\n",
       "      <td>0.0</td>\n",
       "      <td>1.0</td>\n",
       "      <td>-1</td>\n",
       "      <td>49.000000</td>\n",
       "      <td>0.0</td>\n",
       "      <td>2.00</td>\n",
       "      <td>0.0</td>\n",
       "      <td>0.0</td>\n",
       "      <td>0</td>\n",
       "    </tr>\n",
       "    <tr>\n",
       "      <th>1</th>\n",
       "      <td>1</td>\n",
       "      <td>and</td>\n",
       "      <td>montserrat</td>\n",
       "      <td>prohibitivo</td>\n",
       "      <td>el pas de la discordia</td>\n",
       "      <td>5</td>\n",
       "      <td>0.0</td>\n",
       "      <td>1.0</td>\n",
       "      <td>0</td>\n",
       "      <td>49.000000</td>\n",
       "      <td>0.0</td>\n",
       "      <td>1.75</td>\n",
       "      <td>0.0</td>\n",
       "      <td>0.0</td>\n",
       "      <td>0</td>\n",
       "    </tr>\n",
       "    <tr>\n",
       "      <th>2</th>\n",
       "      <td>2</td>\n",
       "      <td>and</td>\n",
       "      <td>montserrat</td>\n",
       "      <td>prohibitivo</td>\n",
       "      <td>la x</td>\n",
       "      <td>4</td>\n",
       "      <td>0.0</td>\n",
       "      <td>0.0</td>\n",
       "      <td>-1</td>\n",
       "      <td>49.250000</td>\n",
       "      <td>0.0</td>\n",
       "      <td>2.00</td>\n",
       "      <td>0.0</td>\n",
       "      <td>0.0</td>\n",
       "      <td>0</td>\n",
       "    </tr>\n",
       "    <tr>\n",
       "      <th>3</th>\n",
       "      <td>3</td>\n",
       "      <td>and</td>\n",
       "      <td>tartareu</td>\n",
       "      <td>bombo suis</td>\n",
       "      <td>tenedor libre</td>\n",
       "      <td>3</td>\n",
       "      <td>0.0</td>\n",
       "      <td>1.0</td>\n",
       "      <td>0</td>\n",
       "      <td>44.333333</td>\n",
       "      <td>0.0</td>\n",
       "      <td>3.00</td>\n",
       "      <td>0.0</td>\n",
       "      <td>0.0</td>\n",
       "      <td>0</td>\n",
       "    </tr>\n",
       "    <tr>\n",
       "      <th>4</th>\n",
       "      <td>4</td>\n",
       "      <td>arg</td>\n",
       "      <td>bandurrias</td>\n",
       "      <td>rincon</td>\n",
       "      <td>tendinitis</td>\n",
       "      <td>2</td>\n",
       "      <td>0.0</td>\n",
       "      <td>0.0</td>\n",
       "      <td>1</td>\n",
       "      <td>48.500000</td>\n",
       "      <td>0.0</td>\n",
       "      <td>1.00</td>\n",
       "      <td>0.0</td>\n",
       "      <td>0.0</td>\n",
       "      <td>0</td>\n",
       "    </tr>\n",
       "  </tbody>\n",
       "</table>\n",
       "</div>"
      ],
      "text/plain": [
       "   name_id country        crag       sector                    name  \\\n",
       "0        0     and  montserrat  prohibitivo                el mehir   \n",
       "1        1     and  montserrat  prohibitivo  el pas de la discordia   \n",
       "2        2     and  montserrat  prohibitivo                    la x   \n",
       "3        3     and    tartareu   bombo suis           tenedor libre   \n",
       "4        4     arg  bandurrias       rincon              tendinitis   \n",
       "\n",
       "   ascents_count  repeat_sum  recommend_sum  tall_recommend_sum  grade_mean  \\\n",
       "0              6         0.0            1.0                  -1   49.000000   \n",
       "1              5         0.0            1.0                   0   49.000000   \n",
       "2              4         0.0            0.0                  -1   49.250000   \n",
       "3              3         0.0            1.0                   0   44.333333   \n",
       "4              2         0.0            0.0                   1   48.500000   \n",
       "\n",
       "   sentiment_mean  rating_mean  yellow_id_mean  first_ascent_mean  cluster  \n",
       "0             0.0         2.00             0.0                0.0        0  \n",
       "1             0.0         1.75             0.0                0.0        0  \n",
       "2             0.0         2.00             0.0                0.0        0  \n",
       "3             0.0         3.00             0.0                0.0        0  \n",
       "4             0.0         1.00             0.0                0.0        0  "
      ]
     },
     "execution_count": 19,
     "metadata": {},
     "output_type": "execute_result"
    }
   ],
   "source": [
    "routes_clustered = X_cl.drop(columns = ['chiped_sum','soft_sum','hard_sum','traditional_sum','sex_ratio'])\n",
    "print(routes_clustered.shape)\n",
    "routes_clustered.head()"
   ]
  },
  {
   "cell_type": "code",
   "execution_count": 20,
   "id": "adjusted-default",
   "metadata": {},
   "outputs": [],
   "source": [
    "clust_0 = routes_clustered[routes_clustered.cluster == 0]"
   ]
  },
  {
   "cell_type": "code",
   "execution_count": 21,
   "id": "built-triangle",
   "metadata": {},
   "outputs": [
    {
     "data": {
      "text/plain": [
       "0    22565\n",
       "1    22295\n",
       "3     7006\n",
       "2     1760\n",
       "4     1461\n",
       "Name: cluster, dtype: int64"
      ]
     },
     "execution_count": 21,
     "metadata": {},
     "output_type": "execute_result"
    }
   ],
   "source": [
    "routes_clustered.cluster.value_counts()"
   ]
  },
  {
   "cell_type": "code",
   "execution_count": 22,
   "id": "confident-rainbow",
   "metadata": {},
   "outputs": [],
   "source": [
    "routes_clustered.to_csv('../data/routes_clustered.csv')"
   ]
  }
 ],
 "metadata": {
  "kernelspec": {
   "display_name": "Python 3 (ipykernel)",
   "language": "python",
   "name": "python3"
  },
  "language_info": {
   "codemirror_mode": {
    "name": "ipython",
    "version": 3
   },
   "file_extension": ".py",
   "mimetype": "text/x-python",
   "name": "python",
   "nbconvert_exporter": "python",
   "pygments_lexer": "ipython3",
   "version": "3.9.7"
  }
 },
 "nbformat": 4,
 "nbformat_minor": 5
}
