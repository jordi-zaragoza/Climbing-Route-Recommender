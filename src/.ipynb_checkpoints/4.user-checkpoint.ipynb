{
 "cells": [
  {
   "cell_type": "code",
   "execution_count": 1,
   "id": "7b050b7d",
   "metadata": {},
   "outputs": [],
   "source": [
    "from climber_class import *"
   ]
  },
  {
   "cell_type": "markdown",
   "id": "bad3305b",
   "metadata": {},
   "source": [
    "### We have 3 types of data:\n",
    "- Independent features (clustered)\n",
    "- How good the route is (the higher the better)\n",
    "- `Grade, Location, sex, heigh (defined by user)` => <b>In this notebook we will work on this one\n"
   ]
  },
  {
   "cell_type": "markdown",
   "id": "1b0a4ce2",
   "metadata": {},
   "source": [
    "# User"
   ]
  },
  {
   "cell_type": "markdown",
   "id": "e0483a0c",
   "metadata": {},
   "source": [
    "We need to create a user with this same route features\n",
    "- Grade\n",
    "- Location\n",
    "- Cluster\n",
    "- Heigh\n",
    "- Sex"
   ]
  },
  {
   "cell_type": "markdown",
   "id": "634c9d79",
   "metadata": {},
   "source": [
    "#### Climber atributes"
   ]
  },
  {
   "cell_type": "code",
   "execution_count": 2,
   "id": "1af8d06c",
   "metadata": {},
   "outputs": [
    {
     "data": {
      "text/html": [
       "<div>\n",
       "<style scoped>\n",
       "    .dataframe tbody tr th:only-of-type {\n",
       "        vertical-align: middle;\n",
       "    }\n",
       "\n",
       "    .dataframe tbody tr th {\n",
       "        vertical-align: top;\n",
       "    }\n",
       "\n",
       "    .dataframe thead th {\n",
       "        text-align: right;\n",
       "    }\n",
       "</style>\n",
       "<table border=\"1\" class=\"dataframe\">\n",
       "  <thead>\n",
       "    <tr style=\"text-align: right;\">\n",
       "      <th></th>\n",
       "      <th>climber_id</th>\n",
       "      <th>name</th>\n",
       "      <th>grade</th>\n",
       "      <th>grade_range</th>\n",
       "      <th>country</th>\n",
       "      <th>crag</th>\n",
       "      <th>sector</th>\n",
       "      <th>height</th>\n",
       "      <th>sex</th>\n",
       "    </tr>\n",
       "  </thead>\n",
       "  <tbody>\n",
       "    <tr>\n",
       "      <th>0</th>\n",
       "      <td>0</td>\n",
       "      <td>jordi</td>\n",
       "      <td>44</td>\n",
       "      <td>3</td>\n",
       "      <td>rum</td>\n",
       "      <td>eidas</td>\n",
       "      <td>ajs niod</td>\n",
       "      <td>165</td>\n",
       "      <td>1</td>\n",
       "    </tr>\n",
       "  </tbody>\n",
       "</table>\n",
       "</div>"
      ],
      "text/plain": [
       "   climber_id   name  grade  grade_range country   crag    sector  height  sex\n",
       "0           0  jordi     44            3     rum  eidas  ajs niod     165    1"
      ]
     },
     "metadata": {},
     "output_type": "display_data"
    },
    {
     "data": {
      "text/html": [
       "<div>\n",
       "<style scoped>\n",
       "    .dataframe tbody tr th:only-of-type {\n",
       "        vertical-align: middle;\n",
       "    }\n",
       "\n",
       "    .dataframe tbody tr th {\n",
       "        vertical-align: top;\n",
       "    }\n",
       "\n",
       "    .dataframe thead th {\n",
       "        text-align: right;\n",
       "    }\n",
       "</style>\n",
       "<table border=\"1\" class=\"dataframe\">\n",
       "  <thead>\n",
       "    <tr style=\"text-align: right;\">\n",
       "      <th></th>\n",
       "      <th>climber_id</th>\n",
       "      <th>name</th>\n",
       "      <th>grade</th>\n",
       "      <th>grade_range</th>\n",
       "      <th>country</th>\n",
       "      <th>crag</th>\n",
       "      <th>sector</th>\n",
       "      <th>height</th>\n",
       "      <th>sex</th>\n",
       "    </tr>\n",
       "  </thead>\n",
       "  <tbody>\n",
       "    <tr>\n",
       "      <th>0</th>\n",
       "      <td>1</td>\n",
       "      <td>climber1</td>\n",
       "      <td>54</td>\n",
       "      <td>2</td>\n",
       "      <td>esp</td>\n",
       "      <td>montserrat</td>\n",
       "      <td>agulla del senglar</td>\n",
       "      <td>170</td>\n",
       "      <td>0</td>\n",
       "    </tr>\n",
       "  </tbody>\n",
       "</table>\n",
       "</div>"
      ],
      "text/plain": [
       "   climber_id      name  grade  grade_range country        crag  \\\n",
       "0           1  climber1     54            2     esp  montserrat   \n",
       "\n",
       "               sector  height  sex  \n",
       "0  agulla del senglar     170    0  "
      ]
     },
     "metadata": {},
     "output_type": "display_data"
    }
   ],
   "source": [
    "climber_1 = climber('jordi',44,3,['rum','eidas','ajs niod'],165,1)\n",
    "climber_2 = climber()\n",
    "display(climber_1.get_data())\n",
    "display(climber_2.get_data())"
   ]
  },
  {
   "cell_type": "code",
   "execution_count": 3,
   "id": "e5a20d30",
   "metadata": {},
   "outputs": [
    {
     "data": {
      "text/html": [
       "<div>\n",
       "<style scoped>\n",
       "    .dataframe tbody tr th:only-of-type {\n",
       "        vertical-align: middle;\n",
       "    }\n",
       "\n",
       "    .dataframe tbody tr th {\n",
       "        vertical-align: top;\n",
       "    }\n",
       "\n",
       "    .dataframe thead th {\n",
       "        text-align: right;\n",
       "    }\n",
       "</style>\n",
       "<table border=\"1\" class=\"dataframe\">\n",
       "  <thead>\n",
       "    <tr style=\"text-align: right;\">\n",
       "      <th></th>\n",
       "      <th>climber_id</th>\n",
       "      <th>name</th>\n",
       "      <th>grade</th>\n",
       "      <th>grade_range</th>\n",
       "      <th>country</th>\n",
       "      <th>crag</th>\n",
       "      <th>sector</th>\n",
       "      <th>height</th>\n",
       "      <th>sex</th>\n",
       "    </tr>\n",
       "  </thead>\n",
       "  <tbody>\n",
       "    <tr>\n",
       "      <th>0</th>\n",
       "      <td>0</td>\n",
       "      <td>jordi</td>\n",
       "      <td>29</td>\n",
       "      <td>3</td>\n",
       "      <td>rum</td>\n",
       "      <td>eidas</td>\n",
       "      <td>ajs niod</td>\n",
       "      <td>165</td>\n",
       "      <td>1</td>\n",
       "    </tr>\n",
       "  </tbody>\n",
       "</table>\n",
       "</div>"
      ],
      "text/plain": [
       "   climber_id   name  grade  grade_range country   crag    sector  height  sex\n",
       "0           0  jordi     29            3     rum  eidas  ajs niod     165    1"
      ]
     },
     "metadata": {},
     "output_type": "display_data"
    },
    {
     "data": {
      "text/html": [
       "<div>\n",
       "<style scoped>\n",
       "    .dataframe tbody tr th:only-of-type {\n",
       "        vertical-align: middle;\n",
       "    }\n",
       "\n",
       "    .dataframe tbody tr th {\n",
       "        vertical-align: top;\n",
       "    }\n",
       "\n",
       "    .dataframe thead th {\n",
       "        text-align: right;\n",
       "    }\n",
       "</style>\n",
       "<table border=\"1\" class=\"dataframe\">\n",
       "  <thead>\n",
       "    <tr style=\"text-align: right;\">\n",
       "      <th></th>\n",
       "      <th>climber_id</th>\n",
       "      <th>name</th>\n",
       "      <th>grade</th>\n",
       "      <th>grade_range</th>\n",
       "      <th>country</th>\n",
       "      <th>crag</th>\n",
       "      <th>sector</th>\n",
       "      <th>height</th>\n",
       "      <th>sex</th>\n",
       "    </tr>\n",
       "  </thead>\n",
       "  <tbody>\n",
       "    <tr>\n",
       "      <th>0</th>\n",
       "      <td>1</td>\n",
       "      <td>climber1</td>\n",
       "      <td>54</td>\n",
       "      <td>1</td>\n",
       "      <td>esp</td>\n",
       "      <td>montserrat</td>\n",
       "      <td>agulla del senglar</td>\n",
       "      <td>170</td>\n",
       "      <td>0</td>\n",
       "    </tr>\n",
       "  </tbody>\n",
       "</table>\n",
       "</div>"
      ],
      "text/plain": [
       "   climber_id      name  grade  grade_range country        crag  \\\n",
       "0           1  climber1     54            1     esp  montserrat   \n",
       "\n",
       "               sector  height  sex  \n",
       "0  agulla del senglar     170    0  "
      ]
     },
     "metadata": {},
     "output_type": "display_data"
    }
   ],
   "source": [
    "climber_1.set_attributes(grade = 29)\n",
    "climber_2.set_attributes(grade_range = 1)\n",
    "display(climber_1.get_data())\n",
    "display(climber_2.get_data())"
   ]
  },
  {
   "cell_type": "markdown",
   "id": "2db4f1bc",
   "metadata": {},
   "source": [
    "#### For routes"
   ]
  },
  {
   "cell_type": "code",
   "execution_count": 4,
   "id": "186e2360",
   "metadata": {},
   "outputs": [],
   "source": [
    "routes = pd.read_csv('../data/routes_clustered.csv',low_memory=False, index_col=0)"
   ]
  },
  {
   "cell_type": "code",
   "execution_count": 5,
   "id": "9d0bf33f",
   "metadata": {},
   "outputs": [
    {
     "data": {
      "text/plain": [
       "'Routes liked:'"
      ]
     },
     "metadata": {},
     "output_type": "display_data"
    },
    {
     "data": {
      "text/html": [
       "<div>\n",
       "<style scoped>\n",
       "    .dataframe tbody tr th:only-of-type {\n",
       "        vertical-align: middle;\n",
       "    }\n",
       "\n",
       "    .dataframe tbody tr th {\n",
       "        vertical-align: top;\n",
       "    }\n",
       "\n",
       "    .dataframe thead th {\n",
       "        text-align: right;\n",
       "    }\n",
       "</style>\n",
       "<table border=\"1\" class=\"dataframe\">\n",
       "  <thead>\n",
       "    <tr style=\"text-align: right;\">\n",
       "      <th></th>\n",
       "      <th>name_id</th>\n",
       "      <th>country</th>\n",
       "      <th>name</th>\n",
       "      <th>crag</th>\n",
       "      <th>sector</th>\n",
       "      <th>ascents_count</th>\n",
       "      <th>grade_median</th>\n",
       "      <th>comment_count</th>\n",
       "      <th>rating_mean</th>\n",
       "      <th>repeat_count</th>\n",
       "      <th>recommend_count</th>\n",
       "      <th>tall_recommend</th>\n",
       "      <th>sentiment_count</th>\n",
       "      <th>sex_ratio</th>\n",
       "      <th>cluster</th>\n",
       "    </tr>\n",
       "  </thead>\n",
       "  <tbody>\n",
       "    <tr>\n",
       "      <th>13403</th>\n",
       "      <td>13403</td>\n",
       "      <td>esp</td>\n",
       "      <td>sanson jun zan</td>\n",
       "      <td>baltzola</td>\n",
       "      <td>barnekaldea</td>\n",
       "      <td>20</td>\n",
       "      <td>59.0</td>\n",
       "      <td>8</td>\n",
       "      <td>1.6</td>\n",
       "      <td>0.0</td>\n",
       "      <td>3.0</td>\n",
       "      <td>0</td>\n",
       "      <td>1.135763</td>\n",
       "      <td>0.05</td>\n",
       "      <td>2</td>\n",
       "    </tr>\n",
       "  </tbody>\n",
       "</table>\n",
       "</div>"
      ],
      "text/plain": [
       "       name_id country            name      crag       sector  ascents_count  \\\n",
       "13403    13403     esp  sanson jun zan  baltzola  barnekaldea             20   \n",
       "\n",
       "       grade_median  comment_count  rating_mean  repeat_count  \\\n",
       "13403          59.0              8          1.6           0.0   \n",
       "\n",
       "       recommend_count  tall_recommend  sentiment_count  sex_ratio  cluster  \n",
       "13403              3.0               0         1.135763       0.05        2  "
      ]
     },
     "metadata": {},
     "output_type": "display_data"
    },
    {
     "name": "stdout",
     "output_type": "stream",
     "text": [
      "\n",
      "\n"
     ]
    },
    {
     "data": {
      "text/plain": [
       "'Routes not liked:'"
      ]
     },
     "metadata": {},
     "output_type": "display_data"
    },
    {
     "data": {
      "text/html": [
       "<div>\n",
       "<style scoped>\n",
       "    .dataframe tbody tr th:only-of-type {\n",
       "        vertical-align: middle;\n",
       "    }\n",
       "\n",
       "    .dataframe tbody tr th {\n",
       "        vertical-align: top;\n",
       "    }\n",
       "\n",
       "    .dataframe thead th {\n",
       "        text-align: right;\n",
       "    }\n",
       "</style>\n",
       "<table border=\"1\" class=\"dataframe\">\n",
       "  <thead>\n",
       "    <tr style=\"text-align: right;\">\n",
       "      <th></th>\n",
       "      <th>name_id</th>\n",
       "      <th>country</th>\n",
       "      <th>name</th>\n",
       "      <th>crag</th>\n",
       "      <th>sector</th>\n",
       "      <th>ascents_count</th>\n",
       "      <th>grade_median</th>\n",
       "      <th>comment_count</th>\n",
       "      <th>rating_mean</th>\n",
       "      <th>repeat_count</th>\n",
       "      <th>recommend_count</th>\n",
       "      <th>tall_recommend</th>\n",
       "      <th>sentiment_count</th>\n",
       "      <th>sex_ratio</th>\n",
       "      <th>cluster</th>\n",
       "    </tr>\n",
       "  </thead>\n",
       "  <tbody>\n",
       "    <tr>\n",
       "      <th>13403</th>\n",
       "      <td>13403</td>\n",
       "      <td>esp</td>\n",
       "      <td>sanson jun zan</td>\n",
       "      <td>baltzola</td>\n",
       "      <td>barnekaldea</td>\n",
       "      <td>20</td>\n",
       "      <td>59.0</td>\n",
       "      <td>8</td>\n",
       "      <td>1.600000</td>\n",
       "      <td>0.0</td>\n",
       "      <td>3.0</td>\n",
       "      <td>0</td>\n",
       "      <td>1.135763</td>\n",
       "      <td>0.050000</td>\n",
       "      <td>2</td>\n",
       "    </tr>\n",
       "    <tr>\n",
       "      <th>0</th>\n",
       "      <td>0</td>\n",
       "      <td>arg</td>\n",
       "      <td>barba roja</td>\n",
       "      <td>el trebol</td>\n",
       "      <td>pared blanca</td>\n",
       "      <td>11</td>\n",
       "      <td>48.5</td>\n",
       "      <td>3</td>\n",
       "      <td>1.535714</td>\n",
       "      <td>0.0</td>\n",
       "      <td>3.0</td>\n",
       "      <td>0</td>\n",
       "      <td>0.000000</td>\n",
       "      <td>0.090909</td>\n",
       "      <td>0</td>\n",
       "    </tr>\n",
       "    <tr>\n",
       "      <th>38719</th>\n",
       "      <td>38719</td>\n",
       "      <td>zaf</td>\n",
       "      <td>rooi haaksteene</td>\n",
       "      <td>sanddrif</td>\n",
       "      <td>main wall</td>\n",
       "      <td>4</td>\n",
       "      <td>49.0</td>\n",
       "      <td>3</td>\n",
       "      <td>2.500000</td>\n",
       "      <td>0.0</td>\n",
       "      <td>0.0</td>\n",
       "      <td>0</td>\n",
       "      <td>1.273500</td>\n",
       "      <td>0.000000</td>\n",
       "      <td>0</td>\n",
       "    </tr>\n",
       "    <tr>\n",
       "      <th>38720</th>\n",
       "      <td>38720</td>\n",
       "      <td>zaf</td>\n",
       "      <td>wow wow peddle</td>\n",
       "      <td>sanddrif</td>\n",
       "      <td>main wall</td>\n",
       "      <td>12</td>\n",
       "      <td>38.0</td>\n",
       "      <td>6</td>\n",
       "      <td>2.666667</td>\n",
       "      <td>2.0</td>\n",
       "      <td>0.0</td>\n",
       "      <td>0</td>\n",
       "      <td>2.749800</td>\n",
       "      <td>0.166667</td>\n",
       "      <td>0</td>\n",
       "    </tr>\n",
       "  </tbody>\n",
       "</table>\n",
       "</div>"
      ],
      "text/plain": [
       "       name_id country             name       crag        sector  \\\n",
       "13403    13403     esp   sanson jun zan   baltzola   barnekaldea   \n",
       "0            0     arg       barba roja  el trebol  pared blanca   \n",
       "38719    38719     zaf  rooi haaksteene   sanddrif     main wall   \n",
       "38720    38720     zaf   wow wow peddle   sanddrif     main wall   \n",
       "\n",
       "       ascents_count  grade_median  comment_count  rating_mean  repeat_count  \\\n",
       "13403             20          59.0              8     1.600000           0.0   \n",
       "0                 11          48.5              3     1.535714           0.0   \n",
       "38719              4          49.0              3     2.500000           0.0   \n",
       "38720             12          38.0              6     2.666667           2.0   \n",
       "\n",
       "       recommend_count  tall_recommend  sentiment_count  sex_ratio  cluster  \n",
       "13403              3.0               0         1.135763   0.050000        2  \n",
       "0                  3.0               0         0.000000   0.090909        0  \n",
       "38719              0.0               0         1.273500   0.000000        0  \n",
       "38720              0.0               0         2.749800   0.166667        0  "
      ]
     },
     "metadata": {},
     "output_type": "display_data"
    }
   ],
   "source": [
    "climber_1.add_route_liked(routes.iloc[[13403]])\n",
    "climber_1.add_route_not_liked(routes.tail(2))\n",
    "climber_1.add_route(routes.head(1))\n",
    "display(\"Routes liked:\",climber_1.get_routes_liked())\n",
    "print()\n",
    "print()\n",
    "display(\"Routes not liked:\",climber_1.get_routes_climbed())"
   ]
  },
  {
   "cell_type": "markdown",
   "id": "f109172d",
   "metadata": {},
   "source": [
    "#### For clusters"
   ]
  },
  {
   "cell_type": "code",
   "execution_count": 7,
   "id": "artistic-shell",
   "metadata": {},
   "outputs": [
    {
     "data": {
      "text/plain": [
       "[-2, 0, 1, 0, 0, 0, 0, 0, 0]"
      ]
     },
     "execution_count": 7,
     "metadata": {},
     "output_type": "execute_result"
    }
   ],
   "source": [
    "climber_1.cluster"
   ]
  },
  {
   "cell_type": "code",
   "execution_count": 8,
   "id": "7c570c9e",
   "metadata": {},
   "outputs": [
    {
     "data": {
      "text/plain": [
       "[2, 1, 3, 4, 5, 6, 7, 8, 0]"
      ]
     },
     "execution_count": 8,
     "metadata": {},
     "output_type": "execute_result"
    }
   ],
   "source": [
    "climber_1.get_cluster_order()"
   ]
  },
  {
   "cell_type": "code",
   "execution_count": 12,
   "id": "480452cd",
   "metadata": {},
   "outputs": [],
   "source": [
    "climber_1.add_route_liked(routes.head(1346456))"
   ]
  },
  {
   "cell_type": "code",
   "execution_count": 13,
   "id": "composed-palestinian",
   "metadata": {},
   "outputs": [
    {
     "data": {
      "text/plain": [
       "[30575, 232, 4224, 114, 2051, 432, 194, 868, 31]"
      ]
     },
     "execution_count": 13,
     "metadata": {},
     "output_type": "execute_result"
    }
   ],
   "source": [
    "climber_1.cluster"
   ]
  },
  {
   "cell_type": "code",
   "execution_count": 14,
   "id": "moderate-infrastructure",
   "metadata": {},
   "outputs": [
    {
     "data": {
      "text/plain": [
       "[0, 2, 4, 7, 5, 1, 6, 3, 8]"
      ]
     },
     "execution_count": 14,
     "metadata": {},
     "output_type": "execute_result"
    }
   ],
   "source": [
    "climber_1.get_cluster_order()"
   ]
  },
  {
   "cell_type": "code",
   "execution_count": 15,
   "id": "declared-special",
   "metadata": {},
   "outputs": [
    {
     "data": {
      "text/html": [
       "<div>\n",
       "<style scoped>\n",
       "    .dataframe tbody tr th:only-of-type {\n",
       "        vertical-align: middle;\n",
       "    }\n",
       "\n",
       "    .dataframe tbody tr th {\n",
       "        vertical-align: top;\n",
       "    }\n",
       "\n",
       "    .dataframe thead th {\n",
       "        text-align: right;\n",
       "    }\n",
       "</style>\n",
       "<table border=\"1\" class=\"dataframe\">\n",
       "  <thead>\n",
       "    <tr style=\"text-align: right;\">\n",
       "      <th></th>\n",
       "      <th>name_id</th>\n",
       "      <th>country</th>\n",
       "      <th>name</th>\n",
       "      <th>crag</th>\n",
       "      <th>sector</th>\n",
       "      <th>ascents_count</th>\n",
       "      <th>grade_median</th>\n",
       "      <th>comment_count</th>\n",
       "      <th>rating_mean</th>\n",
       "      <th>repeat_count</th>\n",
       "      <th>recommend_count</th>\n",
       "      <th>tall_recommend</th>\n",
       "      <th>sentiment_count</th>\n",
       "      <th>sex_ratio</th>\n",
       "      <th>cluster</th>\n",
       "    </tr>\n",
       "  </thead>\n",
       "  <tbody>\n",
       "  </tbody>\n",
       "</table>\n",
       "</div>"
      ],
      "text/plain": [
       "Empty DataFrame\n",
       "Columns: [name_id, country, name, crag, sector, ascents_count, grade_median, comment_count, rating_mean, repeat_count, recommend_count, tall_recommend, sentiment_count, sex_ratio, cluster]\n",
       "Index: []"
      ]
     },
     "metadata": {},
     "output_type": "display_data"
    }
   ],
   "source": [
    "climber_1.clear_routes()\n",
    "display(climber_1.get_routes_climbed())"
   ]
  }
 ],
 "metadata": {
  "kernelspec": {
   "display_name": "Python 3 (ipykernel)",
   "language": "python",
   "name": "python3"
  },
  "language_info": {
   "codemirror_mode": {
    "name": "ipython",
    "version": 3
   },
   "file_extension": ".py",
   "mimetype": "text/x-python",
   "name": "python",
   "nbconvert_exporter": "python",
   "pygments_lexer": "ipython3",
   "version": "3.9.5"
  }
 },
 "nbformat": 4,
 "nbformat_minor": 5
}
