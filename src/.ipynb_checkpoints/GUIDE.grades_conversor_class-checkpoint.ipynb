{
 "cells": [
  {
   "cell_type": "markdown",
   "id": "wrong-lexington",
   "metadata": {},
   "source": [
    "## Create the grades conversor using a new class"
   ]
  },
  {
   "cell_type": "markdown",
   "id": "stretch-electric",
   "metadata": {},
   "source": [
    "In this notebook I show how the class works"
   ]
  },
  {
   "cell_type": "code",
   "execution_count": 2,
   "id": "elementary-atlas",
   "metadata": {},
   "outputs": [],
   "source": [
    "from grades_class import *\n",
    "import climb_jor"
   ]
  },
  {
   "cell_type": "code",
   "execution_count": 3,
   "id": "nutritional-organic",
   "metadata": {},
   "outputs": [
    {
     "data": {
      "text/html": [
       "<div>\n",
       "<style scoped>\n",
       "    .dataframe tbody tr th:only-of-type {\n",
       "        vertical-align: middle;\n",
       "    }\n",
       "\n",
       "    .dataframe tbody tr th {\n",
       "        vertical-align: top;\n",
       "    }\n",
       "\n",
       "    .dataframe thead th {\n",
       "        text-align: right;\n",
       "    }\n",
       "</style>\n",
       "<table border=\"1\" class=\"dataframe\">\n",
       "  <thead>\n",
       "    <tr style=\"text-align: right;\">\n",
       "      <th></th>\n",
       "      <th>name_id</th>\n",
       "      <th>country</th>\n",
       "      <th>name</th>\n",
       "      <th>crag</th>\n",
       "      <th>sector</th>\n",
       "      <th>grade_median</th>\n",
       "      <th>tall_recommend</th>\n",
       "      <th>sex_ratio</th>\n",
       "      <th>cluster</th>\n",
       "      <th>rating_tot</th>\n",
       "    </tr>\n",
       "  </thead>\n",
       "  <tbody>\n",
       "    <tr>\n",
       "      <th>0</th>\n",
       "      <td>0</td>\n",
       "      <td>arg</td>\n",
       "      <td>barba roja</td>\n",
       "      <td>el trebol</td>\n",
       "      <td>pared blanca</td>\n",
       "      <td>48.5</td>\n",
       "      <td>0</td>\n",
       "      <td>0.090909</td>\n",
       "      <td>0</td>\n",
       "      <td>0.436452</td>\n",
       "    </tr>\n",
       "    <tr>\n",
       "      <th>1</th>\n",
       "      <td>1</td>\n",
       "      <td>arg</td>\n",
       "      <td>chaco palai</td>\n",
       "      <td>el trebol</td>\n",
       "      <td>pared blanca</td>\n",
       "      <td>65.0</td>\n",
       "      <td>0</td>\n",
       "      <td>0.000000</td>\n",
       "      <td>0</td>\n",
       "      <td>-1.745950</td>\n",
       "    </tr>\n",
       "  </tbody>\n",
       "</table>\n",
       "</div>"
      ],
      "text/plain": [
       "   name_id country         name       crag        sector  grade_median  \\\n",
       "0        0     arg   barba roja  el trebol  pared blanca          48.5   \n",
       "1        1     arg  chaco palai  el trebol  pared blanca          65.0   \n",
       "\n",
       "   tall_recommend  sex_ratio  cluster  rating_tot  \n",
       "0               0   0.090909        0    0.436452  \n",
       "1               0   0.000000        0   -1.745950  "
      ]
     },
     "execution_count": 3,
     "metadata": {},
     "output_type": "execute_result"
    }
   ],
   "source": [
    "routes = pd.read_csv('../data/routes_rated.csv',low_memory=False, index_col=0)\n",
    "routes.head(2)"
   ]
  },
  {
   "cell_type": "markdown",
   "id": "quantitative-worship",
   "metadata": {},
   "source": [
    "Instance the class"
   ]
  },
  {
   "cell_type": "code",
   "execution_count": 4,
   "id": "painful-launch",
   "metadata": {},
   "outputs": [
    {
     "name": "stdout",
     "output_type": "stream",
     "text": [
      "Grades class initialized\n"
     ]
    }
   ],
   "source": [
    "gr = grades()"
   ]
  },
  {
   "cell_type": "code",
   "execution_count": 5,
   "id": "associate-newman",
   "metadata": {},
   "outputs": [
    {
     "data": {
      "text/html": [
       "<div>\n",
       "<style scoped>\n",
       "    .dataframe tbody tr th:only-of-type {\n",
       "        vertical-align: middle;\n",
       "    }\n",
       "\n",
       "    .dataframe tbody tr th {\n",
       "        vertical-align: top;\n",
       "    }\n",
       "\n",
       "    .dataframe thead th {\n",
       "        text-align: right;\n",
       "    }\n",
       "</style>\n",
       "<table border=\"1\" class=\"dataframe\">\n",
       "  <thead>\n",
       "    <tr style=\"text-align: right;\">\n",
       "      <th></th>\n",
       "      <th>name_id</th>\n",
       "      <th>country</th>\n",
       "      <th>name</th>\n",
       "      <th>crag</th>\n",
       "      <th>sector</th>\n",
       "      <th>grade_median</th>\n",
       "      <th>tall_recommend</th>\n",
       "      <th>sex_ratio</th>\n",
       "      <th>cluster</th>\n",
       "      <th>rating_tot</th>\n",
       "    </tr>\n",
       "  </thead>\n",
       "  <tbody>\n",
       "    <tr>\n",
       "      <th>8621</th>\n",
       "      <td>8621</td>\n",
       "      <td>esp</td>\n",
       "      <td>120 tronkaes</td>\n",
       "      <td>montserrat</td>\n",
       "      <td>el vermell</td>\n",
       "      <td>47.5</td>\n",
       "      <td>0</td>\n",
       "      <td>0.000000</td>\n",
       "      <td>0</td>\n",
       "      <td>-0.154807</td>\n",
       "    </tr>\n",
       "    <tr>\n",
       "      <th>8622</th>\n",
       "      <td>8622</td>\n",
       "      <td>esp</td>\n",
       "      <td>45 aniversari</td>\n",
       "      <td>montserrat</td>\n",
       "      <td>el vermell</td>\n",
       "      <td>40.0</td>\n",
       "      <td>-3</td>\n",
       "      <td>0.129032</td>\n",
       "      <td>2</td>\n",
       "      <td>0.230098</td>\n",
       "    </tr>\n",
       "    <tr>\n",
       "      <th>8623</th>\n",
       "      <td>8623</td>\n",
       "      <td>esp</td>\n",
       "      <td>almogaver tossut</td>\n",
       "      <td>montserrat</td>\n",
       "      <td>el vermell</td>\n",
       "      <td>33.0</td>\n",
       "      <td>0</td>\n",
       "      <td>0.166667</td>\n",
       "      <td>0</td>\n",
       "      <td>0.443842</td>\n",
       "    </tr>\n",
       "  </tbody>\n",
       "</table>\n",
       "</div>"
      ],
      "text/plain": [
       "      name_id country              name        crag      sector  grade_median  \\\n",
       "8621     8621     esp      120 tronkaes  montserrat  el vermell          47.5   \n",
       "8622     8622     esp     45 aniversari  montserrat  el vermell          40.0   \n",
       "8623     8623     esp  almogaver tossut  montserrat  el vermell          33.0   \n",
       "\n",
       "      tall_recommend  sex_ratio  cluster  rating_tot  \n",
       "8621               0   0.000000        0   -0.154807  \n",
       "8622              -3   0.129032        2    0.230098  \n",
       "8623               0   0.166667        0    0.443842  "
      ]
     },
     "execution_count": 5,
     "metadata": {},
     "output_type": "execute_result"
    }
   ],
   "source": [
    "df = climb_jor.Sector_search(routes,'el vermell')\n",
    "df.head(3)"
   ]
  },
  {
   "cell_type": "code",
   "execution_count": 6,
   "id": "indirect-naples",
   "metadata": {},
   "outputs": [
    {
     "data": {
      "text/html": [
       "<div>\n",
       "<style scoped>\n",
       "    .dataframe tbody tr th:only-of-type {\n",
       "        vertical-align: middle;\n",
       "    }\n",
       "\n",
       "    .dataframe tbody tr th {\n",
       "        vertical-align: top;\n",
       "    }\n",
       "\n",
       "    .dataframe thead th {\n",
       "        text-align: right;\n",
       "    }\n",
       "</style>\n",
       "<table border=\"1\" class=\"dataframe\">\n",
       "  <thead>\n",
       "    <tr style=\"text-align: right;\">\n",
       "      <th></th>\n",
       "      <th>grade_fra</th>\n",
       "      <th>grade_median</th>\n",
       "      <th>name</th>\n",
       "    </tr>\n",
       "  </thead>\n",
       "  <tbody>\n",
       "    <tr>\n",
       "      <th>8621</th>\n",
       "      <td>6c+/7a</td>\n",
       "      <td>47.5</td>\n",
       "      <td>120 tronkaes</td>\n",
       "    </tr>\n",
       "    <tr>\n",
       "      <th>8622</th>\n",
       "      <td>6a+/6b</td>\n",
       "      <td>40.0</td>\n",
       "      <td>45 aniversari</td>\n",
       "    </tr>\n",
       "    <tr>\n",
       "      <th>8623</th>\n",
       "      <td>5b+</td>\n",
       "      <td>33.0</td>\n",
       "      <td>almogaver tossut</td>\n",
       "    </tr>\n",
       "  </tbody>\n",
       "</table>\n",
       "</div>"
      ],
      "text/plain": [
       "     grade_fra  grade_median              name\n",
       "8621    6c+/7a          47.5      120 tronkaes\n",
       "8622    6a+/6b          40.0     45 aniversari\n",
       "8623       5b+          33.0  almogaver tossut"
      ]
     },
     "execution_count": 6,
     "metadata": {},
     "output_type": "execute_result"
    }
   ],
   "source": [
    "df2 = df.copy()\n",
    "df2['grade_fra'] = df2.grade_median.apply(lambda x: gr.get_fra(round(x,0)))\n",
    "df2[['grade_fra','grade_median','name']].head(3)"
   ]
  },
  {
   "cell_type": "markdown",
   "id": "incorporated-sailing",
   "metadata": {},
   "source": [
    "You can also retrieve the grades info"
   ]
  },
  {
   "cell_type": "code",
   "execution_count": 7,
   "id": "adjacent-protest",
   "metadata": {},
   "outputs": [
    {
     "data": {
      "text/plain": [
       "'8a+/8b'"
      ]
     },
     "execution_count": 7,
     "metadata": {},
     "output_type": "execute_result"
    }
   ],
   "source": [
    "gr.get_fra(64)"
   ]
  },
  {
   "cell_type": "code",
   "execution_count": 8,
   "id": "limiting-protocol",
   "metadata": {},
   "outputs": [
    {
     "data": {
      "text/plain": [
       "61"
      ]
     },
     "execution_count": 8,
     "metadata": {},
     "output_type": "execute_result"
    }
   ],
   "source": [
    "gr.get_grade_id('8a')"
   ]
  },
  {
   "cell_type": "code",
   "execution_count": 10,
   "id": "informal-domain",
   "metadata": {},
   "outputs": [
    {
     "data": {
      "text/plain": [
       "['5a',\n",
       " '5b',\n",
       " '5c',\n",
       " '6a',\n",
       " '6a+',\n",
       " '6b',\n",
       " '6b+',\n",
       " '6c',\n",
       " '6c+',\n",
       " '7a',\n",
       " '7a+',\n",
       " '7b',\n",
       " '7b+',\n",
       " '7c',\n",
       " '7c+',\n",
       " '8a',\n",
       " '8a+',\n",
       " '8b',\n",
       " '8b+',\n",
       " '8c',\n",
       " '8c+',\n",
       " '9a',\n",
       " '9a+',\n",
       " '9b',\n",
       " '9b+']"
      ]
     },
     "execution_count": 10,
     "metadata": {},
     "output_type": "execute_result"
    }
   ],
   "source": [
    "gr.get_grades_fra()"
   ]
  }
 ],
 "metadata": {
  "kernelspec": {
   "display_name": "Python 3 (ipykernel)",
   "language": "python",
   "name": "python3"
  },
  "language_info": {
   "codemirror_mode": {
    "name": "ipython",
    "version": 3
   },
   "file_extension": ".py",
   "mimetype": "text/x-python",
   "name": "python",
   "nbconvert_exporter": "python",
   "pygments_lexer": "ipython3",
   "version": "3.9.5"
  }
 },
 "nbformat": 4,
 "nbformat_minor": 5
}
