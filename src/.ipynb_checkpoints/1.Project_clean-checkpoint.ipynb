{
 "cells": [
  {
   "cell_type": "code",
   "execution_count": 1,
   "id": "liked-intersection",
   "metadata": {},
   "outputs": [],
   "source": [
    "import pandas as pd \n",
    "import numpy as np\n",
    "import tables\n",
    "import clean_jor\n",
    "import metrics_jor"
   ]
  },
  {
   "cell_type": "code",
   "execution_count": 2,
   "id": "early-convention",
   "metadata": {},
   "outputs": [],
   "source": [
    "pd.set_option(\"display.max_columns\",None)\n",
    "pd.set_option('display.max_rows', 10)"
   ]
  },
  {
   "cell_type": "markdown",
   "id": "reliable-arkansas",
   "metadata": {},
   "source": [
    "# 1. Get tables and clean"
   ]
  },
  {
   "cell_type": "markdown",
   "id": "juvenile-density",
   "metadata": {},
   "source": [
    "In the 8a.nu Database we have 3 different tables: \n",
    "- User : with all the user information\n",
    "- Ascent: the user can record his/her ascention and grade it\n",
    "- Conversion: the grade conversion for different countries"
   ]
  },
  {
   "cell_type": "markdown",
   "id": "proprietary-conjunction",
   "metadata": {},
   "source": [
    "<b>GET USER-ASCENT-CONVERSION TABLES"
   ]
  },
  {
   "cell_type": "code",
   "execution_count": 3,
   "id": "induced-remark",
   "metadata": {},
   "outputs": [],
   "source": [
    "conversion = tables.conversion_table()\n",
    "user = tables.user_table()\n",
    "ascent = tables.ascent_table()"
   ]
  },
  {
   "cell_type": "code",
   "execution_count": 4,
   "id": "connected-custom",
   "metadata": {},
   "outputs": [
    {
     "data": {
      "text/html": [
       "<div>\n",
       "<style scoped>\n",
       "    .dataframe tbody tr th:only-of-type {\n",
       "        vertical-align: middle;\n",
       "    }\n",
       "\n",
       "    .dataframe tbody tr th {\n",
       "        vertical-align: top;\n",
       "    }\n",
       "\n",
       "    .dataframe thead th {\n",
       "        text-align: right;\n",
       "    }\n",
       "</style>\n",
       "<table border=\"1\" class=\"dataframe\">\n",
       "  <thead>\n",
       "    <tr style=\"text-align: right;\">\n",
       "      <th></th>\n",
       "      <th>user_id</th>\n",
       "      <th>first_name</th>\n",
       "      <th>last_name</th>\n",
       "      <th>city</th>\n",
       "      <th>country</th>\n",
       "      <th>sex</th>\n",
       "      <th>height</th>\n",
       "      <th>weight</th>\n",
       "      <th>started</th>\n",
       "      <th>competitions</th>\n",
       "      <th>occupation</th>\n",
       "      <th>sponsor1</th>\n",
       "      <th>sponsor2</th>\n",
       "      <th>sponsor3</th>\n",
       "      <th>best_area</th>\n",
       "      <th>worst_area</th>\n",
       "      <th>guide_area</th>\n",
       "      <th>interests</th>\n",
       "      <th>birth</th>\n",
       "      <th>presentation</th>\n",
       "      <th>deactivated</th>\n",
       "      <th>anonymous</th>\n",
       "    </tr>\n",
       "  </thead>\n",
       "  <tbody>\n",
       "    <tr>\n",
       "      <th>0</th>\n",
       "      <td>1</td>\n",
       "      <td>first</td>\n",
       "      <td>last</td>\n",
       "      <td>Göteborg</td>\n",
       "      <td>SWE</td>\n",
       "      <td>0</td>\n",
       "      <td>177</td>\n",
       "      <td>73</td>\n",
       "      <td>1996</td>\n",
       "      <td>NaN</td>\n",
       "      <td>NaN</td>\n",
       "      <td>NaN</td>\n",
       "      <td>NaN</td>\n",
       "      <td>NaN</td>\n",
       "      <td>Railay beach, Krabi, Thailand</td>\n",
       "      <td>NaN</td>\n",
       "      <td>NaN</td>\n",
       "      <td>NaN</td>\n",
       "      <td>1976-03-10</td>\n",
       "      <td>NaN</td>\n",
       "      <td>0</td>\n",
       "      <td>0</td>\n",
       "    </tr>\n",
       "    <tr>\n",
       "      <th>1</th>\n",
       "      <td>2</td>\n",
       "      <td>first</td>\n",
       "      <td>last</td>\n",
       "      <td>stockholm</td>\n",
       "      <td>SWE</td>\n",
       "      <td>0</td>\n",
       "      <td>0</td>\n",
       "      <td>0</td>\n",
       "      <td>2000</td>\n",
       "      <td>NaN</td>\n",
       "      <td>NaN</td>\n",
       "      <td>NaN</td>\n",
       "      <td>NaN</td>\n",
       "      <td>NaN</td>\n",
       "      <td>NaN</td>\n",
       "      <td>NaN</td>\n",
       "      <td>NaN</td>\n",
       "      <td>NaN</td>\n",
       "      <td>NaN</td>\n",
       "      <td>NaN</td>\n",
       "      <td>0</td>\n",
       "      <td>0</td>\n",
       "    </tr>\n",
       "  </tbody>\n",
       "</table>\n",
       "</div>"
      ],
      "text/plain": [
       "   user_id first_name last_name       city country  sex  height  weight  \\\n",
       "0        1      first      last   Göteborg     SWE    0     177      73   \n",
       "1        2      first      last  stockholm     SWE    0       0       0   \n",
       "\n",
       "   started competitions occupation sponsor1 sponsor2 sponsor3  \\\n",
       "0     1996          NaN        NaN      NaN      NaN      NaN   \n",
       "1     2000          NaN        NaN      NaN      NaN      NaN   \n",
       "\n",
       "                       best_area worst_area guide_area interests       birth  \\\n",
       "0  Railay beach, Krabi, Thailand        NaN        NaN       NaN  1976-03-10   \n",
       "1                            NaN        NaN        NaN       NaN         NaN   \n",
       "\n",
       "  presentation  deactivated  anonymous  \n",
       "0          NaN            0          0  \n",
       "1          NaN            0          0  "
      ]
     },
     "execution_count": 4,
     "metadata": {},
     "output_type": "execute_result"
    }
   ],
   "source": [
    "user.head(2)"
   ]
  },
  {
   "cell_type": "markdown",
   "id": "horizontal-bishop",
   "metadata": {},
   "source": [
    "<b>CLEAN USER-ASCENT TABLES"
   ]
  },
  {
   "cell_type": "code",
   "execution_count": 5,
   "id": "medieval-weekly",
   "metadata": {},
   "outputs": [
    {
     "name": "stdout",
     "output_type": "stream",
     "text": [
      "Before cleaning the table \n",
      "(62593, 22)\n",
      "\n",
      "\n",
      "After cleaning the table \n",
      "(17544, 7)\n"
     ]
    }
   ],
   "source": [
    "user_clean = tables.clean_user(user)"
   ]
  },
  {
   "cell_type": "code",
   "execution_count": 6,
   "id": "english-apparatus",
   "metadata": {
    "scrolled": true
   },
   "outputs": [
    {
     "data": {
      "text/html": [
       "<div>\n",
       "<style scoped>\n",
       "    .dataframe tbody tr th:only-of-type {\n",
       "        vertical-align: middle;\n",
       "    }\n",
       "\n",
       "    .dataframe tbody tr th {\n",
       "        vertical-align: top;\n",
       "    }\n",
       "\n",
       "    .dataframe thead th {\n",
       "        text-align: right;\n",
       "    }\n",
       "</style>\n",
       "<table border=\"1\" class=\"dataframe\">\n",
       "  <thead>\n",
       "    <tr style=\"text-align: right;\">\n",
       "      <th></th>\n",
       "      <th>country</th>\n",
       "      <th>sex</th>\n",
       "      <th>height</th>\n",
       "      <th>weight</th>\n",
       "      <th>age</th>\n",
       "      <th>years_cl</th>\n",
       "    </tr>\n",
       "    <tr>\n",
       "      <th>user_id</th>\n",
       "      <th></th>\n",
       "      <th></th>\n",
       "      <th></th>\n",
       "      <th></th>\n",
       "      <th></th>\n",
       "      <th></th>\n",
       "    </tr>\n",
       "  </thead>\n",
       "  <tbody>\n",
       "    <tr>\n",
       "      <th>1</th>\n",
       "      <td>SWE</td>\n",
       "      <td>0</td>\n",
       "      <td>177</td>\n",
       "      <td>73</td>\n",
       "      <td>41.0</td>\n",
       "      <td>21</td>\n",
       "    </tr>\n",
       "    <tr>\n",
       "      <th>3</th>\n",
       "      <td>SWE</td>\n",
       "      <td>0</td>\n",
       "      <td>180</td>\n",
       "      <td>78</td>\n",
       "      <td>44.0</td>\n",
       "      <td>22</td>\n",
       "    </tr>\n",
       "    <tr>\n",
       "      <th>4</th>\n",
       "      <td>SWE</td>\n",
       "      <td>1</td>\n",
       "      <td>165</td>\n",
       "      <td>58</td>\n",
       "      <td>33.0</td>\n",
       "      <td>16</td>\n",
       "    </tr>\n",
       "    <tr>\n",
       "      <th>6</th>\n",
       "      <td>AUS</td>\n",
       "      <td>0</td>\n",
       "      <td>185</td>\n",
       "      <td>73</td>\n",
       "      <td>47.0</td>\n",
       "      <td>25</td>\n",
       "    </tr>\n",
       "  </tbody>\n",
       "</table>\n",
       "</div>"
      ],
      "text/plain": [
       "        country  sex  height  weight   age  years_cl\n",
       "user_id                                             \n",
       "1           SWE    0     177      73  41.0        21\n",
       "3           SWE    0     180      78  44.0        22\n",
       "4           SWE    1     165      58  33.0        16\n",
       "6           AUS    0     185      73  47.0        25"
      ]
     },
     "execution_count": 6,
     "metadata": {},
     "output_type": "execute_result"
    }
   ],
   "source": [
    "user_clean.head(4)"
   ]
  },
  {
   "cell_type": "code",
   "execution_count": 7,
   "id": "grand-religious",
   "metadata": {
    "scrolled": true
   },
   "outputs": [
    {
     "name": "stdout",
     "output_type": "stream",
     "text": [
      "Before cleaning the table \n",
      "(4111877, 28)\n",
      "\n",
      "\n",
      "After cleaning the table \n",
      "(2800094, 14)\n"
     ]
    }
   ],
   "source": [
    "ascent_clean = tables.clean_ascent(ascent)"
   ]
  },
  {
   "cell_type": "code",
   "execution_count": 8,
   "id": "charged-seminar",
   "metadata": {
    "scrolled": true
   },
   "outputs": [
    {
     "data": {
      "text/html": [
       "<div>\n",
       "<style scoped>\n",
       "    .dataframe tbody tr th:only-of-type {\n",
       "        vertical-align: middle;\n",
       "    }\n",
       "\n",
       "    .dataframe tbody tr th {\n",
       "        vertical-align: top;\n",
       "    }\n",
       "\n",
       "    .dataframe thead th {\n",
       "        text-align: right;\n",
       "    }\n",
       "</style>\n",
       "<table border=\"1\" class=\"dataframe\">\n",
       "  <thead>\n",
       "    <tr style=\"text-align: right;\">\n",
       "      <th></th>\n",
       "      <th>user_id</th>\n",
       "      <th>grade_id</th>\n",
       "      <th>method_id</th>\n",
       "      <th>date</th>\n",
       "      <th>year</th>\n",
       "      <th>rec_date</th>\n",
       "      <th>name</th>\n",
       "      <th>crag_id</th>\n",
       "      <th>country</th>\n",
       "      <th>comment</th>\n",
       "      <th>rating</th>\n",
       "      <th>user_recommended</th>\n",
       "      <th>first_ascent</th>\n",
       "      <th>second_go</th>\n",
       "    </tr>\n",
       "  </thead>\n",
       "  <tbody>\n",
       "    <tr>\n",
       "      <th>0</th>\n",
       "      <td>1</td>\n",
       "      <td>36</td>\n",
       "      <td>3</td>\n",
       "      <td>1999-02-06 23:00:00</td>\n",
       "      <td>1999</td>\n",
       "      <td>2005-01-30 23:00:00</td>\n",
       "      <td>The King And I</td>\n",
       "      <td>16596</td>\n",
       "      <td>THA</td>\n",
       "      <td>Thailand\\n</td>\n",
       "      <td>0</td>\n",
       "      <td>0</td>\n",
       "      <td>0</td>\n",
       "      <td>0</td>\n",
       "    </tr>\n",
       "    <tr>\n",
       "      <th>1</th>\n",
       "      <td>1</td>\n",
       "      <td>36</td>\n",
       "      <td>3</td>\n",
       "      <td>1999-04-30 22:00:00</td>\n",
       "      <td>1999</td>\n",
       "      <td>2005-01-30 23:00:00</td>\n",
       "      <td>vet ej</td>\n",
       "      <td>0</td>\n",
       "      <td>-</td>\n",
       "      <td>\\n</td>\n",
       "      <td>0</td>\n",
       "      <td>0</td>\n",
       "      <td>0</td>\n",
       "      <td>0</td>\n",
       "    </tr>\n",
       "    <tr>\n",
       "      <th>2</th>\n",
       "      <td>1</td>\n",
       "      <td>36</td>\n",
       "      <td>3</td>\n",
       "      <td>1999-07-26 22:00:00</td>\n",
       "      <td>1999</td>\n",
       "      <td>2005-01-30 23:00:00</td>\n",
       "      <td>Mr Big</td>\n",
       "      <td>209</td>\n",
       "      <td>SWE</td>\n",
       "      <td>\\n</td>\n",
       "      <td>0</td>\n",
       "      <td>0</td>\n",
       "      <td>0</td>\n",
       "      <td>0</td>\n",
       "    </tr>\n",
       "  </tbody>\n",
       "</table>\n",
       "</div>"
      ],
      "text/plain": [
       "   user_id  grade_id  method_id                date  year            rec_date  \\\n",
       "0        1        36          3 1999-02-06 23:00:00  1999 2005-01-30 23:00:00   \n",
       "1        1        36          3 1999-04-30 22:00:00  1999 2005-01-30 23:00:00   \n",
       "2        1        36          3 1999-07-26 22:00:00  1999 2005-01-30 23:00:00   \n",
       "\n",
       "             name  crag_id country     comment  rating  user_recommended  \\\n",
       "0  The King And I    16596     THA  Thailand\\n       0                 0   \n",
       "1          vet ej        0       -          \\n       0                 0   \n",
       "2          Mr Big      209     SWE          \\n       0                 0   \n",
       "\n",
       "   first_ascent  second_go  \n",
       "0             0          0  \n",
       "1             0          0  \n",
       "2             0          0  "
      ]
     },
     "execution_count": 8,
     "metadata": {},
     "output_type": "execute_result"
    }
   ],
   "source": [
    "ascent_clean.head(3)"
   ]
  },
  {
   "cell_type": "code",
   "execution_count": 9,
   "id": "capital-chapter",
   "metadata": {},
   "outputs": [
    {
     "data": {
      "text/plain": [
       "(2800094, 14)"
      ]
     },
     "execution_count": 9,
     "metadata": {},
     "output_type": "execute_result"
    }
   ],
   "source": [
    "ascent_clean.shape"
   ]
  },
  {
   "cell_type": "markdown",
   "id": "uniform-attack",
   "metadata": {},
   "source": [
    "<b> GET GRADES TABLE"
   ]
  },
  {
   "cell_type": "markdown",
   "id": "placed-albania",
   "metadata": {},
   "source": [
    "The grades table shows different grade information for each user, it is derivated from the ascent table"
   ]
  },
  {
   "cell_type": "code",
   "execution_count": 10,
   "id": "whole-authentication",
   "metadata": {},
   "outputs": [],
   "source": [
    "grades = tables.grades_table(ascent_clean)"
   ]
  },
  {
   "cell_type": "code",
   "execution_count": 11,
   "id": "internal-smell",
   "metadata": {},
   "outputs": [
    {
     "data": {
      "text/html": [
       "<div>\n",
       "<style scoped>\n",
       "    .dataframe tbody tr th:only-of-type {\n",
       "        vertical-align: middle;\n",
       "    }\n",
       "\n",
       "    .dataframe tbody tr th {\n",
       "        vertical-align: top;\n",
       "    }\n",
       "\n",
       "    .dataframe thead th {\n",
       "        text-align: right;\n",
       "    }\n",
       "</style>\n",
       "<table border=\"1\" class=\"dataframe\">\n",
       "  <thead>\n",
       "    <tr style=\"text-align: right;\">\n",
       "      <th></th>\n",
       "      <th>user_id</th>\n",
       "      <th>date_first</th>\n",
       "      <th>date_last</th>\n",
       "      <th>grades_count</th>\n",
       "      <th>grades_first</th>\n",
       "      <th>grades_last</th>\n",
       "      <th>grades_max</th>\n",
       "      <th>grades_mean</th>\n",
       "      <th>year_first</th>\n",
       "      <th>year_last</th>\n",
       "    </tr>\n",
       "  </thead>\n",
       "  <tbody>\n",
       "    <tr>\n",
       "      <th>0</th>\n",
       "      <td>1</td>\n",
       "      <td>1999-02-06 23:00:00</td>\n",
       "      <td>2002-01-06 23:00:00</td>\n",
       "      <td>149</td>\n",
       "      <td>36</td>\n",
       "      <td>53</td>\n",
       "      <td>62</td>\n",
       "      <td>47.161074</td>\n",
       "      <td>1999</td>\n",
       "      <td>2002</td>\n",
       "    </tr>\n",
       "    <tr>\n",
       "      <th>1</th>\n",
       "      <td>2</td>\n",
       "      <td>2001-05-31 22:00:00</td>\n",
       "      <td>2001-05-31 22:00:00</td>\n",
       "      <td>3</td>\n",
       "      <td>49</td>\n",
       "      <td>44</td>\n",
       "      <td>49</td>\n",
       "      <td>44.333333</td>\n",
       "      <td>2001</td>\n",
       "      <td>2001</td>\n",
       "    </tr>\n",
       "  </tbody>\n",
       "</table>\n",
       "</div>"
      ],
      "text/plain": [
       "   user_id          date_first           date_last  grades_count  \\\n",
       "0        1 1999-02-06 23:00:00 2002-01-06 23:00:00           149   \n",
       "1        2 2001-05-31 22:00:00 2001-05-31 22:00:00             3   \n",
       "\n",
       "   grades_first  grades_last  grades_max  grades_mean  year_first  year_last  \n",
       "0            36           53          62    47.161074        1999       2002  \n",
       "1            49           44          49    44.333333        2001       2001  "
      ]
     },
     "execution_count": 11,
     "metadata": {},
     "output_type": "execute_result"
    }
   ],
   "source": [
    "grades.head(2)"
   ]
  },
  {
   "cell_type": "code",
   "execution_count": 12,
   "id": "criminal-aruba",
   "metadata": {},
   "outputs": [
    {
     "data": {
      "text/plain": [
       "(30652, 10)"
      ]
     },
     "execution_count": 12,
     "metadata": {},
     "output_type": "execute_result"
    }
   ],
   "source": [
    "grades.shape"
   ]
  },
  {
   "cell_type": "markdown",
   "id": "adjustable-armstrong",
   "metadata": {},
   "source": [
    "<b> GET CLIMBER TABLE"
   ]
  },
  {
   "cell_type": "markdown",
   "id": "overall-arena",
   "metadata": {},
   "source": [
    "We concatenate user and grades table to get the main table"
   ]
  },
  {
   "cell_type": "code",
   "execution_count": 13,
   "id": "timely-shift",
   "metadata": {},
   "outputs": [],
   "source": [
    "grades = grades.set_index(\"user_id\")\n",
    "climber_df = pd.concat([user_clean,grades],axis=1,join='inner')\n",
    "climber_df.to_csv('../data/climber_df.csv')"
   ]
  },
  {
   "cell_type": "code",
   "execution_count": 14,
   "id": "documentary-criterion",
   "metadata": {},
   "outputs": [
    {
     "data": {
      "text/html": [
       "<div>\n",
       "<style scoped>\n",
       "    .dataframe tbody tr th:only-of-type {\n",
       "        vertical-align: middle;\n",
       "    }\n",
       "\n",
       "    .dataframe tbody tr th {\n",
       "        vertical-align: top;\n",
       "    }\n",
       "\n",
       "    .dataframe thead th {\n",
       "        text-align: right;\n",
       "    }\n",
       "</style>\n",
       "<table border=\"1\" class=\"dataframe\">\n",
       "  <thead>\n",
       "    <tr style=\"text-align: right;\">\n",
       "      <th></th>\n",
       "      <th>country</th>\n",
       "      <th>sex</th>\n",
       "      <th>height</th>\n",
       "      <th>weight</th>\n",
       "      <th>age</th>\n",
       "      <th>years_cl</th>\n",
       "      <th>date_first</th>\n",
       "      <th>date_last</th>\n",
       "      <th>grades_count</th>\n",
       "      <th>grades_first</th>\n",
       "      <th>grades_last</th>\n",
       "      <th>grades_max</th>\n",
       "      <th>grades_mean</th>\n",
       "      <th>year_first</th>\n",
       "      <th>year_last</th>\n",
       "    </tr>\n",
       "    <tr>\n",
       "      <th>user_id</th>\n",
       "      <th></th>\n",
       "      <th></th>\n",
       "      <th></th>\n",
       "      <th></th>\n",
       "      <th></th>\n",
       "      <th></th>\n",
       "      <th></th>\n",
       "      <th></th>\n",
       "      <th></th>\n",
       "      <th></th>\n",
       "      <th></th>\n",
       "      <th></th>\n",
       "      <th></th>\n",
       "      <th></th>\n",
       "      <th></th>\n",
       "    </tr>\n",
       "  </thead>\n",
       "  <tbody>\n",
       "    <tr>\n",
       "      <th>1</th>\n",
       "      <td>SWE</td>\n",
       "      <td>0</td>\n",
       "      <td>177</td>\n",
       "      <td>73</td>\n",
       "      <td>41.0</td>\n",
       "      <td>21</td>\n",
       "      <td>1999-02-06 23:00:00</td>\n",
       "      <td>2002-01-06 23:00:00</td>\n",
       "      <td>149</td>\n",
       "      <td>36</td>\n",
       "      <td>53</td>\n",
       "      <td>62</td>\n",
       "      <td>47.161074</td>\n",
       "      <td>1999</td>\n",
       "      <td>2002</td>\n",
       "    </tr>\n",
       "    <tr>\n",
       "      <th>3</th>\n",
       "      <td>SWE</td>\n",
       "      <td>0</td>\n",
       "      <td>180</td>\n",
       "      <td>78</td>\n",
       "      <td>44.0</td>\n",
       "      <td>22</td>\n",
       "      <td>1999-08-09 22:00:00</td>\n",
       "      <td>2001-08-25 22:00:00</td>\n",
       "      <td>49</td>\n",
       "      <td>55</td>\n",
       "      <td>49</td>\n",
       "      <td>62</td>\n",
       "      <td>52.530612</td>\n",
       "      <td>1999</td>\n",
       "      <td>2001</td>\n",
       "    </tr>\n",
       "    <tr>\n",
       "      <th>4</th>\n",
       "      <td>SWE</td>\n",
       "      <td>1</td>\n",
       "      <td>165</td>\n",
       "      <td>58</td>\n",
       "      <td>33.0</td>\n",
       "      <td>16</td>\n",
       "      <td>2004-06-30 22:00:00</td>\n",
       "      <td>2009-05-26 22:00:00</td>\n",
       "      <td>170</td>\n",
       "      <td>62</td>\n",
       "      <td>49</td>\n",
       "      <td>64</td>\n",
       "      <td>53.876471</td>\n",
       "      <td>2004</td>\n",
       "      <td>2009</td>\n",
       "    </tr>\n",
       "  </tbody>\n",
       "</table>\n",
       "</div>"
      ],
      "text/plain": [
       "        country  sex  height  weight   age  years_cl          date_first  \\\n",
       "user_id                                                                    \n",
       "1           SWE    0     177      73  41.0        21 1999-02-06 23:00:00   \n",
       "3           SWE    0     180      78  44.0        22 1999-08-09 22:00:00   \n",
       "4           SWE    1     165      58  33.0        16 2004-06-30 22:00:00   \n",
       "\n",
       "                  date_last  grades_count  grades_first  grades_last  \\\n",
       "user_id                                                                \n",
       "1       2002-01-06 23:00:00           149            36           53   \n",
       "3       2001-08-25 22:00:00            49            55           49   \n",
       "4       2009-05-26 22:00:00           170            62           49   \n",
       "\n",
       "         grades_max  grades_mean  year_first  year_last  \n",
       "user_id                                                  \n",
       "1                62    47.161074        1999       2002  \n",
       "3                62    52.530612        1999       2001  \n",
       "4                64    53.876471        2004       2009  "
      ]
     },
     "execution_count": 14,
     "metadata": {},
     "output_type": "execute_result"
    }
   ],
   "source": [
    "climber_df.head(3)"
   ]
  },
  {
   "cell_type": "markdown",
   "id": "labeled-encyclopedia",
   "metadata": {},
   "source": [
    "<b> CLEAN CLIMBER TABLE"
   ]
  },
  {
   "cell_type": "code",
   "execution_count": 15,
   "id": "parallel-elevation",
   "metadata": {},
   "outputs": [
    {
     "name": "stdout",
     "output_type": "stream",
     "text": [
      "Before cleaning the table \n",
      "(12475, 15)\n",
      "\n",
      "\n",
      "After cleaning the table \n",
      "(8794, 10)\n"
     ]
    }
   ],
   "source": [
    "climber_clean = clean_jor.clean_climber(climber_df,conversion)"
   ]
  },
  {
   "cell_type": "code",
   "execution_count": 16,
   "id": "several-antigua",
   "metadata": {
    "scrolled": false
   },
   "outputs": [
    {
     "data": {
      "text/html": [
       "<div>\n",
       "<style scoped>\n",
       "    .dataframe tbody tr th:only-of-type {\n",
       "        vertical-align: middle;\n",
       "    }\n",
       "\n",
       "    .dataframe tbody tr th {\n",
       "        vertical-align: top;\n",
       "    }\n",
       "\n",
       "    .dataframe thead th {\n",
       "        text-align: right;\n",
       "    }\n",
       "</style>\n",
       "<table border=\"1\" class=\"dataframe\">\n",
       "  <thead>\n",
       "    <tr style=\"text-align: right;\">\n",
       "      <th></th>\n",
       "      <th>country</th>\n",
       "      <th>sex</th>\n",
       "      <th>height</th>\n",
       "      <th>weight</th>\n",
       "      <th>age</th>\n",
       "      <th>years_cl</th>\n",
       "      <th>grades_max</th>\n",
       "      <th>grades_mean</th>\n",
       "      <th>year_last</th>\n",
       "      <th>max_fra</th>\n",
       "    </tr>\n",
       "  </thead>\n",
       "  <tbody>\n",
       "    <tr>\n",
       "      <th>0</th>\n",
       "      <td>SWE</td>\n",
       "      <td>0</td>\n",
       "      <td>177</td>\n",
       "      <td>73</td>\n",
       "      <td>26.0</td>\n",
       "      <td>6</td>\n",
       "      <td>62</td>\n",
       "      <td>47.161074</td>\n",
       "      <td>2002</td>\n",
       "      <td>8a+/8b</td>\n",
       "    </tr>\n",
       "    <tr>\n",
       "      <th>1</th>\n",
       "      <td>SWE</td>\n",
       "      <td>0</td>\n",
       "      <td>180</td>\n",
       "      <td>78</td>\n",
       "      <td>28.0</td>\n",
       "      <td>6</td>\n",
       "      <td>62</td>\n",
       "      <td>52.530612</td>\n",
       "      <td>2001</td>\n",
       "      <td>8a+/8b</td>\n",
       "    </tr>\n",
       "    <tr>\n",
       "      <th>2</th>\n",
       "      <td>NOR</td>\n",
       "      <td>0</td>\n",
       "      <td>177</td>\n",
       "      <td>68</td>\n",
       "      <td>40.0</td>\n",
       "      <td>17</td>\n",
       "      <td>64</td>\n",
       "      <td>51.463158</td>\n",
       "      <td>2013</td>\n",
       "      <td>8b/+</td>\n",
       "    </tr>\n",
       "    <tr>\n",
       "      <th>3</th>\n",
       "      <td>BEL</td>\n",
       "      <td>0</td>\n",
       "      <td>180</td>\n",
       "      <td>68</td>\n",
       "      <td>21.0</td>\n",
       "      <td>6</td>\n",
       "      <td>51</td>\n",
       "      <td>36.137931</td>\n",
       "      <td>2002</td>\n",
       "      <td>7b</td>\n",
       "    </tr>\n",
       "    <tr>\n",
       "      <th>4</th>\n",
       "      <td>CAN</td>\n",
       "      <td>0</td>\n",
       "      <td>180</td>\n",
       "      <td>68</td>\n",
       "      <td>45.0</td>\n",
       "      <td>29</td>\n",
       "      <td>64</td>\n",
       "      <td>48.937126</td>\n",
       "      <td>2017</td>\n",
       "      <td>8b/+</td>\n",
       "    </tr>\n",
       "  </tbody>\n",
       "</table>\n",
       "</div>"
      ],
      "text/plain": [
       "  country  sex  height  weight   age  years_cl  grades_max  grades_mean  \\\n",
       "0     SWE    0     177      73  26.0         6          62    47.161074   \n",
       "1     SWE    0     180      78  28.0         6          62    52.530612   \n",
       "2     NOR    0     177      68  40.0        17          64    51.463158   \n",
       "3     BEL    0     180      68  21.0         6          51    36.137931   \n",
       "4     CAN    0     180      68  45.0        29          64    48.937126   \n",
       "\n",
       "   year_last max_fra  \n",
       "0       2002  8a+/8b  \n",
       "1       2001  8a+/8b  \n",
       "2       2013    8b/+  \n",
       "3       2002      7b  \n",
       "4       2017    8b/+  "
      ]
     },
     "execution_count": 16,
     "metadata": {},
     "output_type": "execute_result"
    }
   ],
   "source": [
    "climber_clean.head()"
   ]
  },
  {
   "cell_type": "markdown",
   "id": "contemporary-theory",
   "metadata": {},
   "source": [
    "<b> GET COUNTRY GRADES TABLE"
   ]
  },
  {
   "cell_type": "markdown",
   "id": "european-interview",
   "metadata": {},
   "source": [
    "This table will be used in tableau for analytical purposes"
   ]
  },
  {
   "cell_type": "code",
   "execution_count": 17,
   "id": "meaning-allah",
   "metadata": {},
   "outputs": [],
   "source": [
    "country = tables.country_table(climber_df, conversion)"
   ]
  },
  {
   "cell_type": "markdown",
   "id": "proud-static",
   "metadata": {},
   "source": [
    "## - Save dataframe -"
   ]
  },
  {
   "cell_type": "code",
   "execution_count": 18,
   "id": "light-investment",
   "metadata": {},
   "outputs": [],
   "source": [
    "ascent_clean.to_csv('../../databases/ascent_clean.csv')\n",
    "country.to_csv('../data/country.csv')\n",
    "climber_clean.to_csv('../data/climber_all_clean.csv')"
   ]
  }
 ],
 "metadata": {
  "kernelspec": {
   "display_name": "Python 3 (ipykernel)",
   "language": "python",
   "name": "python3"
  },
  "language_info": {
   "codemirror_mode": {
    "name": "ipython",
    "version": 3
   },
   "file_extension": ".py",
   "mimetype": "text/x-python",
   "name": "python",
   "nbconvert_exporter": "python",
   "pygments_lexer": "ipython3",
   "version": "3.9.5"
  }
 },
 "nbformat": 4,
 "nbformat_minor": 5
}
