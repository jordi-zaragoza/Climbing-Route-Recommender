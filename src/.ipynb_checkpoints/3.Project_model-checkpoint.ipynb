{
 "cells": [
  {
   "cell_type": "code",
   "execution_count": 32,
   "id": "musical-salad",
   "metadata": {},
   "outputs": [],
   "source": [
    "import pandas as pd \n",
    "import numpy as np\n",
    "from sklearn.linear_model import LinearRegression\n",
    "from sklearn.neighbors import KNeighborsRegressor\n",
    "from sklearn.neural_network import  MLPRegressor\n",
    "import metrics_jor \n",
    "import climb\n",
    "import pickle\n",
    "import plot_jordi"
   ]
  },
  {
   "cell_type": "markdown",
   "id": "absolute-faculty",
   "metadata": {},
   "source": [
    "# 3. Regression"
   ]
  },
  {
   "cell_type": "code",
   "execution_count": 33,
   "id": "going-jordan",
   "metadata": {},
   "outputs": [],
   "source": [
    "X_train = pd.read_csv('../data/X_train.csv',index_col=0)\n",
    "X_test = pd.read_csv('../data/X_test.csv',index_col=0)\n",
    "y_train = pd.read_csv('../data/y_train.csv',index_col=0)\n",
    "y_test = pd.read_csv('../data/y_test.csv',index_col=0)"
   ]
  },
  {
   "cell_type": "code",
   "execution_count": 34,
   "id": "together-panic",
   "metadata": {},
   "outputs": [
    {
     "data": {
      "text/html": [
       "<div>\n",
       "<style scoped>\n",
       "    .dataframe tbody tr th:only-of-type {\n",
       "        vertical-align: middle;\n",
       "    }\n",
       "\n",
       "    .dataframe tbody tr th {\n",
       "        vertical-align: top;\n",
       "    }\n",
       "\n",
       "    .dataframe thead th {\n",
       "        text-align: right;\n",
       "    }\n",
       "</style>\n",
       "<table border=\"1\" class=\"dataframe\">\n",
       "  <thead>\n",
       "    <tr style=\"text-align: right;\">\n",
       "      <th></th>\n",
       "      <th>sex</th>\n",
       "      <th>height</th>\n",
       "      <th>weight</th>\n",
       "      <th>age</th>\n",
       "      <th>years_cl</th>\n",
       "      <th>AUS</th>\n",
       "      <th>AUT</th>\n",
       "      <th>BEL</th>\n",
       "      <th>BRA</th>\n",
       "      <th>CAN</th>\n",
       "      <th>...</th>\n",
       "      <th>NLD</th>\n",
       "      <th>NOR</th>\n",
       "      <th>POL</th>\n",
       "      <th>PRT</th>\n",
       "      <th>RUS</th>\n",
       "      <th>SVN</th>\n",
       "      <th>SWE</th>\n",
       "      <th>USA</th>\n",
       "      <th>ZAF</th>\n",
       "      <th>other</th>\n",
       "    </tr>\n",
       "  </thead>\n",
       "  <tbody>\n",
       "    <tr>\n",
       "      <th>0</th>\n",
       "      <td>-0.348503</td>\n",
       "      <td>-3.503487</td>\n",
       "      <td>-0.765282</td>\n",
       "      <td>-0.458977</td>\n",
       "      <td>-0.079181</td>\n",
       "      <td>-0.157728</td>\n",
       "      <td>-0.180061</td>\n",
       "      <td>-0.1334</td>\n",
       "      <td>-0.196962</td>\n",
       "      <td>-0.180563</td>\n",
       "      <td>...</td>\n",
       "      <td>-0.155453</td>\n",
       "      <td>5.749089</td>\n",
       "      <td>-0.283063</td>\n",
       "      <td>-0.122432</td>\n",
       "      <td>-0.149626</td>\n",
       "      <td>-0.111235</td>\n",
       "      <td>-0.2555</td>\n",
       "      <td>-0.352472</td>\n",
       "      <td>-0.154303</td>\n",
       "      <td>-0.322186</td>\n",
       "    </tr>\n",
       "    <tr>\n",
       "      <th>1</th>\n",
       "      <td>-0.348503</td>\n",
       "      <td>-3.464391</td>\n",
       "      <td>-0.732907</td>\n",
       "      <td>-0.437310</td>\n",
       "      <td>-0.116537</td>\n",
       "      <td>-0.157728</td>\n",
       "      <td>-0.180061</td>\n",
       "      <td>-0.1334</td>\n",
       "      <td>5.077132</td>\n",
       "      <td>-0.180563</td>\n",
       "      <td>...</td>\n",
       "      <td>-0.155453</td>\n",
       "      <td>-0.173941</td>\n",
       "      <td>-0.283063</td>\n",
       "      <td>-0.122432</td>\n",
       "      <td>-0.149626</td>\n",
       "      <td>-0.111235</td>\n",
       "      <td>-0.2555</td>\n",
       "      <td>-0.352472</td>\n",
       "      <td>-0.154303</td>\n",
       "      <td>-0.322186</td>\n",
       "    </tr>\n",
       "    <tr>\n",
       "      <th>2</th>\n",
       "      <td>-0.348503</td>\n",
       "      <td>-3.497557</td>\n",
       "      <td>-0.765282</td>\n",
       "      <td>-0.413570</td>\n",
       "      <td>-0.052244</td>\n",
       "      <td>6.340016</td>\n",
       "      <td>-0.180061</td>\n",
       "      <td>-0.1334</td>\n",
       "      <td>-0.196962</td>\n",
       "      <td>-0.180563</td>\n",
       "      <td>...</td>\n",
       "      <td>-0.155453</td>\n",
       "      <td>-0.173941</td>\n",
       "      <td>-0.283063</td>\n",
       "      <td>-0.122432</td>\n",
       "      <td>-0.149626</td>\n",
       "      <td>-0.111235</td>\n",
       "      <td>-0.2555</td>\n",
       "      <td>-0.352472</td>\n",
       "      <td>-0.154303</td>\n",
       "      <td>-0.322186</td>\n",
       "    </tr>\n",
       "    <tr>\n",
       "      <th>3</th>\n",
       "      <td>-0.348503</td>\n",
       "      <td>-3.500550</td>\n",
       "      <td>-0.765282</td>\n",
       "      <td>-0.473025</td>\n",
       "      <td>-0.179364</td>\n",
       "      <td>-0.157728</td>\n",
       "      <td>-0.180061</td>\n",
       "      <td>-0.1334</td>\n",
       "      <td>-0.196962</td>\n",
       "      <td>-0.180563</td>\n",
       "      <td>...</td>\n",
       "      <td>-0.155453</td>\n",
       "      <td>-0.173941</td>\n",
       "      <td>3.532782</td>\n",
       "      <td>-0.122432</td>\n",
       "      <td>-0.149626</td>\n",
       "      <td>-0.111235</td>\n",
       "      <td>-0.2555</td>\n",
       "      <td>-0.352472</td>\n",
       "      <td>-0.154303</td>\n",
       "      <td>-0.322186</td>\n",
       "    </tr>\n",
       "    <tr>\n",
       "      <th>4</th>\n",
       "      <td>2.869415</td>\n",
       "      <td>-3.522540</td>\n",
       "      <td>-0.775631</td>\n",
       "      <td>-0.417380</td>\n",
       "      <td>-0.095295</td>\n",
       "      <td>-0.157728</td>\n",
       "      <td>-0.180061</td>\n",
       "      <td>-0.1334</td>\n",
       "      <td>-0.196962</td>\n",
       "      <td>-0.180563</td>\n",
       "      <td>...</td>\n",
       "      <td>-0.155453</td>\n",
       "      <td>-0.173941</td>\n",
       "      <td>-0.283063</td>\n",
       "      <td>-0.122432</td>\n",
       "      <td>-0.149626</td>\n",
       "      <td>-0.111235</td>\n",
       "      <td>-0.2555</td>\n",
       "      <td>2.837103</td>\n",
       "      <td>-0.154303</td>\n",
       "      <td>-0.322186</td>\n",
       "    </tr>\n",
       "  </tbody>\n",
       "</table>\n",
       "<p>5 rows × 31 columns</p>\n",
       "</div>"
      ],
      "text/plain": [
       "        sex    height    weight       age  years_cl       AUS       AUT  \\\n",
       "0 -0.348503 -3.503487 -0.765282 -0.458977 -0.079181 -0.157728 -0.180061   \n",
       "1 -0.348503 -3.464391 -0.732907 -0.437310 -0.116537 -0.157728 -0.180061   \n",
       "2 -0.348503 -3.497557 -0.765282 -0.413570 -0.052244  6.340016 -0.180061   \n",
       "3 -0.348503 -3.500550 -0.765282 -0.473025 -0.179364 -0.157728 -0.180061   \n",
       "4  2.869415 -3.522540 -0.775631 -0.417380 -0.095295 -0.157728 -0.180061   \n",
       "\n",
       "      BEL       BRA       CAN  ...       NLD       NOR       POL       PRT  \\\n",
       "0 -0.1334 -0.196962 -0.180563  ... -0.155453  5.749089 -0.283063 -0.122432   \n",
       "1 -0.1334  5.077132 -0.180563  ... -0.155453 -0.173941 -0.283063 -0.122432   \n",
       "2 -0.1334 -0.196962 -0.180563  ... -0.155453 -0.173941 -0.283063 -0.122432   \n",
       "3 -0.1334 -0.196962 -0.180563  ... -0.155453 -0.173941  3.532782 -0.122432   \n",
       "4 -0.1334 -0.196962 -0.180563  ... -0.155453 -0.173941 -0.283063 -0.122432   \n",
       "\n",
       "        RUS       SVN     SWE       USA       ZAF     other  \n",
       "0 -0.149626 -0.111235 -0.2555 -0.352472 -0.154303 -0.322186  \n",
       "1 -0.149626 -0.111235 -0.2555 -0.352472 -0.154303 -0.322186  \n",
       "2 -0.149626 -0.111235 -0.2555 -0.352472 -0.154303 -0.322186  \n",
       "3 -0.149626 -0.111235 -0.2555 -0.352472 -0.154303 -0.322186  \n",
       "4 -0.149626 -0.111235 -0.2555  2.837103 -0.154303 -0.322186  \n",
       "\n",
       "[5 rows x 31 columns]"
      ]
     },
     "execution_count": 34,
     "metadata": {},
     "output_type": "execute_result"
    }
   ],
   "source": [
    "X_train.head()"
   ]
  },
  {
   "cell_type": "markdown",
   "id": "congressional-vatican",
   "metadata": {},
   "source": [
    "## a. Linear Regression"
   ]
  },
  {
   "cell_type": "markdown",
   "id": "activated-trance",
   "metadata": {},
   "source": [
    "<b> Modeling"
   ]
  },
  {
   "cell_type": "code",
   "execution_count": 35,
   "id": "systematic-celebrity",
   "metadata": {},
   "outputs": [],
   "source": [
    "reg = LinearRegression().fit(X_train, y_train)"
   ]
  },
  {
   "cell_type": "markdown",
   "id": "reduced-blackjack",
   "metadata": {},
   "source": [
    "<b> Prediction"
   ]
  },
  {
   "cell_type": "code",
   "execution_count": 36,
   "id": "hidden-comment",
   "metadata": {},
   "outputs": [],
   "source": [
    "y_pred_train = reg.predict(X_train)\n",
    "y_pred_test = reg.predict(X_test)"
   ]
  },
  {
   "cell_type": "code",
   "execution_count": 37,
   "id": "quantitative-madagascar",
   "metadata": {},
   "outputs": [
    {
     "data": {
      "text/html": [
       "<div>\n",
       "<style scoped>\n",
       "    .dataframe tbody tr th:only-of-type {\n",
       "        vertical-align: middle;\n",
       "    }\n",
       "\n",
       "    .dataframe tbody tr th {\n",
       "        vertical-align: top;\n",
       "    }\n",
       "\n",
       "    .dataframe thead th {\n",
       "        text-align: right;\n",
       "    }\n",
       "</style>\n",
       "<table border=\"1\" class=\"dataframe\">\n",
       "  <thead>\n",
       "    <tr style=\"text-align: right;\">\n",
       "      <th></th>\n",
       "      <th>metrics</th>\n",
       "      <th>Train</th>\n",
       "      <th>Test</th>\n",
       "    </tr>\n",
       "  </thead>\n",
       "  <tbody>\n",
       "    <tr>\n",
       "      <th>0</th>\n",
       "      <td>R2</td>\n",
       "      <td>0.35</td>\n",
       "      <td>0.31</td>\n",
       "    </tr>\n",
       "    <tr>\n",
       "      <th>1</th>\n",
       "      <td>MSE</td>\n",
       "      <td>45.18</td>\n",
       "      <td>48.38</td>\n",
       "    </tr>\n",
       "    <tr>\n",
       "      <th>2</th>\n",
       "      <td>RMSE</td>\n",
       "      <td>6.72</td>\n",
       "      <td>6.96</td>\n",
       "    </tr>\n",
       "    <tr>\n",
       "      <th>3</th>\n",
       "      <td>MAE</td>\n",
       "      <td>5.31</td>\n",
       "      <td>5.50</td>\n",
       "    </tr>\n",
       "    <tr>\n",
       "      <th>4</th>\n",
       "      <td>MAPE</td>\n",
       "      <td>9.87</td>\n",
       "      <td>10.37</td>\n",
       "    </tr>\n",
       "  </tbody>\n",
       "</table>\n",
       "</div>"
      ],
      "text/plain": [
       "  metrics  Train   Test\n",
       "0      R2   0.35   0.31\n",
       "1     MSE  45.18  48.38\n",
       "2    RMSE   6.72   6.96\n",
       "3     MAE   5.31   5.50\n",
       "4    MAPE   9.87  10.37"
      ]
     },
     "execution_count": 37,
     "metadata": {},
     "output_type": "execute_result"
    }
   ],
   "source": [
    "metrics_jor.MetricsResults(y_train, y_pred_train,y_test,y_pred_test) # 4 es un error de 1 grado.. 6a-6b"
   ]
  },
  {
   "cell_type": "code",
   "execution_count": 38,
   "id": "quantitative-former",
   "metadata": {},
   "outputs": [],
   "source": [
    "def mean_absolute_percentage_error(y_true, y_pred): \n",
    "    y_true, y_pred = np.array(y_true), np.array(y_pred)\n",
    "    return np.mean(np.abs((y_true - y_pred) / y_true)) * 100"
   ]
  },
  {
   "cell_type": "code",
   "execution_count": 39,
   "id": "capital-merit",
   "metadata": {},
   "outputs": [
    {
     "data": {
      "text/plain": [
       "10.368282793785594"
      ]
     },
     "execution_count": 39,
     "metadata": {},
     "output_type": "execute_result"
    }
   ],
   "source": [
    "mean_absolute_percentage_error(y_test,y_pred_test)"
   ]
  },
  {
   "cell_type": "markdown",
   "id": "structural-delaware",
   "metadata": {},
   "source": [
    "## b. KNN regression"
   ]
  },
  {
   "cell_type": "markdown",
   "id": "fifty-share",
   "metadata": {},
   "source": [
    "<b> Modeling"
   ]
  },
  {
   "cell_type": "code",
   "execution_count": 40,
   "id": "distinguished-shore",
   "metadata": {},
   "outputs": [],
   "source": [
    "knn = KNeighborsRegressor(n_neighbors=20).fit(X_train,y_train)"
   ]
  },
  {
   "cell_type": "markdown",
   "id": "changing-ukraine",
   "metadata": {},
   "source": [
    "<b> Prediction"
   ]
  },
  {
   "cell_type": "code",
   "execution_count": 41,
   "id": "mighty-taxation",
   "metadata": {},
   "outputs": [],
   "source": [
    "y_pred_train = knn.predict(X_train) \n",
    "y_pred_test = knn.predict(X_test) "
   ]
  },
  {
   "cell_type": "code",
   "execution_count": 42,
   "id": "relevant-fairy",
   "metadata": {},
   "outputs": [
    {
     "data": {
      "text/html": [
       "<div>\n",
       "<style scoped>\n",
       "    .dataframe tbody tr th:only-of-type {\n",
       "        vertical-align: middle;\n",
       "    }\n",
       "\n",
       "    .dataframe tbody tr th {\n",
       "        vertical-align: top;\n",
       "    }\n",
       "\n",
       "    .dataframe thead th {\n",
       "        text-align: right;\n",
       "    }\n",
       "</style>\n",
       "<table border=\"1\" class=\"dataframe\">\n",
       "  <thead>\n",
       "    <tr style=\"text-align: right;\">\n",
       "      <th></th>\n",
       "      <th>metrics</th>\n",
       "      <th>Train</th>\n",
       "      <th>Test</th>\n",
       "    </tr>\n",
       "  </thead>\n",
       "  <tbody>\n",
       "    <tr>\n",
       "      <th>0</th>\n",
       "      <td>R2</td>\n",
       "      <td>0.34</td>\n",
       "      <td>0.25</td>\n",
       "    </tr>\n",
       "    <tr>\n",
       "      <th>1</th>\n",
       "      <td>MSE</td>\n",
       "      <td>45.54</td>\n",
       "      <td>52.47</td>\n",
       "    </tr>\n",
       "    <tr>\n",
       "      <th>2</th>\n",
       "      <td>RMSE</td>\n",
       "      <td>6.75</td>\n",
       "      <td>7.24</td>\n",
       "    </tr>\n",
       "    <tr>\n",
       "      <th>3</th>\n",
       "      <td>MAE</td>\n",
       "      <td>5.33</td>\n",
       "      <td>5.71</td>\n",
       "    </tr>\n",
       "    <tr>\n",
       "      <th>4</th>\n",
       "      <td>MAPE</td>\n",
       "      <td>9.96</td>\n",
       "      <td>10.81</td>\n",
       "    </tr>\n",
       "  </tbody>\n",
       "</table>\n",
       "</div>"
      ],
      "text/plain": [
       "  metrics  Train   Test\n",
       "0      R2   0.34   0.25\n",
       "1     MSE  45.54  52.47\n",
       "2    RMSE   6.75   7.24\n",
       "3     MAE   5.33   5.71\n",
       "4    MAPE   9.96  10.81"
      ]
     },
     "execution_count": 42,
     "metadata": {},
     "output_type": "execute_result"
    }
   ],
   "source": [
    "metrics_jor.MetricsResults(y_train, y_pred_train,y_test,y_pred_test)"
   ]
  },
  {
   "cell_type": "markdown",
   "id": "opponent-madonna",
   "metadata": {},
   "source": [
    "## c. Neural Network"
   ]
  },
  {
   "cell_type": "markdown",
   "id": "variable-complex",
   "metadata": {},
   "source": [
    "<b> Modeling"
   ]
  },
  {
   "cell_type": "code",
   "execution_count": 43,
   "id": "smoking-supervisor",
   "metadata": {},
   "outputs": [],
   "source": [
    "mlp = MLPRegressor(max_iter = 1000).fit(X_train,y_train.values.ravel())"
   ]
  },
  {
   "cell_type": "markdown",
   "id": "accomplished-rebel",
   "metadata": {},
   "source": [
    "<b> Prediction"
   ]
  },
  {
   "cell_type": "code",
   "execution_count": 44,
   "id": "outstanding-distinction",
   "metadata": {},
   "outputs": [],
   "source": [
    "y_pred_train = mlp.predict(X_train) \n",
    "y_pred_test = mlp.predict(X_test) "
   ]
  },
  {
   "cell_type": "code",
   "execution_count": 45,
   "id": "accompanied-village",
   "metadata": {
    "scrolled": true
   },
   "outputs": [
    {
     "data": {
      "text/html": [
       "<div>\n",
       "<style scoped>\n",
       "    .dataframe tbody tr th:only-of-type {\n",
       "        vertical-align: middle;\n",
       "    }\n",
       "\n",
       "    .dataframe tbody tr th {\n",
       "        vertical-align: top;\n",
       "    }\n",
       "\n",
       "    .dataframe thead th {\n",
       "        text-align: right;\n",
       "    }\n",
       "</style>\n",
       "<table border=\"1\" class=\"dataframe\">\n",
       "  <thead>\n",
       "    <tr style=\"text-align: right;\">\n",
       "      <th></th>\n",
       "      <th>metrics</th>\n",
       "      <th>Train</th>\n",
       "      <th>Test</th>\n",
       "    </tr>\n",
       "  </thead>\n",
       "  <tbody>\n",
       "    <tr>\n",
       "      <th>0</th>\n",
       "      <td>R2</td>\n",
       "      <td>0.31</td>\n",
       "      <td>0.26</td>\n",
       "    </tr>\n",
       "    <tr>\n",
       "      <th>1</th>\n",
       "      <td>MSE</td>\n",
       "      <td>47.65</td>\n",
       "      <td>51.68</td>\n",
       "    </tr>\n",
       "    <tr>\n",
       "      <th>2</th>\n",
       "      <td>RMSE</td>\n",
       "      <td>6.90</td>\n",
       "      <td>7.19</td>\n",
       "    </tr>\n",
       "    <tr>\n",
       "      <th>3</th>\n",
       "      <td>MAE</td>\n",
       "      <td>5.45</td>\n",
       "      <td>5.68</td>\n",
       "    </tr>\n",
       "    <tr>\n",
       "      <th>4</th>\n",
       "      <td>MAPE</td>\n",
       "      <td>14.08</td>\n",
       "      <td>14.30</td>\n",
       "    </tr>\n",
       "  </tbody>\n",
       "</table>\n",
       "</div>"
      ],
      "text/plain": [
       "  metrics  Train   Test\n",
       "0      R2   0.31   0.26\n",
       "1     MSE  47.65  51.68\n",
       "2    RMSE   6.90   7.19\n",
       "3     MAE   5.45   5.68\n",
       "4    MAPE  14.08  14.30"
      ]
     },
     "execution_count": 45,
     "metadata": {},
     "output_type": "execute_result"
    }
   ],
   "source": [
    "metrics_jor.MetricsResults(y_train, y_pred_train,y_test,y_pred_test)"
   ]
  },
  {
   "cell_type": "code",
   "execution_count": 46,
   "id": "intimate-secondary",
   "metadata": {},
   "outputs": [
    {
     "data": {
      "image/png": "[encoded data removed]",
      "text/plain": [
       "<Figure size 1080x648 with 4 Axes>"
      ]
     },
     "metadata": {},
     "output_type": "display_data"
    }
   ],
   "source": [
    "plot_jordi.results_drawer(y_pred_train,y_train,y_pred_test,y_test)"
   ]
  },
  {
   "cell_type": "markdown",
   "id": "electoral-russian",
   "metadata": {},
   "source": [
    "## Conclusion"
   ]
  },
  {
   "cell_type": "markdown",
   "id": "royal-irish",
   "metadata": {},
   "source": [
    "As we can see the results of the models are not as good as expected. We can certainly say that we need more features in order to be able to build a model more accurate."
   ]
  },
  {
   "cell_type": "markdown",
   "id": "altered-performance",
   "metadata": {},
   "source": [
    "## - Save model -"
   ]
  },
  {
   "cell_type": "code",
   "execution_count": 47,
   "id": "equipped-agenda",
   "metadata": {},
   "outputs": [],
   "source": [
    "# save the models to disk\n",
    "filename = '../model/finalized_model.sav'\n",
    "pickle.dump(reg, open(filename, 'wb'))"
   ]
  }
 ],
 "metadata": {
  "kernelspec": {
   "display_name": "Python 3 (ipykernel)",
   "language": "python",
   "name": "python3"
  },
  "language_info": {
   "codemirror_mode": {
    "name": "ipython",
    "version": 3
   },
   "file_extension": ".py",
   "mimetype": "text/x-python",
   "name": "python",
   "nbconvert_exporter": "python",
   "pygments_lexer": "ipython3",
   "version": "3.9.5"
  }
 },
 "nbformat": 4,
 "nbformat_minor": 5
}
