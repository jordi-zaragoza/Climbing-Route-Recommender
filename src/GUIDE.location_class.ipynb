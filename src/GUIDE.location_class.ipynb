{
 "cells": [
  {
   "cell_type": "code",
   "execution_count": 1,
   "id": "limiting-compilation",
   "metadata": {},
   "outputs": [],
   "source": [
    "import pandas as pd"
   ]
  },
  {
   "cell_type": "markdown",
   "id": "referenced-leone",
   "metadata": {},
   "source": [
    "## Create the Location class"
   ]
  },
  {
   "cell_type": "markdown",
   "id": "perceived-zimbabwe",
   "metadata": {},
   "source": [
    "We want to be able to display the location tree: country > crag > sector"
   ]
  },
  {
   "cell_type": "code",
   "execution_count": 2,
   "id": "governmental-remark",
   "metadata": {},
   "outputs": [],
   "source": [
    "routes = pd.read_csv('../data/routes_rated.csv',low_memory=False, index_col=0)"
   ]
  },
  {
   "cell_type": "code",
   "execution_count": 3,
   "id": "satisfied-shareware",
   "metadata": {},
   "outputs": [
    {
     "data": {
      "text/html": [
       "<div>\n",
       "<style scoped>\n",
       "    .dataframe tbody tr th:only-of-type {\n",
       "        vertical-align: middle;\n",
       "    }\n",
       "\n",
       "    .dataframe tbody tr th {\n",
       "        vertical-align: top;\n",
       "    }\n",
       "\n",
       "    .dataframe thead th {\n",
       "        text-align: right;\n",
       "    }\n",
       "</style>\n",
       "<table border=\"1\" class=\"dataframe\">\n",
       "  <thead>\n",
       "    <tr style=\"text-align: right;\">\n",
       "      <th></th>\n",
       "      <th>country</th>\n",
       "      <th>crag</th>\n",
       "      <th>sector</th>\n",
       "    </tr>\n",
       "  </thead>\n",
       "  <tbody>\n",
       "    <tr>\n",
       "      <th>0</th>\n",
       "      <td>arg</td>\n",
       "      <td>el trebol</td>\n",
       "      <td>pared blanca</td>\n",
       "    </tr>\n",
       "    <tr>\n",
       "      <th>1</th>\n",
       "      <td>arg</td>\n",
       "      <td>el trebol</td>\n",
       "      <td>pared blanca</td>\n",
       "    </tr>\n",
       "    <tr>\n",
       "      <th>2</th>\n",
       "      <td>arg</td>\n",
       "      <td>el trebol</td>\n",
       "      <td>pared blanca</td>\n",
       "    </tr>\n",
       "  </tbody>\n",
       "</table>\n",
       "</div>"
      ],
      "text/plain": [
       "  country       crag        sector\n",
       "0     arg  el trebol  pared blanca\n",
       "1     arg  el trebol  pared blanca\n",
       "2     arg  el trebol  pared blanca"
      ]
     },
     "execution_count": 3,
     "metadata": {},
     "output_type": "execute_result"
    }
   ],
   "source": [
    "routes[['country','crag','sector']].head(3)"
   ]
  },
  {
   "cell_type": "code",
   "execution_count": 4,
   "id": "talented-direction",
   "metadata": {},
   "outputs": [],
   "source": [
    "def all_countries(routes):\n",
    "    '''\n",
    "    It returns a list of countries\n",
    "    '''\n",
    "    return routes.country.unique()"
   ]
  },
  {
   "cell_type": "code",
   "execution_count": 5,
   "id": "numeric-young",
   "metadata": {},
   "outputs": [],
   "source": [
    "def crags_in_country(routes,country):\n",
    "    '''\n",
    "    It returns the crags list inside a country\n",
    "    '''\n",
    "    df = routes[routes.country == country]\n",
    "    return df.crag.unique()"
   ]
  },
  {
   "cell_type": "code",
   "execution_count": 6,
   "id": "broadband-rwanda",
   "metadata": {},
   "outputs": [],
   "source": [
    "def sectors_in_crag(routes,crag):\n",
    "    '''\n",
    "    It returns the crags list inside a country\n",
    "    '''\n",
    "    df = routes[routes.crag == crag]\n",
    "    if (len(df.country.unique()) > 1):\n",
    "        print(\"same crag: \", crag,\"in different countries: \",df.country.unique)\n",
    "    return df.sector.unique()"
   ]
  },
  {
   "cell_type": "code",
   "execution_count": 7,
   "id": "light-affiliation",
   "metadata": {},
   "outputs": [
    {
     "data": {
      "text/plain": [
       "42"
      ]
     },
     "execution_count": 7,
     "metadata": {},
     "output_type": "execute_result"
    }
   ],
   "source": [
    "len(all_countries(routes))"
   ]
  },
  {
   "cell_type": "code",
   "execution_count": 8,
   "id": "successful-operator",
   "metadata": {
    "scrolled": true
   },
   "outputs": [
    {
     "data": {
      "text/plain": [
       "array(['mallorca', 'apellaniz', 'oñate', 'montsant', 'sella', 'atauri',\n",
       "       'montgrony', 'patones', 'gandía', 'salinas', 'riglos', 'forada',\n",
       "       'la pedriza', 'sadernes', 'la riba', 'teverga', 'ramales',\n",
       "       'araotz', 'terradets', 'quirós', 'morata de jalón', 'el vellon',\n",
       "       'el vellón', 'pelugano', 'valdehuesa', 'montserrat', 'vadiello',\n",
       "       'montanejos', 'camarasa', 'valeria', 'valdegobia', 'la mussara',\n",
       "       'espiel', 'cavallers', 'alquezar', 'montesa', 'chulilla',\n",
       "       'archidona', 'gelida', 'grazalema', 'margalef', 'bellús', 'bielsa',\n",
       "       'mont-ral', 'calders', 'siurana', 'el chorro', 'cuenca',\n",
       "       'rodellar', 'etxauri', 'baltzola', 'tartareu', 'berga',\n",
       "       'banyadores', 'perles', 'orihuela', 'arico', 'somaén', 'mula',\n",
       "       'santa linya', 'moya', 'tres ponts', 'entrepeñas',\n",
       "       'desplomilandia', 'moia', \"['moia' 'moià']\", 'moià', 'ayna',\n",
       "       'cacín', 'cacin', '[\"[\\'cacin\\' \\'cacín\\']\" \\'cacín\\']',\n",
       "       \"['cacin' 'cacín']\", 'san fausto', 'san bartolo', 'la fuixarda',\n",
       "       'garraf', 'los vados', 'coll de nargó', 'os de balaguer', 'fataga',\n",
       "       'sorrueda', 'el rio', 'alfacar', 'cogollos', 'santa ana',\n",
       "       'subirats', 'collsuspina', 'crevillent', 'cahorros',\n",
       "       'vilanova de meia', 'rapun', 'reguchillo', 'mijas', 'alcalali',\n",
       "       'collegats', 'masriudoms', 'san martín de valdeiglesias',\n",
       "       \"['san martin de valdeiglesias' 'san martín de valdeiglesias']\",\n",
       "       'gombren', 'gratal', 'otiñar', 'urduliz', 'echo valley', 'àger',\n",
       "       'castillo de bayuela', 'fin del mundo', 'galdames', 'corbera',\n",
       "       'los meses', 'manzaneda', 'ogassa', \"l'ocaive\", 'otura',\n",
       "       'la cabrera', 'ricote', 'lliber', 'poo de cabrales', 'tenerife',\n",
       "       'eulate', 'roc de la lluna', 'benaocaz', 'sant llorenç del munt',\n",
       "       'sant llorenç de montgai', 'oliana', 'grau dels matxos',\n",
       "       'malanyeu', 'loja', 'cubells', 'culla', 'poloria', 'la muela',\n",
       "       'vallada', 'la pauta', 'benabarre', 'la hermida', 'cañete la real',\n",
       "       'solana', 'valdesangil', 'rb', 'viana de jadraque',\n",
       "       'cabezon de oro', 'cañón de uceda', 'cañon de uceda',\n",
       "       \"['cañon de uceda' 'cañón de uceda']\", 'ontinyent', 'peñahorada',\n",
       "       'los pinos', 'patones pueblo', 'cadalso', 'puerto rico',\n",
       "       'piedrasecha', 'peñarrubia', 'peñalara', 'puig de garrafa',\n",
       "       'sa gubia', 'salvatierra de esca', 'bellavista',\n",
       "       'villanueva del rosario', 'arboli', 'villanueva de cauche',\n",
       "       'foz de zafrané', 'foz de zafrane',\n",
       "       \"['foz de zafrane' 'foz de zafrané']\", 'villanueva de la tercia',\n",
       "       'moclin', 'moclín', \"['moclin' 'moclín']\", 'santamera', 'lagos',\n",
       "       'torreblanca', 'gestalgar', 'pinet', 'cuevas', 'capçanes',\n",
       "       'figols', \"['figols' 'fígols']\", 'fígols', 'alange', 'redován',\n",
       "       'redovan', \"['redovan' 'redován']\", 'cocentaina', 'montblanc',\n",
       "       'borriol', 'piñar', 'cala magraner', 'olba', 'molinicos',\n",
       "       \"s'estret\", 'busot', 'tijuana', 'calcena', 'cueva del arenal',\n",
       "       'aixorta'], dtype=object)"
      ]
     },
     "execution_count": 8,
     "metadata": {},
     "output_type": "execute_result"
    }
   ],
   "source": [
    "crags_in_country(routes, 'esp')"
   ]
  },
  {
   "cell_type": "code",
   "execution_count": 9,
   "id": "necessary-spanking",
   "metadata": {},
   "outputs": [
    {
     "data": {
      "text/plain": [
       "array(['el vermell', 'can jorba', 'prohibitivo', 'agulla del senglar',\n",
       "       \"cova de l'arcada\", 'clot del boixar', 'secretivo marcelino',\n",
       "       'la piula', 'collbató', 'vermell del xincarró',\n",
       "       'vermell del xincarro',\n",
       "       \"['vermell del xincarro' 'vermell del xincarró']\", 'colònia puig',\n",
       "       '[\"[\\'colonia puig\\' \\'colònia puig\\']\" \\'colonia puig\\']',\n",
       "       'colonia puig', 'el faraó de baix', 'odio africano', 'el casot',\n",
       "       'totxo de ponent', 'can dubtes', 'bombo infierno', 'la calavera',\n",
       "       'el manantial', 'placa de la pluja', 'les guilleumes',\n",
       "       \"cova de l'os\", '[\"cova de l\\'os\" \"cova de l\\'ós\"]',\n",
       "       \"cova de l'ós\"], dtype=object)"
      ]
     },
     "execution_count": 9,
     "metadata": {},
     "output_type": "execute_result"
    }
   ],
   "source": [
    "sectors_in_crag(routes,'montserrat')"
   ]
  },
  {
   "cell_type": "markdown",
   "id": "chicken-festival",
   "metadata": {},
   "source": [
    "### Now with the new class"
   ]
  },
  {
   "cell_type": "code",
   "execution_count": 10,
   "id": "vertical-master",
   "metadata": {},
   "outputs": [],
   "source": [
    "from location_class import location"
   ]
  },
  {
   "cell_type": "code",
   "execution_count": 11,
   "id": "exotic-civilian",
   "metadata": {},
   "outputs": [
    {
     "name": "stdout",
     "output_type": "stream",
     "text": [
      "Location class initialized\n"
     ]
    }
   ],
   "source": [
    "lc = location(routes)"
   ]
  },
  {
   "cell_type": "code",
   "execution_count": 12,
   "id": "weighted-nomination",
   "metadata": {},
   "outputs": [
    {
     "data": {
      "text/plain": [
       "array(['arg', 'aus', 'aut', 'bel', 'bgr', 'bra', 'can', 'che', 'chn',\n",
       "       'deu', 'esp', 'fin', 'fra', 'gbr', 'grc', 'hrv', 'hun', 'irn',\n",
       "       'isl', 'isr', 'ita', 'lao', 'lux', 'mar', 'mex', 'mkd', 'nor',\n",
       "       'nzl', 'pol', 'prt', 'rom', 'rus', 'srb', 'svk', 'svn', 'swe',\n",
       "       'tha', 'tur', 'ukr', 'usa', 'ven', 'zaf'], dtype=object)"
      ]
     },
     "execution_count": 12,
     "metadata": {},
     "output_type": "execute_result"
    }
   ],
   "source": [
    "countries = lc.all_countries()\n",
    "countries"
   ]
  },
  {
   "cell_type": "code",
   "execution_count": 13,
   "id": "statutory-welding",
   "metadata": {},
   "outputs": [
    {
     "data": {
      "text/plain": [
       "array(['grampians', 'blue mountains', 'nowra', 'mt tibrogargan',\n",
       "       'brooyar'], dtype=object)"
      ]
     },
     "execution_count": 13,
     "metadata": {},
     "output_type": "execute_result"
    }
   ],
   "source": [
    "crags = lc.crags_in_country(countries[1])\n",
    "crags"
   ]
  },
  {
   "cell_type": "code",
   "execution_count": 15,
   "id": "settled-sphere",
   "metadata": {},
   "outputs": [
    {
     "data": {
      "text/plain": [
       "array(['thompsons point', 'south central', 'rosies', 'the grotto', 'pc',\n",
       "       'cheesedale'], dtype=object)"
      ]
     },
     "execution_count": 15,
     "metadata": {},
     "output_type": "execute_result"
    }
   ],
   "source": [
    "sectors = lc.sectors_in_crag(crags[2])\n",
    "sectors"
   ]
  }
 ],
 "metadata": {
  "kernelspec": {
   "display_name": "Python 3 (ipykernel)",
   "language": "python",
   "name": "python3"
  },
  "language_info": {
   "codemirror_mode": {
    "name": "ipython",
    "version": 3
   },
   "file_extension": ".py",
   "mimetype": "text/x-python",
   "name": "python",
   "nbconvert_exporter": "python",
   "pygments_lexer": "ipython3",
   "version": "3.9.5"
  }
 },
 "nbformat": 4,
 "nbformat_minor": 5
}
