{
 "cells": [
  {
   "cell_type": "code",
   "execution_count": 1,
   "id": "76072b57",
   "metadata": {},
   "outputs": [],
   "source": [
    "import pandas as pd\n",
    "import numpy as np\n",
    "import climb_jor\n",
    "import climber_class"
   ]
  },
  {
   "cell_type": "markdown",
   "id": "internal-blackberry",
   "metadata": {},
   "source": [
    "# Route recommender"
   ]
  },
  {
   "cell_type": "markdown",
   "id": "essential-integer",
   "metadata": {},
   "source": [
    "In this notebook will perform the route recommending based on the user features"
   ]
  },
  {
   "cell_type": "markdown",
   "id": "ba6f47c9",
   "metadata": {},
   "source": [
    "### Create the user from climber class"
   ]
  },
  {
   "cell_type": "code",
   "execution_count": 2,
   "id": "52da7585",
   "metadata": {},
   "outputs": [
    {
     "name": "stdout",
     "output_type": "stream",
     "text": [
      "Climber class initialized\n",
      "Climber class initialized\n"
     ]
    },
    {
     "data": {
      "text/html": [
       "<div>\n",
       "<style scoped>\n",
       "    .dataframe tbody tr th:only-of-type {\n",
       "        vertical-align: middle;\n",
       "    }\n",
       "\n",
       "    .dataframe tbody tr th {\n",
       "        vertical-align: top;\n",
       "    }\n",
       "\n",
       "    .dataframe thead th {\n",
       "        text-align: right;\n",
       "    }\n",
       "</style>\n",
       "<table border=\"1\" class=\"dataframe\">\n",
       "  <thead>\n",
       "    <tr style=\"text-align: right;\">\n",
       "      <th></th>\n",
       "      <th>climber_id</th>\n",
       "      <th>name</th>\n",
       "      <th>grade</th>\n",
       "      <th>grade_range</th>\n",
       "      <th>country</th>\n",
       "      <th>crag</th>\n",
       "      <th>sector</th>\n",
       "      <th>height</th>\n",
       "      <th>sex</th>\n",
       "    </tr>\n",
       "  </thead>\n",
       "  <tbody>\n",
       "    <tr>\n",
       "      <th>0</th>\n",
       "      <td>1</td>\n",
       "      <td>climber1</td>\n",
       "      <td>54</td>\n",
       "      <td>2</td>\n",
       "      <td>esp</td>\n",
       "      <td>montserrat</td>\n",
       "      <td>agulla del senglar</td>\n",
       "      <td>170</td>\n",
       "      <td>0</td>\n",
       "    </tr>\n",
       "  </tbody>\n",
       "</table>\n",
       "</div>"
      ],
      "text/plain": [
       "   climber_id      name  grade  grade_range country        crag  \\\n",
       "0           1  climber1     54            2     esp  montserrat   \n",
       "\n",
       "               sector  height  sex  \n",
       "0  agulla del senglar     170    0  "
      ]
     },
     "metadata": {},
     "output_type": "display_data"
    }
   ],
   "source": [
    "climber_1 = climber_class.climber()\n",
    "climber_2 = climber_class.climber()\n",
    "climber_2.set_attributes(cluster=[-3,4,11,-1,30,-29,3,2,8])\n",
    "display(climber_2.get_data())"
   ]
  },
  {
   "cell_type": "markdown",
   "id": "93594679",
   "metadata": {},
   "source": [
    "### Retrieve routes table"
   ]
  },
  {
   "cell_type": "code",
   "execution_count": 3,
   "id": "b50050a9",
   "metadata": {},
   "outputs": [
    {
     "data": {
      "text/html": [
       "<div>\n",
       "<style scoped>\n",
       "    .dataframe tbody tr th:only-of-type {\n",
       "        vertical-align: middle;\n",
       "    }\n",
       "\n",
       "    .dataframe tbody tr th {\n",
       "        vertical-align: top;\n",
       "    }\n",
       "\n",
       "    .dataframe thead th {\n",
       "        text-align: right;\n",
       "    }\n",
       "</style>\n",
       "<table border=\"1\" class=\"dataframe\">\n",
       "  <thead>\n",
       "    <tr style=\"text-align: right;\">\n",
       "      <th></th>\n",
       "      <th>name_id</th>\n",
       "      <th>country</th>\n",
       "      <th>crag</th>\n",
       "      <th>sector</th>\n",
       "      <th>name</th>\n",
       "      <th>tall_recommend_sum</th>\n",
       "      <th>grade_mean</th>\n",
       "      <th>cluster</th>\n",
       "      <th>rating_tot</th>\n",
       "    </tr>\n",
       "  </thead>\n",
       "  <tbody>\n",
       "    <tr>\n",
       "      <th>0</th>\n",
       "      <td>0</td>\n",
       "      <td>and</td>\n",
       "      <td>montserrat</td>\n",
       "      <td>prohibitivo</td>\n",
       "      <td>el mehir</td>\n",
       "      <td>-1</td>\n",
       "      <td>49.0</td>\n",
       "      <td>0</td>\n",
       "      <td>-0.026141</td>\n",
       "    </tr>\n",
       "    <tr>\n",
       "      <th>1</th>\n",
       "      <td>1</td>\n",
       "      <td>and</td>\n",
       "      <td>montserrat</td>\n",
       "      <td>prohibitivo</td>\n",
       "      <td>el pas de la discordia</td>\n",
       "      <td>0</td>\n",
       "      <td>49.0</td>\n",
       "      <td>0</td>\n",
       "      <td>-0.085161</td>\n",
       "    </tr>\n",
       "  </tbody>\n",
       "</table>\n",
       "</div>"
      ],
      "text/plain": [
       "   name_id country        crag       sector                    name  \\\n",
       "0        0     and  montserrat  prohibitivo                el mehir   \n",
       "1        1     and  montserrat  prohibitivo  el pas de la discordia   \n",
       "\n",
       "   tall_recommend_sum  grade_mean  cluster  rating_tot  \n",
       "0                  -1        49.0        0   -0.026141  \n",
       "1                   0        49.0        0   -0.085161  "
      ]
     },
     "execution_count": 3,
     "metadata": {},
     "output_type": "execute_result"
    }
   ],
   "source": [
    "routes = pd.read_csv('../data/routes_rated.csv',low_memory=False, index_col=0)\n",
    "routes.head(2)"
   ]
  },
  {
   "cell_type": "markdown",
   "id": "5289a619",
   "metadata": {},
   "source": [
    "### Cleaning the table"
   ]
  },
  {
   "cell_type": "markdown",
   "id": "f3108b8c",
   "metadata": {},
   "source": [
    "Objective\n",
    "- We will recommend 3 routes per each zone (country, crag, sector)\n",
    "\n",
    "The logical tree will be\n",
    "- Make 3 different filters for: sector, crag, country\n",
    "- Filter tall recommended (if height<-1 and tall or if height>1 and small) tall is mean+5 (>180), short is mean-5 (<170)\n",
    "- Filter by grade range, default +-2 (e.g. for a 7b grade => range[7a+,7b+]), if not routes ask to make the range bigger\n",
    "- Order by overall rating\n",
    "- Filter preferred clusters (If not then show other results)\n",
    "- Sex just adds an informative value"
   ]
  },
  {
   "cell_type": "markdown",
   "id": "99897500",
   "metadata": {},
   "source": [
    "#### a) make zone tables"
   ]
  },
  {
   "cell_type": "code",
   "execution_count": 4,
   "id": "365d4115",
   "metadata": {},
   "outputs": [
    {
     "data": {
      "text/html": [
       "<div>\n",
       "<style scoped>\n",
       "    .dataframe tbody tr th:only-of-type {\n",
       "        vertical-align: middle;\n",
       "    }\n",
       "\n",
       "    .dataframe tbody tr th {\n",
       "        vertical-align: top;\n",
       "    }\n",
       "\n",
       "    .dataframe thead th {\n",
       "        text-align: right;\n",
       "    }\n",
       "</style>\n",
       "<table border=\"1\" class=\"dataframe\">\n",
       "  <thead>\n",
       "    <tr style=\"text-align: right;\">\n",
       "      <th></th>\n",
       "      <th>climber_id</th>\n",
       "      <th>name</th>\n",
       "      <th>grade</th>\n",
       "      <th>grade_range</th>\n",
       "      <th>country</th>\n",
       "      <th>crag</th>\n",
       "      <th>sector</th>\n",
       "      <th>height</th>\n",
       "      <th>sex</th>\n",
       "    </tr>\n",
       "  </thead>\n",
       "  <tbody>\n",
       "    <tr>\n",
       "      <th>0</th>\n",
       "      <td>1</td>\n",
       "      <td>climber1</td>\n",
       "      <td>54</td>\n",
       "      <td>2</td>\n",
       "      <td>esp</td>\n",
       "      <td>montserrat</td>\n",
       "      <td>agulla del senglar</td>\n",
       "      <td>170</td>\n",
       "      <td>0</td>\n",
       "    </tr>\n",
       "  </tbody>\n",
       "</table>\n",
       "</div>"
      ],
      "text/plain": [
       "   climber_id      name  grade  grade_range country        crag  \\\n",
       "0           1  climber1     54            2     esp  montserrat   \n",
       "\n",
       "               sector  height  sex  \n",
       "0  agulla del senglar     170    0  "
      ]
     },
     "execution_count": 4,
     "metadata": {},
     "output_type": "execute_result"
    }
   ],
   "source": [
    "climber_2.get_data()"
   ]
  },
  {
   "cell_type": "code",
   "execution_count": 5,
   "id": "a31d9c89",
   "metadata": {},
   "outputs": [
    {
     "name": "stdout",
     "output_type": "stream",
     "text": [
      "Country routes:  15010\n",
      "Crag routes:  814\n",
      "Sector routes:  17\n"
     ]
    }
   ],
   "source": [
    "routes_country = routes[routes.country == climber_2.get_data().country[0]]\n",
    "routes_crag = routes[routes.crag == climber_2.get_data().crag[0]]\n",
    "routes_sector = routes[routes.sector == climber_2.get_data().sector[0]]\n",
    "print(\"Country routes: \", routes_country.shape[0])\n",
    "print(\"Crag routes: \", routes_crag.shape[0])\n",
    "print(\"Sector routes: \", routes_sector.shape[0])"
   ]
  },
  {
   "cell_type": "markdown",
   "id": "fb74fbb6",
   "metadata": {},
   "source": [
    "#### b) Filter tall recommend"
   ]
  },
  {
   "cell_type": "code",
   "execution_count": 6,
   "id": "2cd197e0",
   "metadata": {
    "scrolled": true
   },
   "outputs": [],
   "source": [
    "climber_1.set_attributes(height=165)\n",
    "climber_2.set_attributes(height=185)"
   ]
  },
  {
   "cell_type": "markdown",
   "id": "3d1c00f6",
   "metadata": {},
   "source": [
    "Test with short"
   ]
  },
  {
   "cell_type": "code",
   "execution_count": 7,
   "id": "d0359f86",
   "metadata": {},
   "outputs": [
    {
     "name": "stdout",
     "output_type": "stream",
     "text": [
      "df routes:  12289\n",
      "df routes:  663\n",
      "df routes:  16\n"
     ]
    }
   ],
   "source": [
    "routes_country_tall = climb_jor.filter_tall(routes_df = routes_country, climber_usr = climber_1, show = True)\n",
    "routes_crag_tall = climb_jor.filter_tall(routes_df = routes_crag, climber_usr = climber_1, show = True)\n",
    "routes_sector_tall = climb_jor.filter_tall(routes_df = routes_sector, climber_usr = climber_1, show = True)"
   ]
  },
  {
   "cell_type": "markdown",
   "id": "fdc4d07f",
   "metadata": {},
   "source": [
    "Test with tall"
   ]
  },
  {
   "cell_type": "code",
   "execution_count": 8,
   "id": "49e2400b",
   "metadata": {},
   "outputs": [
    {
     "name": "stdout",
     "output_type": "stream",
     "text": [
      "df routes:  12564\n",
      "df routes:  714\n",
      "df routes:  14\n"
     ]
    }
   ],
   "source": [
    "routes_country_tall = climb_jor.filter_tall(routes_df = routes_country, climber_usr = climber_2, show = True)\n",
    "routes_crag_tall = climb_jor.filter_tall(routes_df = routes_crag, climber_usr = climber_2, show = True)\n",
    "routes_sector_tall = climb_jor.filter_tall(routes_df = routes_sector, climber_usr = climber_2, show = True)"
   ]
  },
  {
   "cell_type": "markdown",
   "id": "5bf999c8",
   "metadata": {},
   "source": [
    "#### c) Filter grade range"
   ]
  },
  {
   "cell_type": "code",
   "execution_count": 9,
   "id": "69c55e05",
   "metadata": {},
   "outputs": [
    {
     "name": "stdout",
     "output_type": "stream",
     "text": [
      "df routes:  1722\n",
      "df routes:  116\n",
      "df routes:  1\n"
     ]
    }
   ],
   "source": [
    "routes_country_grade = climb_jor.filter_grade(routes_df = routes_country_tall, climber_usr = climber_2, show = True)\n",
    "routes_crag_grade = climb_jor.filter_grade(routes_df = routes_crag_tall, climber_usr = climber_2, show = True)\n",
    "routes_sector_grade = climb_jor.filter_grade(routes_df = routes_sector_tall, climber_usr = climber_2, show = True)"
   ]
  },
  {
   "cell_type": "markdown",
   "id": "63913ee8",
   "metadata": {},
   "source": [
    "#### d) Order by overall rating"
   ]
  },
  {
   "cell_type": "code",
   "execution_count": 10,
   "id": "37faaccf",
   "metadata": {},
   "outputs": [],
   "source": [
    "routes_country_rating = routes_country_grade.sort_values(by = 'rating_tot',ascending = False)\n",
    "routes_crag_rating = routes_crag_grade.sort_values(by = 'rating_tot',ascending = False)\n",
    "routes_sector_rating = routes_sector_grade.sort_values(by = 'rating_tot',ascending = False)"
   ]
  },
  {
   "cell_type": "markdown",
   "id": "42936d32",
   "metadata": {},
   "source": [
    "#### d) Filter clustering"
   ]
  },
  {
   "cell_type": "code",
   "execution_count": 11,
   "id": "027c91c6",
   "metadata": {},
   "outputs": [
    {
     "name": "stdout",
     "output_type": "stream",
     "text": [
      "df routes:  1722\n",
      "df routes:  116\n",
      "df routes:  1\n"
     ]
    }
   ],
   "source": [
    "routes_country_grade = climb_jor.filter_cluster(routes_df = routes_country_rating, climber_usr = climber_2, show = True)\n",
    "routes_crag_grade = climb_jor.filter_cluster(routes_df = routes_crag_rating, climber_usr = climber_2, show = True)\n",
    "routes_sector_grade = climb_jor.filter_cluster(routes_df = routes_sector_rating, climber_usr = climber_2, show = True)"
   ]
  },
  {
   "cell_type": "code",
   "execution_count": 12,
   "id": "cff9d820",
   "metadata": {},
   "outputs": [
    {
     "data": {
      "text/plain": [
       "[4, 2, 8, 1, 6, 7, 3, 0, 5]"
      ]
     },
     "execution_count": 12,
     "metadata": {},
     "output_type": "execute_result"
    }
   ],
   "source": [
    "climber_2.get_cluster_order()"
   ]
  },
  {
   "cell_type": "markdown",
   "id": "6c32b9cc",
   "metadata": {},
   "source": [
    "#### e) Filter sex plus"
   ]
  },
  {
   "cell_type": "code",
   "execution_count": 13,
   "id": "902e970f",
   "metadata": {},
   "outputs": [],
   "source": [
    "# routes.sex_ratio.mean()"
   ]
  },
  {
   "cell_type": "code",
   "execution_count": 14,
   "id": "8170fbb1",
   "metadata": {},
   "outputs": [],
   "source": [
    "# routes_country_sex = climb_jor.sex_plus(routes_df = routes_country_grade, climber_usr = climber_2, show = True, threshold= routes.sex_ratio.mean())\n",
    "# routes_crag_sex = climb_jor.sex_plus(routes_df = routes_crag_grade, climber_usr = climber_2, show = True, threshold= routes.sex_ratio.mean())\n",
    "# routes_sector_sex = climb_jor.sex_plus(routes_df = routes_sector_grade, climber_usr = climber_2, show = True, threshold= routes.sex_ratio.mean())"
   ]
  },
  {
   "cell_type": "markdown",
   "id": "0e21146b",
   "metadata": {},
   "source": [
    "#### f) 3 per zone"
   ]
  },
  {
   "cell_type": "code",
   "execution_count": 15,
   "id": "41ab4c44",
   "metadata": {},
   "outputs": [
    {
     "data": {
      "text/html": [
       "<div>\n",
       "<style scoped>\n",
       "    .dataframe tbody tr th:only-of-type {\n",
       "        vertical-align: middle;\n",
       "    }\n",
       "\n",
       "    .dataframe tbody tr th {\n",
       "        vertical-align: top;\n",
       "    }\n",
       "\n",
       "    .dataframe thead th {\n",
       "        text-align: right;\n",
       "    }\n",
       "</style>\n",
       "<table border=\"1\" class=\"dataframe\">\n",
       "  <thead>\n",
       "    <tr style=\"text-align: right;\">\n",
       "      <th></th>\n",
       "      <th>name_id</th>\n",
       "      <th>country</th>\n",
       "      <th>crag</th>\n",
       "      <th>sector</th>\n",
       "      <th>name</th>\n",
       "      <th>grade_mean</th>\n",
       "      <th>cluster</th>\n",
       "      <th>rating_tot</th>\n",
       "      <th>height_plus</th>\n",
       "    </tr>\n",
       "  </thead>\n",
       "  <tbody>\n",
       "    <tr>\n",
       "      <th>16247</th>\n",
       "      <td>16247</td>\n",
       "      <td>esp</td>\n",
       "      <td>ibiza</td>\n",
       "      <td>punta aubarca</td>\n",
       "      <td>dreams will be destroyed</td>\n",
       "      <td>55.666667</td>\n",
       "      <td>4</td>\n",
       "      <td>4.431579</td>\n",
       "      <td>0</td>\n",
       "    </tr>\n",
       "    <tr>\n",
       "      <th>21338</th>\n",
       "      <td>21338</td>\n",
       "      <td>esp</td>\n",
       "      <td>reguchillo</td>\n",
       "      <td>belit</td>\n",
       "      <td>sucinas line</td>\n",
       "      <td>53.777778</td>\n",
       "      <td>4</td>\n",
       "      <td>2.025564</td>\n",
       "      <td>0</td>\n",
       "    </tr>\n",
       "    <tr>\n",
       "      <th>10674</th>\n",
       "      <td>10674</td>\n",
       "      <td>esp</td>\n",
       "      <td>archidona</td>\n",
       "      <td>la cueva</td>\n",
       "      <td>danza agresiva</td>\n",
       "      <td>52.500000</td>\n",
       "      <td>4</td>\n",
       "      <td>0.984974</td>\n",
       "      <td>0</td>\n",
       "    </tr>\n",
       "  </tbody>\n",
       "</table>\n",
       "</div>"
      ],
      "text/plain": [
       "       name_id country        crag         sector                      name  \\\n",
       "16247    16247     esp       ibiza  punta aubarca  dreams will be destroyed   \n",
       "21338    21338     esp  reguchillo          belit              sucinas line   \n",
       "10674    10674     esp   archidona       la cueva            danza agresiva   \n",
       "\n",
       "       grade_mean  cluster  rating_tot  height_plus  \n",
       "16247   55.666667        4    4.431579            0  \n",
       "21338   53.777778        4    2.025564            0  \n",
       "10674   52.500000        4    0.984974            0  "
      ]
     },
     "metadata": {},
     "output_type": "display_data"
    },
    {
     "data": {
      "text/html": [
       "<div>\n",
       "<style scoped>\n",
       "    .dataframe tbody tr th:only-of-type {\n",
       "        vertical-align: middle;\n",
       "    }\n",
       "\n",
       "    .dataframe tbody tr th {\n",
       "        vertical-align: top;\n",
       "    }\n",
       "\n",
       "    .dataframe thead th {\n",
       "        text-align: right;\n",
       "    }\n",
       "</style>\n",
       "<table border=\"1\" class=\"dataframe\">\n",
       "  <thead>\n",
       "    <tr style=\"text-align: right;\">\n",
       "      <th></th>\n",
       "      <th>name_id</th>\n",
       "      <th>country</th>\n",
       "      <th>crag</th>\n",
       "      <th>sector</th>\n",
       "      <th>name</th>\n",
       "      <th>grade_mean</th>\n",
       "      <th>cluster</th>\n",
       "      <th>rating_tot</th>\n",
       "      <th>height_plus</th>\n",
       "    </tr>\n",
       "  </thead>\n",
       "  <tbody>\n",
       "    <tr>\n",
       "      <th>19554</th>\n",
       "      <td>19554</td>\n",
       "      <td>esp</td>\n",
       "      <td>montserrat</td>\n",
       "      <td>la calavera</td>\n",
       "      <td>batura</td>\n",
       "      <td>54.500000</td>\n",
       "      <td>4</td>\n",
       "      <td>0.154580</td>\n",
       "      <td>0</td>\n",
       "    </tr>\n",
       "    <tr>\n",
       "      <th>19202</th>\n",
       "      <td>19202</td>\n",
       "      <td>esp</td>\n",
       "      <td>montserrat</td>\n",
       "      <td>cova de larcada</td>\n",
       "      <td>a mar oberta</td>\n",
       "      <td>54.666667</td>\n",
       "      <td>4</td>\n",
       "      <td>0.002074</td>\n",
       "      <td>0</td>\n",
       "    </tr>\n",
       "    <tr>\n",
       "      <th>19222</th>\n",
       "      <td>19222</td>\n",
       "      <td>esp</td>\n",
       "      <td>montserrat</td>\n",
       "      <td>cova de larcada</td>\n",
       "      <td>queda usted despedido</td>\n",
       "      <td>53.000000</td>\n",
       "      <td>4</td>\n",
       "      <td>-0.074180</td>\n",
       "      <td>0</td>\n",
       "    </tr>\n",
       "  </tbody>\n",
       "</table>\n",
       "</div>"
      ],
      "text/plain": [
       "       name_id country        crag           sector                   name  \\\n",
       "19554    19554     esp  montserrat      la calavera                 batura   \n",
       "19202    19202     esp  montserrat  cova de larcada           a mar oberta   \n",
       "19222    19222     esp  montserrat  cova de larcada  queda usted despedido   \n",
       "\n",
       "       grade_mean  cluster  rating_tot  height_plus  \n",
       "19554   54.500000        4    0.154580            0  \n",
       "19202   54.666667        4    0.002074            0  \n",
       "19222   53.000000        4   -0.074180            0  "
      ]
     },
     "metadata": {},
     "output_type": "display_data"
    },
    {
     "data": {
      "text/html": [
       "<div>\n",
       "<style scoped>\n",
       "    .dataframe tbody tr th:only-of-type {\n",
       "        vertical-align: middle;\n",
       "    }\n",
       "\n",
       "    .dataframe tbody tr th {\n",
       "        vertical-align: top;\n",
       "    }\n",
       "\n",
       "    .dataframe thead th {\n",
       "        text-align: right;\n",
       "    }\n",
       "</style>\n",
       "<table border=\"1\" class=\"dataframe\">\n",
       "  <thead>\n",
       "    <tr style=\"text-align: right;\">\n",
       "      <th></th>\n",
       "      <th>name_id</th>\n",
       "      <th>country</th>\n",
       "      <th>crag</th>\n",
       "      <th>sector</th>\n",
       "      <th>name</th>\n",
       "      <th>grade_mean</th>\n",
       "      <th>cluster</th>\n",
       "      <th>rating_tot</th>\n",
       "      <th>height_plus</th>\n",
       "    </tr>\n",
       "  </thead>\n",
       "  <tbody>\n",
       "    <tr>\n",
       "      <th>18969</th>\n",
       "      <td>18969</td>\n",
       "      <td>esp</td>\n",
       "      <td>montserrat</td>\n",
       "      <td>agulla del senglar</td>\n",
       "      <td>discordia l</td>\n",
       "      <td>53.574074</td>\n",
       "      <td>3</td>\n",
       "      <td>0.622013</td>\n",
       "      <td>0</td>\n",
       "    </tr>\n",
       "  </tbody>\n",
       "</table>\n",
       "</div>"
      ],
      "text/plain": [
       "       name_id country        crag              sector         name  \\\n",
       "18969    18969     esp  montserrat  agulla del senglar  discordia l   \n",
       "\n",
       "       grade_mean  cluster  rating_tot  height_plus  \n",
       "18969   53.574074        3    0.622013            0  "
      ]
     },
     "metadata": {},
     "output_type": "display_data"
    }
   ],
   "source": [
    "display(routes_country_grade.head(3))\n",
    "display(routes_crag_grade.head(3))\n",
    "display(routes_sector_grade.head(3))"
   ]
  },
  {
   "cell_type": "markdown",
   "id": "realistic-alloy",
   "metadata": {},
   "source": [
    "## Create the function"
   ]
  },
  {
   "cell_type": "code",
   "execution_count": 16,
   "id": "toxic-production",
   "metadata": {},
   "outputs": [],
   "source": [
    "def route_recommender(climber, show = False):\n",
    "    '''\n",
    "    This function returns the route recommendations for the user \"climber\"\n",
    "    inputs:\n",
    "    - climber: the user from the climber class\n",
    "    - show: True for showing the log\n",
    "    \n",
    "    output:\n",
    "    df with the recommendations       \n",
    "    '''\n",
    "    \n",
    "    \n",
    "    def recommender_filter(df, climber, show = True):\n",
    "        routes = df.copy()\n",
    "         # Climber Filters    \n",
    "        routes_tall = climb_jor.filter_tall(routes_df = routes, climber_usr = climber, show = show)\n",
    "        routes_grade = climb_jor.filter_grade(routes_df = routes_tall, climber_usr = climber, show = show)\n",
    "\n",
    "        # Rating Order\n",
    "        routes_rating = routes_grade.sort_values(by = 'rating_tot',ascending = False)\n",
    "\n",
    "        # Clustering Order\n",
    "        routes_grade = climb_jor.filter_cluster(routes_df = routes_rating, climber_usr = climber, show = show)\n",
    "\n",
    "        return routes_grade\n",
    "    \n",
    "    \n",
    "    routes = pd.read_csv('../data/routes_rated.csv',low_memory=False, index_col=0)\n",
    "       \n",
    "    # Region\n",
    "    routes_country = routes[routes.country == climber.get_data().country[0]]\n",
    "    routes_crag = routes[routes.crag == climber.get_data().crag[0]]\n",
    "    routes_sector = routes[routes.sector == climber.get_data().sector[0]]\n",
    "    \n",
    "    # Recommen\n",
    "    routes_country_rec = recommender_filter(routes_country, climber, show)\n",
    "    routes_crag_rec = recommender_filter(routes_crag, climber, show)\n",
    "    routes_sector_rec = recommender_filter(routes_sector, climber, show)\n",
    "    \n",
    "    display(routes_country_rec.head(3))\n",
    "    display(routes_crag_rec.head(3))\n",
    "    display(routes_sector_rec.head(3))\n",
    "       "
   ]
  },
  {
   "cell_type": "code",
   "execution_count": 17,
   "id": "immune-johns",
   "metadata": {},
   "outputs": [
    {
     "data": {
      "text/html": [
       "<div>\n",
       "<style scoped>\n",
       "    .dataframe tbody tr th:only-of-type {\n",
       "        vertical-align: middle;\n",
       "    }\n",
       "\n",
       "    .dataframe tbody tr th {\n",
       "        vertical-align: top;\n",
       "    }\n",
       "\n",
       "    .dataframe thead th {\n",
       "        text-align: right;\n",
       "    }\n",
       "</style>\n",
       "<table border=\"1\" class=\"dataframe\">\n",
       "  <thead>\n",
       "    <tr style=\"text-align: right;\">\n",
       "      <th></th>\n",
       "      <th>name_id</th>\n",
       "      <th>country</th>\n",
       "      <th>crag</th>\n",
       "      <th>sector</th>\n",
       "      <th>name</th>\n",
       "      <th>grade_mean</th>\n",
       "      <th>cluster</th>\n",
       "      <th>rating_tot</th>\n",
       "      <th>height_plus</th>\n",
       "    </tr>\n",
       "  </thead>\n",
       "  <tbody>\n",
       "    <tr>\n",
       "      <th>16247</th>\n",
       "      <td>16247</td>\n",
       "      <td>esp</td>\n",
       "      <td>ibiza</td>\n",
       "      <td>punta aubarca</td>\n",
       "      <td>dreams will be destroyed</td>\n",
       "      <td>55.666667</td>\n",
       "      <td>4</td>\n",
       "      <td>4.431579</td>\n",
       "      <td>0</td>\n",
       "    </tr>\n",
       "    <tr>\n",
       "      <th>21338</th>\n",
       "      <td>21338</td>\n",
       "      <td>esp</td>\n",
       "      <td>reguchillo</td>\n",
       "      <td>belit</td>\n",
       "      <td>sucinas line</td>\n",
       "      <td>53.777778</td>\n",
       "      <td>4</td>\n",
       "      <td>2.025564</td>\n",
       "      <td>0</td>\n",
       "    </tr>\n",
       "    <tr>\n",
       "      <th>10674</th>\n",
       "      <td>10674</td>\n",
       "      <td>esp</td>\n",
       "      <td>archidona</td>\n",
       "      <td>la cueva</td>\n",
       "      <td>danza agresiva</td>\n",
       "      <td>52.500000</td>\n",
       "      <td>4</td>\n",
       "      <td>0.984974</td>\n",
       "      <td>0</td>\n",
       "    </tr>\n",
       "  </tbody>\n",
       "</table>\n",
       "</div>"
      ],
      "text/plain": [
       "       name_id country        crag         sector                      name  \\\n",
       "16247    16247     esp       ibiza  punta aubarca  dreams will be destroyed   \n",
       "21338    21338     esp  reguchillo          belit              sucinas line   \n",
       "10674    10674     esp   archidona       la cueva            danza agresiva   \n",
       "\n",
       "       grade_mean  cluster  rating_tot  height_plus  \n",
       "16247   55.666667        4    4.431579            0  \n",
       "21338   53.777778        4    2.025564            0  \n",
       "10674   52.500000        4    0.984974            0  "
      ]
     },
     "metadata": {},
     "output_type": "display_data"
    },
    {
     "data": {
      "text/html": [
       "<div>\n",
       "<style scoped>\n",
       "    .dataframe tbody tr th:only-of-type {\n",
       "        vertical-align: middle;\n",
       "    }\n",
       "\n",
       "    .dataframe tbody tr th {\n",
       "        vertical-align: top;\n",
       "    }\n",
       "\n",
       "    .dataframe thead th {\n",
       "        text-align: right;\n",
       "    }\n",
       "</style>\n",
       "<table border=\"1\" class=\"dataframe\">\n",
       "  <thead>\n",
       "    <tr style=\"text-align: right;\">\n",
       "      <th></th>\n",
       "      <th>name_id</th>\n",
       "      <th>country</th>\n",
       "      <th>crag</th>\n",
       "      <th>sector</th>\n",
       "      <th>name</th>\n",
       "      <th>grade_mean</th>\n",
       "      <th>cluster</th>\n",
       "      <th>rating_tot</th>\n",
       "      <th>height_plus</th>\n",
       "    </tr>\n",
       "  </thead>\n",
       "  <tbody>\n",
       "    <tr>\n",
       "      <th>19554</th>\n",
       "      <td>19554</td>\n",
       "      <td>esp</td>\n",
       "      <td>montserrat</td>\n",
       "      <td>la calavera</td>\n",
       "      <td>batura</td>\n",
       "      <td>54.500000</td>\n",
       "      <td>4</td>\n",
       "      <td>0.154580</td>\n",
       "      <td>0</td>\n",
       "    </tr>\n",
       "    <tr>\n",
       "      <th>19202</th>\n",
       "      <td>19202</td>\n",
       "      <td>esp</td>\n",
       "      <td>montserrat</td>\n",
       "      <td>cova de larcada</td>\n",
       "      <td>a mar oberta</td>\n",
       "      <td>54.666667</td>\n",
       "      <td>4</td>\n",
       "      <td>0.002074</td>\n",
       "      <td>0</td>\n",
       "    </tr>\n",
       "    <tr>\n",
       "      <th>19222</th>\n",
       "      <td>19222</td>\n",
       "      <td>esp</td>\n",
       "      <td>montserrat</td>\n",
       "      <td>cova de larcada</td>\n",
       "      <td>queda usted despedido</td>\n",
       "      <td>53.000000</td>\n",
       "      <td>4</td>\n",
       "      <td>-0.074180</td>\n",
       "      <td>0</td>\n",
       "    </tr>\n",
       "  </tbody>\n",
       "</table>\n",
       "</div>"
      ],
      "text/plain": [
       "       name_id country        crag           sector                   name  \\\n",
       "19554    19554     esp  montserrat      la calavera                 batura   \n",
       "19202    19202     esp  montserrat  cova de larcada           a mar oberta   \n",
       "19222    19222     esp  montserrat  cova de larcada  queda usted despedido   \n",
       "\n",
       "       grade_mean  cluster  rating_tot  height_plus  \n",
       "19554   54.500000        4    0.154580            0  \n",
       "19202   54.666667        4    0.002074            0  \n",
       "19222   53.000000        4   -0.074180            0  "
      ]
     },
     "metadata": {},
     "output_type": "display_data"
    },
    {
     "data": {
      "text/html": [
       "<div>\n",
       "<style scoped>\n",
       "    .dataframe tbody tr th:only-of-type {\n",
       "        vertical-align: middle;\n",
       "    }\n",
       "\n",
       "    .dataframe tbody tr th {\n",
       "        vertical-align: top;\n",
       "    }\n",
       "\n",
       "    .dataframe thead th {\n",
       "        text-align: right;\n",
       "    }\n",
       "</style>\n",
       "<table border=\"1\" class=\"dataframe\">\n",
       "  <thead>\n",
       "    <tr style=\"text-align: right;\">\n",
       "      <th></th>\n",
       "      <th>name_id</th>\n",
       "      <th>country</th>\n",
       "      <th>crag</th>\n",
       "      <th>sector</th>\n",
       "      <th>name</th>\n",
       "      <th>grade_mean</th>\n",
       "      <th>cluster</th>\n",
       "      <th>rating_tot</th>\n",
       "      <th>height_plus</th>\n",
       "    </tr>\n",
       "  </thead>\n",
       "  <tbody>\n",
       "    <tr>\n",
       "      <th>18969</th>\n",
       "      <td>18969</td>\n",
       "      <td>esp</td>\n",
       "      <td>montserrat</td>\n",
       "      <td>agulla del senglar</td>\n",
       "      <td>discordia l</td>\n",
       "      <td>53.574074</td>\n",
       "      <td>3</td>\n",
       "      <td>0.622013</td>\n",
       "      <td>0</td>\n",
       "    </tr>\n",
       "  </tbody>\n",
       "</table>\n",
       "</div>"
      ],
      "text/plain": [
       "       name_id country        crag              sector         name  \\\n",
       "18969    18969     esp  montserrat  agulla del senglar  discordia l   \n",
       "\n",
       "       grade_mean  cluster  rating_tot  height_plus  \n",
       "18969   53.574074        3    0.622013            0  "
      ]
     },
     "metadata": {},
     "output_type": "display_data"
    }
   ],
   "source": [
    "route_recommender(climber_2)"
   ]
  },
  {
   "cell_type": "code",
   "execution_count": 20,
   "id": "coordinate-iraqi",
   "metadata": {},
   "outputs": [
    {
     "name": "stdout",
     "output_type": "stream",
     "text": [
      "df routes:  12564\n",
      "df routes:  1722\n",
      "df routes:  1722\n",
      "df routes:  714\n",
      "df routes:  116\n",
      "df routes:  116\n",
      "df routes:  14\n",
      "df routes:  1\n",
      "df routes:  1\n"
     ]
    },
    {
     "data": {
      "text/html": [
       "<div>\n",
       "<style scoped>\n",
       "    .dataframe tbody tr th:only-of-type {\n",
       "        vertical-align: middle;\n",
       "    }\n",
       "\n",
       "    .dataframe tbody tr th {\n",
       "        vertical-align: top;\n",
       "    }\n",
       "\n",
       "    .dataframe thead th {\n",
       "        text-align: right;\n",
       "    }\n",
       "</style>\n",
       "<table border=\"1\" class=\"dataframe\">\n",
       "  <thead>\n",
       "    <tr style=\"text-align: right;\">\n",
       "      <th></th>\n",
       "      <th>name_id</th>\n",
       "      <th>country</th>\n",
       "      <th>crag</th>\n",
       "      <th>sector</th>\n",
       "      <th>name</th>\n",
       "      <th>grade_mean</th>\n",
       "      <th>cluster</th>\n",
       "      <th>rating_tot</th>\n",
       "      <th>height_plus</th>\n",
       "    </tr>\n",
       "  </thead>\n",
       "  <tbody>\n",
       "    <tr>\n",
       "      <th>16247</th>\n",
       "      <td>16247</td>\n",
       "      <td>esp</td>\n",
       "      <td>ibiza</td>\n",
       "      <td>punta aubarca</td>\n",
       "      <td>dreams will be destroyed</td>\n",
       "      <td>55.666667</td>\n",
       "      <td>4</td>\n",
       "      <td>4.431579</td>\n",
       "      <td>0</td>\n",
       "    </tr>\n",
       "    <tr>\n",
       "      <th>21338</th>\n",
       "      <td>21338</td>\n",
       "      <td>esp</td>\n",
       "      <td>reguchillo</td>\n",
       "      <td>belit</td>\n",
       "      <td>sucinas line</td>\n",
       "      <td>53.777778</td>\n",
       "      <td>4</td>\n",
       "      <td>2.025564</td>\n",
       "      <td>0</td>\n",
       "    </tr>\n",
       "    <tr>\n",
       "      <th>10674</th>\n",
       "      <td>10674</td>\n",
       "      <td>esp</td>\n",
       "      <td>archidona</td>\n",
       "      <td>la cueva</td>\n",
       "      <td>danza agresiva</td>\n",
       "      <td>52.500000</td>\n",
       "      <td>4</td>\n",
       "      <td>0.984974</td>\n",
       "      <td>0</td>\n",
       "    </tr>\n",
       "  </tbody>\n",
       "</table>\n",
       "</div>"
      ],
      "text/plain": [
       "       name_id country        crag         sector                      name  \\\n",
       "16247    16247     esp       ibiza  punta aubarca  dreams will be destroyed   \n",
       "21338    21338     esp  reguchillo          belit              sucinas line   \n",
       "10674    10674     esp   archidona       la cueva            danza agresiva   \n",
       "\n",
       "       grade_mean  cluster  rating_tot  height_plus  \n",
       "16247   55.666667        4    4.431579            0  \n",
       "21338   53.777778        4    2.025564            0  \n",
       "10674   52.500000        4    0.984974            0  "
      ]
     },
     "metadata": {},
     "output_type": "display_data"
    },
    {
     "data": {
      "text/html": [
       "<div>\n",
       "<style scoped>\n",
       "    .dataframe tbody tr th:only-of-type {\n",
       "        vertical-align: middle;\n",
       "    }\n",
       "\n",
       "    .dataframe tbody tr th {\n",
       "        vertical-align: top;\n",
       "    }\n",
       "\n",
       "    .dataframe thead th {\n",
       "        text-align: right;\n",
       "    }\n",
       "</style>\n",
       "<table border=\"1\" class=\"dataframe\">\n",
       "  <thead>\n",
       "    <tr style=\"text-align: right;\">\n",
       "      <th></th>\n",
       "      <th>name_id</th>\n",
       "      <th>country</th>\n",
       "      <th>crag</th>\n",
       "      <th>sector</th>\n",
       "      <th>name</th>\n",
       "      <th>grade_mean</th>\n",
       "      <th>cluster</th>\n",
       "      <th>rating_tot</th>\n",
       "      <th>height_plus</th>\n",
       "    </tr>\n",
       "  </thead>\n",
       "  <tbody>\n",
       "    <tr>\n",
       "      <th>19554</th>\n",
       "      <td>19554</td>\n",
       "      <td>esp</td>\n",
       "      <td>montserrat</td>\n",
       "      <td>la calavera</td>\n",
       "      <td>batura</td>\n",
       "      <td>54.500000</td>\n",
       "      <td>4</td>\n",
       "      <td>0.154580</td>\n",
       "      <td>0</td>\n",
       "    </tr>\n",
       "    <tr>\n",
       "      <th>19202</th>\n",
       "      <td>19202</td>\n",
       "      <td>esp</td>\n",
       "      <td>montserrat</td>\n",
       "      <td>cova de larcada</td>\n",
       "      <td>a mar oberta</td>\n",
       "      <td>54.666667</td>\n",
       "      <td>4</td>\n",
       "      <td>0.002074</td>\n",
       "      <td>0</td>\n",
       "    </tr>\n",
       "    <tr>\n",
       "      <th>19222</th>\n",
       "      <td>19222</td>\n",
       "      <td>esp</td>\n",
       "      <td>montserrat</td>\n",
       "      <td>cova de larcada</td>\n",
       "      <td>queda usted despedido</td>\n",
       "      <td>53.000000</td>\n",
       "      <td>4</td>\n",
       "      <td>-0.074180</td>\n",
       "      <td>0</td>\n",
       "    </tr>\n",
       "  </tbody>\n",
       "</table>\n",
       "</div>"
      ],
      "text/plain": [
       "       name_id country        crag           sector                   name  \\\n",
       "19554    19554     esp  montserrat      la calavera                 batura   \n",
       "19202    19202     esp  montserrat  cova de larcada           a mar oberta   \n",
       "19222    19222     esp  montserrat  cova de larcada  queda usted despedido   \n",
       "\n",
       "       grade_mean  cluster  rating_tot  height_plus  \n",
       "19554   54.500000        4    0.154580            0  \n",
       "19202   54.666667        4    0.002074            0  \n",
       "19222   53.000000        4   -0.074180            0  "
      ]
     },
     "metadata": {},
     "output_type": "display_data"
    },
    {
     "data": {
      "text/html": [
       "<div>\n",
       "<style scoped>\n",
       "    .dataframe tbody tr th:only-of-type {\n",
       "        vertical-align: middle;\n",
       "    }\n",
       "\n",
       "    .dataframe tbody tr th {\n",
       "        vertical-align: top;\n",
       "    }\n",
       "\n",
       "    .dataframe thead th {\n",
       "        text-align: right;\n",
       "    }\n",
       "</style>\n",
       "<table border=\"1\" class=\"dataframe\">\n",
       "  <thead>\n",
       "    <tr style=\"text-align: right;\">\n",
       "      <th></th>\n",
       "      <th>name_id</th>\n",
       "      <th>country</th>\n",
       "      <th>crag</th>\n",
       "      <th>sector</th>\n",
       "      <th>name</th>\n",
       "      <th>grade_mean</th>\n",
       "      <th>cluster</th>\n",
       "      <th>rating_tot</th>\n",
       "      <th>height_plus</th>\n",
       "    </tr>\n",
       "  </thead>\n",
       "  <tbody>\n",
       "    <tr>\n",
       "      <th>18969</th>\n",
       "      <td>18969</td>\n",
       "      <td>esp</td>\n",
       "      <td>montserrat</td>\n",
       "      <td>agulla del senglar</td>\n",
       "      <td>discordia l</td>\n",
       "      <td>53.574074</td>\n",
       "      <td>3</td>\n",
       "      <td>0.622013</td>\n",
       "      <td>0</td>\n",
       "    </tr>\n",
       "  </tbody>\n",
       "</table>\n",
       "</div>"
      ],
      "text/plain": [
       "       name_id country        crag              sector         name  \\\n",
       "18969    18969     esp  montserrat  agulla del senglar  discordia l   \n",
       "\n",
       "       grade_mean  cluster  rating_tot  height_plus  \n",
       "18969   53.574074        3    0.622013            0  "
      ]
     },
     "metadata": {},
     "output_type": "display_data"
    }
   ],
   "source": [
    "a,b,c = climber_2.route_recommender(show = True)"
   ]
  },
  {
   "cell_type": "code",
   "execution_count": 21,
   "id": "constitutional-there",
   "metadata": {},
   "outputs": [
    {
     "name": "stdout",
     "output_type": "stream",
     "text": [
      "Climber class initialized\n",
      "df routes:  15010\n",
      "df routes:  2041\n",
      "df routes:  2041\n",
      "df routes:  814\n",
      "df routes:  129\n",
      "df routes:  129\n",
      "df routes:  17\n",
      "df routes:  1\n",
      "df routes:  1\n"
     ]
    },
    {
     "data": {
      "text/html": [
       "<div>\n",
       "<style scoped>\n",
       "    .dataframe tbody tr th:only-of-type {\n",
       "        vertical-align: middle;\n",
       "    }\n",
       "\n",
       "    .dataframe tbody tr th {\n",
       "        vertical-align: top;\n",
       "    }\n",
       "\n",
       "    .dataframe thead th {\n",
       "        text-align: right;\n",
       "    }\n",
       "</style>\n",
       "<table border=\"1\" class=\"dataframe\">\n",
       "  <thead>\n",
       "    <tr style=\"text-align: right;\">\n",
       "      <th></th>\n",
       "      <th>name_id</th>\n",
       "      <th>country</th>\n",
       "      <th>crag</th>\n",
       "      <th>sector</th>\n",
       "      <th>name</th>\n",
       "      <th>grade_mean</th>\n",
       "      <th>cluster</th>\n",
       "      <th>rating_tot</th>\n",
       "      <th>height_plus</th>\n",
       "    </tr>\n",
       "  </thead>\n",
       "  <tbody>\n",
       "    <tr>\n",
       "      <th>23685</th>\n",
       "      <td>23685</td>\n",
       "      <td>esp</td>\n",
       "      <td>sorrueda</td>\n",
       "      <td>salon</td>\n",
       "      <td>el pizco del zapa</td>\n",
       "      <td>53.0</td>\n",
       "      <td>0</td>\n",
       "      <td>2.535027</td>\n",
       "      <td>0</td>\n",
       "    </tr>\n",
       "    <tr>\n",
       "      <th>18851</th>\n",
       "      <td>18851</td>\n",
       "      <td>esp</td>\n",
       "      <td>montgrony</td>\n",
       "      <td>la vena</td>\n",
       "      <td>el cap de la vena</td>\n",
       "      <td>55.0</td>\n",
       "      <td>0</td>\n",
       "      <td>2.415084</td>\n",
       "      <td>0</td>\n",
       "    </tr>\n",
       "    <tr>\n",
       "      <th>12150</th>\n",
       "      <td>12150</td>\n",
       "      <td>esp</td>\n",
       "      <td>can ortigues</td>\n",
       "      <td>carretera</td>\n",
       "      <td>regina</td>\n",
       "      <td>53.0</td>\n",
       "      <td>0</td>\n",
       "      <td>1.884547</td>\n",
       "      <td>0</td>\n",
       "    </tr>\n",
       "  </tbody>\n",
       "</table>\n",
       "</div>"
      ],
      "text/plain": [
       "       name_id country          crag     sector               name  \\\n",
       "23685    23685     esp      sorrueda      salon  el pizco del zapa   \n",
       "18851    18851     esp     montgrony    la vena  el cap de la vena   \n",
       "12150    12150     esp  can ortigues  carretera             regina   \n",
       "\n",
       "       grade_mean  cluster  rating_tot  height_plus  \n",
       "23685        53.0        0    2.535027            0  \n",
       "18851        55.0        0    2.415084            0  \n",
       "12150        53.0        0    1.884547            0  "
      ]
     },
     "metadata": {},
     "output_type": "display_data"
    },
    {
     "data": {
      "text/html": [
       "<div>\n",
       "<style scoped>\n",
       "    .dataframe tbody tr th:only-of-type {\n",
       "        vertical-align: middle;\n",
       "    }\n",
       "\n",
       "    .dataframe tbody tr th {\n",
       "        vertical-align: top;\n",
       "    }\n",
       "\n",
       "    .dataframe thead th {\n",
       "        text-align: right;\n",
       "    }\n",
       "</style>\n",
       "<table border=\"1\" class=\"dataframe\">\n",
       "  <thead>\n",
       "    <tr style=\"text-align: right;\">\n",
       "      <th></th>\n",
       "      <th>name_id</th>\n",
       "      <th>country</th>\n",
       "      <th>crag</th>\n",
       "      <th>sector</th>\n",
       "      <th>name</th>\n",
       "      <th>grade_mean</th>\n",
       "      <th>cluster</th>\n",
       "      <th>rating_tot</th>\n",
       "      <th>height_plus</th>\n",
       "    </tr>\n",
       "  </thead>\n",
       "  <tbody>\n",
       "    <tr>\n",
       "      <th>19400</th>\n",
       "      <td>19400</td>\n",
       "      <td>esp</td>\n",
       "      <td>montserrat</td>\n",
       "      <td>el vermell</td>\n",
       "      <td>la tele del menguele</td>\n",
       "      <td>52.666667</td>\n",
       "      <td>0</td>\n",
       "      <td>1.261773</td>\n",
       "      <td>0</td>\n",
       "    </tr>\n",
       "    <tr>\n",
       "      <th>19268</th>\n",
       "      <td>19268</td>\n",
       "      <td>esp</td>\n",
       "      <td>montserrat</td>\n",
       "      <td>el vermell</td>\n",
       "      <td>amb el temps</td>\n",
       "      <td>54.333333</td>\n",
       "      <td>0</td>\n",
       "      <td>0.989732</td>\n",
       "      <td>0</td>\n",
       "    </tr>\n",
       "    <tr>\n",
       "      <th>19608</th>\n",
       "      <td>19608</td>\n",
       "      <td>esp</td>\n",
       "      <td>montserrat</td>\n",
       "      <td>odio africano</td>\n",
       "      <td>amb el temps creixem</td>\n",
       "      <td>54.000000</td>\n",
       "      <td>0</td>\n",
       "      <td>0.984974</td>\n",
       "      <td>0</td>\n",
       "    </tr>\n",
       "  </tbody>\n",
       "</table>\n",
       "</div>"
      ],
      "text/plain": [
       "       name_id country        crag         sector                  name  \\\n",
       "19400    19400     esp  montserrat     el vermell  la tele del menguele   \n",
       "19268    19268     esp  montserrat     el vermell          amb el temps   \n",
       "19608    19608     esp  montserrat  odio africano  amb el temps creixem   \n",
       "\n",
       "       grade_mean  cluster  rating_tot  height_plus  \n",
       "19400   52.666667        0    1.261773            0  \n",
       "19268   54.333333        0    0.989732            0  \n",
       "19608   54.000000        0    0.984974            0  "
      ]
     },
     "metadata": {},
     "output_type": "display_data"
    },
    {
     "data": {
      "text/html": [
       "<div>\n",
       "<style scoped>\n",
       "    .dataframe tbody tr th:only-of-type {\n",
       "        vertical-align: middle;\n",
       "    }\n",
       "\n",
       "    .dataframe tbody tr th {\n",
       "        vertical-align: top;\n",
       "    }\n",
       "\n",
       "    .dataframe thead th {\n",
       "        text-align: right;\n",
       "    }\n",
       "</style>\n",
       "<table border=\"1\" class=\"dataframe\">\n",
       "  <thead>\n",
       "    <tr style=\"text-align: right;\">\n",
       "      <th></th>\n",
       "      <th>name_id</th>\n",
       "      <th>country</th>\n",
       "      <th>crag</th>\n",
       "      <th>sector</th>\n",
       "      <th>name</th>\n",
       "      <th>grade_mean</th>\n",
       "      <th>cluster</th>\n",
       "      <th>rating_tot</th>\n",
       "      <th>height_plus</th>\n",
       "    </tr>\n",
       "  </thead>\n",
       "  <tbody>\n",
       "    <tr>\n",
       "      <th>18969</th>\n",
       "      <td>18969</td>\n",
       "      <td>esp</td>\n",
       "      <td>montserrat</td>\n",
       "      <td>agulla del senglar</td>\n",
       "      <td>discordia l</td>\n",
       "      <td>53.574074</td>\n",
       "      <td>3</td>\n",
       "      <td>0.622013</td>\n",
       "      <td>0</td>\n",
       "    </tr>\n",
       "  </tbody>\n",
       "</table>\n",
       "</div>"
      ],
      "text/plain": [
       "       name_id country        crag              sector         name  \\\n",
       "18969    18969     esp  montserrat  agulla del senglar  discordia l   \n",
       "\n",
       "       grade_mean  cluster  rating_tot  height_plus  \n",
       "18969   53.574074        3    0.622013            0  "
      ]
     },
     "metadata": {},
     "output_type": "display_data"
    }
   ],
   "source": [
    "cl = climber_class.climber()\n",
    "\n",
    "a,b,c = cl.route_recommender(show = True)"
   ]
  }
 ],
 "metadata": {
  "kernelspec": {
   "display_name": "Python 3 (ipykernel)",
   "language": "python",
   "name": "python3"
  },
  "language_info": {
   "codemirror_mode": {
    "name": "ipython",
    "version": 3
   },
   "file_extension": ".py",
   "mimetype": "text/x-python",
   "name": "python",
   "nbconvert_exporter": "python",
   "pygments_lexer": "ipython3",
   "version": "3.9.5"
  }
 },
 "nbformat": 4,
 "nbformat_minor": 5
}
