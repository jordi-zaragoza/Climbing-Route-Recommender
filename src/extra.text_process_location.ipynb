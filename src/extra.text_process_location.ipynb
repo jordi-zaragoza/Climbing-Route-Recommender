{
 "cells": [
  {
   "cell_type": "code",
   "execution_count": 1,
   "id": "chinese-chair",
   "metadata": {},
   "outputs": [],
   "source": [
    "import pandas as pd \n",
    "import numpy as np\n",
    "import clean_jor\n",
    "import tables_jor\n",
    "from sklearn.neighbors import KNeighborsRegressor, KNeighborsClassifier\n",
    "from text_processor_class import *"
   ]
  },
  {
   "cell_type": "code",
   "execution_count": 2,
   "id": "unavailable-laptop",
   "metadata": {},
   "outputs": [],
   "source": [
    "pd.set_option(\"display.max_columns\",None)\n",
    "pd.set_option('display.max_rows', 10)"
   ]
  },
  {
   "cell_type": "code",
   "execution_count": 3,
   "id": "minor-facility",
   "metadata": {},
   "outputs": [
    {
     "name": "stdout",
     "output_type": "stream",
     "text": [
      "Initialized text_processor class\n"
     ]
    },
    {
     "name": "stderr",
     "output_type": "stream",
     "text": [
      "/home/jzar/.local/lib/python3.9/site-packages/sklearn/base.py:329: UserWarning: Trying to unpickle estimator CountVectorizer from version 0.23.2 when using version 1.0.2. This might lead to breaking code or invalid results. Use at your own risk. For more info please refer to:\n",
      "https://scikit-learn.org/stable/modules/model_persistence.html#security-maintainability-limitations\n",
      "  warnings.warn(\n",
      "/home/jzar/.local/lib/python3.9/site-packages/sklearn/base.py:329: UserWarning: Trying to unpickle estimator MultinomialNB from version 0.23.2 when using version 1.0.2. This might lead to breaking code or invalid results. Use at your own risk. For more info please refer to:\n",
      "https://scikit-learn.org/stable/modules/model_persistence.html#security-maintainability-limitations\n",
      "  warnings.warn(\n"
     ]
    }
   ],
   "source": [
    "txt = text_processor()"
   ]
  },
  {
   "cell_type": "code",
   "execution_count": 7,
   "id": "collectible-guinea",
   "metadata": {},
   "outputs": [],
   "source": [
    "ascent_df6 = pd.read_csv('../../databases/ascent.csv',low_memory=False, index_col=0)"
   ]
  },
  {
   "cell_type": "code",
   "execution_count": 8,
   "id": "spare-backup",
   "metadata": {},
   "outputs": [],
   "source": [
    "countries = ascent_df6.country.value_counts(dropna = False).index"
   ]
  },
  {
   "cell_type": "code",
   "execution_count": 9,
   "id": "modified-huntington",
   "metadata": {},
   "outputs": [
    {
     "name": "stdout",
     "output_type": "stream",
     "text": [
      "ESP\n"
     ]
    },
    {
     "ename": "TypeError",
     "evalue": "boolean value of NA is ambiguous",
     "output_type": "error",
     "traceback": [
      "\u001b[0;31m---------------------------------------------------------------------------\u001b[0m",
      "\u001b[0;31mTypeError\u001b[0m                                 Traceback (most recent call last)",
      "\u001b[0;32m<timed exec>\u001b[0m in \u001b[0;36m<module>\u001b[0;34m\u001b[0m\n",
      "\u001b[0;32m~/IronHack/PROJECT/Climbing-Route-Recomender/src/text_processor_class.py\u001b[0m in \u001b[0;36mreplace_frequent_with_table\u001b[0;34m(self, orig_ls, similarity, similarity_ask, show)\u001b[0m\n\u001b[1;32m    208\u001b[0m \u001b[0;34m\u001b[0m\u001b[0m\n\u001b[1;32m    209\u001b[0m \u001b[0;34m\u001b[0m\u001b[0m\n\u001b[0;32m--> 210\u001b[0;31m                 \u001b[0;32mif\u001b[0m \u001b[0mname1\u001b[0m \u001b[0;34m!=\u001b[0m \u001b[0mname2\u001b[0m\u001b[0;34m:\u001b[0m\u001b[0;34m\u001b[0m\u001b[0;34m\u001b[0m\u001b[0m\n\u001b[0m\u001b[1;32m    211\u001b[0m                     \u001b[0minc\u001b[0m \u001b[0;34m=\u001b[0m \u001b[0mself\u001b[0m\u001b[0;34m.\u001b[0m\u001b[0mincluded\u001b[0m\u001b[0;34m(\u001b[0m\u001b[0mname1\u001b[0m\u001b[0;34m,\u001b[0m\u001b[0mname2\u001b[0m\u001b[0;34m)\u001b[0m\u001b[0;34m\u001b[0m\u001b[0;34m\u001b[0m\u001b[0m\n\u001b[1;32m    212\u001b[0m \u001b[0;34m\u001b[0m\u001b[0m\n",
      "\u001b[0;32m~/.local/lib/python3.9/site-packages/pandas/_libs/missing.pyx\u001b[0m in \u001b[0;36mpandas._libs.missing.NAType.__bool__\u001b[0;34m()\u001b[0m\n",
      "\u001b[0;31mTypeError\u001b[0m: boolean value of NA is ambiguous"
     ]
    }
   ],
   "source": [
    "%%time\n",
    "ascent_df8 = ascent_df6.copy()\n",
    "for country in countries:\n",
    "    print(country)\n",
    "    crags = ascent_df8[ascent_df8.country == country].crag.value_counts(dropna = False).index\n",
    "    \n",
    "    for crag in crags:  \n",
    "        sectors_from_crag = ascent_df8[ascent_df8.crag == crag].sector       \n",
    "        lst = txt.replace_frequent_with_table(list(sectors_from_crag), show = True)\n",
    "        ascent_df8.loc[sectors_from_crag.index,'sector'] = lst \n",
    "        \n",
    "ascent_df8.to_csv('../data/ascent_df8.csv')\n",
    "'''\n",
    "The piece of code above takes:\n",
    "CPU times: user 12min 12s, sys: 1.89 s, total: 12min 14s\n",
    "Wall time: 12min 12s\n",
    "'''\n",
    "\n",
    "ascent_df8 = pd.read_csv('../data/ascent_df8.csv',low_memory=False, index_col=0)"
   ]
  },
  {
   "cell_type": "markdown",
   "id": "printable-donor",
   "metadata": {},
   "source": [
    "This is an impressive improvement compared with the >12 h that we got before"
   ]
  }
 ],
 "metadata": {
  "kernelspec": {
   "display_name": "Python 3 (ipykernel)",
   "language": "python",
   "name": "python3"
  },
  "language_info": {
   "codemirror_mode": {
    "name": "ipython",
    "version": 3
   },
   "file_extension": ".py",
   "mimetype": "text/x-python",
   "name": "python",
   "nbconvert_exporter": "python",
   "pygments_lexer": "ipython3",
   "version": "3.9.5"
  }
 },
 "nbformat": 4,
 "nbformat_minor": 5
}
