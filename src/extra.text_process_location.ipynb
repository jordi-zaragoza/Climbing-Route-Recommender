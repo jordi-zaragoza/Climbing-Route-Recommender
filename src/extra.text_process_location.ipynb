{
 "cells": [
  {
   "cell_type": "code",
   "execution_count": 1,
   "id": "chinese-chair",
   "metadata": {},
   "outputs": [],
   "source": [
    "import pandas as pd \n",
    "import numpy as np\n",
    "import clean_jor\n",
    "import tables_jor\n",
    "from sklearn.neighbors import KNeighborsRegressor, KNeighborsClassifier\n",
    "from text_processor_class import *"
   ]
  },
  {
   "cell_type": "code",
   "execution_count": 2,
   "id": "unavailable-laptop",
   "metadata": {},
   "outputs": [],
   "source": [
    "pd.set_option(\"display.max_columns\",None)\n",
    "pd.set_option('display.max_rows', 10)"
   ]
  },
  {
   "cell_type": "code",
   "execution_count": 3,
   "id": "minor-facility",
   "metadata": {},
   "outputs": [
    {
     "name": "stdout",
     "output_type": "stream",
     "text": [
      "Initialized text_processor class\n"
     ]
    },
    {
     "name": "stderr",
     "output_type": "stream",
     "text": [
      "/home/jzar/.local/lib/python3.9/site-packages/sklearn/base.py:329: UserWarning: Trying to unpickle estimator CountVectorizer from version 0.23.2 when using version 1.0.2. This might lead to breaking code or invalid results. Use at your own risk. For more info please refer to:\n",
      "https://scikit-learn.org/stable/modules/model_persistence.html#security-maintainability-limitations\n",
      "  warnings.warn(\n",
      "/home/jzar/.local/lib/python3.9/site-packages/sklearn/base.py:329: UserWarning: Trying to unpickle estimator MultinomialNB from version 0.23.2 when using version 1.0.2. This might lead to breaking code or invalid results. Use at your own risk. For more info please refer to:\n",
      "https://scikit-learn.org/stable/modules/model_persistence.html#security-maintainability-limitations\n",
      "  warnings.warn(\n"
     ]
    }
   ],
   "source": [
    "txt = text_processor()"
   ]
  },
  {
   "cell_type": "code",
   "execution_count": 5,
   "id": "collectible-guinea",
   "metadata": {},
   "outputs": [],
   "source": [
    "ascent_df6 = pd.read_csv('../data/ascent_df6.csv',low_memory=False, index_col=0)"
   ]
  },
  {
   "cell_type": "code",
   "execution_count": 8,
   "id": "spare-backup",
   "metadata": {},
   "outputs": [],
   "source": [
    "countries = ascent_df6.country.value_counts(dropna = False).index"
   ]
  },
  {
   "cell_type": "code",
   "execution_count": 11,
   "id": "modified-huntington",
   "metadata": {},
   "outputs": [
    {
     "name": "stdout",
     "output_type": "stream",
     "text": [
      "esp\n",
      "ita\n",
      "usa\n",
      "fra\n",
      "pol\n",
      "deu\n",
      "aut\n",
      "bra\n",
      "grc\n",
      "che\n",
      "can\n",
      "aus\n",
      "nor\n",
      "zaf\n",
      "mex\n",
      "prt\n",
      "swe\n",
      "hrv\n",
      "tur\n",
      "gbr\n",
      "svn\n",
      "rom\n",
      "nzl\n",
      "tha\n",
      "bel\n",
      "bgr\n",
      "rus\n",
      "ukr\n",
      "arg\n",
      "cze\n",
      "chn\n",
      "hun\n",
      "srb\n",
      "ven\n",
      "svk\n",
      "isr\n",
      "per\n",
      "lao\n",
      "mar\n",
      "chl\n",
      "col\n",
      "mlt\n",
      "fin\n",
      "lux\n",
      "and\n",
      "cub\n",
      "mkd\n",
      "isl\n",
      "msr\n",
      "pri\n",
      "reu\n",
      "dnk\n",
      "vnm\n",
      "ind\n",
      "jpn\n",
      "ecu\n",
      "bih\n",
      "twn\n",
      "mys\n",
      "cyp\n",
      "irn\n",
      "bol\n",
      "are\n",
      "mdg\n",
      "kor\n",
      "fxx\n",
      "omn\n",
      "syr\n",
      "nld\n",
      "jor\n",
      "cri\n",
      "hkg\n",
      "phl\n",
      "yug\n",
      "egy\n",
      "alb\n",
      "arm\n",
      "pan\n",
      "zwe\n",
      "gtm\n",
      "nam\n",
      "irl\n",
      "cym\n",
      "sau\n",
      "mco\n",
      "kgz\n",
      "smr\n",
      "sgs\n",
      "dom\n",
      "nga\n",
      "lbn\n",
      "gib\n",
      "swz\n",
      "ken\n",
      "civ\n",
      "khm\n",
      "npl\n",
      "fji\n",
      "zmb\n",
      "asm\n",
      "aze\n",
      "bdi\n",
      "bhs\n",
      "bvt\n",
      "uga\n",
      "cmr\n",
      "cpv\n",
      "tun\n",
      "gha\n",
      "myt\n",
      "grl\n",
      "gum\n",
      "hnd\n",
      "sur\n",
      "lka\n",
      "mdv\n",
      "slv\n",
      "slb\n",
      "mli\n",
      "mne\n",
      "abw\n",
      "CPU times: user 5min 36s, sys: 743 ms, total: 5min 36s\n",
      "Wall time: 5min 38s\n"
     ]
    }
   ],
   "source": [
    "%%time\n",
    "ascent_df8 = ascent_df6.copy()\n",
    "for country in countries:\n",
    "    print(country)\n",
    "    crags = ascent_df8[ascent_df8.country == country].crag.value_counts(dropna = False).index\n",
    "    \n",
    "    for crag in crags:  \n",
    "        sectors_from_crag = ascent_df8[ascent_df8.crag == crag].sector       \n",
    "        lst = txt.replace_frequent_with_table(list(sectors_from_crag), show = False)\n",
    "        ascent_df8.loc[sectors_from_crag.index,'sector'] = lst \n",
    "        \n",
    "ascent_df8.to_csv('../data/ascent_df8.csv')\n",
    "'''\n",
    "The piece of code above takes:\n",
    "CPU times: user 12min 12s, sys: 1.89 s, total: 12min 14s\n",
    "Wall time: 12min 12s\n",
    "'''\n",
    "\n",
    "ascent_df8 = pd.read_csv('../data/ascent_df8.csv',low_memory=False, index_col=0)"
   ]
  },
  {
   "cell_type": "markdown",
   "id": "printable-donor",
   "metadata": {},
   "source": [
    "This is an impressive improvement compared with the >12 h that we got before"
   ]
  }
 ],
 "metadata": {
  "kernelspec": {
   "display_name": "Python 3 (ipykernel)",
   "language": "python",
   "name": "python3"
  },
  "language_info": {
   "codemirror_mode": {
    "name": "ipython",
    "version": 3
   },
   "file_extension": ".py",
   "mimetype": "text/x-python",
   "name": "python",
   "nbconvert_exporter": "python",
   "pygments_lexer": "ipython3",
   "version": "3.9.5"
  }
 },
 "nbformat": 4,
 "nbformat_minor": 5
}
