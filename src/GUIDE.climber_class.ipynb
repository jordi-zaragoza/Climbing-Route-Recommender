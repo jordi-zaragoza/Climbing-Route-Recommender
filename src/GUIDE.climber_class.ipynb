{
 "cells": [
  {
   "cell_type": "code",
   "execution_count": 1,
   "id": "7b050b7d",
   "metadata": {},
   "outputs": [],
   "source": [
    "from climber_class import *"
   ]
  },
  {
   "cell_type": "markdown",
   "id": "1b0a4ce2",
   "metadata": {},
   "source": [
    "# User"
   ]
  },
  {
   "cell_type": "markdown",
   "id": "e0483a0c",
   "metadata": {},
   "source": [
    "We need to create a user with this same route features\n",
    "- Grade\n",
    "- Location\n",
    "- Cluster\n",
    "- Heigh"
   ]
  },
  {
   "cell_type": "markdown",
   "id": "634c9d79",
   "metadata": {},
   "source": [
    "#### Climber atributes"
   ]
  },
  {
   "cell_type": "code",
   "execution_count": 2,
   "id": "1af8d06c",
   "metadata": {},
   "outputs": [
    {
     "name": "stdout",
     "output_type": "stream",
     "text": [
      "Climber class initialized\n",
      "Climber class initialized\n"
     ]
    },
    {
     "data": {
      "text/html": [
       "<div>\n",
       "<style scoped>\n",
       "    .dataframe tbody tr th:only-of-type {\n",
       "        vertical-align: middle;\n",
       "    }\n",
       "\n",
       "    .dataframe tbody tr th {\n",
       "        vertical-align: top;\n",
       "    }\n",
       "\n",
       "    .dataframe thead th {\n",
       "        text-align: right;\n",
       "    }\n",
       "</style>\n",
       "<table border=\"1\" class=\"dataframe\">\n",
       "  <thead>\n",
       "    <tr style=\"text-align: right;\">\n",
       "      <th></th>\n",
       "      <th>climber_id</th>\n",
       "      <th>name</th>\n",
       "      <th>ascents</th>\n",
       "      <th>grade_fra</th>\n",
       "      <th>grade</th>\n",
       "      <th>grade_range</th>\n",
       "      <th>country</th>\n",
       "      <th>crag</th>\n",
       "      <th>sector</th>\n",
       "      <th>height</th>\n",
       "    </tr>\n",
       "  </thead>\n",
       "  <tbody>\n",
       "    <tr>\n",
       "      <th>0</th>\n",
       "      <td>0</td>\n",
       "      <td>jordi</td>\n",
       "      <td>0</td>\n",
       "      <td>6b+/6c</td>\n",
       "      <td>44</td>\n",
       "      <td>3</td>\n",
       "      <td>rum</td>\n",
       "      <td>eidas</td>\n",
       "      <td>ajs niod</td>\n",
       "      <td>165</td>\n",
       "    </tr>\n",
       "  </tbody>\n",
       "</table>\n",
       "</div>"
      ],
      "text/plain": [
       "   climber_id   name  ascents grade_fra  grade  grade_range country   crag  \\\n",
       "0           0  jordi        0    6b+/6c     44            3     rum  eidas   \n",
       "\n",
       "     sector  height  \n",
       "0  ajs niod     165  "
      ]
     },
     "metadata": {},
     "output_type": "display_data"
    },
    {
     "data": {
      "text/html": [
       "<div>\n",
       "<style scoped>\n",
       "    .dataframe tbody tr th:only-of-type {\n",
       "        vertical-align: middle;\n",
       "    }\n",
       "\n",
       "    .dataframe tbody tr th {\n",
       "        vertical-align: top;\n",
       "    }\n",
       "\n",
       "    .dataframe thead th {\n",
       "        text-align: right;\n",
       "    }\n",
       "</style>\n",
       "<table border=\"1\" class=\"dataframe\">\n",
       "  <thead>\n",
       "    <tr style=\"text-align: right;\">\n",
       "      <th></th>\n",
       "      <th>climber_id</th>\n",
       "      <th>name</th>\n",
       "      <th>ascents</th>\n",
       "      <th>grade_fra</th>\n",
       "      <th>grade</th>\n",
       "      <th>grade_range</th>\n",
       "      <th>country</th>\n",
       "      <th>crag</th>\n",
       "      <th>sector</th>\n",
       "      <th>height</th>\n",
       "    </tr>\n",
       "  </thead>\n",
       "  <tbody>\n",
       "    <tr>\n",
       "      <th>0</th>\n",
       "      <td>1</td>\n",
       "      <td>climber1</td>\n",
       "      <td>0</td>\n",
       "      <td>7b/+</td>\n",
       "      <td>54</td>\n",
       "      <td>2</td>\n",
       "      <td>esp</td>\n",
       "      <td>montserrat</td>\n",
       "      <td>agulla del senglar</td>\n",
       "      <td>170</td>\n",
       "    </tr>\n",
       "  </tbody>\n",
       "</table>\n",
       "</div>"
      ],
      "text/plain": [
       "   climber_id      name  ascents grade_fra  grade  grade_range country  \\\n",
       "0           1  climber1        0      7b/+     54            2     esp   \n",
       "\n",
       "         crag              sector  height  \n",
       "0  montserrat  agulla del senglar     170  "
      ]
     },
     "metadata": {},
     "output_type": "display_data"
    }
   ],
   "source": [
    "climber_1 = climber('jordi',44,3,['rum','eidas','ajs niod'],165)\n",
    "climber_2 = climber()\n",
    "display(climber_1.get_data())\n",
    "display(climber_2.get_data())"
   ]
  },
  {
   "cell_type": "code",
   "execution_count": 3,
   "id": "e5a20d30",
   "metadata": {},
   "outputs": [
    {
     "data": {
      "text/html": [
       "<div>\n",
       "<style scoped>\n",
       "    .dataframe tbody tr th:only-of-type {\n",
       "        vertical-align: middle;\n",
       "    }\n",
       "\n",
       "    .dataframe tbody tr th {\n",
       "        vertical-align: top;\n",
       "    }\n",
       "\n",
       "    .dataframe thead th {\n",
       "        text-align: right;\n",
       "    }\n",
       "</style>\n",
       "<table border=\"1\" class=\"dataframe\">\n",
       "  <thead>\n",
       "    <tr style=\"text-align: right;\">\n",
       "      <th></th>\n",
       "      <th>climber_id</th>\n",
       "      <th>name</th>\n",
       "      <th>ascents</th>\n",
       "      <th>grade_fra</th>\n",
       "      <th>grade</th>\n",
       "      <th>grade_range</th>\n",
       "      <th>country</th>\n",
       "      <th>crag</th>\n",
       "      <th>sector</th>\n",
       "      <th>height</th>\n",
       "    </tr>\n",
       "  </thead>\n",
       "  <tbody>\n",
       "    <tr>\n",
       "      <th>0</th>\n",
       "      <td>0</td>\n",
       "      <td>jordi</td>\n",
       "      <td>0</td>\n",
       "      <td>5</td>\n",
       "      <td>29</td>\n",
       "      <td>3</td>\n",
       "      <td>rum</td>\n",
       "      <td>eidas</td>\n",
       "      <td>ajs niod</td>\n",
       "      <td>165</td>\n",
       "    </tr>\n",
       "  </tbody>\n",
       "</table>\n",
       "</div>"
      ],
      "text/plain": [
       "   climber_id   name  ascents grade_fra  grade  grade_range country   crag  \\\n",
       "0           0  jordi        0         5     29            3     rum  eidas   \n",
       "\n",
       "     sector  height  \n",
       "0  ajs niod     165  "
      ]
     },
     "metadata": {},
     "output_type": "display_data"
    },
    {
     "data": {
      "text/html": [
       "<div>\n",
       "<style scoped>\n",
       "    .dataframe tbody tr th:only-of-type {\n",
       "        vertical-align: middle;\n",
       "    }\n",
       "\n",
       "    .dataframe tbody tr th {\n",
       "        vertical-align: top;\n",
       "    }\n",
       "\n",
       "    .dataframe thead th {\n",
       "        text-align: right;\n",
       "    }\n",
       "</style>\n",
       "<table border=\"1\" class=\"dataframe\">\n",
       "  <thead>\n",
       "    <tr style=\"text-align: right;\">\n",
       "      <th></th>\n",
       "      <th>climber_id</th>\n",
       "      <th>name</th>\n",
       "      <th>ascents</th>\n",
       "      <th>grade_fra</th>\n",
       "      <th>grade</th>\n",
       "      <th>grade_range</th>\n",
       "      <th>country</th>\n",
       "      <th>crag</th>\n",
       "      <th>sector</th>\n",
       "      <th>height</th>\n",
       "    </tr>\n",
       "  </thead>\n",
       "  <tbody>\n",
       "    <tr>\n",
       "      <th>0</th>\n",
       "      <td>1</td>\n",
       "      <td>climber1</td>\n",
       "      <td>0</td>\n",
       "      <td>7b/+</td>\n",
       "      <td>54</td>\n",
       "      <td>1</td>\n",
       "      <td>esp</td>\n",
       "      <td>montserrat</td>\n",
       "      <td>agulla del senglar</td>\n",
       "      <td>170</td>\n",
       "    </tr>\n",
       "  </tbody>\n",
       "</table>\n",
       "</div>"
      ],
      "text/plain": [
       "   climber_id      name  ascents grade_fra  grade  grade_range country  \\\n",
       "0           1  climber1        0      7b/+     54            1     esp   \n",
       "\n",
       "         crag              sector  height  \n",
       "0  montserrat  agulla del senglar     170  "
      ]
     },
     "metadata": {},
     "output_type": "display_data"
    }
   ],
   "source": [
    "climber_1.set_attributes(grade = 29)\n",
    "climber_2.set_attributes(grade_range = 1)\n",
    "display(climber_1.get_data())\n",
    "display(climber_2.get_data())"
   ]
  },
  {
   "cell_type": "markdown",
   "id": "2db4f1bc",
   "metadata": {},
   "source": [
    "#### For routes"
   ]
  },
  {
   "cell_type": "code",
   "execution_count": 4,
   "id": "186e2360",
   "metadata": {},
   "outputs": [],
   "source": [
    "routes = pd.read_csv('../data/routes_clustered.csv',low_memory=False, index_col=0)"
   ]
  },
  {
   "cell_type": "code",
   "execution_count": 5,
   "id": "9d0bf33f",
   "metadata": {},
   "outputs": [
    {
     "data": {
      "text/plain": [
       "'Routes liked:'"
      ]
     },
     "metadata": {},
     "output_type": "display_data"
    },
    {
     "data": {
      "text/html": [
       "<div>\n",
       "<style scoped>\n",
       "    .dataframe tbody tr th:only-of-type {\n",
       "        vertical-align: middle;\n",
       "    }\n",
       "\n",
       "    .dataframe tbody tr th {\n",
       "        vertical-align: top;\n",
       "    }\n",
       "\n",
       "    .dataframe thead th {\n",
       "        text-align: right;\n",
       "    }\n",
       "</style>\n",
       "<table border=\"1\" class=\"dataframe\">\n",
       "  <thead>\n",
       "    <tr style=\"text-align: right;\">\n",
       "      <th></th>\n",
       "      <th>name_id</th>\n",
       "      <th>country</th>\n",
       "      <th>crag</th>\n",
       "      <th>sector</th>\n",
       "      <th>name</th>\n",
       "      <th>ascents_count</th>\n",
       "      <th>repeat_sum</th>\n",
       "      <th>recommend_sum</th>\n",
       "      <th>tall_recommend_sum</th>\n",
       "      <th>grade_mean</th>\n",
       "      <th>sentiment_mean</th>\n",
       "      <th>rating_mean</th>\n",
       "      <th>yellow_id_mean</th>\n",
       "      <th>first_ascent_mean</th>\n",
       "      <th>cluster</th>\n",
       "      <th>liked</th>\n",
       "    </tr>\n",
       "  </thead>\n",
       "  <tbody>\n",
       "    <tr>\n",
       "      <th>13403</th>\n",
       "      <td>13403</td>\n",
       "      <td>esp</td>\n",
       "      <td>cuenca</td>\n",
       "      <td>fortin</td>\n",
       "      <td>packard bell</td>\n",
       "      <td>7</td>\n",
       "      <td>0.0</td>\n",
       "      <td>1.0</td>\n",
       "      <td>0</td>\n",
       "      <td>51.428571</td>\n",
       "      <td>0.0</td>\n",
       "      <td>2.142857</td>\n",
       "      <td>182.142857</td>\n",
       "      <td>0.0</td>\n",
       "      <td>1</td>\n",
       "      <td>Yes</td>\n",
       "    </tr>\n",
       "  </tbody>\n",
       "</table>\n",
       "</div>"
      ],
      "text/plain": [
       "       name_id country    crag  sector          name  ascents_count  \\\n",
       "13403    13403     esp  cuenca  fortin  packard bell              7   \n",
       "\n",
       "       repeat_sum  recommend_sum  tall_recommend_sum  grade_mean  \\\n",
       "13403         0.0            1.0                   0   51.428571   \n",
       "\n",
       "       sentiment_mean  rating_mean  yellow_id_mean  first_ascent_mean  \\\n",
       "13403             0.0     2.142857      182.142857                0.0   \n",
       "\n",
       "       cluster liked  \n",
       "13403        1   Yes  "
      ]
     },
     "metadata": {},
     "output_type": "display_data"
    },
    {
     "name": "stdout",
     "output_type": "stream",
     "text": [
      "\n",
      "\n"
     ]
    },
    {
     "data": {
      "text/plain": [
       "'Routes not liked:'"
      ]
     },
     "metadata": {},
     "output_type": "display_data"
    },
    {
     "data": {
      "text/html": [
       "<div>\n",
       "<style scoped>\n",
       "    .dataframe tbody tr th:only-of-type {\n",
       "        vertical-align: middle;\n",
       "    }\n",
       "\n",
       "    .dataframe tbody tr th {\n",
       "        vertical-align: top;\n",
       "    }\n",
       "\n",
       "    .dataframe thead th {\n",
       "        text-align: right;\n",
       "    }\n",
       "</style>\n",
       "<table border=\"1\" class=\"dataframe\">\n",
       "  <thead>\n",
       "    <tr style=\"text-align: right;\">\n",
       "      <th></th>\n",
       "      <th>name_id</th>\n",
       "      <th>country</th>\n",
       "      <th>crag</th>\n",
       "      <th>sector</th>\n",
       "      <th>name</th>\n",
       "      <th>ascents_count</th>\n",
       "      <th>repeat_sum</th>\n",
       "      <th>recommend_sum</th>\n",
       "      <th>tall_recommend_sum</th>\n",
       "      <th>grade_mean</th>\n",
       "      <th>sentiment_mean</th>\n",
       "      <th>rating_mean</th>\n",
       "      <th>yellow_id_mean</th>\n",
       "      <th>first_ascent_mean</th>\n",
       "      <th>cluster</th>\n",
       "      <th>liked</th>\n",
       "    </tr>\n",
       "  </thead>\n",
       "  <tbody>\n",
       "    <tr>\n",
       "      <th>13403</th>\n",
       "      <td>13403</td>\n",
       "      <td>esp</td>\n",
       "      <td>cuenca</td>\n",
       "      <td>fortin</td>\n",
       "      <td>packard bell</td>\n",
       "      <td>7</td>\n",
       "      <td>0.0</td>\n",
       "      <td>1.0</td>\n",
       "      <td>0</td>\n",
       "      <td>51.428571</td>\n",
       "      <td>0.0</td>\n",
       "      <td>2.142857</td>\n",
       "      <td>182.142857</td>\n",
       "      <td>0.0</td>\n",
       "      <td>1</td>\n",
       "      <td>Yes</td>\n",
       "    </tr>\n",
       "    <tr>\n",
       "      <th>0</th>\n",
       "      <td>0</td>\n",
       "      <td>and</td>\n",
       "      <td>montserrat</td>\n",
       "      <td>prohibitivo</td>\n",
       "      <td>el mehir</td>\n",
       "      <td>6</td>\n",
       "      <td>0.0</td>\n",
       "      <td>1.0</td>\n",
       "      <td>-1</td>\n",
       "      <td>49.000000</td>\n",
       "      <td>0.0</td>\n",
       "      <td>2.000000</td>\n",
       "      <td>0.000000</td>\n",
       "      <td>0.0</td>\n",
       "      <td>0</td>\n",
       "      <td>N/A</td>\n",
       "    </tr>\n",
       "    <tr>\n",
       "      <th>55085</th>\n",
       "      <td>55085</td>\n",
       "      <td>zaf</td>\n",
       "      <td>van stadens</td>\n",
       "      <td>the beach</td>\n",
       "      <td>sheathless</td>\n",
       "      <td>2</td>\n",
       "      <td>0.0</td>\n",
       "      <td>0.0</td>\n",
       "      <td>-1</td>\n",
       "      <td>39.500000</td>\n",
       "      <td>0.0</td>\n",
       "      <td>2.000000</td>\n",
       "      <td>255.000000</td>\n",
       "      <td>0.0</td>\n",
       "      <td>1</td>\n",
       "      <td>No</td>\n",
       "    </tr>\n",
       "    <tr>\n",
       "      <th>55086</th>\n",
       "      <td>55086</td>\n",
       "      <td>zaf</td>\n",
       "      <td>waterval boven</td>\n",
       "      <td>baboon buttress</td>\n",
       "      <td>pretenders</td>\n",
       "      <td>2</td>\n",
       "      <td>0.0</td>\n",
       "      <td>1.0</td>\n",
       "      <td>0</td>\n",
       "      <td>49.000000</td>\n",
       "      <td>0.0</td>\n",
       "      <td>NaN</td>\n",
       "      <td>255.000000</td>\n",
       "      <td>0.0</td>\n",
       "      <td>1</td>\n",
       "      <td>No</td>\n",
       "    </tr>\n",
       "  </tbody>\n",
       "</table>\n",
       "</div>"
      ],
      "text/plain": [
       "       name_id country            crag           sector          name  \\\n",
       "13403    13403     esp          cuenca           fortin  packard bell   \n",
       "0            0     and      montserrat      prohibitivo      el mehir   \n",
       "55085    55085     zaf     van stadens        the beach    sheathless   \n",
       "55086    55086     zaf  waterval boven  baboon buttress    pretenders   \n",
       "\n",
       "       ascents_count  repeat_sum  recommend_sum  tall_recommend_sum  \\\n",
       "13403              7         0.0            1.0                   0   \n",
       "0                  6         0.0            1.0                  -1   \n",
       "55085              2         0.0            0.0                  -1   \n",
       "55086              2         0.0            1.0                   0   \n",
       "\n",
       "       grade_mean  sentiment_mean  rating_mean  yellow_id_mean  \\\n",
       "13403   51.428571             0.0     2.142857      182.142857   \n",
       "0       49.000000             0.0     2.000000        0.000000   \n",
       "55085   39.500000             0.0     2.000000      255.000000   \n",
       "55086   49.000000             0.0          NaN      255.000000   \n",
       "\n",
       "       first_ascent_mean  cluster liked  \n",
       "13403                0.0        1   Yes  \n",
       "0                    0.0        0   N/A  \n",
       "55085                0.0        1    No  \n",
       "55086                0.0        1    No  "
      ]
     },
     "metadata": {},
     "output_type": "display_data"
    }
   ],
   "source": [
    "climber_1.add_route_liked(routes.iloc[[13403]])\n",
    "climber_1.add_route_not_liked(routes.tail(2))\n",
    "climber_1.add_route(routes.head(1))\n",
    "display(\"Routes liked:\",climber_1.get_routes_liked())\n",
    "print()\n",
    "print()\n",
    "display(\"Routes not liked:\",climber_1.get_routes_climbed())"
   ]
  },
  {
   "cell_type": "markdown",
   "id": "dense-compromise",
   "metadata": {},
   "source": [
    "Is route already in?"
   ]
  },
  {
   "cell_type": "code",
   "execution_count": 13,
   "id": "ruled-cooking",
   "metadata": {},
   "outputs": [],
   "source": [
    "climber_1.add_route_not_liked(routes.tail(100))"
   ]
  },
  {
   "cell_type": "code",
   "execution_count": 18,
   "id": "hybrid-template",
   "metadata": {},
   "outputs": [],
   "source": [
    "climber_1.add_route_liked(routes.head(100))"
   ]
  },
  {
   "cell_type": "markdown",
   "id": "f109172d",
   "metadata": {},
   "source": [
    "#### For clusters"
   ]
  },
  {
   "cell_type": "code",
   "execution_count": 94,
   "id": "artistic-shell",
   "metadata": {},
   "outputs": [
    {
     "data": {
      "text/plain": [
       "[100, -6, -2, 7, 1, 0, 0, 0, 0]"
      ]
     },
     "execution_count": 94,
     "metadata": {},
     "output_type": "execute_result"
    }
   ],
   "source": [
    "climber_1.cluster"
   ]
  },
  {
   "cell_type": "code",
   "execution_count": 95,
   "id": "7c570c9e",
   "metadata": {},
   "outputs": [
    {
     "data": {
      "text/plain": [
       "[0, 3, 4, 5, 6, 7, 8, 2, 1]"
      ]
     },
     "execution_count": 95,
     "metadata": {},
     "output_type": "execute_result"
    }
   ],
   "source": [
    "climber_1.get_cluster_order()"
   ]
  },
  {
   "cell_type": "code",
   "execution_count": 114,
   "id": "developmental-lewis",
   "metadata": {},
   "outputs": [
    {
     "data": {
      "text/plain": [
       "[1, 2, 8, 7, 6, 5, 4, 3, 0]"
      ]
     },
     "execution_count": 114,
     "metadata": {},
     "output_type": "execute_result"
    }
   ],
   "source": [
    "lst = climber_1.get_cluster_order()\n",
    "[lst[len(lst)-idx-1] for idx in range(len(lst))]"
   ]
  },
  {
   "cell_type": "code",
   "execution_count": 110,
   "id": "marked-species",
   "metadata": {},
   "outputs": [
    {
     "data": {
      "text/plain": [
       "9"
      ]
     },
     "execution_count": 110,
     "metadata": {},
     "output_type": "execute_result"
    }
   ],
   "source": [
    "len(lst)"
   ]
  },
  {
   "cell_type": "code",
   "execution_count": 9,
   "id": "480452cd",
   "metadata": {},
   "outputs": [],
   "source": [
    "climber_1.add_route_liked(routes.head(1346456))"
   ]
  },
  {
   "cell_type": "code",
   "execution_count": 10,
   "id": "composed-palestinian",
   "metadata": {},
   "outputs": [
    {
     "data": {
      "text/plain": [
       "[22565, 22294, 1760, 7006, 1461, 0, 0, 0, 0]"
      ]
     },
     "execution_count": 10,
     "metadata": {},
     "output_type": "execute_result"
    }
   ],
   "source": [
    "climber_1.cluster"
   ]
  },
  {
   "cell_type": "code",
   "execution_count": 11,
   "id": "moderate-infrastructure",
   "metadata": {},
   "outputs": [
    {
     "data": {
      "text/plain": [
       "[0, 1, 3, 2, 4, 5, 6, 7, 8]"
      ]
     },
     "execution_count": 11,
     "metadata": {},
     "output_type": "execute_result"
    }
   ],
   "source": [
    "climber_1.get_cluster_order()"
   ]
  },
  {
   "cell_type": "code",
   "execution_count": 12,
   "id": "declared-special",
   "metadata": {},
   "outputs": [
    {
     "data": {
      "text/html": [
       "<div>\n",
       "<style scoped>\n",
       "    .dataframe tbody tr th:only-of-type {\n",
       "        vertical-align: middle;\n",
       "    }\n",
       "\n",
       "    .dataframe tbody tr th {\n",
       "        vertical-align: top;\n",
       "    }\n",
       "\n",
       "    .dataframe thead th {\n",
       "        text-align: right;\n",
       "    }\n",
       "</style>\n",
       "<table border=\"1\" class=\"dataframe\">\n",
       "  <thead>\n",
       "    <tr style=\"text-align: right;\">\n",
       "      <th></th>\n",
       "      <th>name_id</th>\n",
       "      <th>country</th>\n",
       "      <th>crag</th>\n",
       "      <th>sector</th>\n",
       "      <th>name</th>\n",
       "      <th>ascents_count</th>\n",
       "      <th>repeat_sum</th>\n",
       "      <th>recommend_sum</th>\n",
       "      <th>tall_recommend_sum</th>\n",
       "      <th>grade_mean</th>\n",
       "      <th>sentiment_mean</th>\n",
       "      <th>rating_mean</th>\n",
       "      <th>yellow_id_mean</th>\n",
       "      <th>first_ascent_mean</th>\n",
       "      <th>cluster</th>\n",
       "      <th>liked</th>\n",
       "    </tr>\n",
       "  </thead>\n",
       "  <tbody>\n",
       "  </tbody>\n",
       "</table>\n",
       "</div>"
      ],
      "text/plain": [
       "Empty DataFrame\n",
       "Columns: [name_id, country, crag, sector, name, ascents_count, repeat_sum, recommend_sum, tall_recommend_sum, grade_mean, sentiment_mean, rating_mean, yellow_id_mean, first_ascent_mean, cluster, liked]\n",
       "Index: []"
      ]
     },
     "metadata": {},
     "output_type": "display_data"
    }
   ],
   "source": [
    "climber_1.clear_routes()\n",
    "display(climber_1.get_routes_climbed())"
   ]
  },
  {
   "cell_type": "code",
   "execution_count": null,
   "id": "isolated-journalist",
   "metadata": {},
   "outputs": [],
   "source": []
  }
 ],
 "metadata": {
  "kernelspec": {
   "display_name": "Python 3 (ipykernel)",
   "language": "python",
   "name": "python3"
  },
  "language_info": {
   "codemirror_mode": {
    "name": "ipython",
    "version": 3
   },
   "file_extension": ".py",
   "mimetype": "text/x-python",
   "name": "python",
   "nbconvert_exporter": "python",
   "pygments_lexer": "ipython3",
   "version": "3.9.5"
  }
 },
 "nbformat": 4,
 "nbformat_minor": 5
}
