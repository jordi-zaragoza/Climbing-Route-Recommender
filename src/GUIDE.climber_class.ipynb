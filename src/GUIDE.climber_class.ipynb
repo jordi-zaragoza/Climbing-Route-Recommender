{
 "cells": [
  {
   "cell_type": "code",
   "execution_count": 1,
   "id": "7b050b7d",
   "metadata": {},
   "outputs": [],
   "source": [
    "from lib.climber_class import *"
   ]
  },
  {
   "cell_type": "markdown",
   "id": "1b0a4ce2",
   "metadata": {},
   "source": [
    "# User"
   ]
  },
  {
   "cell_type": "markdown",
   "id": "e0483a0c",
   "metadata": {},
   "source": [
    "We need to create a user with this same route features\n",
    "- Grade\n",
    "- Location\n",
    "- Cluster\n",
    "- Heigh"
   ]
  },
  {
   "cell_type": "markdown",
   "id": "634c9d79",
   "metadata": {},
   "source": [
    "#### Climber atributes"
   ]
  },
  {
   "cell_type": "code",
   "execution_count": 2,
   "id": "1af8d06c",
   "metadata": {},
   "outputs": [
    {
     "name": "stdout",
     "output_type": "stream",
     "text": [
      "Climber class initialized\n",
      "Climber class initialized\n"
     ]
    },
    {
     "data": {
      "text/html": [
       "<div>\n",
       "<style scoped>\n",
       "    .dataframe tbody tr th:only-of-type {\n",
       "        vertical-align: middle;\n",
       "    }\n",
       "\n",
       "    .dataframe tbody tr th {\n",
       "        vertical-align: top;\n",
       "    }\n",
       "\n",
       "    .dataframe thead th {\n",
       "        text-align: right;\n",
       "    }\n",
       "</style>\n",
       "<table border=\"1\" class=\"dataframe\">\n",
       "  <thead>\n",
       "    <tr style=\"text-align: right;\">\n",
       "      <th></th>\n",
       "      <th>climber_id</th>\n",
       "      <th>name</th>\n",
       "      <th>ascents</th>\n",
       "      <th>grade_fra</th>\n",
       "      <th>grade</th>\n",
       "      <th>grade_range</th>\n",
       "      <th>country</th>\n",
       "      <th>crag</th>\n",
       "      <th>sector</th>\n",
       "      <th>height</th>\n",
       "    </tr>\n",
       "  </thead>\n",
       "  <tbody>\n",
       "    <tr>\n",
       "      <th>0</th>\n",
       "      <td>0</td>\n",
       "      <td>jordi</td>\n",
       "      <td>0</td>\n",
       "      <td>6b+/6c</td>\n",
       "      <td>44</td>\n",
       "      <td>3</td>\n",
       "      <td>rum</td>\n",
       "      <td>eidas</td>\n",
       "      <td>ajs niod</td>\n",
       "      <td>165</td>\n",
       "    </tr>\n",
       "  </tbody>\n",
       "</table>\n",
       "</div>"
      ],
      "text/plain": [
       "   climber_id   name  ascents grade_fra  grade  grade_range country   crag  \\\n",
       "0           0  jordi        0    6b+/6c     44            3     rum  eidas   \n",
       "\n",
       "     sector  height  \n",
       "0  ajs niod     165  "
      ]
     },
     "metadata": {},
     "output_type": "display_data"
    },
    {
     "data": {
      "text/html": [
       "<div>\n",
       "<style scoped>\n",
       "    .dataframe tbody tr th:only-of-type {\n",
       "        vertical-align: middle;\n",
       "    }\n",
       "\n",
       "    .dataframe tbody tr th {\n",
       "        vertical-align: top;\n",
       "    }\n",
       "\n",
       "    .dataframe thead th {\n",
       "        text-align: right;\n",
       "    }\n",
       "</style>\n",
       "<table border=\"1\" class=\"dataframe\">\n",
       "  <thead>\n",
       "    <tr style=\"text-align: right;\">\n",
       "      <th></th>\n",
       "      <th>climber_id</th>\n",
       "      <th>name</th>\n",
       "      <th>ascents</th>\n",
       "      <th>grade_fra</th>\n",
       "      <th>grade</th>\n",
       "      <th>grade_range</th>\n",
       "      <th>country</th>\n",
       "      <th>crag</th>\n",
       "      <th>sector</th>\n",
       "      <th>height</th>\n",
       "    </tr>\n",
       "  </thead>\n",
       "  <tbody>\n",
       "    <tr>\n",
       "      <th>0</th>\n",
       "      <td>1</td>\n",
       "      <td>climber1</td>\n",
       "      <td>0</td>\n",
       "      <td>7b/+</td>\n",
       "      <td>54</td>\n",
       "      <td>2</td>\n",
       "      <td>esp</td>\n",
       "      <td>montserrat</td>\n",
       "      <td>agulla del senglar</td>\n",
       "      <td>170</td>\n",
       "    </tr>\n",
       "  </tbody>\n",
       "</table>\n",
       "</div>"
      ],
      "text/plain": [
       "   climber_id      name  ascents grade_fra  grade  grade_range country  \\\n",
       "0           1  climber1        0      7b/+     54            2     esp   \n",
       "\n",
       "         crag              sector  height  \n",
       "0  montserrat  agulla del senglar     170  "
      ]
     },
     "metadata": {},
     "output_type": "display_data"
    }
   ],
   "source": [
    "climber_1 = Climber('jordi',44,3,['rum','eidas','ajs niod'],165)\n",
    "climber_2 = Climber()\n",
    "display(climber_1.get_data())\n",
    "display(climber_2.get_data())"
   ]
  },
  {
   "cell_type": "code",
   "execution_count": 6,
   "id": "b0cec742",
   "metadata": {},
   "outputs": [
    {
     "data": {
      "text/plain": [
       "44"
      ]
     },
     "execution_count": 6,
     "metadata": {},
     "output_type": "execute_result"
    }
   ],
   "source": [
    "climber_1.get_data().grade[0]"
   ]
  },
  {
   "cell_type": "code",
   "execution_count": 3,
   "id": "e5a20d30",
   "metadata": {},
   "outputs": [
    {
     "data": {
      "text/html": [
       "<div>\n",
       "<style scoped>\n",
       "    .dataframe tbody tr th:only-of-type {\n",
       "        vertical-align: middle;\n",
       "    }\n",
       "\n",
       "    .dataframe tbody tr th {\n",
       "        vertical-align: top;\n",
       "    }\n",
       "\n",
       "    .dataframe thead th {\n",
       "        text-align: right;\n",
       "    }\n",
       "</style>\n",
       "<table border=\"1\" class=\"dataframe\">\n",
       "  <thead>\n",
       "    <tr style=\"text-align: right;\">\n",
       "      <th></th>\n",
       "      <th>climber_id</th>\n",
       "      <th>name</th>\n",
       "      <th>ascents</th>\n",
       "      <th>grade_fra</th>\n",
       "      <th>grade</th>\n",
       "      <th>grade_range</th>\n",
       "      <th>country</th>\n",
       "      <th>crag</th>\n",
       "      <th>sector</th>\n",
       "      <th>height</th>\n",
       "    </tr>\n",
       "  </thead>\n",
       "  <tbody>\n",
       "    <tr>\n",
       "      <th>0</th>\n",
       "      <td>0</td>\n",
       "      <td>jordi</td>\n",
       "      <td>0</td>\n",
       "      <td>5</td>\n",
       "      <td>29</td>\n",
       "      <td>3</td>\n",
       "      <td>rum</td>\n",
       "      <td>eidas</td>\n",
       "      <td>ajs niod</td>\n",
       "      <td>165</td>\n",
       "    </tr>\n",
       "  </tbody>\n",
       "</table>\n",
       "</div>"
      ],
      "text/plain": [
       "   climber_id   name  ascents grade_fra  grade  grade_range country   crag  \\\n",
       "0           0  jordi        0         5     29            3     rum  eidas   \n",
       "\n",
       "     sector  height  \n",
       "0  ajs niod     165  "
      ]
     },
     "metadata": {},
     "output_type": "display_data"
    },
    {
     "data": {
      "text/html": [
       "<div>\n",
       "<style scoped>\n",
       "    .dataframe tbody tr th:only-of-type {\n",
       "        vertical-align: middle;\n",
       "    }\n",
       "\n",
       "    .dataframe tbody tr th {\n",
       "        vertical-align: top;\n",
       "    }\n",
       "\n",
       "    .dataframe thead th {\n",
       "        text-align: right;\n",
       "    }\n",
       "</style>\n",
       "<table border=\"1\" class=\"dataframe\">\n",
       "  <thead>\n",
       "    <tr style=\"text-align: right;\">\n",
       "      <th></th>\n",
       "      <th>climber_id</th>\n",
       "      <th>name</th>\n",
       "      <th>ascents</th>\n",
       "      <th>grade_fra</th>\n",
       "      <th>grade</th>\n",
       "      <th>grade_range</th>\n",
       "      <th>country</th>\n",
       "      <th>crag</th>\n",
       "      <th>sector</th>\n",
       "      <th>height</th>\n",
       "    </tr>\n",
       "  </thead>\n",
       "  <tbody>\n",
       "    <tr>\n",
       "      <th>0</th>\n",
       "      <td>1</td>\n",
       "      <td>climber1</td>\n",
       "      <td>0</td>\n",
       "      <td>7b/+</td>\n",
       "      <td>54</td>\n",
       "      <td>1</td>\n",
       "      <td>esp</td>\n",
       "      <td>montserrat</td>\n",
       "      <td>agulla del senglar</td>\n",
       "      <td>170</td>\n",
       "    </tr>\n",
       "  </tbody>\n",
       "</table>\n",
       "</div>"
      ],
      "text/plain": [
       "   climber_id      name  ascents grade_fra  grade  grade_range country  \\\n",
       "0           1  climber1        0      7b/+     54            1     esp   \n",
       "\n",
       "         crag              sector  height  \n",
       "0  montserrat  agulla del senglar     170  "
      ]
     },
     "metadata": {},
     "output_type": "display_data"
    }
   ],
   "source": [
    "climber_1.set_attributes(grade = 29)\n",
    "climber_2.set_attributes(grade_range = 1)\n",
    "display(climber_1.get_data())\n",
    "display(climber_2.get_data())"
   ]
  },
  {
   "cell_type": "markdown",
   "id": "2db4f1bc",
   "metadata": {},
   "source": [
    "#### For routes"
   ]
  },
  {
   "cell_type": "code",
   "execution_count": 4,
   "id": "186e2360",
   "metadata": {},
   "outputs": [],
   "source": [
    "routes = pd.read_csv('../data/routes_rated.csv',low_memory=False, index_col=0)"
   ]
  },
  {
   "cell_type": "code",
   "execution_count": 5,
   "id": "9d0bf33f",
   "metadata": {},
   "outputs": [
    {
     "data": {
      "text/plain": [
       "'Routes liked:'"
      ]
     },
     "metadata": {},
     "output_type": "display_data"
    },
    {
     "data": {
      "text/html": [
       "<div>\n",
       "<style scoped>\n",
       "    .dataframe tbody tr th:only-of-type {\n",
       "        vertical-align: middle;\n",
       "    }\n",
       "\n",
       "    .dataframe tbody tr th {\n",
       "        vertical-align: top;\n",
       "    }\n",
       "\n",
       "    .dataframe thead th {\n",
       "        text-align: right;\n",
       "    }\n",
       "</style>\n",
       "<table border=\"1\" class=\"dataframe\">\n",
       "  <thead>\n",
       "    <tr style=\"text-align: right;\">\n",
       "      <th></th>\n",
       "      <th>name_id</th>\n",
       "      <th>country</th>\n",
       "      <th>crag</th>\n",
       "      <th>sector</th>\n",
       "      <th>name</th>\n",
       "      <th>tall_recommend_sum</th>\n",
       "      <th>grade_mean</th>\n",
       "      <th>cluster</th>\n",
       "      <th>rating_tot</th>\n",
       "      <th>liked</th>\n",
       "    </tr>\n",
       "  </thead>\n",
       "  <tbody>\n",
       "    <tr>\n",
       "      <th>13403</th>\n",
       "      <td>13403</td>\n",
       "      <td>esp</td>\n",
       "      <td>cocentaina</td>\n",
       "      <td>mas de la penya</td>\n",
       "      <td>demolition man</td>\n",
       "      <td>0</td>\n",
       "      <td>46.75</td>\n",
       "      <td>3</td>\n",
       "      <td>-0.109745</td>\n",
       "      <td>Yes</td>\n",
       "    </tr>\n",
       "  </tbody>\n",
       "</table>\n",
       "</div>"
      ],
      "text/plain": [
       "       name_id country        crag           sector            name  \\\n",
       "13403    13403     esp  cocentaina  mas de la penya  demolition man   \n",
       "\n",
       "       tall_recommend_sum  grade_mean  cluster  rating_tot liked  \n",
       "13403                   0       46.75        3   -0.109745   Yes  "
      ]
     },
     "metadata": {},
     "output_type": "display_data"
    },
    {
     "name": "stdout",
     "output_type": "stream",
     "text": [
      "\n",
      "\n"
     ]
    },
    {
     "data": {
      "text/plain": [
       "'Routes not liked:'"
      ]
     },
     "metadata": {},
     "output_type": "display_data"
    },
    {
     "data": {
      "text/html": [
       "<div>\n",
       "<style scoped>\n",
       "    .dataframe tbody tr th:only-of-type {\n",
       "        vertical-align: middle;\n",
       "    }\n",
       "\n",
       "    .dataframe tbody tr th {\n",
       "        vertical-align: top;\n",
       "    }\n",
       "\n",
       "    .dataframe thead th {\n",
       "        text-align: right;\n",
       "    }\n",
       "</style>\n",
       "<table border=\"1\" class=\"dataframe\">\n",
       "  <thead>\n",
       "    <tr style=\"text-align: right;\">\n",
       "      <th></th>\n",
       "      <th>name_id</th>\n",
       "      <th>country</th>\n",
       "      <th>crag</th>\n",
       "      <th>sector</th>\n",
       "      <th>name</th>\n",
       "      <th>tall_recommend_sum</th>\n",
       "      <th>grade_mean</th>\n",
       "      <th>cluster</th>\n",
       "      <th>rating_tot</th>\n",
       "      <th>liked</th>\n",
       "    </tr>\n",
       "  </thead>\n",
       "  <tbody>\n",
       "    <tr>\n",
       "      <th>13403</th>\n",
       "      <td>13403</td>\n",
       "      <td>esp</td>\n",
       "      <td>cocentaina</td>\n",
       "      <td>mas de la penya</td>\n",
       "      <td>demolition man</td>\n",
       "      <td>0</td>\n",
       "      <td>46.75</td>\n",
       "      <td>3</td>\n",
       "      <td>-0.109745</td>\n",
       "      <td>Yes</td>\n",
       "    </tr>\n",
       "    <tr>\n",
       "      <th>0</th>\n",
       "      <td>0</td>\n",
       "      <td>and</td>\n",
       "      <td>montserrat</td>\n",
       "      <td>prohibitivo</td>\n",
       "      <td>diagonal de la x</td>\n",
       "      <td>-1</td>\n",
       "      <td>49.25</td>\n",
       "      <td>3</td>\n",
       "      <td>-0.045211</td>\n",
       "      <td>N/A</td>\n",
       "    </tr>\n",
       "    <tr>\n",
       "      <th>55856</th>\n",
       "      <td>55856</td>\n",
       "      <td>zaf</td>\n",
       "      <td>van stadens</td>\n",
       "      <td>cleopatra wall</td>\n",
       "      <td>tekel</td>\n",
       "      <td>0</td>\n",
       "      <td>44.00</td>\n",
       "      <td>2</td>\n",
       "      <td>0.439815</td>\n",
       "      <td>No</td>\n",
       "    </tr>\n",
       "    <tr>\n",
       "      <th>55857</th>\n",
       "      <td>55857</td>\n",
       "      <td>zaf</td>\n",
       "      <td>waterval boven</td>\n",
       "      <td>baboon buttress</td>\n",
       "      <td>pretenders</td>\n",
       "      <td>0</td>\n",
       "      <td>49.00</td>\n",
       "      <td>2</td>\n",
       "      <td>0.425427</td>\n",
       "      <td>No</td>\n",
       "    </tr>\n",
       "  </tbody>\n",
       "</table>\n",
       "</div>"
      ],
      "text/plain": [
       "       name_id country            crag           sector              name  \\\n",
       "13403    13403     esp      cocentaina  mas de la penya    demolition man   \n",
       "0            0     and      montserrat      prohibitivo  diagonal de la x   \n",
       "55856    55856     zaf     van stadens   cleopatra wall             tekel   \n",
       "55857    55857     zaf  waterval boven  baboon buttress        pretenders   \n",
       "\n",
       "       tall_recommend_sum  grade_mean  cluster  rating_tot liked  \n",
       "13403                   0       46.75        3   -0.109745   Yes  \n",
       "0                      -1       49.25        3   -0.045211   N/A  \n",
       "55856                   0       44.00        2    0.439815    No  \n",
       "55857                   0       49.00        2    0.425427    No  "
      ]
     },
     "metadata": {},
     "output_type": "display_data"
    }
   ],
   "source": [
    "climber_1.add_route_liked(routes.iloc[[13403]])\n",
    "climber_1.add_route_not_liked(routes.tail(2))\n",
    "climber_1.add_route(routes.head(1))\n",
    "display(\"Routes liked:\",climber_1.get_routes_liked())\n",
    "print()\n",
    "print()\n",
    "display(\"Routes not liked:\",climber_1.get_routes_climbed())"
   ]
  },
  {
   "cell_type": "markdown",
   "id": "dense-compromise",
   "metadata": {},
   "source": [
    "Is route already in?"
   ]
  },
  {
   "cell_type": "code",
   "execution_count": 6,
   "id": "ruled-cooking",
   "metadata": {},
   "outputs": [],
   "source": [
    "climber_1.add_route_not_liked(routes.tail(100))"
   ]
  },
  {
   "cell_type": "code",
   "execution_count": 7,
   "id": "hybrid-template",
   "metadata": {},
   "outputs": [],
   "source": [
    "climber_1.add_route_liked(routes.head(100))"
   ]
  },
  {
   "cell_type": "markdown",
   "id": "f109172d",
   "metadata": {},
   "source": [
    "#### For clusters"
   ]
  },
  {
   "cell_type": "code",
   "execution_count": 8,
   "id": "artistic-shell",
   "metadata": {},
   "outputs": [
    {
     "data": {
      "text/plain": [
       "[10, -3, -11, 8, -4, -2, 1, 0, 0]"
      ]
     },
     "execution_count": 8,
     "metadata": {},
     "output_type": "execute_result"
    }
   ],
   "source": [
    "climber_1.cluster"
   ]
  },
  {
   "cell_type": "code",
   "execution_count": 9,
   "id": "7c570c9e",
   "metadata": {},
   "outputs": [
    {
     "data": {
      "text/plain": [
       "[0, 3, 6, 7, 8, 5, 1, 4, 2]"
      ]
     },
     "execution_count": 9,
     "metadata": {},
     "output_type": "execute_result"
    }
   ],
   "source": [
    "climber_1.get_cluster_order()"
   ]
  },
  {
   "cell_type": "code",
   "execution_count": 10,
   "id": "developmental-lewis",
   "metadata": {},
   "outputs": [
    {
     "data": {
      "text/plain": [
       "[2, 4, 1, 5, 8, 7, 6, 3, 0]"
      ]
     },
     "execution_count": 10,
     "metadata": {},
     "output_type": "execute_result"
    }
   ],
   "source": [
    "lst = climber_1.get_cluster_order()\n",
    "[lst[len(lst)-idx-1] for idx in range(len(lst))]"
   ]
  },
  {
   "cell_type": "code",
   "execution_count": 11,
   "id": "marked-species",
   "metadata": {},
   "outputs": [
    {
     "data": {
      "text/plain": [
       "9"
      ]
     },
     "execution_count": 11,
     "metadata": {},
     "output_type": "execute_result"
    }
   ],
   "source": [
    "len(lst)"
   ]
  },
  {
   "cell_type": "code",
   "execution_count": 12,
   "id": "480452cd",
   "metadata": {},
   "outputs": [],
   "source": [
    "climber_1.add_route_liked(routes.head(1000))"
   ]
  },
  {
   "cell_type": "code",
   "execution_count": 13,
   "id": "composed-palestinian",
   "metadata": {},
   "outputs": [
    {
     "data": {
      "text/plain": [
       "[121, 148, 569, 91, 18, 1, 20, 11, 20]"
      ]
     },
     "execution_count": 13,
     "metadata": {},
     "output_type": "execute_result"
    }
   ],
   "source": [
    "climber_1.cluster"
   ]
  },
  {
   "cell_type": "code",
   "execution_count": 14,
   "id": "moderate-infrastructure",
   "metadata": {},
   "outputs": [
    {
     "data": {
      "text/plain": [
       "[2, 1, 0, 3, 6, 8, 4, 7, 5]"
      ]
     },
     "execution_count": 14,
     "metadata": {},
     "output_type": "execute_result"
    }
   ],
   "source": [
    "climber_1.get_cluster_order()"
   ]
  },
  {
   "cell_type": "code",
   "execution_count": 15,
   "id": "declared-special",
   "metadata": {},
   "outputs": [],
   "source": [
    "# climber_1.clear_routes()\n",
    "# display(climber_1.get_routes_climbed())"
   ]
  },
  {
   "cell_type": "markdown",
   "id": "e5921ad5",
   "metadata": {},
   "source": [
    "# From class to Mongo"
   ]
  },
  {
   "cell_type": "code",
   "execution_count": 1,
   "id": "1b097b30",
   "metadata": {},
   "outputs": [],
   "source": [
    "from lib.mongo_jor import *"
   ]
  },
  {
   "cell_type": "code",
   "execution_count": 3,
   "id": "1edec277",
   "metadata": {},
   "outputs": [],
   "source": [
    "import pymongo"
   ]
  },
  {
   "cell_type": "code",
   "execution_count": 4,
   "id": "971b2055",
   "metadata": {},
   "outputs": [
    {
     "data": {
      "text/plain": [
       "'4.1.1'"
      ]
     },
     "execution_count": 4,
     "metadata": {},
     "output_type": "execute_result"
    }
   ],
   "source": [
    "pymongo.__version__"
   ]
  },
  {
   "cell_type": "code",
   "execution_count": 17,
   "id": "3d5ee0a2",
   "metadata": {},
   "outputs": [],
   "source": [
    "delete_db()"
   ]
  },
  {
   "cell_type": "code",
   "execution_count": 18,
   "id": "83377dc5",
   "metadata": {},
   "outputs": [
    {
     "data": {
      "text/html": [
       "<div>\n",
       "<style scoped>\n",
       "    .dataframe tbody tr th:only-of-type {\n",
       "        vertical-align: middle;\n",
       "    }\n",
       "\n",
       "    .dataframe tbody tr th {\n",
       "        vertical-align: top;\n",
       "    }\n",
       "\n",
       "    .dataframe thead th {\n",
       "        text-align: right;\n",
       "    }\n",
       "</style>\n",
       "<table border=\"1\" class=\"dataframe\">\n",
       "  <thead>\n",
       "    <tr style=\"text-align: right;\">\n",
       "      <th></th>\n",
       "      <th>climber_id</th>\n",
       "      <th>name</th>\n",
       "    </tr>\n",
       "  </thead>\n",
       "  <tbody>\n",
       "  </tbody>\n",
       "</table>\n",
       "</div>"
      ],
      "text/plain": [
       "Empty DataFrame\n",
       "Columns: [climber_id, name]\n",
       "Index: []"
      ]
     },
     "execution_count": 18,
     "metadata": {},
     "output_type": "execute_result"
    }
   ],
   "source": [
    "list_climbers()"
   ]
  },
  {
   "cell_type": "code",
   "execution_count": 19,
   "id": "1d493713",
   "metadata": {
    "scrolled": true
   },
   "outputs": [
    {
     "name": "stdout",
     "output_type": "stream",
     "text": [
      "Created new climber\n"
     ]
    }
   ],
   "source": [
    "save_climber(climber_1)"
   ]
  },
  {
   "cell_type": "code",
   "execution_count": 20,
   "id": "2342a057",
   "metadata": {},
   "outputs": [
    {
     "data": {
      "text/html": [
       "<div>\n",
       "<style scoped>\n",
       "    .dataframe tbody tr th:only-of-type {\n",
       "        vertical-align: middle;\n",
       "    }\n",
       "\n",
       "    .dataframe tbody tr th {\n",
       "        vertical-align: top;\n",
       "    }\n",
       "\n",
       "    .dataframe thead th {\n",
       "        text-align: right;\n",
       "    }\n",
       "</style>\n",
       "<table border=\"1\" class=\"dataframe\">\n",
       "  <thead>\n",
       "    <tr style=\"text-align: right;\">\n",
       "      <th></th>\n",
       "      <th>climber_id</th>\n",
       "      <th>name</th>\n",
       "    </tr>\n",
       "  </thead>\n",
       "  <tbody>\n",
       "    <tr>\n",
       "      <th>0</th>\n",
       "      <td>0</td>\n",
       "      <td>jordi</td>\n",
       "    </tr>\n",
       "  </tbody>\n",
       "</table>\n",
       "</div>"
      ],
      "text/plain": [
       "   climber_id   name\n",
       "0           0  jordi"
      ]
     },
     "execution_count": 20,
     "metadata": {},
     "output_type": "execute_result"
    }
   ],
   "source": [
    "list_climbers()"
   ]
  },
  {
   "cell_type": "code",
   "execution_count": 22,
   "id": "e088f4f9",
   "metadata": {
    "scrolled": false
   },
   "outputs": [
    {
     "name": "stdout",
     "output_type": "stream",
     "text": [
      "Climber class initialized\n"
     ]
    },
    {
     "data": {
      "text/html": [
       "<div>\n",
       "<style scoped>\n",
       "    .dataframe tbody tr th:only-of-type {\n",
       "        vertical-align: middle;\n",
       "    }\n",
       "\n",
       "    .dataframe tbody tr th {\n",
       "        vertical-align: top;\n",
       "    }\n",
       "\n",
       "    .dataframe thead th {\n",
       "        text-align: right;\n",
       "    }\n",
       "</style>\n",
       "<table border=\"1\" class=\"dataframe\">\n",
       "  <thead>\n",
       "    <tr style=\"text-align: right;\">\n",
       "      <th></th>\n",
       "      <th>climber_id</th>\n",
       "      <th>name</th>\n",
       "      <th>ascents</th>\n",
       "      <th>grade_fra</th>\n",
       "      <th>grade</th>\n",
       "      <th>grade_range</th>\n",
       "      <th>country</th>\n",
       "      <th>crag</th>\n",
       "      <th>sector</th>\n",
       "      <th>height</th>\n",
       "    </tr>\n",
       "  </thead>\n",
       "  <tbody>\n",
       "    <tr>\n",
       "      <th>0</th>\n",
       "      <td>0</td>\n",
       "      <td>jordi</td>\n",
       "      <td>0</td>\n",
       "      <td>5</td>\n",
       "      <td>29</td>\n",
       "      <td>3</td>\n",
       "      <td>rum</td>\n",
       "      <td>eidas</td>\n",
       "      <td>ajs niod</td>\n",
       "      <td>165</td>\n",
       "    </tr>\n",
       "  </tbody>\n",
       "</table>\n",
       "</div>"
      ],
      "text/plain": [
       "   climber_id   name  ascents grade_fra  grade  grade_range country   crag  \\\n",
       "0           0  jordi        0         5     29            3     rum  eidas   \n",
       "\n",
       "     sector  height  \n",
       "0  ajs niod     165  "
      ]
     },
     "execution_count": 22,
     "metadata": {},
     "output_type": "execute_result"
    }
   ],
   "source": [
    "climber_1 = load_climber(0)\n",
    "climber_1.get_data()"
   ]
  },
  {
   "cell_type": "code",
   "execution_count": 23,
   "id": "1d6e47c3",
   "metadata": {},
   "outputs": [
    {
     "data": {
      "text/plain": [
       "[121, 148, 569, 91, 18, 1, 20, 11, 20]"
      ]
     },
     "execution_count": 23,
     "metadata": {},
     "output_type": "execute_result"
    }
   ],
   "source": [
    "climber_1.get_cluster()"
   ]
  },
  {
   "cell_type": "code",
   "execution_count": 24,
   "id": "a661e758",
   "metadata": {},
   "outputs": [],
   "source": [
    "climber_1.set_cluster([6571, 0, 30489, 0, 0, 504, 1177, 1354, 1779])"
   ]
  },
  {
   "cell_type": "code",
   "execution_count": 25,
   "id": "69943bf1",
   "metadata": {},
   "outputs": [
    {
     "name": "stdout",
     "output_type": "stream",
     "text": [
      "Climber already exists on the database\n",
      "climber successfully updated\n"
     ]
    }
   ],
   "source": [
    "save_climber(climber_1)"
   ]
  },
  {
   "cell_type": "code",
   "execution_count": 27,
   "id": "9ce9f93b",
   "metadata": {},
   "outputs": [
    {
     "name": "stdout",
     "output_type": "stream",
     "text": [
      "Climber class initialized\n"
     ]
    },
    {
     "data": {
      "text/plain": [
       "[6571, 0, 30489, 0, 0, 504, 1177, 1354, 1779]"
      ]
     },
     "execution_count": 27,
     "metadata": {},
     "output_type": "execute_result"
    }
   ],
   "source": [
    "climber_2 = load_climber(0)\n",
    "climber_2.get_cluster()"
   ]
  },
  {
   "cell_type": "code",
   "execution_count": 28,
   "id": "7f4d863f",
   "metadata": {},
   "outputs": [
    {
     "data": {
      "text/html": [
       "<div>\n",
       "<style scoped>\n",
       "    .dataframe tbody tr th:only-of-type {\n",
       "        vertical-align: middle;\n",
       "    }\n",
       "\n",
       "    .dataframe tbody tr th {\n",
       "        vertical-align: top;\n",
       "    }\n",
       "\n",
       "    .dataframe thead th {\n",
       "        text-align: right;\n",
       "    }\n",
       "</style>\n",
       "<table border=\"1\" class=\"dataframe\">\n",
       "  <thead>\n",
       "    <tr style=\"text-align: right;\">\n",
       "      <th></th>\n",
       "      <th>name_id</th>\n",
       "      <th>country</th>\n",
       "      <th>crag</th>\n",
       "      <th>sector</th>\n",
       "      <th>name</th>\n",
       "      <th>tall_recommend_sum</th>\n",
       "      <th>grade_mean</th>\n",
       "      <th>cluster</th>\n",
       "      <th>rating_tot</th>\n",
       "      <th>liked</th>\n",
       "    </tr>\n",
       "  </thead>\n",
       "  <tbody>\n",
       "    <tr>\n",
       "      <th>0</th>\n",
       "      <td>13403</td>\n",
       "      <td>esp</td>\n",
       "      <td>cocentaina</td>\n",
       "      <td>mas de la penya</td>\n",
       "      <td>demolition man</td>\n",
       "      <td>0</td>\n",
       "      <td>46.750000</td>\n",
       "      <td>3</td>\n",
       "      <td>-0.109745</td>\n",
       "      <td>Yes</td>\n",
       "    </tr>\n",
       "    <tr>\n",
       "      <th>1</th>\n",
       "      <td>0</td>\n",
       "      <td>and</td>\n",
       "      <td>montserrat</td>\n",
       "      <td>prohibitivo</td>\n",
       "      <td>diagonal de la x</td>\n",
       "      <td>-1</td>\n",
       "      <td>49.250000</td>\n",
       "      <td>3</td>\n",
       "      <td>-0.045211</td>\n",
       "      <td>Yes</td>\n",
       "    </tr>\n",
       "    <tr>\n",
       "      <th>2</th>\n",
       "      <td>1</td>\n",
       "      <td>and</td>\n",
       "      <td>montserrat</td>\n",
       "      <td>prohibitivo</td>\n",
       "      <td>mehir</td>\n",
       "      <td>-1</td>\n",
       "      <td>49.000000</td>\n",
       "      <td>2</td>\n",
       "      <td>0.116464</td>\n",
       "      <td>Yes</td>\n",
       "    </tr>\n",
       "    <tr>\n",
       "      <th>3</th>\n",
       "      <td>2</td>\n",
       "      <td>and</td>\n",
       "      <td>montserrat</td>\n",
       "      <td>prohibitivo</td>\n",
       "      <td>pas de la discordia</td>\n",
       "      <td>0</td>\n",
       "      <td>49.000000</td>\n",
       "      <td>2</td>\n",
       "      <td>0.178722</td>\n",
       "      <td>Yes</td>\n",
       "    </tr>\n",
       "    <tr>\n",
       "      <th>4</th>\n",
       "      <td>3</td>\n",
       "      <td>and</td>\n",
       "      <td>tartareu</td>\n",
       "      <td>bombo suis</td>\n",
       "      <td>tenedor libre</td>\n",
       "      <td>0</td>\n",
       "      <td>44.333333</td>\n",
       "      <td>3</td>\n",
       "      <td>0.158449</td>\n",
       "      <td>Yes</td>\n",
       "    </tr>\n",
       "    <tr>\n",
       "      <th>...</th>\n",
       "      <td>...</td>\n",
       "      <td>...</td>\n",
       "      <td>...</td>\n",
       "      <td>...</td>\n",
       "      <td>...</td>\n",
       "      <td>...</td>\n",
       "      <td>...</td>\n",
       "      <td>...</td>\n",
       "      <td>...</td>\n",
       "      <td>...</td>\n",
       "    </tr>\n",
       "    <tr>\n",
       "      <th>1097</th>\n",
       "      <td>996</td>\n",
       "      <td>aus</td>\n",
       "      <td>nowra</td>\n",
       "      <td>thompsons point</td>\n",
       "      <td>hang on</td>\n",
       "      <td>0</td>\n",
       "      <td>33.176471</td>\n",
       "      <td>1</td>\n",
       "      <td>-0.077977</td>\n",
       "      <td>Yes</td>\n",
       "    </tr>\n",
       "    <tr>\n",
       "      <th>1098</th>\n",
       "      <td>997</td>\n",
       "      <td>aus</td>\n",
       "      <td>nowra</td>\n",
       "      <td>thompsons point</td>\n",
       "      <td>hard knee</td>\n",
       "      <td>0</td>\n",
       "      <td>36.000000</td>\n",
       "      <td>2</td>\n",
       "      <td>0.087196</td>\n",
       "      <td>Yes</td>\n",
       "    </tr>\n",
       "    <tr>\n",
       "      <th>1099</th>\n",
       "      <td>998</td>\n",
       "      <td>aus</td>\n",
       "      <td>nowra</td>\n",
       "      <td>thompsons point</td>\n",
       "      <td>helensburgh homo</td>\n",
       "      <td>0</td>\n",
       "      <td>51.000000</td>\n",
       "      <td>2</td>\n",
       "      <td>-0.045211</td>\n",
       "      <td>Yes</td>\n",
       "    </tr>\n",
       "    <tr>\n",
       "      <th>1100</th>\n",
       "      <td>999</td>\n",
       "      <td>aus</td>\n",
       "      <td>nowra</td>\n",
       "      <td>thompsons point</td>\n",
       "      <td>hide the salami</td>\n",
       "      <td>-1</td>\n",
       "      <td>51.000000</td>\n",
       "      <td>1</td>\n",
       "      <td>-0.021273</td>\n",
       "      <td>Yes</td>\n",
       "    </tr>\n",
       "    <tr>\n",
       "      <th>0</th>\n",
       "      <td>0</td>\n",
       "      <td>and</td>\n",
       "      <td>montserrat</td>\n",
       "      <td>prohibitivo</td>\n",
       "      <td>diagonal de la x</td>\n",
       "      <td>-1</td>\n",
       "      <td>49.250000</td>\n",
       "      <td>3</td>\n",
       "      <td>-0.045211</td>\n",
       "      <td>N/A</td>\n",
       "    </tr>\n",
       "  </tbody>\n",
       "</table>\n",
       "<p>1102 rows × 10 columns</p>\n",
       "</div>"
      ],
      "text/plain": [
       "      name_id country        crag           sector                 name  \\\n",
       "0       13403     esp  cocentaina  mas de la penya       demolition man   \n",
       "1           0     and  montserrat      prohibitivo     diagonal de la x   \n",
       "2           1     and  montserrat      prohibitivo                mehir   \n",
       "3           2     and  montserrat      prohibitivo  pas de la discordia   \n",
       "4           3     and    tartareu       bombo suis        tenedor libre   \n",
       "...       ...     ...         ...              ...                  ...   \n",
       "1097      996     aus       nowra  thompsons point              hang on   \n",
       "1098      997     aus       nowra  thompsons point            hard knee   \n",
       "1099      998     aus       nowra  thompsons point     helensburgh homo   \n",
       "1100      999     aus       nowra  thompsons point      hide the salami   \n",
       "0           0     and  montserrat      prohibitivo     diagonal de la x   \n",
       "\n",
       "      tall_recommend_sum  grade_mean  cluster  rating_tot liked  \n",
       "0                      0   46.750000        3   -0.109745   Yes  \n",
       "1                     -1   49.250000        3   -0.045211   Yes  \n",
       "2                     -1   49.000000        2    0.116464   Yes  \n",
       "3                      0   49.000000        2    0.178722   Yes  \n",
       "4                      0   44.333333        3    0.158449   Yes  \n",
       "...                  ...         ...      ...         ...   ...  \n",
       "1097                   0   33.176471        1   -0.077977   Yes  \n",
       "1098                   0   36.000000        2    0.087196   Yes  \n",
       "1099                   0   51.000000        2   -0.045211   Yes  \n",
       "1100                  -1   51.000000        1   -0.021273   Yes  \n",
       "0                     -1   49.250000        3   -0.045211   N/A  \n",
       "\n",
       "[1102 rows x 10 columns]"
      ]
     },
     "execution_count": 28,
     "metadata": {},
     "output_type": "execute_result"
    }
   ],
   "source": [
    "climber_2.get_routes_climbed()"
   ]
  },
  {
   "cell_type": "code",
   "execution_count": 29,
   "id": "9a1a5560",
   "metadata": {},
   "outputs": [
    {
     "data": {
      "text/html": [
       "<div>\n",
       "<style scoped>\n",
       "    .dataframe tbody tr th:only-of-type {\n",
       "        vertical-align: middle;\n",
       "    }\n",
       "\n",
       "    .dataframe tbody tr th {\n",
       "        vertical-align: top;\n",
       "    }\n",
       "\n",
       "    .dataframe thead th {\n",
       "        text-align: right;\n",
       "    }\n",
       "</style>\n",
       "<table border=\"1\" class=\"dataframe\">\n",
       "  <thead>\n",
       "    <tr style=\"text-align: right;\">\n",
       "      <th></th>\n",
       "      <th>name_id</th>\n",
       "      <th>country</th>\n",
       "      <th>crag</th>\n",
       "      <th>sector</th>\n",
       "      <th>name</th>\n",
       "      <th>tall_recommend_sum</th>\n",
       "      <th>grade_mean</th>\n",
       "      <th>cluster</th>\n",
       "      <th>rating_tot</th>\n",
       "      <th>liked</th>\n",
       "    </tr>\n",
       "  </thead>\n",
       "  <tbody>\n",
       "    <tr>\n",
       "      <th>0</th>\n",
       "      <td>13403</td>\n",
       "      <td>esp</td>\n",
       "      <td>cocentaina</td>\n",
       "      <td>mas de la penya</td>\n",
       "      <td>demolition man</td>\n",
       "      <td>0</td>\n",
       "      <td>46.750000</td>\n",
       "      <td>3</td>\n",
       "      <td>-0.109745</td>\n",
       "      <td>Yes</td>\n",
       "    </tr>\n",
       "    <tr>\n",
       "      <th>1</th>\n",
       "      <td>0</td>\n",
       "      <td>and</td>\n",
       "      <td>montserrat</td>\n",
       "      <td>prohibitivo</td>\n",
       "      <td>diagonal de la x</td>\n",
       "      <td>-1</td>\n",
       "      <td>49.250000</td>\n",
       "      <td>3</td>\n",
       "      <td>-0.045211</td>\n",
       "      <td>Yes</td>\n",
       "    </tr>\n",
       "    <tr>\n",
       "      <th>2</th>\n",
       "      <td>1</td>\n",
       "      <td>and</td>\n",
       "      <td>montserrat</td>\n",
       "      <td>prohibitivo</td>\n",
       "      <td>mehir</td>\n",
       "      <td>-1</td>\n",
       "      <td>49.000000</td>\n",
       "      <td>2</td>\n",
       "      <td>0.116464</td>\n",
       "      <td>Yes</td>\n",
       "    </tr>\n",
       "    <tr>\n",
       "      <th>3</th>\n",
       "      <td>2</td>\n",
       "      <td>and</td>\n",
       "      <td>montserrat</td>\n",
       "      <td>prohibitivo</td>\n",
       "      <td>pas de la discordia</td>\n",
       "      <td>0</td>\n",
       "      <td>49.000000</td>\n",
       "      <td>2</td>\n",
       "      <td>0.178722</td>\n",
       "      <td>Yes</td>\n",
       "    </tr>\n",
       "    <tr>\n",
       "      <th>4</th>\n",
       "      <td>3</td>\n",
       "      <td>and</td>\n",
       "      <td>tartareu</td>\n",
       "      <td>bombo suis</td>\n",
       "      <td>tenedor libre</td>\n",
       "      <td>0</td>\n",
       "      <td>44.333333</td>\n",
       "      <td>3</td>\n",
       "      <td>0.158449</td>\n",
       "      <td>Yes</td>\n",
       "    </tr>\n",
       "    <tr>\n",
       "      <th>...</th>\n",
       "      <td>...</td>\n",
       "      <td>...</td>\n",
       "      <td>...</td>\n",
       "      <td>...</td>\n",
       "      <td>...</td>\n",
       "      <td>...</td>\n",
       "      <td>...</td>\n",
       "      <td>...</td>\n",
       "      <td>...</td>\n",
       "      <td>...</td>\n",
       "    </tr>\n",
       "    <tr>\n",
       "      <th>1097</th>\n",
       "      <td>996</td>\n",
       "      <td>aus</td>\n",
       "      <td>nowra</td>\n",
       "      <td>thompsons point</td>\n",
       "      <td>hang on</td>\n",
       "      <td>0</td>\n",
       "      <td>33.176471</td>\n",
       "      <td>1</td>\n",
       "      <td>-0.077977</td>\n",
       "      <td>Yes</td>\n",
       "    </tr>\n",
       "    <tr>\n",
       "      <th>1098</th>\n",
       "      <td>997</td>\n",
       "      <td>aus</td>\n",
       "      <td>nowra</td>\n",
       "      <td>thompsons point</td>\n",
       "      <td>hard knee</td>\n",
       "      <td>0</td>\n",
       "      <td>36.000000</td>\n",
       "      <td>2</td>\n",
       "      <td>0.087196</td>\n",
       "      <td>Yes</td>\n",
       "    </tr>\n",
       "    <tr>\n",
       "      <th>1099</th>\n",
       "      <td>998</td>\n",
       "      <td>aus</td>\n",
       "      <td>nowra</td>\n",
       "      <td>thompsons point</td>\n",
       "      <td>helensburgh homo</td>\n",
       "      <td>0</td>\n",
       "      <td>51.000000</td>\n",
       "      <td>2</td>\n",
       "      <td>-0.045211</td>\n",
       "      <td>Yes</td>\n",
       "    </tr>\n",
       "    <tr>\n",
       "      <th>1100</th>\n",
       "      <td>999</td>\n",
       "      <td>aus</td>\n",
       "      <td>nowra</td>\n",
       "      <td>thompsons point</td>\n",
       "      <td>hide the salami</td>\n",
       "      <td>-1</td>\n",
       "      <td>51.000000</td>\n",
       "      <td>1</td>\n",
       "      <td>-0.021273</td>\n",
       "      <td>Yes</td>\n",
       "    </tr>\n",
       "    <tr>\n",
       "      <th>0</th>\n",
       "      <td>0</td>\n",
       "      <td>and</td>\n",
       "      <td>montserrat</td>\n",
       "      <td>prohibitivo</td>\n",
       "      <td>diagonal de la x</td>\n",
       "      <td>-1</td>\n",
       "      <td>49.250000</td>\n",
       "      <td>3</td>\n",
       "      <td>-0.045211</td>\n",
       "      <td>N/A</td>\n",
       "    </tr>\n",
       "  </tbody>\n",
       "</table>\n",
       "<p>1102 rows × 10 columns</p>\n",
       "</div>"
      ],
      "text/plain": [
       "      name_id country        crag           sector                 name  \\\n",
       "0       13403     esp  cocentaina  mas de la penya       demolition man   \n",
       "1           0     and  montserrat      prohibitivo     diagonal de la x   \n",
       "2           1     and  montserrat      prohibitivo                mehir   \n",
       "3           2     and  montserrat      prohibitivo  pas de la discordia   \n",
       "4           3     and    tartareu       bombo suis        tenedor libre   \n",
       "...       ...     ...         ...              ...                  ...   \n",
       "1097      996     aus       nowra  thompsons point              hang on   \n",
       "1098      997     aus       nowra  thompsons point            hard knee   \n",
       "1099      998     aus       nowra  thompsons point     helensburgh homo   \n",
       "1100      999     aus       nowra  thompsons point      hide the salami   \n",
       "0           0     and  montserrat      prohibitivo     diagonal de la x   \n",
       "\n",
       "      tall_recommend_sum  grade_mean  cluster  rating_tot liked  \n",
       "0                      0   46.750000        3   -0.109745   Yes  \n",
       "1                     -1   49.250000        3   -0.045211   Yes  \n",
       "2                     -1   49.000000        2    0.116464   Yes  \n",
       "3                      0   49.000000        2    0.178722   Yes  \n",
       "4                      0   44.333333        3    0.158449   Yes  \n",
       "...                  ...         ...      ...         ...   ...  \n",
       "1097                   0   33.176471        1   -0.077977   Yes  \n",
       "1098                   0   36.000000        2    0.087196   Yes  \n",
       "1099                   0   51.000000        2   -0.045211   Yes  \n",
       "1100                  -1   51.000000        1   -0.021273   Yes  \n",
       "0                     -1   49.250000        3   -0.045211   N/A  \n",
       "\n",
       "[1102 rows x 10 columns]"
      ]
     },
     "execution_count": 29,
     "metadata": {},
     "output_type": "execute_result"
    }
   ],
   "source": [
    "climber_1.get_routes_climbed()"
   ]
  },
  {
   "cell_type": "code",
   "execution_count": null,
   "id": "04388bb9",
   "metadata": {},
   "outputs": [],
   "source": []
  }
 ],
 "metadata": {
  "kernelspec": {
   "display_name": "Python 3 (ipykernel)",
   "language": "python",
   "name": "python3"
  },
  "language_info": {
   "codemirror_mode": {
    "name": "ipython",
    "version": 3
   },
   "file_extension": ".py",
   "mimetype": "text/x-python",
   "name": "python",
   "nbconvert_exporter": "python",
   "pygments_lexer": "ipython3",
   "version": "3.9.5"
  }
 },
 "nbformat": 4,
 "nbformat_minor": 5
}
